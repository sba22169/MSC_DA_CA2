{
 "cells": [
  {
   "cell_type": "markdown",
   "id": "cf24c9ae",
   "metadata": {},
   "source": [
    "#Ambrose Desmond MSC_DA_CA2"
   ]
  },
  {
   "cell_type": "markdown",
   "id": "1984f4e4",
   "metadata": {},
   "source": [
    "## Irelands Dairy sector analysis compared to the top EU producer and global producers."
   ]
  },
  {
   "cell_type": "code",
   "execution_count": 1,
   "id": "b3747778",
   "metadata": {},
   "outputs": [
    {
     "name": "stderr",
     "output_type": "stream",
     "text": [
      "Fontconfig warning: ignoring UTF-8: not a valid region tag\n"
     ]
    }
   ],
   "source": [
    "import pandas as pd\n",
    "import numpy as np\n",
    "import seaborn as sns\n",
    "import sklearn\n",
    "import matplotlib.pyplot as plt\n",
    "from pandas.plotting import scatter_matrix\n",
    "import statistics as stats\n",
    "from scipy.stats import poisson\n",
    "from sklearn.model_selection import cross_val_score\n",
    "from sklearn.model_selection import KFold\n",
    "from sklearn.model_selection import GridSearchCV\n",
    "from sklearn.pipeline import make_pipeline\n",
    "from sklearn.preprocessing import PolynomialFeatures\n",
    "from sklearn.metrics import r2_score\n",
    "import warnings\n",
    "from sklearn.feature_selection import RFE\n",
    "import json\n",
    "import requests\n",
    "import time\n",
    "# from faker import Factory,Faker\n",
    "warnings.filterwarnings('ignore') # supress warnings"
   ]
  },
  {
   "cell_type": "code",
   "execution_count": 2,
   "id": "d74eb19d",
   "metadata": {},
   "outputs": [
    {
     "name": "stdout",
     "output_type": "stream",
     "text": [
      "Requirement already satisfied: sklearn in /opt/anaconda3/lib/python3.9/site-packages (0.0)\n",
      "Requirement already satisfied: scikit-learn in /opt/anaconda3/lib/python3.9/site-packages (from sklearn) (1.2.0)\n",
      "Requirement already satisfied: numpy>=1.17.3 in /opt/anaconda3/lib/python3.9/site-packages (from scikit-learn->sklearn) (1.23.4)\n",
      "Requirement already satisfied: joblib>=1.1.1 in /opt/anaconda3/lib/python3.9/site-packages (from scikit-learn->sklearn) (1.2.0)\n",
      "Requirement already satisfied: threadpoolctl>=2.0.0 in /opt/anaconda3/lib/python3.9/site-packages (from scikit-learn->sklearn) (3.1.0)\n",
      "Requirement already satisfied: scipy>=1.3.2 in /opt/anaconda3/lib/python3.9/site-packages (from scikit-learn->sklearn) (1.9.3)\n",
      "Note: you may need to restart the kernel to use updated packages.\n"
     ]
    }
   ],
   "source": [
    "#pip install sklearn"
   ]
  },
  {
   "cell_type": "code",
   "execution_count": 2,
   "id": "d9ff167b",
   "metadata": {},
   "outputs": [],
   "source": [
    "# Import the dairy csv as ddf\n",
    "ddf = pd.read_csv(\"Intake of Cows Milk by Creameries and Pasteurisers.csv\")"
   ]
  },
  {
   "cell_type": "code",
   "execution_count": 3,
   "id": "f9e3f53f",
   "metadata": {},
   "outputs": [
    {
     "data": {
      "text/plain": [
       "(575, 4)"
      ]
     },
     "execution_count": 3,
     "metadata": {},
     "output_type": "execute_result"
    }
   ],
   "source": [
    "ddf.shape"
   ]
  },
  {
   "cell_type": "code",
   "execution_count": 4,
   "id": "b1276c9e",
   "metadata": {},
   "outputs": [
    {
     "name": "stdout",
     "output_type": "stream",
     "text": [
      "<class 'pandas.core.frame.DataFrame'>\n",
      "RangeIndex: 575 entries, 0 to 574\n",
      "Data columns (total 4 columns):\n",
      " #   Column                                              Non-Null Count  Dtype  \n",
      "---  ------                                              --------------  -----  \n",
      " 0   Unnamed: 0                                          575 non-null    object \n",
      " 1   Intake of Cows Milk by Creameries and Pasteurisers  574 non-null    object \n",
      " 2   Fat Content                                         514 non-null    float64\n",
      " 3   Protein Content                                     514 non-null    float64\n",
      "dtypes: float64(2), object(2)\n",
      "memory usage: 18.1+ KB\n"
     ]
    }
   ],
   "source": [
    "ddf.info()"
   ]
  },
  {
   "cell_type": "code",
   "execution_count": 5,
   "id": "ec0dc5e5",
   "metadata": {},
   "outputs": [
    {
     "data": {
      "text/html": [
       "<div>\n",
       "<style scoped>\n",
       "    .dataframe tbody tr th:only-of-type {\n",
       "        vertical-align: middle;\n",
       "    }\n",
       "\n",
       "    .dataframe tbody tr th {\n",
       "        vertical-align: top;\n",
       "    }\n",
       "\n",
       "    .dataframe thead th {\n",
       "        text-align: right;\n",
       "    }\n",
       "</style>\n",
       "<table border=\"1\" class=\"dataframe\">\n",
       "  <thead>\n",
       "    <tr style=\"text-align: right;\">\n",
       "      <th></th>\n",
       "      <th>Unnamed: 0</th>\n",
       "      <th>Intake of Cows Milk by Creameries and Pasteurisers</th>\n",
       "      <th>Fat Content</th>\n",
       "      <th>Protein Content</th>\n",
       "    </tr>\n",
       "  </thead>\n",
       "  <tbody>\n",
       "    <tr>\n",
       "      <th>0</th>\n",
       "      <td>Source: Central Statistics Office, Ireland.</td>\n",
       "      <td>NaN</td>\n",
       "      <td>NaN</td>\n",
       "      <td>NaN</td>\n",
       "    </tr>\n",
       "    <tr>\n",
       "      <th>1</th>\n",
       "      <td>1975 January</td>\n",
       "      <td>55.8</td>\n",
       "      <td>NaN</td>\n",
       "      <td>NaN</td>\n",
       "    </tr>\n",
       "    <tr>\n",
       "      <th>2</th>\n",
       "      <td>1975 February</td>\n",
       "      <td>84.4</td>\n",
       "      <td>NaN</td>\n",
       "      <td>NaN</td>\n",
       "    </tr>\n",
       "    <tr>\n",
       "      <th>3</th>\n",
       "      <td>1975 March</td>\n",
       "      <td>193.3</td>\n",
       "      <td>NaN</td>\n",
       "      <td>NaN</td>\n",
       "    </tr>\n",
       "    <tr>\n",
       "      <th>4</th>\n",
       "      <td>1975 April</td>\n",
       "      <td>327.5</td>\n",
       "      <td>NaN</td>\n",
       "      <td>NaN</td>\n",
       "    </tr>\n",
       "  </tbody>\n",
       "</table>\n",
       "</div>"
      ],
      "text/plain": [
       "                                    Unnamed: 0  \\\n",
       "0  Source: Central Statistics Office, Ireland.   \n",
       "1                                 1975 January   \n",
       "2                                1975 February   \n",
       "3                                   1975 March   \n",
       "4                                   1975 April   \n",
       "\n",
       "  Intake of Cows Milk by Creameries and Pasteurisers  Fat Content  \\\n",
       "0                                                NaN          NaN   \n",
       "1                                               55.8          NaN   \n",
       "2                                               84.4          NaN   \n",
       "3                                              193.3          NaN   \n",
       "4                                              327.5          NaN   \n",
       "\n",
       "   Protein Content  \n",
       "0              NaN  \n",
       "1              NaN  \n",
       "2              NaN  \n",
       "3              NaN  \n",
       "4              NaN  "
      ]
     },
     "execution_count": 5,
     "metadata": {},
     "output_type": "execute_result"
    }
   ],
   "source": [
    "ddf.head()"
   ]
  },
  {
   "cell_type": "code",
   "execution_count": 6,
   "id": "acb81cf4",
   "metadata": {},
   "outputs": [],
   "source": [
    "# need to drop the first row as its not part of the actual data.\n",
    "ddf.drop(index=ddf.index[0], axis=0, inplace=True)\n",
    "# alternativaly i could have used ddf.iloc[1:] to select everything except the first row and \n",
    "# and store it in a new dataframe. here I chose to use the drop() function with index 0 ( ie first line) the axis 0 indicates row\n",
    "# and inplace = true performs the operation to the existing  dataframe. I chose this because It saves space to \n",
    "# edit the existing dataframe instead of creating new ones which the other methods do."
   ]
  },
  {
   "cell_type": "code",
   "execution_count": 7,
   "id": "5f08d45b",
   "metadata": {},
   "outputs": [
    {
     "data": {
      "text/html": [
       "<div>\n",
       "<style scoped>\n",
       "    .dataframe tbody tr th:only-of-type {\n",
       "        vertical-align: middle;\n",
       "    }\n",
       "\n",
       "    .dataframe tbody tr th {\n",
       "        vertical-align: top;\n",
       "    }\n",
       "\n",
       "    .dataframe thead th {\n",
       "        text-align: right;\n",
       "    }\n",
       "</style>\n",
       "<table border=\"1\" class=\"dataframe\">\n",
       "  <thead>\n",
       "    <tr style=\"text-align: right;\">\n",
       "      <th></th>\n",
       "      <th>date</th>\n",
       "      <th>milk</th>\n",
       "      <th>fat</th>\n",
       "      <th>pro</th>\n",
       "    </tr>\n",
       "  </thead>\n",
       "  <tbody>\n",
       "    <tr>\n",
       "      <th>1</th>\n",
       "      <td>1975 January</td>\n",
       "      <td>55.8</td>\n",
       "      <td>NaN</td>\n",
       "      <td>NaN</td>\n",
       "    </tr>\n",
       "    <tr>\n",
       "      <th>2</th>\n",
       "      <td>1975 February</td>\n",
       "      <td>84.4</td>\n",
       "      <td>NaN</td>\n",
       "      <td>NaN</td>\n",
       "    </tr>\n",
       "    <tr>\n",
       "      <th>3</th>\n",
       "      <td>1975 March</td>\n",
       "      <td>193.3</td>\n",
       "      <td>NaN</td>\n",
       "      <td>NaN</td>\n",
       "    </tr>\n",
       "    <tr>\n",
       "      <th>4</th>\n",
       "      <td>1975 April</td>\n",
       "      <td>327.5</td>\n",
       "      <td>NaN</td>\n",
       "      <td>NaN</td>\n",
       "    </tr>\n",
       "    <tr>\n",
       "      <th>5</th>\n",
       "      <td>1975 May</td>\n",
       "      <td>493.5</td>\n",
       "      <td>NaN</td>\n",
       "      <td>NaN</td>\n",
       "    </tr>\n",
       "  </tbody>\n",
       "</table>\n",
       "</div>"
      ],
      "text/plain": [
       "            date   milk  fat  pro\n",
       "1   1975 January   55.8  NaN  NaN\n",
       "2  1975 February   84.4  NaN  NaN\n",
       "3     1975 March  193.3  NaN  NaN\n",
       "4     1975 April  327.5  NaN  NaN\n",
       "5       1975 May  493.5  NaN  NaN"
      ]
     },
     "execution_count": 7,
     "metadata": {},
     "output_type": "execute_result"
    }
   ],
   "source": [
    "# formatt the data to give concise and meaningfull headings to the dataframe,\n",
    "# I did this because it will make reading the dataframe easier for myself and other people looking at it\n",
    "\n",
    "ddf.columns = ['date','milk','fat','pro']\n",
    "ddf.head()"
   ]
  },
  {
   "cell_type": "code",
   "execution_count": 8,
   "id": "eaec50ed",
   "metadata": {},
   "outputs": [],
   "source": [
    "#I want to convert date string  colum to datetime object because datetime objects are easier to manipulate\n",
    "# espicallyif the date is in the index. there is dedicated functionality with date time objects.\n",
    "ddf[[\"date\"]] = ddf[[\"date\"]].apply(pd.to_datetime)\n",
    "# my .info() on the dataframe revealed the milk colum is type object. I want to converted this to float type \n",
    "# because this data type is best interpertiped numerically for manipulation in charts and models.\n",
    "#  My inital attempt of ddf['milk'] = ddf['milk'].astype(float)\n",
    "# got an error trying to convert str to float ValueError: could not convert string to float: '1,072.2'\n",
    "# the problem here is the comma seperasting thousands , need to strip these out and try again.\n",
    "# Im using a lambda function on the milk column to strip the comma .\n",
    "# I chose to use lambda because its a singl euse function that saves time and space v writing a dedicated function.\n",
    "ddf['milk'] = ddf['milk'].apply(lambda x : x.replace(',',''))\n",
    "ddf['milk'] = ddf['milk'].astype(float)"
   ]
  },
  {
   "cell_type": "code",
   "execution_count": null,
   "id": "5db5f17c",
   "metadata": {},
   "outputs": [],
   "source": []
  },
  {
   "cell_type": "code",
   "execution_count": 9,
   "id": "8484a252",
   "metadata": {},
   "outputs": [
    {
     "data": {
      "text/html": [
       "<div>\n",
       "<style scoped>\n",
       "    .dataframe tbody tr th:only-of-type {\n",
       "        vertical-align: middle;\n",
       "    }\n",
       "\n",
       "    .dataframe tbody tr th {\n",
       "        vertical-align: top;\n",
       "    }\n",
       "\n",
       "    .dataframe thead th {\n",
       "        text-align: right;\n",
       "    }\n",
       "</style>\n",
       "<table border=\"1\" class=\"dataframe\">\n",
       "  <thead>\n",
       "    <tr style=\"text-align: right;\">\n",
       "      <th></th>\n",
       "      <th>date</th>\n",
       "      <th>milk</th>\n",
       "      <th>fat</th>\n",
       "      <th>pro</th>\n",
       "    </tr>\n",
       "  </thead>\n",
       "  <tbody>\n",
       "    <tr>\n",
       "      <th>570</th>\n",
       "      <td>2022-06-01</td>\n",
       "      <td>1057.60</td>\n",
       "      <td>4.00</td>\n",
       "      <td>3.47</td>\n",
       "    </tr>\n",
       "    <tr>\n",
       "      <th>571</th>\n",
       "      <td>2022-07-01</td>\n",
       "      <td>1022.80</td>\n",
       "      <td>4.03</td>\n",
       "      <td>3.47</td>\n",
       "    </tr>\n",
       "    <tr>\n",
       "      <th>572</th>\n",
       "      <td>2022-08-01</td>\n",
       "      <td>919.01</td>\n",
       "      <td>4.21</td>\n",
       "      <td>3.53</td>\n",
       "    </tr>\n",
       "    <tr>\n",
       "      <th>573</th>\n",
       "      <td>2022-09-01</td>\n",
       "      <td>785.62</td>\n",
       "      <td>4.56</td>\n",
       "      <td>3.75</td>\n",
       "    </tr>\n",
       "    <tr>\n",
       "      <th>574</th>\n",
       "      <td>2022-10-01</td>\n",
       "      <td>698.49</td>\n",
       "      <td>4.81</td>\n",
       "      <td>3.97</td>\n",
       "    </tr>\n",
       "  </tbody>\n",
       "</table>\n",
       "</div>"
      ],
      "text/plain": [
       "          date     milk   fat   pro\n",
       "570 2022-06-01  1057.60  4.00  3.47\n",
       "571 2022-07-01  1022.80  4.03  3.47\n",
       "572 2022-08-01   919.01  4.21  3.53\n",
       "573 2022-09-01   785.62  4.56  3.75\n",
       "574 2022-10-01   698.49  4.81  3.97"
      ]
     },
     "execution_count": 9,
     "metadata": {},
     "output_type": "execute_result"
    }
   ],
   "source": [
    "# Selecting the last 10 years of data.This will conviently remove the dates where fat and pro data\n",
    "# was not being collected.\n",
    "\n",
    "ddfd = ddf[(ddf['date'] >= '2012-01-01')]\n",
    "ddfd.tail()"
   ]
  },
  {
   "cell_type": "code",
   "execution_count": 10,
   "id": "efcb1ecb",
   "metadata": {
    "scrolled": true
   },
   "outputs": [
    {
     "data": {
      "text/plain": [
       "date    0\n",
       "milk    0\n",
       "fat     0\n",
       "pro     0\n",
       "dtype: int64"
      ]
     },
     "execution_count": 10,
     "metadata": {},
     "output_type": "execute_result"
    }
   ],
   "source": [
    "# Checking data for any nan values , shows none. I did this because nan values have detrimental effecrts on \n",
    "# models \n",
    "ddfd.isna().sum() "
   ]
  },
  {
   "cell_type": "code",
   "execution_count": 11,
   "id": "6e4d92ed",
   "metadata": {},
   "outputs": [
    {
     "data": {
      "image/png": "[encoded data removed]",
      "text/plain": [
       "<Figure size 432x288 with 1 Axes>"
      ]
     },
     "metadata": {
      "needs_background": "light"
     },
     "output_type": "display_data"
    }
   ],
   "source": [
    "sns.scatterplot(data=ddfd, x= 'fat', y='pro').set(title = 'Irish Milk Protine v Fat content')\n",
    "plt.show()\n",
    "# plt.savefig(\"ff_IN_OUT_scatter1.png\", dpi=300)\n",
    "# There are no outliers jumping out here "
   ]
  },
  {
   "cell_type": "code",
   "execution_count": 12,
   "id": "0de25ebc",
   "metadata": {},
   "outputs": [
    {
     "data": {
      "text/plain": [
       "[Text(0.5, 1.0, 'Irish Milk Vol over time')]"
      ]
     },
     "execution_count": 12,
     "metadata": {},
     "output_type": "execute_result"
    },
    {
     "data": {
      "image/png": "[encoded data removed]",
      "text/plain": [
       "<Figure size 432x288 with 1 Axes>"
      ]
     },
     "metadata": {
      "needs_background": "light"
     },
     "output_type": "display_data"
    }
   ],
   "source": [
    "sns.lineplot(data=ddfd, x= 'date', y='milk').set(title = 'Irish Milk Vol over time')"
   ]
  },
  {
   "cell_type": "code",
   "execution_count": 13,
   "id": "e4d494ab",
   "metadata": {},
   "outputs": [
    {
     "data": {
      "image/png": "[encoded data removed]",
      "text/plain": [
       "<Figure size 432x288 with 1 Axes>"
      ]
     },
     "metadata": {
      "needs_background": "light"
     },
     "output_type": "display_data"
    }
   ],
   "source": [
    "sns.lineplot(data=ddfd, x= 'date', y='fat').set(title = 'Irish Milk Fat & Protine content over time')\n",
    "sns.lineplot(data=ddfd, x= 'date', y='pro')\n",
    "plt.show()"
   ]
  },
  {
   "cell_type": "code",
   "execution_count": 37,
   "id": "fd98fe01",
   "metadata": {},
   "outputs": [],
   "source": [
    "# import Irish dairy price  as dpdf\n",
    "dpdf = pd.read_csv(\"AJM07.20221211151826.csv\")"
   ]
  },
  {
   "cell_type": "code",
   "execution_count": 38,
   "id": "27a5eb47",
   "metadata": {},
   "outputs": [
    {
     "data": {
      "text/html": [
       "<div>\n",
       "<style scoped>\n",
       "    .dataframe tbody tr th:only-of-type {\n",
       "        vertical-align: middle;\n",
       "    }\n",
       "\n",
       "    .dataframe tbody tr th {\n",
       "        vertical-align: top;\n",
       "    }\n",
       "\n",
       "    .dataframe thead th {\n",
       "        text-align: right;\n",
       "    }\n",
       "</style>\n",
       "<table border=\"1\" class=\"dataframe\">\n",
       "  <thead>\n",
       "    <tr style=\"text-align: right;\">\n",
       "      <th></th>\n",
       "      <th>STATISTIC</th>\n",
       "      <th>STATISTIC Label</th>\n",
       "      <th>TLIST(M1)</th>\n",
       "      <th>Month</th>\n",
       "      <th>C02136V02577</th>\n",
       "      <th>Product</th>\n",
       "      <th>UNIT</th>\n",
       "      <th>VALUE</th>\n",
       "    </tr>\n",
       "  </thead>\n",
       "  <tbody>\n",
       "    <tr>\n",
       "      <th>421</th>\n",
       "      <td>AJM07</td>\n",
       "      <td>Manufacturing Milk Prices (including VAT)</td>\n",
       "      <td>202207</td>\n",
       "      <td>2022 July</td>\n",
       "      <td>2</td>\n",
       "      <td>Milk (per litre), 3.7% fat and 3.3% protein</td>\n",
       "      <td>Euro</td>\n",
       "      <td>0.549</td>\n",
       "    </tr>\n",
       "    <tr>\n",
       "      <th>422</th>\n",
       "      <td>AJM07</td>\n",
       "      <td>Manufacturing Milk Prices (including VAT)</td>\n",
       "      <td>202208</td>\n",
       "      <td>2022 August</td>\n",
       "      <td>1</td>\n",
       "      <td>Milk (per litre), actual fat and protein</td>\n",
       "      <td>Euro</td>\n",
       "      <td>0.616</td>\n",
       "    </tr>\n",
       "    <tr>\n",
       "      <th>423</th>\n",
       "      <td>AJM07</td>\n",
       "      <td>Manufacturing Milk Prices (including VAT)</td>\n",
       "      <td>202208</td>\n",
       "      <td>2022 August</td>\n",
       "      <td>2</td>\n",
       "      <td>Milk (per litre), 3.7% fat and 3.3% protein</td>\n",
       "      <td>Euro</td>\n",
       "      <td>0.557</td>\n",
       "    </tr>\n",
       "    <tr>\n",
       "      <th>424</th>\n",
       "      <td>AJM07</td>\n",
       "      <td>Manufacturing Milk Prices (including VAT)</td>\n",
       "      <td>202209</td>\n",
       "      <td>2022 September</td>\n",
       "      <td>1</td>\n",
       "      <td>Milk (per litre), actual fat and protein</td>\n",
       "      <td>Euro</td>\n",
       "      <td>0.662</td>\n",
       "    </tr>\n",
       "    <tr>\n",
       "      <th>425</th>\n",
       "      <td>AJM07</td>\n",
       "      <td>Manufacturing Milk Prices (including VAT)</td>\n",
       "      <td>202209</td>\n",
       "      <td>2022 September</td>\n",
       "      <td>2</td>\n",
       "      <td>Milk (per litre), 3.7% fat and 3.3% protein</td>\n",
       "      <td>Euro</td>\n",
       "      <td>0.559</td>\n",
       "    </tr>\n",
       "  </tbody>\n",
       "</table>\n",
       "</div>"
      ],
      "text/plain": [
       "    STATISTIC                            STATISTIC Label  TLIST(M1)  \\\n",
       "421     AJM07  Manufacturing Milk Prices (including VAT)     202207   \n",
       "422     AJM07  Manufacturing Milk Prices (including VAT)     202208   \n",
       "423     AJM07  Manufacturing Milk Prices (including VAT)     202208   \n",
       "424     AJM07  Manufacturing Milk Prices (including VAT)     202209   \n",
       "425     AJM07  Manufacturing Milk Prices (including VAT)     202209   \n",
       "\n",
       "              Month  C02136V02577  \\\n",
       "421       2022 July             2   \n",
       "422     2022 August             1   \n",
       "423     2022 August             2   \n",
       "424  2022 September             1   \n",
       "425  2022 September             2   \n",
       "\n",
       "                                         Product  UNIT  VALUE  \n",
       "421  Milk (per litre), 3.7% fat and 3.3% protein  Euro  0.549  \n",
       "422     Milk (per litre), actual fat and protein  Euro  0.616  \n",
       "423  Milk (per litre), 3.7% fat and 3.3% protein  Euro  0.557  \n",
       "424     Milk (per litre), actual fat and protein  Euro  0.662  \n",
       "425  Milk (per litre), 3.7% fat and 3.3% protein  Euro  0.559  "
      ]
     },
     "execution_count": 38,
     "metadata": {},
     "output_type": "execute_result"
    }
   ],
   "source": [
    "dpdf.tail()"
   ]
  },
  {
   "cell_type": "code",
   "execution_count": 39,
   "id": "c8bcc1de",
   "metadata": {
    "scrolled": true
   },
   "outputs": [
    {
     "name": "stdout",
     "output_type": "stream",
     "text": [
      "<class 'pandas.core.frame.DataFrame'>\n",
      "RangeIndex: 426 entries, 0 to 425\n",
      "Data columns (total 8 columns):\n",
      " #   Column           Non-Null Count  Dtype  \n",
      "---  ------           --------------  -----  \n",
      " 0   STATISTIC        426 non-null    object \n",
      " 1   STATISTIC Label  426 non-null    object \n",
      " 2   TLIST(M1)        426 non-null    int64  \n",
      " 3   Month            426 non-null    object \n",
      " 4   C02136V02577     426 non-null    int64  \n",
      " 5   Product          426 non-null    object \n",
      " 6   UNIT             426 non-null    object \n",
      " 7   VALUE            426 non-null    float64\n",
      "dtypes: float64(1), int64(2), object(5)\n",
      "memory usage: 26.8+ KB\n"
     ]
    }
   ],
   "source": [
    "dpdf.info()"
   ]
  },
  {
   "cell_type": "code",
   "execution_count": 40,
   "id": "48d5ae5c",
   "metadata": {},
   "outputs": [],
   "source": [
    "dpdf[[\"Month\"]] = dpdf[[\"Month\"]].apply(pd.to_datetime)"
   ]
  },
  {
   "cell_type": "code",
   "execution_count": 41,
   "id": "64198262",
   "metadata": {},
   "outputs": [
    {
     "data": {
      "text/html": [
       "<div>\n",
       "<style scoped>\n",
       "    .dataframe tbody tr th:only-of-type {\n",
       "        vertical-align: middle;\n",
       "    }\n",
       "\n",
       "    .dataframe tbody tr th {\n",
       "        vertical-align: top;\n",
       "    }\n",
       "\n",
       "    .dataframe thead th {\n",
       "        text-align: right;\n",
       "    }\n",
       "</style>\n",
       "<table border=\"1\" class=\"dataframe\">\n",
       "  <thead>\n",
       "    <tr style=\"text-align: right;\">\n",
       "      <th></th>\n",
       "      <th>STATISTIC</th>\n",
       "      <th>STATISTIC Label</th>\n",
       "      <th>TLIST(M1)</th>\n",
       "      <th>Month</th>\n",
       "      <th>C02136V02577</th>\n",
       "      <th>Product</th>\n",
       "      <th>UNIT</th>\n",
       "      <th>VALUE</th>\n",
       "    </tr>\n",
       "  </thead>\n",
       "  <tbody>\n",
       "    <tr>\n",
       "      <th>0</th>\n",
       "      <td>AJM07</td>\n",
       "      <td>Manufacturing Milk Prices (including VAT)</td>\n",
       "      <td>200501</td>\n",
       "      <td>2005-01-01</td>\n",
       "      <td>1</td>\n",
       "      <td>Milk (per litre), actual fat and protein</td>\n",
       "      <td>Euro</td>\n",
       "      <td>0.308</td>\n",
       "    </tr>\n",
       "    <tr>\n",
       "      <th>1</th>\n",
       "      <td>AJM07</td>\n",
       "      <td>Manufacturing Milk Prices (including VAT)</td>\n",
       "      <td>200501</td>\n",
       "      <td>2005-01-01</td>\n",
       "      <td>2</td>\n",
       "      <td>Milk (per litre), 3.7% fat and 3.3% protein</td>\n",
       "      <td>Euro</td>\n",
       "      <td>0.301</td>\n",
       "    </tr>\n",
       "    <tr>\n",
       "      <th>2</th>\n",
       "      <td>AJM07</td>\n",
       "      <td>Manufacturing Milk Prices (including VAT)</td>\n",
       "      <td>200502</td>\n",
       "      <td>2005-02-01</td>\n",
       "      <td>1</td>\n",
       "      <td>Milk (per litre), actual fat and protein</td>\n",
       "      <td>Euro</td>\n",
       "      <td>0.288</td>\n",
       "    </tr>\n",
       "    <tr>\n",
       "      <th>3</th>\n",
       "      <td>AJM07</td>\n",
       "      <td>Manufacturing Milk Prices (including VAT)</td>\n",
       "      <td>200502</td>\n",
       "      <td>2005-02-01</td>\n",
       "      <td>2</td>\n",
       "      <td>Milk (per litre), 3.7% fat and 3.3% protein</td>\n",
       "      <td>Euro</td>\n",
       "      <td>0.281</td>\n",
       "    </tr>\n",
       "    <tr>\n",
       "      <th>4</th>\n",
       "      <td>AJM07</td>\n",
       "      <td>Manufacturing Milk Prices (including VAT)</td>\n",
       "      <td>200503</td>\n",
       "      <td>2005-03-01</td>\n",
       "      <td>1</td>\n",
       "      <td>Milk (per litre), actual fat and protein</td>\n",
       "      <td>Euro</td>\n",
       "      <td>0.272</td>\n",
       "    </tr>\n",
       "  </tbody>\n",
       "</table>\n",
       "</div>"
      ],
      "text/plain": [
       "  STATISTIC                            STATISTIC Label  TLIST(M1)      Month  \\\n",
       "0     AJM07  Manufacturing Milk Prices (including VAT)     200501 2005-01-01   \n",
       "1     AJM07  Manufacturing Milk Prices (including VAT)     200501 2005-01-01   \n",
       "2     AJM07  Manufacturing Milk Prices (including VAT)     200502 2005-02-01   \n",
       "3     AJM07  Manufacturing Milk Prices (including VAT)     200502 2005-02-01   \n",
       "4     AJM07  Manufacturing Milk Prices (including VAT)     200503 2005-03-01   \n",
       "\n",
       "   C02136V02577                                      Product  UNIT  VALUE  \n",
       "0             1     Milk (per litre), actual fat and protein  Euro  0.308  \n",
       "1             2  Milk (per litre), 3.7% fat and 3.3% protein  Euro  0.301  \n",
       "2             1     Milk (per litre), actual fat and protein  Euro  0.288  \n",
       "3             2  Milk (per litre), 3.7% fat and 3.3% protein  Euro  0.281  \n",
       "4             1     Milk (per litre), actual fat and protein  Euro  0.272  "
      ]
     },
     "execution_count": 41,
     "metadata": {},
     "output_type": "execute_result"
    }
   ],
   "source": [
    "dpdf.head()"
   ]
  },
  {
   "cell_type": "code",
   "execution_count": 42,
   "id": "7c9adf74",
   "metadata": {},
   "outputs": [
    {
     "data": {
      "text/html": [
       "<div>\n",
       "<style scoped>\n",
       "    .dataframe tbody tr th:only-of-type {\n",
       "        vertical-align: middle;\n",
       "    }\n",
       "\n",
       "    .dataframe tbody tr th {\n",
       "        vertical-align: top;\n",
       "    }\n",
       "\n",
       "    .dataframe thead th {\n",
       "        text-align: right;\n",
       "    }\n",
       "</style>\n",
       "<table border=\"1\" class=\"dataframe\">\n",
       "  <thead>\n",
       "    <tr style=\"text-align: right;\">\n",
       "      <th></th>\n",
       "      <th>STATISTIC</th>\n",
       "      <th>STATISTIC Label</th>\n",
       "      <th>TLIST(M1)</th>\n",
       "      <th>Month</th>\n",
       "      <th>C02136V02577</th>\n",
       "      <th>Product</th>\n",
       "      <th>UNIT</th>\n",
       "      <th>VALUE</th>\n",
       "    </tr>\n",
       "  </thead>\n",
       "  <tbody>\n",
       "    <tr>\n",
       "      <th>421</th>\n",
       "      <td>AJM07</td>\n",
       "      <td>Manufacturing Milk Prices (including VAT)</td>\n",
       "      <td>202207</td>\n",
       "      <td>2022-07-01</td>\n",
       "      <td>2</td>\n",
       "      <td>Milk (per litre), 3.7% fat and 3.3% protein</td>\n",
       "      <td>Euro</td>\n",
       "      <td>0.549</td>\n",
       "    </tr>\n",
       "    <tr>\n",
       "      <th>422</th>\n",
       "      <td>AJM07</td>\n",
       "      <td>Manufacturing Milk Prices (including VAT)</td>\n",
       "      <td>202208</td>\n",
       "      <td>2022-08-01</td>\n",
       "      <td>1</td>\n",
       "      <td>Milk (per litre), actual fat and protein</td>\n",
       "      <td>Euro</td>\n",
       "      <td>0.616</td>\n",
       "    </tr>\n",
       "    <tr>\n",
       "      <th>423</th>\n",
       "      <td>AJM07</td>\n",
       "      <td>Manufacturing Milk Prices (including VAT)</td>\n",
       "      <td>202208</td>\n",
       "      <td>2022-08-01</td>\n",
       "      <td>2</td>\n",
       "      <td>Milk (per litre), 3.7% fat and 3.3% protein</td>\n",
       "      <td>Euro</td>\n",
       "      <td>0.557</td>\n",
       "    </tr>\n",
       "    <tr>\n",
       "      <th>424</th>\n",
       "      <td>AJM07</td>\n",
       "      <td>Manufacturing Milk Prices (including VAT)</td>\n",
       "      <td>202209</td>\n",
       "      <td>2022-09-01</td>\n",
       "      <td>1</td>\n",
       "      <td>Milk (per litre), actual fat and protein</td>\n",
       "      <td>Euro</td>\n",
       "      <td>0.662</td>\n",
       "    </tr>\n",
       "    <tr>\n",
       "      <th>425</th>\n",
       "      <td>AJM07</td>\n",
       "      <td>Manufacturing Milk Prices (including VAT)</td>\n",
       "      <td>202209</td>\n",
       "      <td>2022-09-01</td>\n",
       "      <td>2</td>\n",
       "      <td>Milk (per litre), 3.7% fat and 3.3% protein</td>\n",
       "      <td>Euro</td>\n",
       "      <td>0.559</td>\n",
       "    </tr>\n",
       "  </tbody>\n",
       "</table>\n",
       "</div>"
      ],
      "text/plain": [
       "    STATISTIC                            STATISTIC Label  TLIST(M1)  \\\n",
       "421     AJM07  Manufacturing Milk Prices (including VAT)     202207   \n",
       "422     AJM07  Manufacturing Milk Prices (including VAT)     202208   \n",
       "423     AJM07  Manufacturing Milk Prices (including VAT)     202208   \n",
       "424     AJM07  Manufacturing Milk Prices (including VAT)     202209   \n",
       "425     AJM07  Manufacturing Milk Prices (including VAT)     202209   \n",
       "\n",
       "         Month  C02136V02577                                      Product  \\\n",
       "421 2022-07-01             2  Milk (per litre), 3.7% fat and 3.3% protein   \n",
       "422 2022-08-01             1     Milk (per litre), actual fat and protein   \n",
       "423 2022-08-01             2  Milk (per litre), 3.7% fat and 3.3% protein   \n",
       "424 2022-09-01             1     Milk (per litre), actual fat and protein   \n",
       "425 2022-09-01             2  Milk (per litre), 3.7% fat and 3.3% protein   \n",
       "\n",
       "     UNIT  VALUE  \n",
       "421  Euro  0.549  \n",
       "422  Euro  0.616  \n",
       "423  Euro  0.557  \n",
       "424  Euro  0.662  \n",
       "425  Euro  0.559  "
      ]
     },
     "execution_count": 42,
     "metadata": {},
     "output_type": "execute_result"
    }
   ],
   "source": [
    "dpdf = dpdf[(dpdf['Month'] >= '2012-01-01')]\n",
    "dpdf.tail()"
   ]
  },
  {
   "cell_type": "code",
   "execution_count": 43,
   "id": "115c07a8",
   "metadata": {},
   "outputs": [
    {
     "data": {
      "image/png": "[encoded data removed]",
      "text/plain": [
       "<Figure size 432x288 with 1 Axes>"
      ]
     },
     "metadata": {
      "needs_background": "light"
     },
     "output_type": "display_data"
    }
   ],
   "source": [
    "sns.lineplot(data=dpdf, x= 'Month', y='VALUE',hue='Product').set(title = 'Irish Manufacturing Milk Prices')\n",
    "plt.show()"
   ]
  },
  {
   "cell_type": "code",
   "execution_count": 44,
   "id": "1d383e83",
   "metadata": {},
   "outputs": [],
   "source": [
    "#!pip install odfpy"
   ]
  },
  {
   "cell_type": "code",
   "execution_count": 228,
   "id": "7d452bd6",
   "metadata": {},
   "outputs": [],
   "source": [
    "eudf = pd.read_csv(\"apro_mk_cola_page_linear.csv\")"
   ]
  },
  {
   "cell_type": "code",
   "execution_count": 229,
   "id": "ee87ac45",
   "metadata": {},
   "outputs": [
    {
     "data": {
      "text/html": [
       "<div>\n",
       "<style scoped>\n",
       "    .dataframe tbody tr th:only-of-type {\n",
       "        vertical-align: middle;\n",
       "    }\n",
       "\n",
       "    .dataframe tbody tr th {\n",
       "        vertical-align: top;\n",
       "    }\n",
       "\n",
       "    .dataframe thead th {\n",
       "        text-align: right;\n",
       "    }\n",
       "</style>\n",
       "<table border=\"1\" class=\"dataframe\">\n",
       "  <thead>\n",
       "    <tr style=\"text-align: right;\">\n",
       "      <th></th>\n",
       "      <th>DATAFLOW</th>\n",
       "      <th>LAST UPDATE</th>\n",
       "      <th>freq</th>\n",
       "      <th>dairyprod</th>\n",
       "      <th>unit</th>\n",
       "      <th>geo</th>\n",
       "      <th>TIME_PERIOD</th>\n",
       "      <th>OBS_VALUE</th>\n",
       "      <th>OBS_FLAG</th>\n",
       "    </tr>\n",
       "  </thead>\n",
       "  <tbody>\n",
       "    <tr>\n",
       "      <th>0</th>\n",
       "      <td>ESTAT:APRO_MK_COLA$DEFAULTVIEW(1.0)</td>\n",
       "      <td>30/11/22 23:00:00</td>\n",
       "      <td>A</td>\n",
       "      <td>D1110D</td>\n",
       "      <td>THS_T</td>\n",
       "      <td>AL</td>\n",
       "      <td>2017</td>\n",
       "      <td>57.36</td>\n",
       "      <td>p</td>\n",
       "    </tr>\n",
       "    <tr>\n",
       "      <th>1</th>\n",
       "      <td>ESTAT:APRO_MK_COLA$DEFAULTVIEW(1.0)</td>\n",
       "      <td>30/11/22 23:00:00</td>\n",
       "      <td>A</td>\n",
       "      <td>D1110D</td>\n",
       "      <td>THS_T</td>\n",
       "      <td>AL</td>\n",
       "      <td>2018</td>\n",
       "      <td>64.39</td>\n",
       "      <td>NaN</td>\n",
       "    </tr>\n",
       "    <tr>\n",
       "      <th>2</th>\n",
       "      <td>ESTAT:APRO_MK_COLA$DEFAULTVIEW(1.0)</td>\n",
       "      <td>30/11/22 23:00:00</td>\n",
       "      <td>A</td>\n",
       "      <td>D1110D</td>\n",
       "      <td>THS_T</td>\n",
       "      <td>AL</td>\n",
       "      <td>2019</td>\n",
       "      <td>56.82</td>\n",
       "      <td>NaN</td>\n",
       "    </tr>\n",
       "    <tr>\n",
       "      <th>3</th>\n",
       "      <td>ESTAT:APRO_MK_COLA$DEFAULTVIEW(1.0)</td>\n",
       "      <td>30/11/22 23:00:00</td>\n",
       "      <td>A</td>\n",
       "      <td>D1110D</td>\n",
       "      <td>THS_T</td>\n",
       "      <td>AL</td>\n",
       "      <td>2020</td>\n",
       "      <td>56.27</td>\n",
       "      <td>NaN</td>\n",
       "    </tr>\n",
       "    <tr>\n",
       "      <th>4</th>\n",
       "      <td>ESTAT:APRO_MK_COLA$DEFAULTVIEW(1.0)</td>\n",
       "      <td>30/11/22 23:00:00</td>\n",
       "      <td>A</td>\n",
       "      <td>D1110D</td>\n",
       "      <td>THS_T</td>\n",
       "      <td>AL</td>\n",
       "      <td>2021</td>\n",
       "      <td>58.94</td>\n",
       "      <td>NaN</td>\n",
       "    </tr>\n",
       "  </tbody>\n",
       "</table>\n",
       "</div>"
      ],
      "text/plain": [
       "                              DATAFLOW        LAST UPDATE freq dairyprod  \\\n",
       "0  ESTAT:APRO_MK_COLA$DEFAULTVIEW(1.0)  30/11/22 23:00:00    A    D1110D   \n",
       "1  ESTAT:APRO_MK_COLA$DEFAULTVIEW(1.0)  30/11/22 23:00:00    A    D1110D   \n",
       "2  ESTAT:APRO_MK_COLA$DEFAULTVIEW(1.0)  30/11/22 23:00:00    A    D1110D   \n",
       "3  ESTAT:APRO_MK_COLA$DEFAULTVIEW(1.0)  30/11/22 23:00:00    A    D1110D   \n",
       "4  ESTAT:APRO_MK_COLA$DEFAULTVIEW(1.0)  30/11/22 23:00:00    A    D1110D   \n",
       "\n",
       "    unit geo  TIME_PERIOD  OBS_VALUE OBS_FLAG  \n",
       "0  THS_T  AL         2017      57.36        p  \n",
       "1  THS_T  AL         2018      64.39      NaN  \n",
       "2  THS_T  AL         2019      56.82      NaN  \n",
       "3  THS_T  AL         2020      56.27      NaN  \n",
       "4  THS_T  AL         2021      58.94      NaN  "
      ]
     },
     "execution_count": 229,
     "metadata": {},
     "output_type": "execute_result"
    }
   ],
   "source": [
    "eudf.head()"
   ]
  },
  {
   "cell_type": "code",
   "execution_count": 230,
   "id": "2d305024",
   "metadata": {},
   "outputs": [],
   "source": [
    "# want to drop indicator col from the dataframe\n",
    "eudf = eudf.drop(['DATAFLOW','LAST UPDATE','freq','dairyprod','unit','OBS_FLAG'], axis=1)"
   ]
  },
  {
   "cell_type": "code",
   "execution_count": 231,
   "id": "86be725e",
   "metadata": {},
   "outputs": [
    {
     "name": "stdout",
     "output_type": "stream",
     "text": [
      "<class 'pandas.core.frame.DataFrame'>\n",
      "RangeIndex: 396 entries, 0 to 395\n",
      "Data columns (total 3 columns):\n",
      " #   Column       Non-Null Count  Dtype  \n",
      "---  ------       --------------  -----  \n",
      " 0   geo          396 non-null    object \n",
      " 1   TIME_PERIOD  396 non-null    int64  \n",
      " 2   OBS_VALUE    373 non-null    float64\n",
      "dtypes: float64(1), int64(1), object(1)\n",
      "memory usage: 9.4+ KB\n"
     ]
    }
   ],
   "source": [
    "eudf.info()"
   ]
  },
  {
   "cell_type": "code",
   "execution_count": 232,
   "id": "a4544866",
   "metadata": {},
   "outputs": [],
   "source": [
    "#eudf['geo'] = eudf['geo'].astype(str)\n",
    "# convert date colum to datetime object\n",
    "#eudf['TIME_PERIOD'] =  pd.to_date(eudf['TIME_PERIOD'])\n",
    "# format the date column in Year-Date-Month\n",
    "#eudf[[\"TIME_PERIOD\"]] = eudf[[\"TIME_PERIOD\"]].apply(pd.to_datetime, format = \"%Y\")\n",
    "# eudf.info()"
   ]
  },
  {
   "cell_type": "code",
   "execution_count": 233,
   "id": "a514dfbf",
   "metadata": {},
   "outputs": [
    {
     "data": {
      "text/html": [
       "<div>\n",
       "<style scoped>\n",
       "    .dataframe tbody tr th:only-of-type {\n",
       "        vertical-align: middle;\n",
       "    }\n",
       "\n",
       "    .dataframe tbody tr th {\n",
       "        vertical-align: top;\n",
       "    }\n",
       "\n",
       "    .dataframe thead th {\n",
       "        text-align: right;\n",
       "    }\n",
       "</style>\n",
       "<table border=\"1\" class=\"dataframe\">\n",
       "  <thead>\n",
       "    <tr style=\"text-align: right;\">\n",
       "      <th></th>\n",
       "      <th>geo</th>\n",
       "      <th>TIME_PERIOD</th>\n",
       "      <th>OBS_VALUE</th>\n",
       "    </tr>\n",
       "  </thead>\n",
       "  <tbody>\n",
       "    <tr>\n",
       "      <th>0</th>\n",
       "      <td>AL</td>\n",
       "      <td>2017</td>\n",
       "      <td>57.36</td>\n",
       "    </tr>\n",
       "    <tr>\n",
       "      <th>1</th>\n",
       "      <td>AL</td>\n",
       "      <td>2018</td>\n",
       "      <td>64.39</td>\n",
       "    </tr>\n",
       "    <tr>\n",
       "      <th>2</th>\n",
       "      <td>AL</td>\n",
       "      <td>2019</td>\n",
       "      <td>56.82</td>\n",
       "    </tr>\n",
       "    <tr>\n",
       "      <th>3</th>\n",
       "      <td>AL</td>\n",
       "      <td>2020</td>\n",
       "      <td>56.27</td>\n",
       "    </tr>\n",
       "    <tr>\n",
       "      <th>4</th>\n",
       "      <td>AL</td>\n",
       "      <td>2021</td>\n",
       "      <td>58.94</td>\n",
       "    </tr>\n",
       "  </tbody>\n",
       "</table>\n",
       "</div>"
      ],
      "text/plain": [
       "  geo  TIME_PERIOD  OBS_VALUE\n",
       "0  AL         2017      57.36\n",
       "1  AL         2018      64.39\n",
       "2  AL         2019      56.82\n",
       "3  AL         2020      56.27\n",
       "4  AL         2021      58.94"
      ]
     },
     "execution_count": 233,
     "metadata": {},
     "output_type": "execute_result"
    }
   ],
   "source": [
    "eudf.head()"
   ]
  },
  {
   "cell_type": "code",
   "execution_count": 234,
   "id": "6204ece6",
   "metadata": {},
   "outputs": [
    {
     "data": {
      "text/plain": [
       "['AL',\n",
       " 'AT',\n",
       " 'BA',\n",
       " 'BE',\n",
       " 'BG',\n",
       " 'CH',\n",
       " 'CY',\n",
       " 'CZ',\n",
       " 'DE',\n",
       " 'DK',\n",
       " 'EE',\n",
       " 'EFTA',\n",
       " 'EL',\n",
       " 'ES',\n",
       " 'EU15',\n",
       " 'EU25',\n",
       " 'EU27_2007',\n",
       " 'EU27_2020',\n",
       " 'EU28',\n",
       " 'FI',\n",
       " 'FR',\n",
       " 'HR',\n",
       " 'HU',\n",
       " 'IE',\n",
       " 'IS',\n",
       " 'IT',\n",
       " 'LT',\n",
       " 'LU',\n",
       " 'LV',\n",
       " 'ME',\n",
       " 'MK',\n",
       " 'MT',\n",
       " 'NL',\n",
       " 'NO',\n",
       " 'PL',\n",
       " 'PT',\n",
       " 'RO',\n",
       " 'RS',\n",
       " 'SE',\n",
       " 'SI',\n",
       " 'SK',\n",
       " 'TR',\n",
       " 'UK']"
      ]
     },
     "execution_count": 234,
     "metadata": {},
     "output_type": "execute_result"
    }
   ],
   "source": [
    "uniqueValsList = list(np.unique(np.array(eudf['geo'])))\n",
    "uniqueValsList"
   ]
  },
  {
   "cell_type": "code",
   "execution_count": 235,
   "id": "56407b46",
   "metadata": {},
   "outputs": [],
   "source": [
    " \n",
    "eudf=eudf[eudf['geo'].apply(lambda x: len(str(x))<=2)]\n",
    "#df=df[df.A.apply(lambda x: len(str(x))==10]"
   ]
  },
  {
   "cell_type": "code",
   "execution_count": 236,
   "id": "6a69eeda",
   "metadata": {},
   "outputs": [
    {
     "data": {
      "text/plain": [
       "HU    10\n",
       "SI    10\n",
       "RS    10\n",
       "RO    10\n",
       "PT    10\n",
       "PL    10\n",
       "NL    10\n",
       "SK    10\n",
       "TR    10\n",
       "LV    10\n",
       "LU    10\n",
       "LT    10\n",
       "IT    10\n",
       "AT    10\n",
       "IE    10\n",
       "SE    10\n",
       "HR    10\n",
       "DE    10\n",
       "BE    10\n",
       "BG    10\n",
       "CY    10\n",
       "FR    10\n",
       "CZ    10\n",
       "DK    10\n",
       "EE    10\n",
       "EL    10\n",
       "ES    10\n",
       "FI    10\n",
       "MT     9\n",
       "NO     9\n",
       "CH     9\n",
       "BA     9\n",
       "IS     9\n",
       "UK     8\n",
       "ME     8\n",
       "AL     5\n",
       "MK     2\n",
       "Name: geo, dtype: int64"
      ]
     },
     "execution_count": 236,
     "metadata": {},
     "output_type": "execute_result"
    }
   ],
   "source": [
    "#uniqueValsList = list(np.unique(np.array(eudf['geo'])))\n",
    "#uniqueValsList\n",
    "item_counts = eudf[\"geo\"].value_counts()\n",
    "item_counts"
   ]
  },
  {
   "cell_type": "code",
   "execution_count": 237,
   "id": "ef4abc89",
   "metadata": {},
   "outputs": [
    {
     "data": {
      "text/plain": [
       "2019    37\n",
       "2017    36\n",
       "2018    36\n",
       "2013    35\n",
       "2014    35\n",
       "2015    35\n",
       "2020    34\n",
       "2016    34\n",
       "2021    33\n",
       "2012    33\n",
       "Name: TIME_PERIOD, dtype: int64"
      ]
     },
     "execution_count": 237,
     "metadata": {},
     "output_type": "execute_result"
    }
   ],
   "source": [
    "#uniqueValsList = list(np.unique(np.array(eudf['geo'])))\n",
    "#uniqueValsList\n",
    "item_counts = eudf[\"TIME_PERIOD\"].value_counts()\n",
    "item_counts"
   ]
  },
  {
   "cell_type": "code",
   "execution_count": 238,
   "id": "0ede2385",
   "metadata": {},
   "outputs": [
    {
     "name": "stdout",
     "output_type": "stream",
     "text": [
      "<class 'pandas.core.frame.DataFrame'>\n",
      "Int64Index: 348 entries, 0 to 395\n",
      "Data columns (total 3 columns):\n",
      " #   Column       Non-Null Count  Dtype  \n",
      "---  ------       --------------  -----  \n",
      " 0   geo          348 non-null    object \n",
      " 1   TIME_PERIOD  348 non-null    int64  \n",
      " 2   OBS_VALUE    341 non-null    float64\n",
      "dtypes: float64(1), int64(1), object(1)\n",
      "memory usage: 10.9+ KB\n"
     ]
    }
   ],
   "source": [
    "eudf.info()"
   ]
  },
  {
   "cell_type": "code",
   "execution_count": 239,
   "id": "74f424f9",
   "metadata": {},
   "outputs": [
    {
     "data": {
      "text/plain": [
       "geo            0\n",
       "TIME_PERIOD    0\n",
       "OBS_VALUE      7\n",
       "dtype: int64"
      ]
     },
     "execution_count": 239,
     "metadata": {},
     "output_type": "execute_result"
    }
   ],
   "source": [
    "# recheck my data frame for NaNs shows just one piece of data in cbl was a white space and is now a NaN \n",
    "# plus 2 in the foot _fall count\n",
    "eudf.isna().sum()"
   ]
  },
  {
   "cell_type": "code",
   "execution_count": 240,
   "id": "246180b3",
   "metadata": {},
   "outputs": [
    {
     "data": {
      "text/html": [
       "<div>\n",
       "<style scoped>\n",
       "    .dataframe tbody tr th:only-of-type {\n",
       "        vertical-align: middle;\n",
       "    }\n",
       "\n",
       "    .dataframe tbody tr th {\n",
       "        vertical-align: top;\n",
       "    }\n",
       "\n",
       "    .dataframe thead th {\n",
       "        text-align: right;\n",
       "    }\n",
       "</style>\n",
       "<table border=\"1\" class=\"dataframe\">\n",
       "  <thead>\n",
       "    <tr style=\"text-align: right;\">\n",
       "      <th></th>\n",
       "      <th>geo</th>\n",
       "      <th>TIME_PERIOD</th>\n",
       "      <th>OBS_VALUE</th>\n",
       "    </tr>\n",
       "  </thead>\n",
       "  <tbody>\n",
       "    <tr>\n",
       "      <th>221</th>\n",
       "      <td>IS</td>\n",
       "      <td>2012</td>\n",
       "      <td>NaN</td>\n",
       "    </tr>\n",
       "    <tr>\n",
       "      <th>222</th>\n",
       "      <td>IS</td>\n",
       "      <td>2013</td>\n",
       "      <td>NaN</td>\n",
       "    </tr>\n",
       "    <tr>\n",
       "      <th>257</th>\n",
       "      <td>LU</td>\n",
       "      <td>2019</td>\n",
       "      <td>NaN</td>\n",
       "    </tr>\n",
       "    <tr>\n",
       "      <th>258</th>\n",
       "      <td>LU</td>\n",
       "      <td>2020</td>\n",
       "      <td>NaN</td>\n",
       "    </tr>\n",
       "    <tr>\n",
       "      <th>259</th>\n",
       "      <td>LU</td>\n",
       "      <td>2021</td>\n",
       "      <td>NaN</td>\n",
       "    </tr>\n",
       "    <tr>\n",
       "      <th>280</th>\n",
       "      <td>MT</td>\n",
       "      <td>2012</td>\n",
       "      <td>NaN</td>\n",
       "    </tr>\n",
       "    <tr>\n",
       "      <th>281</th>\n",
       "      <td>MT</td>\n",
       "      <td>2013</td>\n",
       "      <td>NaN</td>\n",
       "    </tr>\n",
       "  </tbody>\n",
       "</table>\n",
       "</div>"
      ],
      "text/plain": [
       "    geo  TIME_PERIOD  OBS_VALUE\n",
       "221  IS         2012        NaN\n",
       "222  IS         2013        NaN\n",
       "257  LU         2019        NaN\n",
       "258  LU         2020        NaN\n",
       "259  LU         2021        NaN\n",
       "280  MT         2012        NaN\n",
       "281  MT         2013        NaN"
      ]
     },
     "execution_count": 240,
     "metadata": {},
     "output_type": "execute_result"
    }
   ],
   "source": [
    "# for a closer inspection select the rows with null \n",
    "eudf[eudf.isna().any(axis=1)]"
   ]
  },
  {
   "cell_type": "code",
   "execution_count": 241,
   "id": "0d2c6dfc",
   "metadata": {},
   "outputs": [],
   "source": [
    "eudf['OBS_VALUE'] = eudf['OBS_VALUE'].fillna(0)"
   ]
  },
  {
   "cell_type": "code",
   "execution_count": 242,
   "id": "c1635193",
   "metadata": {},
   "outputs": [
    {
     "data": {
      "text/html": [
       "<div>\n",
       "<style scoped>\n",
       "    .dataframe tbody tr th:only-of-type {\n",
       "        vertical-align: middle;\n",
       "    }\n",
       "\n",
       "    .dataframe tbody tr th {\n",
       "        vertical-align: top;\n",
       "    }\n",
       "\n",
       "    .dataframe thead th {\n",
       "        text-align: right;\n",
       "    }\n",
       "</style>\n",
       "<table border=\"1\" class=\"dataframe\">\n",
       "  <thead>\n",
       "    <tr style=\"text-align: right;\">\n",
       "      <th></th>\n",
       "      <th>Country</th>\n",
       "      <th>Alpha-2 code</th>\n",
       "      <th>Alpha-3 code</th>\n",
       "      <th>Numeric</th>\n",
       "    </tr>\n",
       "  </thead>\n",
       "  <tbody>\n",
       "    <tr>\n",
       "      <th>0</th>\n",
       "      <td>Afghanistan</td>\n",
       "      <td>AF</td>\n",
       "      <td>AFG</td>\n",
       "      <td>4</td>\n",
       "    </tr>\n",
       "    <tr>\n",
       "      <th>1</th>\n",
       "      <td>Albania</td>\n",
       "      <td>AL</td>\n",
       "      <td>ALB</td>\n",
       "      <td>8</td>\n",
       "    </tr>\n",
       "    <tr>\n",
       "      <th>2</th>\n",
       "      <td>Algeria</td>\n",
       "      <td>DZ</td>\n",
       "      <td>DZA</td>\n",
       "      <td>12</td>\n",
       "    </tr>\n",
       "    <tr>\n",
       "      <th>3</th>\n",
       "      <td>American Samoa</td>\n",
       "      <td>AS</td>\n",
       "      <td>ASM</td>\n",
       "      <td>16</td>\n",
       "    </tr>\n",
       "    <tr>\n",
       "      <th>4</th>\n",
       "      <td>Andorra</td>\n",
       "      <td>AD</td>\n",
       "      <td>AND</td>\n",
       "      <td>20</td>\n",
       "    </tr>\n",
       "  </tbody>\n",
       "</table>\n",
       "</div>"
      ],
      "text/plain": [
       "          Country Alpha-2 code Alpha-3 code  Numeric\n",
       "0     Afghanistan           AF          AFG        4\n",
       "1         Albania           AL          ALB        8\n",
       "2         Algeria           DZ          DZA       12\n",
       "3  American Samoa           AS          ASM       16\n",
       "4         Andorra           AD          AND       20"
      ]
     },
     "execution_count": 242,
     "metadata": {},
     "output_type": "execute_result"
    }
   ],
   "source": [
    "cc = pd.read_csv('country_codes.tsv',sep='\\t')\n",
    "cc.head()"
   ]
  },
  {
   "cell_type": "code",
   "execution_count": 243,
   "id": "a12ed607",
   "metadata": {},
   "outputs": [
    {
     "data": {
      "text/html": [
       "<div>\n",
       "<style scoped>\n",
       "    .dataframe tbody tr th:only-of-type {\n",
       "        vertical-align: middle;\n",
       "    }\n",
       "\n",
       "    .dataframe tbody tr th {\n",
       "        vertical-align: top;\n",
       "    }\n",
       "\n",
       "    .dataframe thead th {\n",
       "        text-align: right;\n",
       "    }\n",
       "</style>\n",
       "<table border=\"1\" class=\"dataframe\">\n",
       "  <thead>\n",
       "    <tr style=\"text-align: right;\">\n",
       "      <th></th>\n",
       "      <th>geo</th>\n",
       "      <th>TIME_PERIOD</th>\n",
       "      <th>OBS_VALUE</th>\n",
       "      <th>code</th>\n",
       "    </tr>\n",
       "  </thead>\n",
       "  <tbody>\n",
       "    <tr>\n",
       "      <th>0</th>\n",
       "      <td>AL</td>\n",
       "      <td>2017</td>\n",
       "      <td>57.36</td>\n",
       "      <td>ALB</td>\n",
       "    </tr>\n",
       "    <tr>\n",
       "      <th>1</th>\n",
       "      <td>AL</td>\n",
       "      <td>2018</td>\n",
       "      <td>64.39</td>\n",
       "      <td>ALB</td>\n",
       "    </tr>\n",
       "    <tr>\n",
       "      <th>2</th>\n",
       "      <td>AL</td>\n",
       "      <td>2019</td>\n",
       "      <td>56.82</td>\n",
       "      <td>ALB</td>\n",
       "    </tr>\n",
       "    <tr>\n",
       "      <th>3</th>\n",
       "      <td>AL</td>\n",
       "      <td>2020</td>\n",
       "      <td>56.27</td>\n",
       "      <td>ALB</td>\n",
       "    </tr>\n",
       "    <tr>\n",
       "      <th>4</th>\n",
       "      <td>AL</td>\n",
       "      <td>2021</td>\n",
       "      <td>58.94</td>\n",
       "      <td>ALB</td>\n",
       "    </tr>\n",
       "  </tbody>\n",
       "</table>\n",
       "</div>"
      ],
      "text/plain": [
       "  geo  TIME_PERIOD  OBS_VALUE code\n",
       "0  AL         2017      57.36  ALB\n",
       "1  AL         2018      64.39  ALB\n",
       "2  AL         2019      56.82  ALB\n",
       "3  AL         2020      56.27  ALB\n",
       "4  AL         2021      58.94  ALB"
      ]
     },
     "execution_count": 243,
     "metadata": {},
     "output_type": "execute_result"
    }
   ],
   "source": [
    "mapping = dict(cc[['Alpha-2 code', 'Alpha-3 code']].values)\n",
    "eudf['code'] = eudf.geo.map(mapping)\n",
    "eudf.head()"
   ]
  },
  {
   "cell_type": "code",
   "execution_count": 244,
   "id": "bbdd4c9d",
   "metadata": {},
   "outputs": [],
   "source": [
    "# eudf.sort_values(by='TIME_PERIOD')\n",
    "#eudf['TIME_PERIOD'] = pd.to_datetime(eudf['TIME_PERIOD'])\n",
    "#eudf = eudf.sort_values('TIME_PERIOD', ascending=True)\n",
    "#eudf['TIME_PERIOD'] = eudf['TIME_PERIOD'].dt.strftime('%m-%d-%Y')\n",
    "#eudf.head()\n",
    "#eudf['TIME_PERIOD'] = pd.to_datetime(eudf['TIME_PERIOD'], errors='coerce').astype(str)\n",
    "#eudf['TIME_PERIOD'] = pd.to_datetime(eudf['TIME_PERIOD']).dt.year"
   ]
  },
  {
   "cell_type": "code",
   "execution_count": 245,
   "id": "a482a1ba",
   "metadata": {
    "scrolled": true
   },
   "outputs": [
    {
     "data": {
      "application/vnd.plotly.v1+json": {
       "config": {
        "plotlyServerURL": "https://plot.ly"
       },
       "data": [
        {
         "coloraxis": "coloraxis",
         "geo": "geo",
         "hovertemplate": "<b>%{hovertext}</b><br><br>TIME_PERIOD=2012<br>code=%{location}<br>OBS_VALUE=%{z}<extra></extra>",
         "hovertext": [
          "IS",
          "CH",
          "SI",
          "CY",
          "SE",
          "CZ",
          "RS",
          "DE",
          "RO",
          "DK",
          "PT",
          "EL",
          "PL",
          "ES",
          "FI",
          "NL",
          "FR",
          "MT",
          "HR",
          "HU",
          "LV",
          "IE",
          "LU",
          "IT",
          "BG",
          "SK",
          "EE",
          "LT",
          "UK",
          "BA",
          "TR",
          "BE",
          "AT"
         ],
         "locations": [
          "ISL",
          "CHE",
          "SVN",
          "CYP",
          "SWE",
          "CZE",
          "SRB",
          "DEU",
          "ROU",
          "DNK",
          "PRT",
          null,
          "POL",
          "ESP",
          "FIN",
          "NLD",
          "FRA",
          "MLT",
          "HRV",
          "HUN",
          "LVA",
          "IRL",
          "LUX",
          "ITA",
          "BGR",
          "SVK",
          "EST",
          "LTU",
          null,
          "BIH",
          "TUR",
          "BEL",
          "AUT"
         ],
         "name": "",
         "type": "choropleth",
         "z": [
          0,
          3444.19,
          535.06,
          153.44,
          2861.17,
          2446.13,
          733.04,
          29701.78,
          883.71,
          4915.7,
          1854.69,
          663.73,
          9843.48,
          5996.82,
          2254.04,
          11675.6,
          24535.96,
          0,
          602.16,
          1398.24,
          718.38,
          5379.7,
          277.33,
          10003.8,
          497.48,
          851.25,
          649.1,
          1359.9,
          13590.6,
          216.35,
          7932.5,
          3412.02,
          2964.13
         ]
        }
       ],
       "frames": [
        {
         "data": [
          {
           "coloraxis": "coloraxis",
           "geo": "geo",
           "hovertemplate": "<b>%{hovertext}</b><br><br>TIME_PERIOD=2012<br>code=%{location}<br>OBS_VALUE=%{z}<extra></extra>",
           "hovertext": [
            "IS",
            "CH",
            "SI",
            "CY",
            "SE",
            "CZ",
            "RS",
            "DE",
            "RO",
            "DK",
            "PT",
            "EL",
            "PL",
            "ES",
            "FI",
            "NL",
            "FR",
            "MT",
            "HR",
            "HU",
            "LV",
            "IE",
            "LU",
            "IT",
            "BG",
            "SK",
            "EE",
            "LT",
            "UK",
            "BA",
            "TR",
            "BE",
            "AT"
           ],
           "locations": [
            "ISL",
            "CHE",
            "SVN",
            "CYP",
            "SWE",
            "CZE",
            "SRB",
            "DEU",
            "ROU",
            "DNK",
            "PRT",
            null,
            "POL",
            "ESP",
            "FIN",
            "NLD",
            "FRA",
            "MLT",
            "HRV",
            "HUN",
            "LVA",
            "IRL",
            "LUX",
            "ITA",
            "BGR",
            "SVK",
            "EST",
            "LTU",
            null,
            "BIH",
            "TUR",
            "BEL",
            "AUT"
           ],
           "name": "",
           "type": "choropleth",
           "z": [
            0,
            3444.19,
            535.06,
            153.44,
            2861.17,
            2446.13,
            733.04,
            29701.78,
            883.71,
            4915.7,
            1854.69,
            663.73,
            9843.48,
            5996.82,
            2254.04,
            11675.6,
            24535.96,
            0,
            602.16,
            1398.24,
            718.38,
            5379.7,
            277.33,
            10003.8,
            497.48,
            851.25,
            649.1,
            1359.9,
            13590.6,
            216.35,
            7932.5,
            3412.02,
            2964.13
           ]
          }
         ],
         "name": "2012"
        },
        {
         "data": [
          {
           "coloraxis": "coloraxis",
           "geo": "geo",
           "hovertemplate": "<b>%{hovertext}</b><br><br>TIME_PERIOD=2013<br>code=%{location}<br>OBS_VALUE=%{z}<extra></extra>",
           "hovertext": [
            "BE",
            "IE",
            "BA",
            "SE",
            "EE",
            "LV",
            "PT",
            "CZ",
            "MT",
            "AT",
            "HR",
            "RS",
            "HU",
            "NO",
            "DE",
            "SK",
            "ME",
            "DK",
            "FR",
            "CY",
            "RO",
            "NL",
            "PL",
            "TR",
            "SI",
            "LT",
            "IS",
            "CH",
            "UK",
            "ES",
            "LU",
            "EL",
            "IT",
            "BG",
            "FI"
           ],
           "locations": [
            "BEL",
            "IRL",
            "BIH",
            "SWE",
            "EST",
            "LVA",
            "PRT",
            "CZE",
            "MLT",
            "AUT",
            "HRV",
            "SRB",
            "HUN",
            "NOR",
            "DEU",
            "SVK",
            "MNE",
            "DNK",
            "FRA",
            "CYP",
            "ROU",
            "NLD",
            "POL",
            "TUR",
            "SVN",
            "LTU",
            "ISL",
            "CHE",
            null,
            "ESP",
            "LUX",
            null,
            "ITA",
            "BGR",
            "FIN"
           ],
           "name": "",
           "type": "choropleth",
           "z": [
            3474.76,
            5583.69,
            215.38,
            2867.55,
            688.8,
            735.66,
            1776.63,
            2382.13,
            0,
            2933.25,
            503.85,
            767.62,
            1364.23,
            1574,
            30301.42,
            826.73,
            25.2,
            5025.4,
            23988.94,
            156.67,
            879.07,
            12212.6,
            9921.26,
            7938.4,
            516.97,
            1339.49,
            0,
            3383.17,
            13687.4,
            6299.55,
            286.91,
            652,
            10397.47,
            494.63,
            2286.81
           ]
          }
         ],
         "name": "2013"
        },
        {
         "data": [
          {
           "coloraxis": "coloraxis",
           "geo": "geo",
           "hovertemplate": "<b>%{hovertext}</b><br><br>TIME_PERIOD=2014<br>code=%{location}<br>OBS_VALUE=%{z}<extra></extra>",
           "hovertext": [
            "DK",
            "ES",
            "HR",
            "IT",
            "AT",
            "BE",
            "PT",
            "EL",
            "MT",
            "EE",
            "NL",
            "PL",
            "FI",
            "FR",
            "DE",
            "NO",
            "LU",
            "IS",
            "IE",
            "RO",
            "CY",
            "LT",
            "SE",
            "CH",
            "UK",
            "TR",
            "CZ",
            "BG",
            "HU",
            "RS",
            "BA",
            "ME",
            "SK",
            "LV",
            "SI"
           ],
           "locations": [
            "DNK",
            "ESP",
            "HRV",
            "ITA",
            "AUT",
            "BEL",
            "PRT",
            null,
            "MLT",
            "EST",
            "NLD",
            "POL",
            "FIN",
            "FRA",
            "DEU",
            "NOR",
            "LUX",
            "ISL",
            "IRL",
            "ROU",
            "CYP",
            "LTU",
            "SWE",
            "CHE",
            null,
            "TUR",
            "CZE",
            "BGR",
            "HUN",
            "SRB",
            "BIH",
            "MNE",
            "SVK",
            "LVA",
            "SVN"
           ],
           "name": "",
           "type": "choropleth",
           "z": [
            5112.6,
            6601.1,
            522.69,
            11024.11,
            3067.38,
            3689.44,
            1863.45,
            619,
            42.77,
            730,
            12473,
            10581.42,
            2357.15,
            25308.5,
            31375.28,
            1558,
            305.54,
            138,
            5816.23,
            995.38,
            163.64,
            1435.5,
            2931.25,
            3511.66,
            14828.8,
            8630,
            2414.15,
            509.67,
            1470.19,
            817.78,
            231.79,
            25.5,
            843.69,
            804.5,
            531.69
           ]
          }
         ],
         "name": "2014"
        },
        {
         "data": [
          {
           "coloraxis": "coloraxis",
           "geo": "geo",
           "hovertemplate": "<b>%{hovertext}</b><br><br>TIME_PERIOD=2015<br>code=%{location}<br>OBS_VALUE=%{z}<extra></extra>",
           "hovertext": [
            "IT",
            "NL",
            "LT",
            "IS",
            "HR",
            "LU",
            "IE",
            "UK",
            "FR",
            "MT",
            "LV",
            "HU",
            "ME",
            "FI",
            "AT",
            "BE",
            "ES",
            "DE",
            "CZ",
            "RO",
            "DK",
            "CY",
            "PT",
            "SE",
            "EE",
            "RS",
            "TR",
            "CH",
            "BA",
            "SI",
            "PL",
            "EL",
            "NO",
            "BG",
            "SK"
           ],
           "locations": [
            "ITA",
            "NLD",
            "LTU",
            "ISL",
            "HRV",
            "LUX",
            "IRL",
            null,
            "FRA",
            "MLT",
            "LVA",
            "HUN",
            "MNE",
            "FIN",
            "AUT",
            "BEL",
            "ESP",
            "DEU",
            "CZE",
            "ROU",
            "DNK",
            "CYP",
            "PRT",
            "SWE",
            "EST",
            "SRB",
            "TUR",
            "CHE",
            "BIH",
            "SVN",
            "POL",
            null,
            "NOR",
            "BGR",
            "SVK"
           ],
           "name": "",
           "type": "choropleth",
           "z": [
            10640.98,
            13330.9,
            1438.03,
            149.99,
            513.43,
            332.52,
            6585.13,
            15191.3,
            25374.92,
            41.57,
            807.66,
            1536.06,
            25.1,
            2394.32,
            3102.56,
            3988.11,
            6871.8,
            31879.11,
            2500.39,
            915.95,
            5277.6,
            162.31,
            1927.98,
            2933.16,
            720.4,
            861.97,
            8936.9,
            3457.44,
            240.11,
            553.68,
            10869.2,
            612.4,
            1570,
            505.4,
            864.63
           ]
          }
         ],
         "name": "2015"
        },
        {
         "data": [
          {
           "coloraxis": "coloraxis",
           "geo": "geo",
           "hovertemplate": "<b>%{hovertext}</b><br><br>TIME_PERIOD=2016<br>code=%{location}<br>OBS_VALUE=%{z}<extra></extra>",
           "hovertext": [
            "BE",
            "CZ",
            "HU",
            "LV",
            "SK",
            "BA",
            "CY",
            "UK",
            "BG",
            "LT",
            "SE",
            "SI",
            "LU",
            "CH",
            "RS",
            "IE",
            "EL",
            "PL",
            "FI",
            "MT",
            "ES",
            "EE",
            "FR",
            "AT",
            "PT",
            "IT",
            "NL",
            "DK",
            "HR",
            "ME",
            "RO",
            "DE",
            "NO",
            "TR"
           ],
           "locations": [
            "BEL",
            "CZE",
            "HUN",
            "LVA",
            "SVK",
            "BIH",
            "CYP",
            null,
            "BGR",
            "LTU",
            "SWE",
            "SVN",
            "LUX",
            "CHE",
            "SRB",
            "IRL",
            null,
            "POL",
            "FIN",
            "MLT",
            "ESP",
            "EST",
            "FRA",
            "AUT",
            "PRT",
            "ITA",
            "NLD",
            "DNK",
            "HRV",
            "MNE",
            "ROU",
            "DEU",
            "NOR",
            "TUR"
           ],
           "name": "",
           "type": "choropleth",
           "z": [
            3881.51,
            2793.2,
            1547.14,
            814.01,
            822.74,
            242.78,
            200.41,
            14542,
            530.09,
            1416.31,
            2861.99,
            574.71,
            361.99,
            3406.8,
            844.66,
            6851.63,
            619,
            11129.96,
            2389.53,
            43.13,
            6863.71,
            714.7,
            24453.33,
            3091.48,
            1842.76,
            10773.15,
            14324.2,
            5376.29,
            489.66,
            24.56,
            953.41,
            31972.73,
            1572.1,
            9213.5
           ]
          }
         ],
         "name": "2016"
        },
        {
         "data": [
          {
           "coloraxis": "coloraxis",
           "geo": "geo",
           "hovertemplate": "<b>%{hovertext}</b><br><br>TIME_PERIOD=2017<br>code=%{location}<br>OBS_VALUE=%{z}<extra></extra>",
           "hovertext": [
            "NL",
            "UK",
            "NO",
            "TR",
            "SI",
            "LV",
            "SK",
            "MT",
            "SE",
            "PL",
            "LU",
            "ME",
            "RS",
            "PT",
            "LT",
            "RO",
            "AL",
            "BG",
            "HR",
            "HU",
            "EE",
            "ES",
            "CY",
            "BE",
            "IE",
            "DK",
            "FR",
            "CZ",
            "BA",
            "CH",
            "FI",
            "DE",
            "IS",
            "EL",
            "IT",
            "AT"
           ],
           "locations": [
            "NLD",
            null,
            "NOR",
            "TUR",
            "SVN",
            "LVA",
            "SVK",
            "MLT",
            "SWE",
            "POL",
            "LUX",
            "MNE",
            "SRB",
            "PRT",
            "LTU",
            "ROU",
            "ALB",
            "BGR",
            "HRV",
            "HUN",
            "EST",
            "ESP",
            "CYP",
            "BEL",
            "IRL",
            "DNK",
            "FRA",
            "CZE",
            "BIH",
            "CHE",
            "FIN",
            "DEU",
            "ISL",
            null,
            "ITA",
            "AUT"
           ],
           "name": "",
           "type": "choropleth",
           "z": [
            14295.9,
            15144.7,
            1542.8,
            9111.5,
            578.85,
            813.46,
            825.89,
            41.02,
            2816.65,
            11647.09,
            374.34,
            25.96,
            862.07,
            1850.79,
            1403.06,
            1028.33,
            57.36,
            592.49,
            476.79,
            1545.46,
            726.8,
            7013.9,
            216.26,
            4025.41,
            7475.42,
            5494.18,
            24629.49,
            2979.34,
            256.19,
            3409.54,
            2365.92,
            31937.03,
            155.65,
            614.3,
            11902.24,
            3199.62
           ]
          }
         ],
         "name": "2017"
        },
        {
         "data": [
          {
           "coloraxis": "coloraxis",
           "geo": "geo",
           "hovertemplate": "<b>%{hovertext}</b><br><br>TIME_PERIOD=2018<br>code=%{location}<br>OBS_VALUE=%{z}<extra></extra>",
           "hovertext": [
            "SE",
            "HR",
            "EE",
            "ME",
            "MT",
            "FI",
            "CY",
            "ES",
            "RO",
            "DK",
            "FR",
            "PT",
            "CZ",
            "RS",
            "CH",
            "BG",
            "AL",
            "AT",
            "EL",
            "IS",
            "LT",
            "TR",
            "PL",
            "UK",
            "BA",
            "NL",
            "IE",
            "LU",
            "SK",
            "BE",
            "NO",
            "SI",
            "HU",
            "DE",
            "LV",
            "IT"
           ],
           "locations": [
            "SWE",
            "HRV",
            "EST",
            "MNE",
            "MLT",
            "FIN",
            "CYP",
            "ESP",
            "ROU",
            "DNK",
            "FRA",
            "PRT",
            "CZE",
            "SRB",
            "CHE",
            "BGR",
            "ALB",
            "AUT",
            null,
            "ISL",
            "LTU",
            "TUR",
            "POL",
            null,
            "BIH",
            "NLD",
            "IRL",
            "LUX",
            "SVK",
            "BEL",
            "NOR",
            "SVN",
            "HUN",
            "DEU",
            "LVA",
            "ITA"
           ],
           "name": "",
           "type": "choropleth",
           "z": [
            2760.23,
            453.47,
            748.1,
            28.31,
            40.41,
            2353.69,
            228.08,
            7120.8,
            1109.31,
            5615.21,
            24542.54,
            1894.21,
            3033.02,
            866.97,
            3426.97,
            648.8,
            64.39,
            3182.84,
            620.2,
            156.98,
            1366.59,
            10028.3,
            11945.62,
            15188.1,
            262.5,
            13880.8,
            7810.24,
            394.78,
            818.22,
            4178.89,
            1565.2,
            570.64,
            1535.3,
            32490.94,
            780.64,
            12070.75
           ]
          }
         ],
         "name": "2018"
        },
        {
         "data": [
          {
           "coloraxis": "coloraxis",
           "geo": "geo",
           "hovertemplate": "<b>%{hovertext}</b><br><br>TIME_PERIOD=2019<br>code=%{location}<br>OBS_VALUE=%{z}<extra></extra>",
           "hovertext": [
            "DK",
            "PT",
            "PL",
            "IT",
            "RO",
            "CZ",
            "RS",
            "CY",
            "CH",
            "SE",
            "BG",
            "SI",
            "BE",
            "SK",
            "BA",
            "AT",
            "TR",
            "AL",
            "DE",
            "EE",
            "UK",
            "HR",
            "ME",
            "FR",
            "MT",
            "LV",
            "HU",
            "FI",
            "LU",
            "IE",
            "NL",
            "ES",
            "EL",
            "NO",
            "IS",
            "MK",
            "LT"
           ],
           "locations": [
            "DNK",
            "PRT",
            "POL",
            "ITA",
            "ROU",
            "CZE",
            "SRB",
            "CYP",
            "CHE",
            "SWE",
            "BGR",
            "SVN",
            "BEL",
            "SVK",
            "BIH",
            "AUT",
            "TUR",
            "ALB",
            "DEU",
            "EST",
            null,
            "HRV",
            "MNE",
            "FRA",
            "MLT",
            "LVA",
            "HUN",
            "FIN",
            "LUX",
            "IRL",
            "NLD",
            "ESP",
            null,
            "NOR",
            "ISL",
            "MKD",
            "LTU"
           ],
           "name": "",
           "type": "choropleth",
           "z": [
            5614.69,
            1892.01,
            12174.96,
            11965.01,
            1122.33,
            3073.49,
            873.95,
            238.18,
            3372.09,
            2704.39,
            658.77,
            563.97,
            4288.22,
            814.73,
            260.76,
            3139.8,
            9559.9,
            56.82,
            32442.21,
            763,
            15428.2,
            435.59,
            27.96,
            24526.3,
            41.51,
            785.2,
            1575.72,
            2329.67,
            0,
            8226.62,
            13801.9,
            7265.21,
            631.1,
            1526.36,
            156.39,
            115.59,
            1358.09
           ]
          }
         ],
         "name": "2019"
        },
        {
         "data": [
          {
           "coloraxis": "coloraxis",
           "geo": "geo",
           "hovertemplate": "<b>%{hovertext}</b><br><br>TIME_PERIOD=2020<br>code=%{location}<br>OBS_VALUE=%{z}<extra></extra>",
           "hovertext": [
            "SK",
            "CH",
            "IT",
            "AL",
            "EE",
            "HR",
            "SE",
            "BG",
            "LT",
            "LV",
            "AT",
            "HU",
            "TR",
            "SI",
            "BE",
            "LU",
            "ME",
            "BA",
            "IS",
            "IE",
            "PL",
            "ES",
            "DE",
            "NL",
            "EL",
            "DK",
            "RO",
            "CZ",
            "FI",
            "PT",
            "RS",
            "NO",
            "FR",
            "CY"
           ],
           "locations": [
            "SVK",
            "CHE",
            "ITA",
            "ALB",
            "EST",
            "HRV",
            "SWE",
            "BGR",
            "LTU",
            "LVA",
            "AUT",
            "HUN",
            "TUR",
            "SVN",
            "BEL",
            "LUX",
            "MNE",
            "BIH",
            "ISL",
            "IRL",
            "POL",
            "ESP",
            "DEU",
            "NLD",
            null,
            "DNK",
            "ROU",
            "CZE",
            "FIN",
            "PRT",
            "SRB",
            "NOR",
            "FRA",
            "CYP"
           ],
           "name": "",
           "type": "choropleth",
           "z": [
            833.79,
            3378.9,
            11894.79,
            56.27,
            787.8,
            434,
            2772.74,
            694.18,
            1359.69,
            790.5,
            3137.16,
            1625.67,
            9840.97,
            580.11,
            4431,
            0,
            28.83,
            271.57,
            155.5,
            8542.27,
            12457.39,
            7427.61,
            32548.98,
            13986.6,
            652.18,
            5666.5,
            1134.9,
            3192.02,
            2362.11,
            1919.51,
            907.65,
            1545.06,
            24602.21,
            271.37
           ]
          }
         ],
         "name": "2020"
        },
        {
         "data": [
          {
           "coloraxis": "coloraxis",
           "geo": "geo",
           "hovertemplate": "<b>%{hovertext}</b><br><br>TIME_PERIOD=2021<br>code=%{location}<br>OBS_VALUE=%{z}<extra></extra>",
           "hovertext": [
            "PL",
            "IE",
            "LT",
            "AT",
            "NL",
            "EL",
            "NO",
            "IT",
            "DK",
            "SK",
            "AL",
            "IS",
            "TR",
            "RS",
            "DE",
            "FR",
            "CY",
            "FI",
            "SE",
            "LV",
            "BG",
            "RO",
            "PT",
            "HR",
            "CZ",
            "SI",
            "BE",
            "ES",
            "HU",
            "LU",
            "MK",
            "MT",
            "EE"
           ],
           "locations": [
            "POL",
            "IRL",
            "LTU",
            "AUT",
            "NLD",
            null,
            "NOR",
            "ITA",
            "DNK",
            "SVK",
            "ALB",
            "ISL",
            "TUR",
            "SRB",
            "DEU",
            "FRA",
            "CYP",
            "FIN",
            "SWE",
            "LVA",
            "BGR",
            "ROU",
            "PRT",
            "HRV",
            "CZE",
            "SVN",
            "BEL",
            "ESP",
            "HUN",
            "LUX",
            "MKD",
            "MLT",
            "EST"
           ],
           "name": "",
           "type": "choropleth",
           "z": [
            12515.42,
            9018.37,
            1348.85,
            3153.83,
            13603.4,
            659.92,
            1575.49,
            13042.03,
            5643.85,
            822.96,
            58.94,
            153.29,
            10069.7,
            891.8,
            31942.32,
            24198.75,
            298.11,
            2271.91,
            2782.22,
            812.65,
            679.06,
            1125.66,
            1909.09,
            428.94,
            3128.74,
            588.77,
            4380.84,
            7471.71,
            1739.26,
            0,
            132.52,
            39.54,
            799.2
           ]
          }
         ],
         "name": "2021"
        }
       ],
       "layout": {
        "coloraxis": {
         "colorbar": {
          "title": {
           "text": "OBS_VALUE"
          }
         },
         "colorscale": [
          [
           0,
           "#0d0887"
          ],
          [
           0.1111111111111111,
           "#46039f"
          ],
          [
           0.2222222222222222,
           "#7201a8"
          ],
          [
           0.3333333333333333,
           "#9c179e"
          ],
          [
           0.4444444444444444,
           "#bd3786"
          ],
          [
           0.5555555555555556,
           "#d8576b"
          ],
          [
           0.6666666666666666,
           "#ed7953"
          ],
          [
           0.7777777777777778,
           "#fb9f3a"
          ],
          [
           0.8888888888888888,
           "#fdca26"
          ],
          [
           1,
           "#f0f921"
          ]
         ]
        },
        "geo": {
         "center": {},
         "domain": {
          "x": [
           0,
           1
          ],
          "y": [
           0,
           1
          ]
         },
         "projection": {
          "type": "natural earth"
         }
        },
        "legend": {
         "tracegroupgap": 0
        },
        "margin": {
         "t": 60
        },
        "sliders": [
         {
          "active": 0,
          "currentvalue": {
           "prefix": "TIME_PERIOD="
          },
          "len": 0.9,
          "pad": {
           "b": 10,
           "t": 60
          },
          "steps": [
           {
            "args": [
             [
              "2012"
             ],
             {
              "frame": {
               "duration": 0,
               "redraw": true
              },
              "fromcurrent": true,
              "mode": "immediate",
              "transition": {
               "duration": 0,
               "easing": "linear"
              }
             }
            ],
            "label": "2012",
            "method": "animate"
           },
           {
            "args": [
             [
              "2013"
             ],
             {
              "frame": {
               "duration": 0,
               "redraw": true
              },
              "fromcurrent": true,
              "mode": "immediate",
              "transition": {
               "duration": 0,
               "easing": "linear"
              }
             }
            ],
            "label": "2013",
            "method": "animate"
           },
           {
            "args": [
             [
              "2014"
             ],
             {
              "frame": {
               "duration": 0,
               "redraw": true
              },
              "fromcurrent": true,
              "mode": "immediate",
              "transition": {
               "duration": 0,
               "easing": "linear"
              }
             }
            ],
            "label": "2014",
            "method": "animate"
           },
           {
            "args": [
             [
              "2015"
             ],
             {
              "frame": {
               "duration": 0,
               "redraw": true
              },
              "fromcurrent": true,
              "mode": "immediate",
              "transition": {
               "duration": 0,
               "easing": "linear"
              }
             }
            ],
            "label": "2015",
            "method": "animate"
           },
           {
            "args": [
             [
              "2016"
             ],
             {
              "frame": {
               "duration": 0,
               "redraw": true
              },
              "fromcurrent": true,
              "mode": "immediate",
              "transition": {
               "duration": 0,
               "easing": "linear"
              }
             }
            ],
            "label": "2016",
            "method": "animate"
           },
           {
            "args": [
             [
              "2017"
             ],
             {
              "frame": {
               "duration": 0,
               "redraw": true
              },
              "fromcurrent": true,
              "mode": "immediate",
              "transition": {
               "duration": 0,
               "easing": "linear"
              }
             }
            ],
            "label": "2017",
            "method": "animate"
           },
           {
            "args": [
             [
              "2018"
             ],
             {
              "frame": {
               "duration": 0,
               "redraw": true
              },
              "fromcurrent": true,
              "mode": "immediate",
              "transition": {
               "duration": 0,
               "easing": "linear"
              }
             }
            ],
            "label": "2018",
            "method": "animate"
           },
           {
            "args": [
             [
              "2019"
             ],
             {
              "frame": {
               "duration": 0,
               "redraw": true
              },
              "fromcurrent": true,
              "mode": "immediate",
              "transition": {
               "duration": 0,
               "easing": "linear"
              }
             }
            ],
            "label": "2019",
            "method": "animate"
           },
           {
            "args": [
             [
              "2020"
             ],
             {
              "frame": {
               "duration": 0,
               "redraw": true
              },
              "fromcurrent": true,
              "mode": "immediate",
              "transition": {
               "duration": 0,
               "easing": "linear"
              }
             }
            ],
            "label": "2020",
            "method": "animate"
           },
           {
            "args": [
             [
              "2021"
             ],
             {
              "frame": {
               "duration": 0,
               "redraw": true
              },
              "fromcurrent": true,
              "mode": "immediate",
              "transition": {
               "duration": 0,
               "easing": "linear"
              }
             }
            ],
            "label": "2021",
            "method": "animate"
           }
          ],
          "x": 0.1,
          "xanchor": "left",
          "y": 0,
          "yanchor": "top"
         }
        ],
        "template": {
         "data": {
          "bar": [
           {
            "error_x": {
             "color": "#2a3f5f"
            },
            "error_y": {
             "color": "#2a3f5f"
            },
            "marker": {
             "line": {
              "color": "#E5ECF6",
              "width": 0.5
             },
             "pattern": {
              "fillmode": "overlay",
              "size": 10,
              "solidity": 0.2
             }
            },
            "type": "bar"
           }
          ],
          "barpolar": [
           {
            "marker": {
             "line": {
              "color": "#E5ECF6",
              "width": 0.5
             },
             "pattern": {
              "fillmode": "overlay",
              "size": 10,
              "solidity": 0.2
             }
            },
            "type": "barpolar"
           }
          ],
          "carpet": [
           {
            "aaxis": {
             "endlinecolor": "#2a3f5f",
             "gridcolor": "white",
             "linecolor": "white",
             "minorgridcolor": "white",
             "startlinecolor": "#2a3f5f"
            },
            "baxis": {
             "endlinecolor": "#2a3f5f",
             "gridcolor": "white",
             "linecolor": "white",
             "minorgridcolor": "white",
             "startlinecolor": "#2a3f5f"
            },
            "type": "carpet"
           }
          ],
          "choropleth": [
           {
            "colorbar": {
             "outlinewidth": 0,
             "ticks": ""
            },
            "type": "choropleth"
           }
          ],
          "contour": [
           {
            "colorbar": {
             "outlinewidth": 0,
             "ticks": ""
            },
            "colorscale": [
             [
              0,
              "#0d0887"
             ],
             [
              0.1111111111111111,
              "#46039f"
             ],
             [
              0.2222222222222222,
              "#7201a8"
             ],
             [
              0.3333333333333333,
              "#9c179e"
             ],
             [
              0.4444444444444444,
              "#bd3786"
             ],
             [
              0.5555555555555556,
              "#d8576b"
             ],
             [
              0.6666666666666666,
              "#ed7953"
             ],
             [
              0.7777777777777778,
              "#fb9f3a"
             ],
             [
              0.8888888888888888,
              "#fdca26"
             ],
             [
              1,
              "#f0f921"
             ]
            ],
            "type": "contour"
           }
          ],
          "contourcarpet": [
           {
            "colorbar": {
             "outlinewidth": 0,
             "ticks": ""
            },
            "type": "contourcarpet"
           }
          ],
          "heatmap": [
           {
            "colorbar": {
             "outlinewidth": 0,
             "ticks": ""
            },
            "colorscale": [
             [
              0,
              "#0d0887"
             ],
             [
              0.1111111111111111,
              "#46039f"
             ],
             [
              0.2222222222222222,
              "#7201a8"
             ],
             [
              0.3333333333333333,
              "#9c179e"
             ],
             [
              0.4444444444444444,
              "#bd3786"
             ],
             [
              0.5555555555555556,
              "#d8576b"
             ],
             [
              0.6666666666666666,
              "#ed7953"
             ],
             [
              0.7777777777777778,
              "#fb9f3a"
             ],
             [
              0.8888888888888888,
              "#fdca26"
             ],
             [
              1,
              "#f0f921"
             ]
            ],
            "type": "heatmap"
           }
          ],
          "heatmapgl": [
           {
            "colorbar": {
             "outlinewidth": 0,
             "ticks": ""
            },
            "colorscale": [
             [
              0,
              "#0d0887"
             ],
             [
              0.1111111111111111,
              "#46039f"
             ],
             [
              0.2222222222222222,
              "#7201a8"
             ],
             [
              0.3333333333333333,
              "#9c179e"
             ],
             [
              0.4444444444444444,
              "#bd3786"
             ],
             [
              0.5555555555555556,
              "#d8576b"
             ],
             [
              0.6666666666666666,
              "#ed7953"
             ],
             [
              0.7777777777777778,
              "#fb9f3a"
             ],
             [
              0.8888888888888888,
              "#fdca26"
             ],
             [
              1,
              "#f0f921"
             ]
            ],
            "type": "heatmapgl"
           }
          ],
          "histogram": [
           {
            "marker": {
             "pattern": {
              "fillmode": "overlay",
              "size": 10,
              "solidity": 0.2
             }
            },
            "type": "histogram"
           }
          ],
          "histogram2d": [
           {
            "colorbar": {
             "outlinewidth": 0,
             "ticks": ""
            },
            "colorscale": [
             [
              0,
              "#0d0887"
             ],
             [
              0.1111111111111111,
              "#46039f"
             ],
             [
              0.2222222222222222,
              "#7201a8"
             ],
             [
              0.3333333333333333,
              "#9c179e"
             ],
             [
              0.4444444444444444,
              "#bd3786"
             ],
             [
              0.5555555555555556,
              "#d8576b"
             ],
             [
              0.6666666666666666,
              "#ed7953"
             ],
             [
              0.7777777777777778,
              "#fb9f3a"
             ],
             [
              0.8888888888888888,
              "#fdca26"
             ],
             [
              1,
              "#f0f921"
             ]
            ],
            "type": "histogram2d"
           }
          ],
          "histogram2dcontour": [
           {
            "colorbar": {
             "outlinewidth": 0,
             "ticks": ""
            },
            "colorscale": [
             [
              0,
              "#0d0887"
             ],
             [
              0.1111111111111111,
              "#46039f"
             ],
             [
              0.2222222222222222,
              "#7201a8"
             ],
             [
              0.3333333333333333,
              "#9c179e"
             ],
             [
              0.4444444444444444,
              "#bd3786"
             ],
             [
              0.5555555555555556,
              "#d8576b"
             ],
             [
              0.6666666666666666,
              "#ed7953"
             ],
             [
              0.7777777777777778,
              "#fb9f3a"
             ],
             [
              0.8888888888888888,
              "#fdca26"
             ],
             [
              1,
              "#f0f921"
             ]
            ],
            "type": "histogram2dcontour"
           }
          ],
          "mesh3d": [
           {
            "colorbar": {
             "outlinewidth": 0,
             "ticks": ""
            },
            "type": "mesh3d"
           }
          ],
          "parcoords": [
           {
            "line": {
             "colorbar": {
              "outlinewidth": 0,
              "ticks": ""
             }
            },
            "type": "parcoords"
           }
          ],
          "pie": [
           {
            "automargin": true,
            "type": "pie"
           }
          ],
          "scatter": [
           {
            "marker": {
             "colorbar": {
              "outlinewidth": 0,
              "ticks": ""
             }
            },
            "type": "scatter"
           }
          ],
          "scatter3d": [
           {
            "line": {
             "colorbar": {
              "outlinewidth": 0,
              "ticks": ""
             }
            },
            "marker": {
             "colorbar": {
              "outlinewidth": 0,
              "ticks": ""
             }
            },
            "type": "scatter3d"
           }
          ],
          "scattercarpet": [
           {
            "marker": {
             "colorbar": {
              "outlinewidth": 0,
              "ticks": ""
             }
            },
            "type": "scattercarpet"
           }
          ],
          "scattergeo": [
           {
            "marker": {
             "colorbar": {
              "outlinewidth": 0,
              "ticks": ""
             }
            },
            "type": "scattergeo"
           }
          ],
          "scattergl": [
           {
            "marker": {
             "colorbar": {
              "outlinewidth": 0,
              "ticks": ""
             }
            },
            "type": "scattergl"
           }
          ],
          "scattermapbox": [
           {
            "marker": {
             "colorbar": {
              "outlinewidth": 0,
              "ticks": ""
             }
            },
            "type": "scattermapbox"
           }
          ],
          "scatterpolar": [
           {
            "marker": {
             "colorbar": {
              "outlinewidth": 0,
              "ticks": ""
             }
            },
            "type": "scatterpolar"
           }
          ],
          "scatterpolargl": [
           {
            "marker": {
             "colorbar": {
              "outlinewidth": 0,
              "ticks": ""
             }
            },
            "type": "scatterpolargl"
           }
          ],
          "scatterternary": [
           {
            "marker": {
             "colorbar": {
              "outlinewidth": 0,
              "ticks": ""
             }
            },
            "type": "scatterternary"
           }
          ],
          "surface": [
           {
            "colorbar": {
             "outlinewidth": 0,
             "ticks": ""
            },
            "colorscale": [
             [
              0,
              "#0d0887"
             ],
             [
              0.1111111111111111,
              "#46039f"
             ],
             [
              0.2222222222222222,
              "#7201a8"
             ],
             [
              0.3333333333333333,
              "#9c179e"
             ],
             [
              0.4444444444444444,
              "#bd3786"
             ],
             [
              0.5555555555555556,
              "#d8576b"
             ],
             [
              0.6666666666666666,
              "#ed7953"
             ],
             [
              0.7777777777777778,
              "#fb9f3a"
             ],
             [
              0.8888888888888888,
              "#fdca26"
             ],
             [
              1,
              "#f0f921"
             ]
            ],
            "type": "surface"
           }
          ],
          "table": [
           {
            "cells": {
             "fill": {
              "color": "#EBF0F8"
             },
             "line": {
              "color": "white"
             }
            },
            "header": {
             "fill": {
              "color": "#C8D4E3"
             },
             "line": {
              "color": "white"
             }
            },
            "type": "table"
           }
          ]
         },
         "layout": {
          "annotationdefaults": {
           "arrowcolor": "#2a3f5f",
           "arrowhead": 0,
           "arrowwidth": 1
          },
          "autotypenumbers": "strict",
          "coloraxis": {
           "colorbar": {
            "outlinewidth": 0,
            "ticks": ""
           }
          },
          "colorscale": {
           "diverging": [
            [
             0,
             "#8e0152"
            ],
            [
             0.1,
             "#c51b7d"
            ],
            [
             0.2,
             "#de77ae"
            ],
            [
             0.3,
             "#f1b6da"
            ],
            [
             0.4,
             "#fde0ef"
            ],
            [
             0.5,
             "#f7f7f7"
            ],
            [
             0.6,
             "#e6f5d0"
            ],
            [
             0.7,
             "#b8e186"
            ],
            [
             0.8,
             "#7fbc41"
            ],
            [
             0.9,
             "#4d9221"
            ],
            [
             1,
             "#276419"
            ]
           ],
           "sequential": [
            [
             0,
             "#0d0887"
            ],
            [
             0.1111111111111111,
             "#46039f"
            ],
            [
             0.2222222222222222,
             "#7201a8"
            ],
            [
             0.3333333333333333,
             "#9c179e"
            ],
            [
             0.4444444444444444,
             "#bd3786"
            ],
            [
             0.5555555555555556,
             "#d8576b"
            ],
            [
             0.6666666666666666,
             "#ed7953"
            ],
            [
             0.7777777777777778,
             "#fb9f3a"
            ],
            [
             0.8888888888888888,
             "#fdca26"
            ],
            [
             1,
             "#f0f921"
            ]
           ],
           "sequentialminus": [
            [
             0,
             "#0d0887"
            ],
            [
             0.1111111111111111,
             "#46039f"
            ],
            [
             0.2222222222222222,
             "#7201a8"
            ],
            [
             0.3333333333333333,
             "#9c179e"
            ],
            [
             0.4444444444444444,
             "#bd3786"
            ],
            [
             0.5555555555555556,
             "#d8576b"
            ],
            [
             0.6666666666666666,
             "#ed7953"
            ],
            [
             0.7777777777777778,
             "#fb9f3a"
            ],
            [
             0.8888888888888888,
             "#fdca26"
            ],
            [
             1,
             "#f0f921"
            ]
           ]
          },
          "colorway": [
           "#636efa",
           "#EF553B",
           "#00cc96",
           "#ab63fa",
           "#FFA15A",
           "#19d3f3",
           "#FF6692",
           "#B6E880",
           "#FF97FF",
           "#FECB52"
          ],
          "font": {
           "color": "#2a3f5f"
          },
          "geo": {
           "bgcolor": "white",
           "lakecolor": "white",
           "landcolor": "#E5ECF6",
           "showlakes": true,
           "showland": true,
           "subunitcolor": "white"
          },
          "hoverlabel": {
           "align": "left"
          },
          "hovermode": "closest",
          "mapbox": {
           "style": "light"
          },
          "paper_bgcolor": "white",
          "plot_bgcolor": "#E5ECF6",
          "polar": {
           "angularaxis": {
            "gridcolor": "white",
            "linecolor": "white",
            "ticks": ""
           },
           "bgcolor": "#E5ECF6",
           "radialaxis": {
            "gridcolor": "white",
            "linecolor": "white",
            "ticks": ""
           }
          },
          "scene": {
           "xaxis": {
            "backgroundcolor": "#E5ECF6",
            "gridcolor": "white",
            "gridwidth": 2,
            "linecolor": "white",
            "showbackground": true,
            "ticks": "",
            "zerolinecolor": "white"
           },
           "yaxis": {
            "backgroundcolor": "#E5ECF6",
            "gridcolor": "white",
            "gridwidth": 2,
            "linecolor": "white",
            "showbackground": true,
            "ticks": "",
            "zerolinecolor": "white"
           },
           "zaxis": {
            "backgroundcolor": "#E5ECF6",
            "gridcolor": "white",
            "gridwidth": 2,
            "linecolor": "white",
            "showbackground": true,
            "ticks": "",
            "zerolinecolor": "white"
           }
          },
          "shapedefaults": {
           "line": {
            "color": "#2a3f5f"
           }
          },
          "ternary": {
           "aaxis": {
            "gridcolor": "white",
            "linecolor": "white",
            "ticks": ""
           },
           "baxis": {
            "gridcolor": "white",
            "linecolor": "white",
            "ticks": ""
           },
           "bgcolor": "#E5ECF6",
           "caxis": {
            "gridcolor": "white",
            "linecolor": "white",
            "ticks": ""
           }
          },
          "title": {
           "x": 0.05
          },
          "xaxis": {
           "automargin": true,
           "gridcolor": "white",
           "linecolor": "white",
           "ticks": "",
           "title": {
            "standoff": 15
           },
           "zerolinecolor": "white",
           "zerolinewidth": 2
          },
          "yaxis": {
           "automargin": true,
           "gridcolor": "white",
           "linecolor": "white",
           "ticks": "",
           "title": {
            "standoff": 15
           },
           "zerolinecolor": "white",
           "zerolinewidth": 2
          }
         }
        },
        "title": {
         "text": "Milk Production"
        },
        "updatemenus": [
         {
          "buttons": [
           {
            "args": [
             null,
             {
              "frame": {
               "duration": 500,
               "redraw": true
              },
              "fromcurrent": true,
              "mode": "immediate",
              "transition": {
               "duration": 500,
               "easing": "linear"
              }
             }
            ],
            "label": "&#9654;",
            "method": "animate"
           },
           {
            "args": [
             [
              null
             ],
             {
              "frame": {
               "duration": 0,
               "redraw": true
              },
              "fromcurrent": true,
              "mode": "immediate",
              "transition": {
               "duration": 0,
               "easing": "linear"
              }
             }
            ],
            "label": "&#9724;",
            "method": "animate"
           }
          ],
          "direction": "left",
          "pad": {
           "r": 10,
           "t": 70
          },
          "showactive": false,
          "type": "buttons",
          "x": 0.1,
          "xanchor": "right",
          "y": 0,
          "yanchor": "top"
         }
        ]
       }
      },
      "text/html": [
       "<div>                            <div id=\"1e7f72cb-cbfe-4a96-833e-70f25f95e9be\" class=\"plotly-graph-div\" style=\"height:525px; width:100%;\"></div>            <script type=\"text/javascript\">                require([\"plotly\"], function(Plotly) {                    window.PLOTLYENV=window.PLOTLYENV || {};                                    if (document.getElementById(\"1e7f72cb-cbfe-4a96-833e-70f25f95e9be\")) {                    Plotly.newPlot(                        \"1e7f72cb-cbfe-4a96-833e-70f25f95e9be\",                        [{\"coloraxis\":\"coloraxis\",\"geo\":\"geo\",\"hovertemplate\":\"<b>%{hovertext}</b><br><br>TIME_PERIOD=2012<br>code=%{location}<br>OBS_VALUE=%{z}<extra></extra>\",\"hovertext\":[\"IS\",\"CH\",\"SI\",\"CY\",\"SE\",\"CZ\",\"RS\",\"DE\",\"RO\",\"DK\",\"PT\",\"EL\",\"PL\",\"ES\",\"FI\",\"NL\",\"FR\",\"MT\",\"HR\",\"HU\",\"LV\",\"IE\",\"LU\",\"IT\",\"BG\",\"SK\",\"EE\",\"LT\",\"UK\",\"BA\",\"TR\",\"BE\",\"AT\"],\"locations\":[\"ISL\",\"CHE\",\"SVN\",\"CYP\",\"SWE\",\"CZE\",\"SRB\",\"DEU\",\"ROU\",\"DNK\",\"PRT\",null,\"POL\",\"ESP\",\"FIN\",\"NLD\",\"FRA\",\"MLT\",\"HRV\",\"HUN\",\"LVA\",\"IRL\",\"LUX\",\"ITA\",\"BGR\",\"SVK\",\"EST\",\"LTU\",null,\"BIH\",\"TUR\",\"BEL\",\"AUT\"],\"name\":\"\",\"z\":[0.0,3444.19,535.06,153.44,2861.17,2446.13,733.04,29701.78,883.71,4915.7,1854.69,663.73,9843.48,5996.82,2254.04,11675.6,24535.96,0.0,602.16,1398.24,718.38,5379.7,277.33,10003.8,497.48,851.25,649.1,1359.9,13590.6,216.35,7932.5,3412.02,2964.13],\"type\":\"choropleth\"}],                        {\"template\":{\"data\":{\"bar\":[{\"error_x\":{\"color\":\"#2a3f5f\"},\"error_y\":{\"color\":\"#2a3f5f\"},\"marker\":{\"line\":{\"color\":\"#E5ECF6\",\"width\":0.5},\"pattern\":{\"fillmode\":\"overlay\",\"size\":10,\"solidity\":0.2}},\"type\":\"bar\"}],\"barpolar\":[{\"marker\":{\"line\":{\"color\":\"#E5ECF6\",\"width\":0.5},\"pattern\":{\"fillmode\":\"overlay\",\"size\":10,\"solidity\":0.2}},\"type\":\"barpolar\"}],\"carpet\":[{\"aaxis\":{\"endlinecolor\":\"#2a3f5f\",\"gridcolor\":\"white\",\"linecolor\":\"white\",\"minorgridcolor\":\"white\",\"startlinecolor\":\"#2a3f5f\"},\"baxis\":{\"endlinecolor\":\"#2a3f5f\",\"gridcolor\":\"white\",\"linecolor\":\"white\",\"minorgridcolor\":\"white\",\"startlinecolor\":\"#2a3f5f\"},\"type\":\"carpet\"}],\"choropleth\":[{\"colorbar\":{\"outlinewidth\":0,\"ticks\":\"\"},\"type\":\"choropleth\"}],\"contour\":[{\"colorbar\":{\"outlinewidth\":0,\"ticks\":\"\"},\"colorscale\":[[0.0,\"#0d0887\"],[0.1111111111111111,\"#46039f\"],[0.2222222222222222,\"#7201a8\"],[0.3333333333333333,\"#9c179e\"],[0.4444444444444444,\"#bd3786\"],[0.5555555555555556,\"#d8576b\"],[0.6666666666666666,\"#ed7953\"],[0.7777777777777778,\"#fb9f3a\"],[0.8888888888888888,\"#fdca26\"],[1.0,\"#f0f921\"]],\"type\":\"contour\"}],\"contourcarpet\":[{\"colorbar\":{\"outlinewidth\":0,\"ticks\":\"\"},\"type\":\"contourcarpet\"}],\"heatmap\":[{\"colorbar\":{\"outlinewidth\":0,\"ticks\":\"\"},\"colorscale\":[[0.0,\"#0d0887\"],[0.1111111111111111,\"#46039f\"],[0.2222222222222222,\"#7201a8\"],[0.3333333333333333,\"#9c179e\"],[0.4444444444444444,\"#bd3786\"],[0.5555555555555556,\"#d8576b\"],[0.6666666666666666,\"#ed7953\"],[0.7777777777777778,\"#fb9f3a\"],[0.8888888888888888,\"#fdca26\"],[1.0,\"#f0f921\"]],\"type\":\"heatmap\"}],\"heatmapgl\":[{\"colorbar\":{\"outlinewidth\":0,\"ticks\":\"\"},\"colorscale\":[[0.0,\"#0d0887\"],[0.1111111111111111,\"#46039f\"],[0.2222222222222222,\"#7201a8\"],[0.3333333333333333,\"#9c179e\"],[0.4444444444444444,\"#bd3786\"],[0.5555555555555556,\"#d8576b\"],[0.6666666666666666,\"#ed7953\"],[0.7777777777777778,\"#fb9f3a\"],[0.8888888888888888,\"#fdca26\"],[1.0,\"#f0f921\"]],\"type\":\"heatmapgl\"}],\"histogram\":[{\"marker\":{\"pattern\":{\"fillmode\":\"overlay\",\"size\":10,\"solidity\":0.2}},\"type\":\"histogram\"}],\"histogram2d\":[{\"colorbar\":{\"outlinewidth\":0,\"ticks\":\"\"},\"colorscale\":[[0.0,\"#0d0887\"],[0.1111111111111111,\"#46039f\"],[0.2222222222222222,\"#7201a8\"],[0.3333333333333333,\"#9c179e\"],[0.4444444444444444,\"#bd3786\"],[0.5555555555555556,\"#d8576b\"],[0.6666666666666666,\"#ed7953\"],[0.7777777777777778,\"#fb9f3a\"],[0.8888888888888888,\"#fdca26\"],[1.0,\"#f0f921\"]],\"type\":\"histogram2d\"}],\"histogram2dcontour\":[{\"colorbar\":{\"outlinewidth\":0,\"ticks\":\"\"},\"colorscale\":[[0.0,\"#0d0887\"],[0.1111111111111111,\"#46039f\"],[0.2222222222222222,\"#7201a8\"],[0.3333333333333333,\"#9c179e\"],[0.4444444444444444,\"#bd3786\"],[0.5555555555555556,\"#d8576b\"],[0.6666666666666666,\"#ed7953\"],[0.7777777777777778,\"#fb9f3a\"],[0.8888888888888888,\"#fdca26\"],[1.0,\"#f0f921\"]],\"type\":\"histogram2dcontour\"}],\"mesh3d\":[{\"colorbar\":{\"outlinewidth\":0,\"ticks\":\"\"},\"type\":\"mesh3d\"}],\"parcoords\":[{\"line\":{\"colorbar\":{\"outlinewidth\":0,\"ticks\":\"\"}},\"type\":\"parcoords\"}],\"pie\":[{\"automargin\":true,\"type\":\"pie\"}],\"scatter\":[{\"marker\":{\"colorbar\":{\"outlinewidth\":0,\"ticks\":\"\"}},\"type\":\"scatter\"}],\"scatter3d\":[{\"line\":{\"colorbar\":{\"outlinewidth\":0,\"ticks\":\"\"}},\"marker\":{\"colorbar\":{\"outlinewidth\":0,\"ticks\":\"\"}},\"type\":\"scatter3d\"}],\"scattercarpet\":[{\"marker\":{\"colorbar\":{\"outlinewidth\":0,\"ticks\":\"\"}},\"type\":\"scattercarpet\"}],\"scattergeo\":[{\"marker\":{\"colorbar\":{\"outlinewidth\":0,\"ticks\":\"\"}},\"type\":\"scattergeo\"}],\"scattergl\":[{\"marker\":{\"colorbar\":{\"outlinewidth\":0,\"ticks\":\"\"}},\"type\":\"scattergl\"}],\"scattermapbox\":[{\"marker\":{\"colorbar\":{\"outlinewidth\":0,\"ticks\":\"\"}},\"type\":\"scattermapbox\"}],\"scatterpolar\":[{\"marker\":{\"colorbar\":{\"outlinewidth\":0,\"ticks\":\"\"}},\"type\":\"scatterpolar\"}],\"scatterpolargl\":[{\"marker\":{\"colorbar\":{\"outlinewidth\":0,\"ticks\":\"\"}},\"type\":\"scatterpolargl\"}],\"scatterternary\":[{\"marker\":{\"colorbar\":{\"outlinewidth\":0,\"ticks\":\"\"}},\"type\":\"scatterternary\"}],\"surface\":[{\"colorbar\":{\"outlinewidth\":0,\"ticks\":\"\"},\"colorscale\":[[0.0,\"#0d0887\"],[0.1111111111111111,\"#46039f\"],[0.2222222222222222,\"#7201a8\"],[0.3333333333333333,\"#9c179e\"],[0.4444444444444444,\"#bd3786\"],[0.5555555555555556,\"#d8576b\"],[0.6666666666666666,\"#ed7953\"],[0.7777777777777778,\"#fb9f3a\"],[0.8888888888888888,\"#fdca26\"],[1.0,\"#f0f921\"]],\"type\":\"surface\"}],\"table\":[{\"cells\":{\"fill\":{\"color\":\"#EBF0F8\"},\"line\":{\"color\":\"white\"}},\"header\":{\"fill\":{\"color\":\"#C8D4E3\"},\"line\":{\"color\":\"white\"}},\"type\":\"table\"}]},\"layout\":{\"annotationdefaults\":{\"arrowcolor\":\"#2a3f5f\",\"arrowhead\":0,\"arrowwidth\":1},\"autotypenumbers\":\"strict\",\"coloraxis\":{\"colorbar\":{\"outlinewidth\":0,\"ticks\":\"\"}},\"colorscale\":{\"diverging\":[[0,\"#8e0152\"],[0.1,\"#c51b7d\"],[0.2,\"#de77ae\"],[0.3,\"#f1b6da\"],[0.4,\"#fde0ef\"],[0.5,\"#f7f7f7\"],[0.6,\"#e6f5d0\"],[0.7,\"#b8e186\"],[0.8,\"#7fbc41\"],[0.9,\"#4d9221\"],[1,\"#276419\"]],\"sequential\":[[0.0,\"#0d0887\"],[0.1111111111111111,\"#46039f\"],[0.2222222222222222,\"#7201a8\"],[0.3333333333333333,\"#9c179e\"],[0.4444444444444444,\"#bd3786\"],[0.5555555555555556,\"#d8576b\"],[0.6666666666666666,\"#ed7953\"],[0.7777777777777778,\"#fb9f3a\"],[0.8888888888888888,\"#fdca26\"],[1.0,\"#f0f921\"]],\"sequentialminus\":[[0.0,\"#0d0887\"],[0.1111111111111111,\"#46039f\"],[0.2222222222222222,\"#7201a8\"],[0.3333333333333333,\"#9c179e\"],[0.4444444444444444,\"#bd3786\"],[0.5555555555555556,\"#d8576b\"],[0.6666666666666666,\"#ed7953\"],[0.7777777777777778,\"#fb9f3a\"],[0.8888888888888888,\"#fdca26\"],[1.0,\"#f0f921\"]]},\"colorway\":[\"#636efa\",\"#EF553B\",\"#00cc96\",\"#ab63fa\",\"#FFA15A\",\"#19d3f3\",\"#FF6692\",\"#B6E880\",\"#FF97FF\",\"#FECB52\"],\"font\":{\"color\":\"#2a3f5f\"},\"geo\":{\"bgcolor\":\"white\",\"lakecolor\":\"white\",\"landcolor\":\"#E5ECF6\",\"showlakes\":true,\"showland\":true,\"subunitcolor\":\"white\"},\"hoverlabel\":{\"align\":\"left\"},\"hovermode\":\"closest\",\"mapbox\":{\"style\":\"light\"},\"paper_bgcolor\":\"white\",\"plot_bgcolor\":\"#E5ECF6\",\"polar\":{\"angularaxis\":{\"gridcolor\":\"white\",\"linecolor\":\"white\",\"ticks\":\"\"},\"bgcolor\":\"#E5ECF6\",\"radialaxis\":{\"gridcolor\":\"white\",\"linecolor\":\"white\",\"ticks\":\"\"}},\"scene\":{\"xaxis\":{\"backgroundcolor\":\"#E5ECF6\",\"gridcolor\":\"white\",\"gridwidth\":2,\"linecolor\":\"white\",\"showbackground\":true,\"ticks\":\"\",\"zerolinecolor\":\"white\"},\"yaxis\":{\"backgroundcolor\":\"#E5ECF6\",\"gridcolor\":\"white\",\"gridwidth\":2,\"linecolor\":\"white\",\"showbackground\":true,\"ticks\":\"\",\"zerolinecolor\":\"white\"},\"zaxis\":{\"backgroundcolor\":\"#E5ECF6\",\"gridcolor\":\"white\",\"gridwidth\":2,\"linecolor\":\"white\",\"showbackground\":true,\"ticks\":\"\",\"zerolinecolor\":\"white\"}},\"shapedefaults\":{\"line\":{\"color\":\"#2a3f5f\"}},\"ternary\":{\"aaxis\":{\"gridcolor\":\"white\",\"linecolor\":\"white\",\"ticks\":\"\"},\"baxis\":{\"gridcolor\":\"white\",\"linecolor\":\"white\",\"ticks\":\"\"},\"bgcolor\":\"#E5ECF6\",\"caxis\":{\"gridcolor\":\"white\",\"linecolor\":\"white\",\"ticks\":\"\"}},\"title\":{\"x\":0.05},\"xaxis\":{\"automargin\":true,\"gridcolor\":\"white\",\"linecolor\":\"white\",\"ticks\":\"\",\"title\":{\"standoff\":15},\"zerolinecolor\":\"white\",\"zerolinewidth\":2},\"yaxis\":{\"automargin\":true,\"gridcolor\":\"white\",\"linecolor\":\"white\",\"ticks\":\"\",\"title\":{\"standoff\":15},\"zerolinecolor\":\"white\",\"zerolinewidth\":2}}},\"geo\":{\"domain\":{\"x\":[0.0,1.0],\"y\":[0.0,1.0]},\"center\":{},\"projection\":{\"type\":\"natural earth\"}},\"coloraxis\":{\"colorbar\":{\"title\":{\"text\":\"OBS_VALUE\"}},\"colorscale\":[[0.0,\"#0d0887\"],[0.1111111111111111,\"#46039f\"],[0.2222222222222222,\"#7201a8\"],[0.3333333333333333,\"#9c179e\"],[0.4444444444444444,\"#bd3786\"],[0.5555555555555556,\"#d8576b\"],[0.6666666666666666,\"#ed7953\"],[0.7777777777777778,\"#fb9f3a\"],[0.8888888888888888,\"#fdca26\"],[1.0,\"#f0f921\"]]},\"legend\":{\"tracegroupgap\":0},\"margin\":{\"t\":60},\"updatemenus\":[{\"buttons\":[{\"args\":[null,{\"frame\":{\"duration\":500,\"redraw\":true},\"mode\":\"immediate\",\"fromcurrent\":true,\"transition\":{\"duration\":500,\"easing\":\"linear\"}}],\"label\":\"&#9654;\",\"method\":\"animate\"},{\"args\":[[null],{\"frame\":{\"duration\":0,\"redraw\":true},\"mode\":\"immediate\",\"fromcurrent\":true,\"transition\":{\"duration\":0,\"easing\":\"linear\"}}],\"label\":\"&#9724;\",\"method\":\"animate\"}],\"direction\":\"left\",\"pad\":{\"r\":10,\"t\":70},\"showactive\":false,\"type\":\"buttons\",\"x\":0.1,\"xanchor\":\"right\",\"y\":0,\"yanchor\":\"top\"}],\"sliders\":[{\"active\":0,\"currentvalue\":{\"prefix\":\"TIME_PERIOD=\"},\"len\":0.9,\"pad\":{\"b\":10,\"t\":60},\"steps\":[{\"args\":[[\"2012\"],{\"frame\":{\"duration\":0,\"redraw\":true},\"mode\":\"immediate\",\"fromcurrent\":true,\"transition\":{\"duration\":0,\"easing\":\"linear\"}}],\"label\":\"2012\",\"method\":\"animate\"},{\"args\":[[\"2013\"],{\"frame\":{\"duration\":0,\"redraw\":true},\"mode\":\"immediate\",\"fromcurrent\":true,\"transition\":{\"duration\":0,\"easing\":\"linear\"}}],\"label\":\"2013\",\"method\":\"animate\"},{\"args\":[[\"2014\"],{\"frame\":{\"duration\":0,\"redraw\":true},\"mode\":\"immediate\",\"fromcurrent\":true,\"transition\":{\"duration\":0,\"easing\":\"linear\"}}],\"label\":\"2014\",\"method\":\"animate\"},{\"args\":[[\"2015\"],{\"frame\":{\"duration\":0,\"redraw\":true},\"mode\":\"immediate\",\"fromcurrent\":true,\"transition\":{\"duration\":0,\"easing\":\"linear\"}}],\"label\":\"2015\",\"method\":\"animate\"},{\"args\":[[\"2016\"],{\"frame\":{\"duration\":0,\"redraw\":true},\"mode\":\"immediate\",\"fromcurrent\":true,\"transition\":{\"duration\":0,\"easing\":\"linear\"}}],\"label\":\"2016\",\"method\":\"animate\"},{\"args\":[[\"2017\"],{\"frame\":{\"duration\":0,\"redraw\":true},\"mode\":\"immediate\",\"fromcurrent\":true,\"transition\":{\"duration\":0,\"easing\":\"linear\"}}],\"label\":\"2017\",\"method\":\"animate\"},{\"args\":[[\"2018\"],{\"frame\":{\"duration\":0,\"redraw\":true},\"mode\":\"immediate\",\"fromcurrent\":true,\"transition\":{\"duration\":0,\"easing\":\"linear\"}}],\"label\":\"2018\",\"method\":\"animate\"},{\"args\":[[\"2019\"],{\"frame\":{\"duration\":0,\"redraw\":true},\"mode\":\"immediate\",\"fromcurrent\":true,\"transition\":{\"duration\":0,\"easing\":\"linear\"}}],\"label\":\"2019\",\"method\":\"animate\"},{\"args\":[[\"2020\"],{\"frame\":{\"duration\":0,\"redraw\":true},\"mode\":\"immediate\",\"fromcurrent\":true,\"transition\":{\"duration\":0,\"easing\":\"linear\"}}],\"label\":\"2020\",\"method\":\"animate\"},{\"args\":[[\"2021\"],{\"frame\":{\"duration\":0,\"redraw\":true},\"mode\":\"immediate\",\"fromcurrent\":true,\"transition\":{\"duration\":0,\"easing\":\"linear\"}}],\"label\":\"2021\",\"method\":\"animate\"}],\"x\":0.1,\"xanchor\":\"left\",\"y\":0,\"yanchor\":\"top\"}],\"title\":{\"text\":\"Milk Production\"}},                        {\"responsive\": true}                    ).then(function(){\n",
       "                            Plotly.addFrames('1e7f72cb-cbfe-4a96-833e-70f25f95e9be', [{\"data\":[{\"coloraxis\":\"coloraxis\",\"geo\":\"geo\",\"hovertemplate\":\"<b>%{hovertext}</b><br><br>TIME_PERIOD=2012<br>code=%{location}<br>OBS_VALUE=%{z}<extra></extra>\",\"hovertext\":[\"IS\",\"CH\",\"SI\",\"CY\",\"SE\",\"CZ\",\"RS\",\"DE\",\"RO\",\"DK\",\"PT\",\"EL\",\"PL\",\"ES\",\"FI\",\"NL\",\"FR\",\"MT\",\"HR\",\"HU\",\"LV\",\"IE\",\"LU\",\"IT\",\"BG\",\"SK\",\"EE\",\"LT\",\"UK\",\"BA\",\"TR\",\"BE\",\"AT\"],\"locations\":[\"ISL\",\"CHE\",\"SVN\",\"CYP\",\"SWE\",\"CZE\",\"SRB\",\"DEU\",\"ROU\",\"DNK\",\"PRT\",null,\"POL\",\"ESP\",\"FIN\",\"NLD\",\"FRA\",\"MLT\",\"HRV\",\"HUN\",\"LVA\",\"IRL\",\"LUX\",\"ITA\",\"BGR\",\"SVK\",\"EST\",\"LTU\",null,\"BIH\",\"TUR\",\"BEL\",\"AUT\"],\"name\":\"\",\"z\":[0.0,3444.19,535.06,153.44,2861.17,2446.13,733.04,29701.78,883.71,4915.7,1854.69,663.73,9843.48,5996.82,2254.04,11675.6,24535.96,0.0,602.16,1398.24,718.38,5379.7,277.33,10003.8,497.48,851.25,649.1,1359.9,13590.6,216.35,7932.5,3412.02,2964.13],\"type\":\"choropleth\"}],\"name\":\"2012\"},{\"data\":[{\"coloraxis\":\"coloraxis\",\"geo\":\"geo\",\"hovertemplate\":\"<b>%{hovertext}</b><br><br>TIME_PERIOD=2013<br>code=%{location}<br>OBS_VALUE=%{z}<extra></extra>\",\"hovertext\":[\"BE\",\"IE\",\"BA\",\"SE\",\"EE\",\"LV\",\"PT\",\"CZ\",\"MT\",\"AT\",\"HR\",\"RS\",\"HU\",\"NO\",\"DE\",\"SK\",\"ME\",\"DK\",\"FR\",\"CY\",\"RO\",\"NL\",\"PL\",\"TR\",\"SI\",\"LT\",\"IS\",\"CH\",\"UK\",\"ES\",\"LU\",\"EL\",\"IT\",\"BG\",\"FI\"],\"locations\":[\"BEL\",\"IRL\",\"BIH\",\"SWE\",\"EST\",\"LVA\",\"PRT\",\"CZE\",\"MLT\",\"AUT\",\"HRV\",\"SRB\",\"HUN\",\"NOR\",\"DEU\",\"SVK\",\"MNE\",\"DNK\",\"FRA\",\"CYP\",\"ROU\",\"NLD\",\"POL\",\"TUR\",\"SVN\",\"LTU\",\"ISL\",\"CHE\",null,\"ESP\",\"LUX\",null,\"ITA\",\"BGR\",\"FIN\"],\"name\":\"\",\"z\":[3474.76,5583.69,215.38,2867.55,688.8,735.66,1776.63,2382.13,0.0,2933.25,503.85,767.62,1364.23,1574.0,30301.42,826.73,25.2,5025.4,23988.94,156.67,879.07,12212.6,9921.26,7938.4,516.97,1339.49,0.0,3383.17,13687.4,6299.55,286.91,652.0,10397.47,494.63,2286.81],\"type\":\"choropleth\"}],\"name\":\"2013\"},{\"data\":[{\"coloraxis\":\"coloraxis\",\"geo\":\"geo\",\"hovertemplate\":\"<b>%{hovertext}</b><br><br>TIME_PERIOD=2014<br>code=%{location}<br>OBS_VALUE=%{z}<extra></extra>\",\"hovertext\":[\"DK\",\"ES\",\"HR\",\"IT\",\"AT\",\"BE\",\"PT\",\"EL\",\"MT\",\"EE\",\"NL\",\"PL\",\"FI\",\"FR\",\"DE\",\"NO\",\"LU\",\"IS\",\"IE\",\"RO\",\"CY\",\"LT\",\"SE\",\"CH\",\"UK\",\"TR\",\"CZ\",\"BG\",\"HU\",\"RS\",\"BA\",\"ME\",\"SK\",\"LV\",\"SI\"],\"locations\":[\"DNK\",\"ESP\",\"HRV\",\"ITA\",\"AUT\",\"BEL\",\"PRT\",null,\"MLT\",\"EST\",\"NLD\",\"POL\",\"FIN\",\"FRA\",\"DEU\",\"NOR\",\"LUX\",\"ISL\",\"IRL\",\"ROU\",\"CYP\",\"LTU\",\"SWE\",\"CHE\",null,\"TUR\",\"CZE\",\"BGR\",\"HUN\",\"SRB\",\"BIH\",\"MNE\",\"SVK\",\"LVA\",\"SVN\"],\"name\":\"\",\"z\":[5112.6,6601.1,522.69,11024.11,3067.38,3689.44,1863.45,619.0,42.77,730.0,12473.0,10581.42,2357.15,25308.5,31375.28,1558.0,305.54,138.0,5816.23,995.38,163.64,1435.5,2931.25,3511.66,14828.8,8630.0,2414.15,509.67,1470.19,817.78,231.79,25.5,843.69,804.5,531.69],\"type\":\"choropleth\"}],\"name\":\"2014\"},{\"data\":[{\"coloraxis\":\"coloraxis\",\"geo\":\"geo\",\"hovertemplate\":\"<b>%{hovertext}</b><br><br>TIME_PERIOD=2015<br>code=%{location}<br>OBS_VALUE=%{z}<extra></extra>\",\"hovertext\":[\"IT\",\"NL\",\"LT\",\"IS\",\"HR\",\"LU\",\"IE\",\"UK\",\"FR\",\"MT\",\"LV\",\"HU\",\"ME\",\"FI\",\"AT\",\"BE\",\"ES\",\"DE\",\"CZ\",\"RO\",\"DK\",\"CY\",\"PT\",\"SE\",\"EE\",\"RS\",\"TR\",\"CH\",\"BA\",\"SI\",\"PL\",\"EL\",\"NO\",\"BG\",\"SK\"],\"locations\":[\"ITA\",\"NLD\",\"LTU\",\"ISL\",\"HRV\",\"LUX\",\"IRL\",null,\"FRA\",\"MLT\",\"LVA\",\"HUN\",\"MNE\",\"FIN\",\"AUT\",\"BEL\",\"ESP\",\"DEU\",\"CZE\",\"ROU\",\"DNK\",\"CYP\",\"PRT\",\"SWE\",\"EST\",\"SRB\",\"TUR\",\"CHE\",\"BIH\",\"SVN\",\"POL\",null,\"NOR\",\"BGR\",\"SVK\"],\"name\":\"\",\"z\":[10640.98,13330.9,1438.03,149.99,513.43,332.52,6585.13,15191.3,25374.92,41.57,807.66,1536.06,25.1,2394.32,3102.56,3988.11,6871.8,31879.11,2500.39,915.95,5277.6,162.31,1927.98,2933.16,720.4,861.97,8936.9,3457.44,240.11,553.68,10869.2,612.4,1570.0,505.4,864.63],\"type\":\"choropleth\"}],\"name\":\"2015\"},{\"data\":[{\"coloraxis\":\"coloraxis\",\"geo\":\"geo\",\"hovertemplate\":\"<b>%{hovertext}</b><br><br>TIME_PERIOD=2016<br>code=%{location}<br>OBS_VALUE=%{z}<extra></extra>\",\"hovertext\":[\"BE\",\"CZ\",\"HU\",\"LV\",\"SK\",\"BA\",\"CY\",\"UK\",\"BG\",\"LT\",\"SE\",\"SI\",\"LU\",\"CH\",\"RS\",\"IE\",\"EL\",\"PL\",\"FI\",\"MT\",\"ES\",\"EE\",\"FR\",\"AT\",\"PT\",\"IT\",\"NL\",\"DK\",\"HR\",\"ME\",\"RO\",\"DE\",\"NO\",\"TR\"],\"locations\":[\"BEL\",\"CZE\",\"HUN\",\"LVA\",\"SVK\",\"BIH\",\"CYP\",null,\"BGR\",\"LTU\",\"SWE\",\"SVN\",\"LUX\",\"CHE\",\"SRB\",\"IRL\",null,\"POL\",\"FIN\",\"MLT\",\"ESP\",\"EST\",\"FRA\",\"AUT\",\"PRT\",\"ITA\",\"NLD\",\"DNK\",\"HRV\",\"MNE\",\"ROU\",\"DEU\",\"NOR\",\"TUR\"],\"name\":\"\",\"z\":[3881.51,2793.2,1547.14,814.01,822.74,242.78,200.41,14542.0,530.09,1416.31,2861.99,574.71,361.99,3406.8,844.66,6851.63,619.0,11129.96,2389.53,43.13,6863.71,714.7,24453.33,3091.48,1842.76,10773.15,14324.2,5376.29,489.66,24.56,953.41,31972.73,1572.1,9213.5],\"type\":\"choropleth\"}],\"name\":\"2016\"},{\"data\":[{\"coloraxis\":\"coloraxis\",\"geo\":\"geo\",\"hovertemplate\":\"<b>%{hovertext}</b><br><br>TIME_PERIOD=2017<br>code=%{location}<br>OBS_VALUE=%{z}<extra></extra>\",\"hovertext\":[\"NL\",\"UK\",\"NO\",\"TR\",\"SI\",\"LV\",\"SK\",\"MT\",\"SE\",\"PL\",\"LU\",\"ME\",\"RS\",\"PT\",\"LT\",\"RO\",\"AL\",\"BG\",\"HR\",\"HU\",\"EE\",\"ES\",\"CY\",\"BE\",\"IE\",\"DK\",\"FR\",\"CZ\",\"BA\",\"CH\",\"FI\",\"DE\",\"IS\",\"EL\",\"IT\",\"AT\"],\"locations\":[\"NLD\",null,\"NOR\",\"TUR\",\"SVN\",\"LVA\",\"SVK\",\"MLT\",\"SWE\",\"POL\",\"LUX\",\"MNE\",\"SRB\",\"PRT\",\"LTU\",\"ROU\",\"ALB\",\"BGR\",\"HRV\",\"HUN\",\"EST\",\"ESP\",\"CYP\",\"BEL\",\"IRL\",\"DNK\",\"FRA\",\"CZE\",\"BIH\",\"CHE\",\"FIN\",\"DEU\",\"ISL\",null,\"ITA\",\"AUT\"],\"name\":\"\",\"z\":[14295.9,15144.7,1542.8,9111.5,578.85,813.46,825.89,41.02,2816.65,11647.09,374.34,25.96,862.07,1850.79,1403.06,1028.33,57.36,592.49,476.79,1545.46,726.8,7013.9,216.26,4025.41,7475.42,5494.18,24629.49,2979.34,256.19,3409.54,2365.92,31937.03,155.65,614.3,11902.24,3199.62],\"type\":\"choropleth\"}],\"name\":\"2017\"},{\"data\":[{\"coloraxis\":\"coloraxis\",\"geo\":\"geo\",\"hovertemplate\":\"<b>%{hovertext}</b><br><br>TIME_PERIOD=2018<br>code=%{location}<br>OBS_VALUE=%{z}<extra></extra>\",\"hovertext\":[\"SE\",\"HR\",\"EE\",\"ME\",\"MT\",\"FI\",\"CY\",\"ES\",\"RO\",\"DK\",\"FR\",\"PT\",\"CZ\",\"RS\",\"CH\",\"BG\",\"AL\",\"AT\",\"EL\",\"IS\",\"LT\",\"TR\",\"PL\",\"UK\",\"BA\",\"NL\",\"IE\",\"LU\",\"SK\",\"BE\",\"NO\",\"SI\",\"HU\",\"DE\",\"LV\",\"IT\"],\"locations\":[\"SWE\",\"HRV\",\"EST\",\"MNE\",\"MLT\",\"FIN\",\"CYP\",\"ESP\",\"ROU\",\"DNK\",\"FRA\",\"PRT\",\"CZE\",\"SRB\",\"CHE\",\"BGR\",\"ALB\",\"AUT\",null,\"ISL\",\"LTU\",\"TUR\",\"POL\",null,\"BIH\",\"NLD\",\"IRL\",\"LUX\",\"SVK\",\"BEL\",\"NOR\",\"SVN\",\"HUN\",\"DEU\",\"LVA\",\"ITA\"],\"name\":\"\",\"z\":[2760.23,453.47,748.1,28.31,40.41,2353.69,228.08,7120.8,1109.31,5615.21,24542.54,1894.21,3033.02,866.97,3426.97,648.8,64.39,3182.84,620.2,156.98,1366.59,10028.3,11945.62,15188.1,262.5,13880.8,7810.24,394.78,818.22,4178.89,1565.2,570.64,1535.3,32490.94,780.64,12070.75],\"type\":\"choropleth\"}],\"name\":\"2018\"},{\"data\":[{\"coloraxis\":\"coloraxis\",\"geo\":\"geo\",\"hovertemplate\":\"<b>%{hovertext}</b><br><br>TIME_PERIOD=2019<br>code=%{location}<br>OBS_VALUE=%{z}<extra></extra>\",\"hovertext\":[\"DK\",\"PT\",\"PL\",\"IT\",\"RO\",\"CZ\",\"RS\",\"CY\",\"CH\",\"SE\",\"BG\",\"SI\",\"BE\",\"SK\",\"BA\",\"AT\",\"TR\",\"AL\",\"DE\",\"EE\",\"UK\",\"HR\",\"ME\",\"FR\",\"MT\",\"LV\",\"HU\",\"FI\",\"LU\",\"IE\",\"NL\",\"ES\",\"EL\",\"NO\",\"IS\",\"MK\",\"LT\"],\"locations\":[\"DNK\",\"PRT\",\"POL\",\"ITA\",\"ROU\",\"CZE\",\"SRB\",\"CYP\",\"CHE\",\"SWE\",\"BGR\",\"SVN\",\"BEL\",\"SVK\",\"BIH\",\"AUT\",\"TUR\",\"ALB\",\"DEU\",\"EST\",null,\"HRV\",\"MNE\",\"FRA\",\"MLT\",\"LVA\",\"HUN\",\"FIN\",\"LUX\",\"IRL\",\"NLD\",\"ESP\",null,\"NOR\",\"ISL\",\"MKD\",\"LTU\"],\"name\":\"\",\"z\":[5614.69,1892.01,12174.96,11965.01,1122.33,3073.49,873.95,238.18,3372.09,2704.39,658.77,563.97,4288.22,814.73,260.76,3139.8,9559.9,56.82,32442.21,763.0,15428.2,435.59,27.96,24526.3,41.51,785.2,1575.72,2329.67,0.0,8226.62,13801.9,7265.21,631.1,1526.36,156.39,115.59,1358.09],\"type\":\"choropleth\"}],\"name\":\"2019\"},{\"data\":[{\"coloraxis\":\"coloraxis\",\"geo\":\"geo\",\"hovertemplate\":\"<b>%{hovertext}</b><br><br>TIME_PERIOD=2020<br>code=%{location}<br>OBS_VALUE=%{z}<extra></extra>\",\"hovertext\":[\"SK\",\"CH\",\"IT\",\"AL\",\"EE\",\"HR\",\"SE\",\"BG\",\"LT\",\"LV\",\"AT\",\"HU\",\"TR\",\"SI\",\"BE\",\"LU\",\"ME\",\"BA\",\"IS\",\"IE\",\"PL\",\"ES\",\"DE\",\"NL\",\"EL\",\"DK\",\"RO\",\"CZ\",\"FI\",\"PT\",\"RS\",\"NO\",\"FR\",\"CY\"],\"locations\":[\"SVK\",\"CHE\",\"ITA\",\"ALB\",\"EST\",\"HRV\",\"SWE\",\"BGR\",\"LTU\",\"LVA\",\"AUT\",\"HUN\",\"TUR\",\"SVN\",\"BEL\",\"LUX\",\"MNE\",\"BIH\",\"ISL\",\"IRL\",\"POL\",\"ESP\",\"DEU\",\"NLD\",null,\"DNK\",\"ROU\",\"CZE\",\"FIN\",\"PRT\",\"SRB\",\"NOR\",\"FRA\",\"CYP\"],\"name\":\"\",\"z\":[833.79,3378.9,11894.79,56.27,787.8,434.0,2772.74,694.18,1359.69,790.5,3137.16,1625.67,9840.97,580.11,4431.0,0.0,28.83,271.57,155.5,8542.27,12457.39,7427.61,32548.98,13986.6,652.18,5666.5,1134.9,3192.02,2362.11,1919.51,907.65,1545.06,24602.21,271.37],\"type\":\"choropleth\"}],\"name\":\"2020\"},{\"data\":[{\"coloraxis\":\"coloraxis\",\"geo\":\"geo\",\"hovertemplate\":\"<b>%{hovertext}</b><br><br>TIME_PERIOD=2021<br>code=%{location}<br>OBS_VALUE=%{z}<extra></extra>\",\"hovertext\":[\"PL\",\"IE\",\"LT\",\"AT\",\"NL\",\"EL\",\"NO\",\"IT\",\"DK\",\"SK\",\"AL\",\"IS\",\"TR\",\"RS\",\"DE\",\"FR\",\"CY\",\"FI\",\"SE\",\"LV\",\"BG\",\"RO\",\"PT\",\"HR\",\"CZ\",\"SI\",\"BE\",\"ES\",\"HU\",\"LU\",\"MK\",\"MT\",\"EE\"],\"locations\":[\"POL\",\"IRL\",\"LTU\",\"AUT\",\"NLD\",null,\"NOR\",\"ITA\",\"DNK\",\"SVK\",\"ALB\",\"ISL\",\"TUR\",\"SRB\",\"DEU\",\"FRA\",\"CYP\",\"FIN\",\"SWE\",\"LVA\",\"BGR\",\"ROU\",\"PRT\",\"HRV\",\"CZE\",\"SVN\",\"BEL\",\"ESP\",\"HUN\",\"LUX\",\"MKD\",\"MLT\",\"EST\"],\"name\":\"\",\"z\":[12515.42,9018.37,1348.85,3153.83,13603.4,659.92,1575.49,13042.03,5643.85,822.96,58.94,153.29,10069.7,891.8,31942.32,24198.75,298.11,2271.91,2782.22,812.65,679.06,1125.66,1909.09,428.94,3128.74,588.77,4380.84,7471.71,1739.26,0.0,132.52,39.54,799.2],\"type\":\"choropleth\"}],\"name\":\"2021\"}]);\n",
       "                        }).then(function(){\n",
       "                            \n",
       "var gd = document.getElementById('1e7f72cb-cbfe-4a96-833e-70f25f95e9be');\n",
       "var x = new MutationObserver(function (mutations, observer) {{\n",
       "        var display = window.getComputedStyle(gd).display;\n",
       "        if (!display || display === 'none') {{\n",
       "            console.log([gd, 'removed!']);\n",
       "            Plotly.purge(gd);\n",
       "            observer.disconnect();\n",
       "        }}\n",
       "}});\n",
       "\n",
       "// Listen for the removal of the full notebook cells\n",
       "var notebookContainer = gd.closest('#notebook-container');\n",
       "if (notebookContainer) {{\n",
       "    x.observe(notebookContainer, {childList: true});\n",
       "}}\n",
       "\n",
       "// Listen for the clearing of the current output cell\n",
       "var outputEl = gd.closest('.output');\n",
       "if (outputEl) {{\n",
       "    x.observe(outputEl, {childList: true});\n",
       "}}\n",
       "\n",
       "                        })                };                });            </script>        </div>"
      ]
     },
     "metadata": {},
     "output_type": "display_data"
    }
   ],
   "source": [
    "import plotly.express as px\n",
    "fig = px.choropleth(eudf.sort_values('TIME_PERIOD'), locations=\"code\",\n",
    "                    color=\"OBS_VALUE\", \n",
    "                    hover_name=\"geo\", \n",
    "                    # column to add to hover information\n",
    "                    animation_frame=\"TIME_PERIOD\", \n",
    "                    # column on which to animate\n",
    "                    color_continuous_scale=px.colors.sequential.Plasma)\n",
    "                    \n",
    "fig.update_layout(\n",
    "    # add a title text for the plot\n",
    "    title_text = 'Milk Production',\n",
    "    # set projection style for the plot\n",
    "    geo = dict(projection={'type':'natural earth'}) # by default, projection type is set to 'equirectangular'\n",
    ")\n",
    "fig.show()"
   ]
  },
  {
   "cell_type": "code",
   "execution_count": 246,
   "id": "07ae4864",
   "metadata": {},
   "outputs": [
    {
     "data": {
      "application/vnd.plotly.v1+json": {
       "config": {
        "plotlyServerURL": "https://plot.ly"
       },
       "data": [
        {
         "coloraxis": "coloraxis",
         "geo": "geo",
         "hovertemplate": "<b>%{hovertext}</b><br><br>TIME_PERIOD=2012<br>code=%{location}<br>OBS_VALUE=%{z}<extra></extra>",
         "hovertext": [
          "IS",
          "CH",
          "SI",
          "CY",
          "SE",
          "CZ",
          "RS",
          "DE",
          "RO",
          "DK",
          "PT",
          "EL",
          "PL",
          "ES",
          "FI",
          "NL",
          "FR",
          "MT",
          "HR",
          "HU",
          "LV",
          "IE",
          "LU",
          "IT",
          "BG",
          "SK",
          "EE",
          "LT",
          "UK",
          "BA",
          "TR",
          "BE",
          "AT"
         ],
         "locations": [
          "ISL",
          "CHE",
          "SVN",
          "CYP",
          "SWE",
          "CZE",
          "SRB",
          "DEU",
          "ROU",
          "DNK",
          "PRT",
          null,
          "POL",
          "ESP",
          "FIN",
          "NLD",
          "FRA",
          "MLT",
          "HRV",
          "HUN",
          "LVA",
          "IRL",
          "LUX",
          "ITA",
          "BGR",
          "SVK",
          "EST",
          "LTU",
          null,
          "BIH",
          "TUR",
          "BEL",
          "AUT"
         ],
         "name": "",
         "type": "choropleth",
         "z": [
          0,
          3444.19,
          535.06,
          153.44,
          2861.17,
          2446.13,
          733.04,
          29701.78,
          883.71,
          4915.7,
          1854.69,
          663.73,
          9843.48,
          5996.82,
          2254.04,
          11675.6,
          24535.96,
          0,
          602.16,
          1398.24,
          718.38,
          5379.7,
          277.33,
          10003.8,
          497.48,
          851.25,
          649.1,
          1359.9,
          13590.6,
          216.35,
          7932.5,
          3412.02,
          2964.13
         ]
        }
       ],
       "frames": [
        {
         "data": [
          {
           "coloraxis": "coloraxis",
           "geo": "geo",
           "hovertemplate": "<b>%{hovertext}</b><br><br>TIME_PERIOD=2012<br>code=%{location}<br>OBS_VALUE=%{z}<extra></extra>",
           "hovertext": [
            "IS",
            "CH",
            "SI",
            "CY",
            "SE",
            "CZ",
            "RS",
            "DE",
            "RO",
            "DK",
            "PT",
            "EL",
            "PL",
            "ES",
            "FI",
            "NL",
            "FR",
            "MT",
            "HR",
            "HU",
            "LV",
            "IE",
            "LU",
            "IT",
            "BG",
            "SK",
            "EE",
            "LT",
            "UK",
            "BA",
            "TR",
            "BE",
            "AT"
           ],
           "locations": [
            "ISL",
            "CHE",
            "SVN",
            "CYP",
            "SWE",
            "CZE",
            "SRB",
            "DEU",
            "ROU",
            "DNK",
            "PRT",
            null,
            "POL",
            "ESP",
            "FIN",
            "NLD",
            "FRA",
            "MLT",
            "HRV",
            "HUN",
            "LVA",
            "IRL",
            "LUX",
            "ITA",
            "BGR",
            "SVK",
            "EST",
            "LTU",
            null,
            "BIH",
            "TUR",
            "BEL",
            "AUT"
           ],
           "name": "",
           "type": "choropleth",
           "z": [
            0,
            3444.19,
            535.06,
            153.44,
            2861.17,
            2446.13,
            733.04,
            29701.78,
            883.71,
            4915.7,
            1854.69,
            663.73,
            9843.48,
            5996.82,
            2254.04,
            11675.6,
            24535.96,
            0,
            602.16,
            1398.24,
            718.38,
            5379.7,
            277.33,
            10003.8,
            497.48,
            851.25,
            649.1,
            1359.9,
            13590.6,
            216.35,
            7932.5,
            3412.02,
            2964.13
           ]
          }
         ],
         "name": "2012"
        },
        {
         "data": [
          {
           "coloraxis": "coloraxis",
           "geo": "geo",
           "hovertemplate": "<b>%{hovertext}</b><br><br>TIME_PERIOD=2013<br>code=%{location}<br>OBS_VALUE=%{z}<extra></extra>",
           "hovertext": [
            "BE",
            "IE",
            "BA",
            "SE",
            "EE",
            "LV",
            "PT",
            "CZ",
            "MT",
            "AT",
            "HR",
            "RS",
            "HU",
            "NO",
            "DE",
            "SK",
            "ME",
            "DK",
            "FR",
            "CY",
            "RO",
            "NL",
            "PL",
            "TR",
            "SI",
            "LT",
            "IS",
            "CH",
            "UK",
            "ES",
            "LU",
            "EL",
            "IT",
            "BG",
            "FI"
           ],
           "locations": [
            "BEL",
            "IRL",
            "BIH",
            "SWE",
            "EST",
            "LVA",
            "PRT",
            "CZE",
            "MLT",
            "AUT",
            "HRV",
            "SRB",
            "HUN",
            "NOR",
            "DEU",
            "SVK",
            "MNE",
            "DNK",
            "FRA",
            "CYP",
            "ROU",
            "NLD",
            "POL",
            "TUR",
            "SVN",
            "LTU",
            "ISL",
            "CHE",
            null,
            "ESP",
            "LUX",
            null,
            "ITA",
            "BGR",
            "FIN"
           ],
           "name": "",
           "type": "choropleth",
           "z": [
            3474.76,
            5583.69,
            215.38,
            2867.55,
            688.8,
            735.66,
            1776.63,
            2382.13,
            0,
            2933.25,
            503.85,
            767.62,
            1364.23,
            1574,
            30301.42,
            826.73,
            25.2,
            5025.4,
            23988.94,
            156.67,
            879.07,
            12212.6,
            9921.26,
            7938.4,
            516.97,
            1339.49,
            0,
            3383.17,
            13687.4,
            6299.55,
            286.91,
            652,
            10397.47,
            494.63,
            2286.81
           ]
          }
         ],
         "name": "2013"
        },
        {
         "data": [
          {
           "coloraxis": "coloraxis",
           "geo": "geo",
           "hovertemplate": "<b>%{hovertext}</b><br><br>TIME_PERIOD=2014<br>code=%{location}<br>OBS_VALUE=%{z}<extra></extra>",
           "hovertext": [
            "DK",
            "ES",
            "HR",
            "IT",
            "AT",
            "BE",
            "PT",
            "EL",
            "MT",
            "EE",
            "NL",
            "PL",
            "FI",
            "FR",
            "DE",
            "NO",
            "LU",
            "IS",
            "IE",
            "RO",
            "CY",
            "LT",
            "SE",
            "CH",
            "UK",
            "TR",
            "CZ",
            "BG",
            "HU",
            "RS",
            "BA",
            "ME",
            "SK",
            "LV",
            "SI"
           ],
           "locations": [
            "DNK",
            "ESP",
            "HRV",
            "ITA",
            "AUT",
            "BEL",
            "PRT",
            null,
            "MLT",
            "EST",
            "NLD",
            "POL",
            "FIN",
            "FRA",
            "DEU",
            "NOR",
            "LUX",
            "ISL",
            "IRL",
            "ROU",
            "CYP",
            "LTU",
            "SWE",
            "CHE",
            null,
            "TUR",
            "CZE",
            "BGR",
            "HUN",
            "SRB",
            "BIH",
            "MNE",
            "SVK",
            "LVA",
            "SVN"
           ],
           "name": "",
           "type": "choropleth",
           "z": [
            5112.6,
            6601.1,
            522.69,
            11024.11,
            3067.38,
            3689.44,
            1863.45,
            619,
            42.77,
            730,
            12473,
            10581.42,
            2357.15,
            25308.5,
            31375.28,
            1558,
            305.54,
            138,
            5816.23,
            995.38,
            163.64,
            1435.5,
            2931.25,
            3511.66,
            14828.8,
            8630,
            2414.15,
            509.67,
            1470.19,
            817.78,
            231.79,
            25.5,
            843.69,
            804.5,
            531.69
           ]
          }
         ],
         "name": "2014"
        },
        {
         "data": [
          {
           "coloraxis": "coloraxis",
           "geo": "geo",
           "hovertemplate": "<b>%{hovertext}</b><br><br>TIME_PERIOD=2015<br>code=%{location}<br>OBS_VALUE=%{z}<extra></extra>",
           "hovertext": [
            "IT",
            "NL",
            "LT",
            "IS",
            "HR",
            "LU",
            "IE",
            "UK",
            "FR",
            "MT",
            "LV",
            "HU",
            "ME",
            "FI",
            "AT",
            "BE",
            "ES",
            "DE",
            "CZ",
            "RO",
            "DK",
            "CY",
            "PT",
            "SE",
            "EE",
            "RS",
            "TR",
            "CH",
            "BA",
            "SI",
            "PL",
            "EL",
            "NO",
            "BG",
            "SK"
           ],
           "locations": [
            "ITA",
            "NLD",
            "LTU",
            "ISL",
            "HRV",
            "LUX",
            "IRL",
            null,
            "FRA",
            "MLT",
            "LVA",
            "HUN",
            "MNE",
            "FIN",
            "AUT",
            "BEL",
            "ESP",
            "DEU",
            "CZE",
            "ROU",
            "DNK",
            "CYP",
            "PRT",
            "SWE",
            "EST",
            "SRB",
            "TUR",
            "CHE",
            "BIH",
            "SVN",
            "POL",
            null,
            "NOR",
            "BGR",
            "SVK"
           ],
           "name": "",
           "type": "choropleth",
           "z": [
            10640.98,
            13330.9,
            1438.03,
            149.99,
            513.43,
            332.52,
            6585.13,
            15191.3,
            25374.92,
            41.57,
            807.66,
            1536.06,
            25.1,
            2394.32,
            3102.56,
            3988.11,
            6871.8,
            31879.11,
            2500.39,
            915.95,
            5277.6,
            162.31,
            1927.98,
            2933.16,
            720.4,
            861.97,
            8936.9,
            3457.44,
            240.11,
            553.68,
            10869.2,
            612.4,
            1570,
            505.4,
            864.63
           ]
          }
         ],
         "name": "2015"
        },
        {
         "data": [
          {
           "coloraxis": "coloraxis",
           "geo": "geo",
           "hovertemplate": "<b>%{hovertext}</b><br><br>TIME_PERIOD=2016<br>code=%{location}<br>OBS_VALUE=%{z}<extra></extra>",
           "hovertext": [
            "BE",
            "CZ",
            "HU",
            "LV",
            "SK",
            "BA",
            "CY",
            "UK",
            "BG",
            "LT",
            "SE",
            "SI",
            "LU",
            "CH",
            "RS",
            "IE",
            "EL",
            "PL",
            "FI",
            "MT",
            "ES",
            "EE",
            "FR",
            "AT",
            "PT",
            "IT",
            "NL",
            "DK",
            "HR",
            "ME",
            "RO",
            "DE",
            "NO",
            "TR"
           ],
           "locations": [
            "BEL",
            "CZE",
            "HUN",
            "LVA",
            "SVK",
            "BIH",
            "CYP",
            null,
            "BGR",
            "LTU",
            "SWE",
            "SVN",
            "LUX",
            "CHE",
            "SRB",
            "IRL",
            null,
            "POL",
            "FIN",
            "MLT",
            "ESP",
            "EST",
            "FRA",
            "AUT",
            "PRT",
            "ITA",
            "NLD",
            "DNK",
            "HRV",
            "MNE",
            "ROU",
            "DEU",
            "NOR",
            "TUR"
           ],
           "name": "",
           "type": "choropleth",
           "z": [
            3881.51,
            2793.2,
            1547.14,
            814.01,
            822.74,
            242.78,
            200.41,
            14542,
            530.09,
            1416.31,
            2861.99,
            574.71,
            361.99,
            3406.8,
            844.66,
            6851.63,
            619,
            11129.96,
            2389.53,
            43.13,
            6863.71,
            714.7,
            24453.33,
            3091.48,
            1842.76,
            10773.15,
            14324.2,
            5376.29,
            489.66,
            24.56,
            953.41,
            31972.73,
            1572.1,
            9213.5
           ]
          }
         ],
         "name": "2016"
        },
        {
         "data": [
          {
           "coloraxis": "coloraxis",
           "geo": "geo",
           "hovertemplate": "<b>%{hovertext}</b><br><br>TIME_PERIOD=2017<br>code=%{location}<br>OBS_VALUE=%{z}<extra></extra>",
           "hovertext": [
            "NL",
            "UK",
            "NO",
            "TR",
            "SI",
            "LV",
            "SK",
            "MT",
            "SE",
            "PL",
            "LU",
            "ME",
            "RS",
            "PT",
            "LT",
            "RO",
            "AL",
            "BG",
            "HR",
            "HU",
            "EE",
            "ES",
            "CY",
            "BE",
            "IE",
            "DK",
            "FR",
            "CZ",
            "BA",
            "CH",
            "FI",
            "DE",
            "IS",
            "EL",
            "IT",
            "AT"
           ],
           "locations": [
            "NLD",
            null,
            "NOR",
            "TUR",
            "SVN",
            "LVA",
            "SVK",
            "MLT",
            "SWE",
            "POL",
            "LUX",
            "MNE",
            "SRB",
            "PRT",
            "LTU",
            "ROU",
            "ALB",
            "BGR",
            "HRV",
            "HUN",
            "EST",
            "ESP",
            "CYP",
            "BEL",
            "IRL",
            "DNK",
            "FRA",
            "CZE",
            "BIH",
            "CHE",
            "FIN",
            "DEU",
            "ISL",
            null,
            "ITA",
            "AUT"
           ],
           "name": "",
           "type": "choropleth",
           "z": [
            14295.9,
            15144.7,
            1542.8,
            9111.5,
            578.85,
            813.46,
            825.89,
            41.02,
            2816.65,
            11647.09,
            374.34,
            25.96,
            862.07,
            1850.79,
            1403.06,
            1028.33,
            57.36,
            592.49,
            476.79,
            1545.46,
            726.8,
            7013.9,
            216.26,
            4025.41,
            7475.42,
            5494.18,
            24629.49,
            2979.34,
            256.19,
            3409.54,
            2365.92,
            31937.03,
            155.65,
            614.3,
            11902.24,
            3199.62
           ]
          }
         ],
         "name": "2017"
        },
        {
         "data": [
          {
           "coloraxis": "coloraxis",
           "geo": "geo",
           "hovertemplate": "<b>%{hovertext}</b><br><br>TIME_PERIOD=2018<br>code=%{location}<br>OBS_VALUE=%{z}<extra></extra>",
           "hovertext": [
            "SE",
            "HR",
            "EE",
            "ME",
            "MT",
            "FI",
            "CY",
            "ES",
            "RO",
            "DK",
            "FR",
            "PT",
            "CZ",
            "RS",
            "CH",
            "BG",
            "AL",
            "AT",
            "EL",
            "IS",
            "LT",
            "TR",
            "PL",
            "UK",
            "BA",
            "NL",
            "IE",
            "LU",
            "SK",
            "BE",
            "NO",
            "SI",
            "HU",
            "DE",
            "LV",
            "IT"
           ],
           "locations": [
            "SWE",
            "HRV",
            "EST",
            "MNE",
            "MLT",
            "FIN",
            "CYP",
            "ESP",
            "ROU",
            "DNK",
            "FRA",
            "PRT",
            "CZE",
            "SRB",
            "CHE",
            "BGR",
            "ALB",
            "AUT",
            null,
            "ISL",
            "LTU",
            "TUR",
            "POL",
            null,
            "BIH",
            "NLD",
            "IRL",
            "LUX",
            "SVK",
            "BEL",
            "NOR",
            "SVN",
            "HUN",
            "DEU",
            "LVA",
            "ITA"
           ],
           "name": "",
           "type": "choropleth",
           "z": [
            2760.23,
            453.47,
            748.1,
            28.31,
            40.41,
            2353.69,
            228.08,
            7120.8,
            1109.31,
            5615.21,
            24542.54,
            1894.21,
            3033.02,
            866.97,
            3426.97,
            648.8,
            64.39,
            3182.84,
            620.2,
            156.98,
            1366.59,
            10028.3,
            11945.62,
            15188.1,
            262.5,
            13880.8,
            7810.24,
            394.78,
            818.22,
            4178.89,
            1565.2,
            570.64,
            1535.3,
            32490.94,
            780.64,
            12070.75
           ]
          }
         ],
         "name": "2018"
        },
        {
         "data": [
          {
           "coloraxis": "coloraxis",
           "geo": "geo",
           "hovertemplate": "<b>%{hovertext}</b><br><br>TIME_PERIOD=2019<br>code=%{location}<br>OBS_VALUE=%{z}<extra></extra>",
           "hovertext": [
            "DK",
            "PT",
            "PL",
            "IT",
            "RO",
            "CZ",
            "RS",
            "CY",
            "CH",
            "SE",
            "BG",
            "SI",
            "BE",
            "SK",
            "BA",
            "AT",
            "TR",
            "AL",
            "DE",
            "EE",
            "UK",
            "HR",
            "ME",
            "FR",
            "MT",
            "LV",
            "HU",
            "FI",
            "LU",
            "IE",
            "NL",
            "ES",
            "EL",
            "NO",
            "IS",
            "MK",
            "LT"
           ],
           "locations": [
            "DNK",
            "PRT",
            "POL",
            "ITA",
            "ROU",
            "CZE",
            "SRB",
            "CYP",
            "CHE",
            "SWE",
            "BGR",
            "SVN",
            "BEL",
            "SVK",
            "BIH",
            "AUT",
            "TUR",
            "ALB",
            "DEU",
            "EST",
            null,
            "HRV",
            "MNE",
            "FRA",
            "MLT",
            "LVA",
            "HUN",
            "FIN",
            "LUX",
            "IRL",
            "NLD",
            "ESP",
            null,
            "NOR",
            "ISL",
            "MKD",
            "LTU"
           ],
           "name": "",
           "type": "choropleth",
           "z": [
            5614.69,
            1892.01,
            12174.96,
            11965.01,
            1122.33,
            3073.49,
            873.95,
            238.18,
            3372.09,
            2704.39,
            658.77,
            563.97,
            4288.22,
            814.73,
            260.76,
            3139.8,
            9559.9,
            56.82,
            32442.21,
            763,
            15428.2,
            435.59,
            27.96,
            24526.3,
            41.51,
            785.2,
            1575.72,
            2329.67,
            0,
            8226.62,
            13801.9,
            7265.21,
            631.1,
            1526.36,
            156.39,
            115.59,
            1358.09
           ]
          }
         ],
         "name": "2019"
        },
        {
         "data": [
          {
           "coloraxis": "coloraxis",
           "geo": "geo",
           "hovertemplate": "<b>%{hovertext}</b><br><br>TIME_PERIOD=2020<br>code=%{location}<br>OBS_VALUE=%{z}<extra></extra>",
           "hovertext": [
            "SK",
            "CH",
            "IT",
            "AL",
            "EE",
            "HR",
            "SE",
            "BG",
            "LT",
            "LV",
            "AT",
            "HU",
            "TR",
            "SI",
            "BE",
            "LU",
            "ME",
            "BA",
            "IS",
            "IE",
            "PL",
            "ES",
            "DE",
            "NL",
            "EL",
            "DK",
            "RO",
            "CZ",
            "FI",
            "PT",
            "RS",
            "NO",
            "FR",
            "CY"
           ],
           "locations": [
            "SVK",
            "CHE",
            "ITA",
            "ALB",
            "EST",
            "HRV",
            "SWE",
            "BGR",
            "LTU",
            "LVA",
            "AUT",
            "HUN",
            "TUR",
            "SVN",
            "BEL",
            "LUX",
            "MNE",
            "BIH",
            "ISL",
            "IRL",
            "POL",
            "ESP",
            "DEU",
            "NLD",
            null,
            "DNK",
            "ROU",
            "CZE",
            "FIN",
            "PRT",
            "SRB",
            "NOR",
            "FRA",
            "CYP"
           ],
           "name": "",
           "type": "choropleth",
           "z": [
            833.79,
            3378.9,
            11894.79,
            56.27,
            787.8,
            434,
            2772.74,
            694.18,
            1359.69,
            790.5,
            3137.16,
            1625.67,
            9840.97,
            580.11,
            4431,
            0,
            28.83,
            271.57,
            155.5,
            8542.27,
            12457.39,
            7427.61,
            32548.98,
            13986.6,
            652.18,
            5666.5,
            1134.9,
            3192.02,
            2362.11,
            1919.51,
            907.65,
            1545.06,
            24602.21,
            271.37
           ]
          }
         ],
         "name": "2020"
        },
        {
         "data": [
          {
           "coloraxis": "coloraxis",
           "geo": "geo",
           "hovertemplate": "<b>%{hovertext}</b><br><br>TIME_PERIOD=2021<br>code=%{location}<br>OBS_VALUE=%{z}<extra></extra>",
           "hovertext": [
            "PL",
            "IE",
            "LT",
            "AT",
            "NL",
            "EL",
            "NO",
            "IT",
            "DK",
            "SK",
            "AL",
            "IS",
            "TR",
            "RS",
            "DE",
            "FR",
            "CY",
            "FI",
            "SE",
            "LV",
            "BG",
            "RO",
            "PT",
            "HR",
            "CZ",
            "SI",
            "BE",
            "ES",
            "HU",
            "LU",
            "MK",
            "MT",
            "EE"
           ],
           "locations": [
            "POL",
            "IRL",
            "LTU",
            "AUT",
            "NLD",
            null,
            "NOR",
            "ITA",
            "DNK",
            "SVK",
            "ALB",
            "ISL",
            "TUR",
            "SRB",
            "DEU",
            "FRA",
            "CYP",
            "FIN",
            "SWE",
            "LVA",
            "BGR",
            "ROU",
            "PRT",
            "HRV",
            "CZE",
            "SVN",
            "BEL",
            "ESP",
            "HUN",
            "LUX",
            "MKD",
            "MLT",
            "EST"
           ],
           "name": "",
           "type": "choropleth",
           "z": [
            12515.42,
            9018.37,
            1348.85,
            3153.83,
            13603.4,
            659.92,
            1575.49,
            13042.03,
            5643.85,
            822.96,
            58.94,
            153.29,
            10069.7,
            891.8,
            31942.32,
            24198.75,
            298.11,
            2271.91,
            2782.22,
            812.65,
            679.06,
            1125.66,
            1909.09,
            428.94,
            3128.74,
            588.77,
            4380.84,
            7471.71,
            1739.26,
            0,
            132.52,
            39.54,
            799.2
           ]
          }
         ],
         "name": "2021"
        }
       ],
       "layout": {
        "coloraxis": {
         "colorbar": {
          "title": {
           "text": "OBS_VALUE"
          }
         },
         "colorscale": [
          [
           0,
           "#0d0887"
          ],
          [
           0.1111111111111111,
           "#46039f"
          ],
          [
           0.2222222222222222,
           "#7201a8"
          ],
          [
           0.3333333333333333,
           "#9c179e"
          ],
          [
           0.4444444444444444,
           "#bd3786"
          ],
          [
           0.5555555555555556,
           "#d8576b"
          ],
          [
           0.6666666666666666,
           "#ed7953"
          ],
          [
           0.7777777777777778,
           "#fb9f3a"
          ],
          [
           0.8888888888888888,
           "#fdca26"
          ],
          [
           1,
           "#f0f921"
          ]
         ]
        },
        "geo": {
         "center": {},
         "domain": {
          "x": [
           0,
           1
          ],
          "y": [
           0,
           1
          ]
         },
         "scope": "europe"
        },
        "legend": {
         "tracegroupgap": 0
        },
        "margin": {
         "t": 60
        },
        "sliders": [
         {
          "active": 0,
          "currentvalue": {
           "prefix": "TIME_PERIOD="
          },
          "len": 0.9,
          "pad": {
           "b": 10,
           "t": 60
          },
          "steps": [
           {
            "args": [
             [
              "2012"
             ],
             {
              "frame": {
               "duration": 0,
               "redraw": true
              },
              "fromcurrent": true,
              "mode": "immediate",
              "transition": {
               "duration": 0,
               "easing": "linear"
              }
             }
            ],
            "label": "2012",
            "method": "animate"
           },
           {
            "args": [
             [
              "2013"
             ],
             {
              "frame": {
               "duration": 0,
               "redraw": true
              },
              "fromcurrent": true,
              "mode": "immediate",
              "transition": {
               "duration": 0,
               "easing": "linear"
              }
             }
            ],
            "label": "2013",
            "method": "animate"
           },
           {
            "args": [
             [
              "2014"
             ],
             {
              "frame": {
               "duration": 0,
               "redraw": true
              },
              "fromcurrent": true,
              "mode": "immediate",
              "transition": {
               "duration": 0,
               "easing": "linear"
              }
             }
            ],
            "label": "2014",
            "method": "animate"
           },
           {
            "args": [
             [
              "2015"
             ],
             {
              "frame": {
               "duration": 0,
               "redraw": true
              },
              "fromcurrent": true,
              "mode": "immediate",
              "transition": {
               "duration": 0,
               "easing": "linear"
              }
             }
            ],
            "label": "2015",
            "method": "animate"
           },
           {
            "args": [
             [
              "2016"
             ],
             {
              "frame": {
               "duration": 0,
               "redraw": true
              },
              "fromcurrent": true,
              "mode": "immediate",
              "transition": {
               "duration": 0,
               "easing": "linear"
              }
             }
            ],
            "label": "2016",
            "method": "animate"
           },
           {
            "args": [
             [
              "2017"
             ],
             {
              "frame": {
               "duration": 0,
               "redraw": true
              },
              "fromcurrent": true,
              "mode": "immediate",
              "transition": {
               "duration": 0,
               "easing": "linear"
              }
             }
            ],
            "label": "2017",
            "method": "animate"
           },
           {
            "args": [
             [
              "2018"
             ],
             {
              "frame": {
               "duration": 0,
               "redraw": true
              },
              "fromcurrent": true,
              "mode": "immediate",
              "transition": {
               "duration": 0,
               "easing": "linear"
              }
             }
            ],
            "label": "2018",
            "method": "animate"
           },
           {
            "args": [
             [
              "2019"
             ],
             {
              "frame": {
               "duration": 0,
               "redraw": true
              },
              "fromcurrent": true,
              "mode": "immediate",
              "transition": {
               "duration": 0,
               "easing": "linear"
              }
             }
            ],
            "label": "2019",
            "method": "animate"
           },
           {
            "args": [
             [
              "2020"
             ],
             {
              "frame": {
               "duration": 0,
               "redraw": true
              },
              "fromcurrent": true,
              "mode": "immediate",
              "transition": {
               "duration": 0,
               "easing": "linear"
              }
             }
            ],
            "label": "2020",
            "method": "animate"
           },
           {
            "args": [
             [
              "2021"
             ],
             {
              "frame": {
               "duration": 0,
               "redraw": true
              },
              "fromcurrent": true,
              "mode": "immediate",
              "transition": {
               "duration": 0,
               "easing": "linear"
              }
             }
            ],
            "label": "2021",
            "method": "animate"
           }
          ],
          "x": 0.1,
          "xanchor": "left",
          "y": 0,
          "yanchor": "top"
         }
        ],
        "template": {
         "data": {
          "bar": [
           {
            "error_x": {
             "color": "#2a3f5f"
            },
            "error_y": {
             "color": "#2a3f5f"
            },
            "marker": {
             "line": {
              "color": "#E5ECF6",
              "width": 0.5
             },
             "pattern": {
              "fillmode": "overlay",
              "size": 10,
              "solidity": 0.2
             }
            },
            "type": "bar"
           }
          ],
          "barpolar": [
           {
            "marker": {
             "line": {
              "color": "#E5ECF6",
              "width": 0.5
             },
             "pattern": {
              "fillmode": "overlay",
              "size": 10,
              "solidity": 0.2
             }
            },
            "type": "barpolar"
           }
          ],
          "carpet": [
           {
            "aaxis": {
             "endlinecolor": "#2a3f5f",
             "gridcolor": "white",
             "linecolor": "white",
             "minorgridcolor": "white",
             "startlinecolor": "#2a3f5f"
            },
            "baxis": {
             "endlinecolor": "#2a3f5f",
             "gridcolor": "white",
             "linecolor": "white",
             "minorgridcolor": "white",
             "startlinecolor": "#2a3f5f"
            },
            "type": "carpet"
           }
          ],
          "choropleth": [
           {
            "colorbar": {
             "outlinewidth": 0,
             "ticks": ""
            },
            "type": "choropleth"
           }
          ],
          "contour": [
           {
            "colorbar": {
             "outlinewidth": 0,
             "ticks": ""
            },
            "colorscale": [
             [
              0,
              "#0d0887"
             ],
             [
              0.1111111111111111,
              "#46039f"
             ],
             [
              0.2222222222222222,
              "#7201a8"
             ],
             [
              0.3333333333333333,
              "#9c179e"
             ],
             [
              0.4444444444444444,
              "#bd3786"
             ],
             [
              0.5555555555555556,
              "#d8576b"
             ],
             [
              0.6666666666666666,
              "#ed7953"
             ],
             [
              0.7777777777777778,
              "#fb9f3a"
             ],
             [
              0.8888888888888888,
              "#fdca26"
             ],
             [
              1,
              "#f0f921"
             ]
            ],
            "type": "contour"
           }
          ],
          "contourcarpet": [
           {
            "colorbar": {
             "outlinewidth": 0,
             "ticks": ""
            },
            "type": "contourcarpet"
           }
          ],
          "heatmap": [
           {
            "colorbar": {
             "outlinewidth": 0,
             "ticks": ""
            },
            "colorscale": [
             [
              0,
              "#0d0887"
             ],
             [
              0.1111111111111111,
              "#46039f"
             ],
             [
              0.2222222222222222,
              "#7201a8"
             ],
             [
              0.3333333333333333,
              "#9c179e"
             ],
             [
              0.4444444444444444,
              "#bd3786"
             ],
             [
              0.5555555555555556,
              "#d8576b"
             ],
             [
              0.6666666666666666,
              "#ed7953"
             ],
             [
              0.7777777777777778,
              "#fb9f3a"
             ],
             [
              0.8888888888888888,
              "#fdca26"
             ],
             [
              1,
              "#f0f921"
             ]
            ],
            "type": "heatmap"
           }
          ],
          "heatmapgl": [
           {
            "colorbar": {
             "outlinewidth": 0,
             "ticks": ""
            },
            "colorscale": [
             [
              0,
              "#0d0887"
             ],
             [
              0.1111111111111111,
              "#46039f"
             ],
             [
              0.2222222222222222,
              "#7201a8"
             ],
             [
              0.3333333333333333,
              "#9c179e"
             ],
             [
              0.4444444444444444,
              "#bd3786"
             ],
             [
              0.5555555555555556,
              "#d8576b"
             ],
             [
              0.6666666666666666,
              "#ed7953"
             ],
             [
              0.7777777777777778,
              "#fb9f3a"
             ],
             [
              0.8888888888888888,
              "#fdca26"
             ],
             [
              1,
              "#f0f921"
             ]
            ],
            "type": "heatmapgl"
           }
          ],
          "histogram": [
           {
            "marker": {
             "pattern": {
              "fillmode": "overlay",
              "size": 10,
              "solidity": 0.2
             }
            },
            "type": "histogram"
           }
          ],
          "histogram2d": [
           {
            "colorbar": {
             "outlinewidth": 0,
             "ticks": ""
            },
            "colorscale": [
             [
              0,
              "#0d0887"
             ],
             [
              0.1111111111111111,
              "#46039f"
             ],
             [
              0.2222222222222222,
              "#7201a8"
             ],
             [
              0.3333333333333333,
              "#9c179e"
             ],
             [
              0.4444444444444444,
              "#bd3786"
             ],
             [
              0.5555555555555556,
              "#d8576b"
             ],
             [
              0.6666666666666666,
              "#ed7953"
             ],
             [
              0.7777777777777778,
              "#fb9f3a"
             ],
             [
              0.8888888888888888,
              "#fdca26"
             ],
             [
              1,
              "#f0f921"
             ]
            ],
            "type": "histogram2d"
           }
          ],
          "histogram2dcontour": [
           {
            "colorbar": {
             "outlinewidth": 0,
             "ticks": ""
            },
            "colorscale": [
             [
              0,
              "#0d0887"
             ],
             [
              0.1111111111111111,
              "#46039f"
             ],
             [
              0.2222222222222222,
              "#7201a8"
             ],
             [
              0.3333333333333333,
              "#9c179e"
             ],
             [
              0.4444444444444444,
              "#bd3786"
             ],
             [
              0.5555555555555556,
              "#d8576b"
             ],
             [
              0.6666666666666666,
              "#ed7953"
             ],
             [
              0.7777777777777778,
              "#fb9f3a"
             ],
             [
              0.8888888888888888,
              "#fdca26"
             ],
             [
              1,
              "#f0f921"
             ]
            ],
            "type": "histogram2dcontour"
           }
          ],
          "mesh3d": [
           {
            "colorbar": {
             "outlinewidth": 0,
             "ticks": ""
            },
            "type": "mesh3d"
           }
          ],
          "parcoords": [
           {
            "line": {
             "colorbar": {
              "outlinewidth": 0,
              "ticks": ""
             }
            },
            "type": "parcoords"
           }
          ],
          "pie": [
           {
            "automargin": true,
            "type": "pie"
           }
          ],
          "scatter": [
           {
            "marker": {
             "colorbar": {
              "outlinewidth": 0,
              "ticks": ""
             }
            },
            "type": "scatter"
           }
          ],
          "scatter3d": [
           {
            "line": {
             "colorbar": {
              "outlinewidth": 0,
              "ticks": ""
             }
            },
            "marker": {
             "colorbar": {
              "outlinewidth": 0,
              "ticks": ""
             }
            },
            "type": "scatter3d"
           }
          ],
          "scattercarpet": [
           {
            "marker": {
             "colorbar": {
              "outlinewidth": 0,
              "ticks": ""
             }
            },
            "type": "scattercarpet"
           }
          ],
          "scattergeo": [
           {
            "marker": {
             "colorbar": {
              "outlinewidth": 0,
              "ticks": ""
             }
            },
            "type": "scattergeo"
           }
          ],
          "scattergl": [
           {
            "marker": {
             "colorbar": {
              "outlinewidth": 0,
              "ticks": ""
             }
            },
            "type": "scattergl"
           }
          ],
          "scattermapbox": [
           {
            "marker": {
             "colorbar": {
              "outlinewidth": 0,
              "ticks": ""
             }
            },
            "type": "scattermapbox"
           }
          ],
          "scatterpolar": [
           {
            "marker": {
             "colorbar": {
              "outlinewidth": 0,
              "ticks": ""
             }
            },
            "type": "scatterpolar"
           }
          ],
          "scatterpolargl": [
           {
            "marker": {
             "colorbar": {
              "outlinewidth": 0,
              "ticks": ""
             }
            },
            "type": "scatterpolargl"
           }
          ],
          "scatterternary": [
           {
            "marker": {
             "colorbar": {
              "outlinewidth": 0,
              "ticks": ""
             }
            },
            "type": "scatterternary"
           }
          ],
          "surface": [
           {
            "colorbar": {
             "outlinewidth": 0,
             "ticks": ""
            },
            "colorscale": [
             [
              0,
              "#0d0887"
             ],
             [
              0.1111111111111111,
              "#46039f"
             ],
             [
              0.2222222222222222,
              "#7201a8"
             ],
             [
              0.3333333333333333,
              "#9c179e"
             ],
             [
              0.4444444444444444,
              "#bd3786"
             ],
             [
              0.5555555555555556,
              "#d8576b"
             ],
             [
              0.6666666666666666,
              "#ed7953"
             ],
             [
              0.7777777777777778,
              "#fb9f3a"
             ],
             [
              0.8888888888888888,
              "#fdca26"
             ],
             [
              1,
              "#f0f921"
             ]
            ],
            "type": "surface"
           }
          ],
          "table": [
           {
            "cells": {
             "fill": {
              "color": "#EBF0F8"
             },
             "line": {
              "color": "white"
             }
            },
            "header": {
             "fill": {
              "color": "#C8D4E3"
             },
             "line": {
              "color": "white"
             }
            },
            "type": "table"
           }
          ]
         },
         "layout": {
          "annotationdefaults": {
           "arrowcolor": "#2a3f5f",
           "arrowhead": 0,
           "arrowwidth": 1
          },
          "autotypenumbers": "strict",
          "coloraxis": {
           "colorbar": {
            "outlinewidth": 0,
            "ticks": ""
           }
          },
          "colorscale": {
           "diverging": [
            [
             0,
             "#8e0152"
            ],
            [
             0.1,
             "#c51b7d"
            ],
            [
             0.2,
             "#de77ae"
            ],
            [
             0.3,
             "#f1b6da"
            ],
            [
             0.4,
             "#fde0ef"
            ],
            [
             0.5,
             "#f7f7f7"
            ],
            [
             0.6,
             "#e6f5d0"
            ],
            [
             0.7,
             "#b8e186"
            ],
            [
             0.8,
             "#7fbc41"
            ],
            [
             0.9,
             "#4d9221"
            ],
            [
             1,
             "#276419"
            ]
           ],
           "sequential": [
            [
             0,
             "#0d0887"
            ],
            [
             0.1111111111111111,
             "#46039f"
            ],
            [
             0.2222222222222222,
             "#7201a8"
            ],
            [
             0.3333333333333333,
             "#9c179e"
            ],
            [
             0.4444444444444444,
             "#bd3786"
            ],
            [
             0.5555555555555556,
             "#d8576b"
            ],
            [
             0.6666666666666666,
             "#ed7953"
            ],
            [
             0.7777777777777778,
             "#fb9f3a"
            ],
            [
             0.8888888888888888,
             "#fdca26"
            ],
            [
             1,
             "#f0f921"
            ]
           ],
           "sequentialminus": [
            [
             0,
             "#0d0887"
            ],
            [
             0.1111111111111111,
             "#46039f"
            ],
            [
             0.2222222222222222,
             "#7201a8"
            ],
            [
             0.3333333333333333,
             "#9c179e"
            ],
            [
             0.4444444444444444,
             "#bd3786"
            ],
            [
             0.5555555555555556,
             "#d8576b"
            ],
            [
             0.6666666666666666,
             "#ed7953"
            ],
            [
             0.7777777777777778,
             "#fb9f3a"
            ],
            [
             0.8888888888888888,
             "#fdca26"
            ],
            [
             1,
             "#f0f921"
            ]
           ]
          },
          "colorway": [
           "#636efa",
           "#EF553B",
           "#00cc96",
           "#ab63fa",
           "#FFA15A",
           "#19d3f3",
           "#FF6692",
           "#B6E880",
           "#FF97FF",
           "#FECB52"
          ],
          "font": {
           "color": "#2a3f5f"
          },
          "geo": {
           "bgcolor": "white",
           "lakecolor": "white",
           "landcolor": "#E5ECF6",
           "showlakes": true,
           "showland": true,
           "subunitcolor": "white"
          },
          "hoverlabel": {
           "align": "left"
          },
          "hovermode": "closest",
          "mapbox": {
           "style": "light"
          },
          "paper_bgcolor": "white",
          "plot_bgcolor": "#E5ECF6",
          "polar": {
           "angularaxis": {
            "gridcolor": "white",
            "linecolor": "white",
            "ticks": ""
           },
           "bgcolor": "#E5ECF6",
           "radialaxis": {
            "gridcolor": "white",
            "linecolor": "white",
            "ticks": ""
           }
          },
          "scene": {
           "xaxis": {
            "backgroundcolor": "#E5ECF6",
            "gridcolor": "white",
            "gridwidth": 2,
            "linecolor": "white",
            "showbackground": true,
            "ticks": "",
            "zerolinecolor": "white"
           },
           "yaxis": {
            "backgroundcolor": "#E5ECF6",
            "gridcolor": "white",
            "gridwidth": 2,
            "linecolor": "white",
            "showbackground": true,
            "ticks": "",
            "zerolinecolor": "white"
           },
           "zaxis": {
            "backgroundcolor": "#E5ECF6",
            "gridcolor": "white",
            "gridwidth": 2,
            "linecolor": "white",
            "showbackground": true,
            "ticks": "",
            "zerolinecolor": "white"
           }
          },
          "shapedefaults": {
           "line": {
            "color": "#2a3f5f"
           }
          },
          "ternary": {
           "aaxis": {
            "gridcolor": "white",
            "linecolor": "white",
            "ticks": ""
           },
           "baxis": {
            "gridcolor": "white",
            "linecolor": "white",
            "ticks": ""
           },
           "bgcolor": "#E5ECF6",
           "caxis": {
            "gridcolor": "white",
            "linecolor": "white",
            "ticks": ""
           }
          },
          "title": {
           "x": 0.05
          },
          "xaxis": {
           "automargin": true,
           "gridcolor": "white",
           "linecolor": "white",
           "ticks": "",
           "title": {
            "standoff": 15
           },
           "zerolinecolor": "white",
           "zerolinewidth": 2
          },
          "yaxis": {
           "automargin": true,
           "gridcolor": "white",
           "linecolor": "white",
           "ticks": "",
           "title": {
            "standoff": 15
           },
           "zerolinecolor": "white",
           "zerolinewidth": 2
          }
         }
        },
        "title": {
         "text": "EU Milk Production"
        },
        "updatemenus": [
         {
          "buttons": [
           {
            "args": [
             null,
             {
              "frame": {
               "duration": 500,
               "redraw": true
              },
              "fromcurrent": true,
              "mode": "immediate",
              "transition": {
               "duration": 500,
               "easing": "linear"
              }
             }
            ],
            "label": "&#9654;",
            "method": "animate"
           },
           {
            "args": [
             [
              null
             ],
             {
              "frame": {
               "duration": 0,
               "redraw": true
              },
              "fromcurrent": true,
              "mode": "immediate",
              "transition": {
               "duration": 0,
               "easing": "linear"
              }
             }
            ],
            "label": "&#9724;",
            "method": "animate"
           }
          ],
          "direction": "left",
          "pad": {
           "r": 10,
           "t": 70
          },
          "showactive": false,
          "type": "buttons",
          "x": 0.1,
          "xanchor": "right",
          "y": 0,
          "yanchor": "top"
         }
        ]
       }
      },
      "text/html": [
       "<div>                            <div id=\"3002204b-0614-48f2-aac8-46242d884958\" class=\"plotly-graph-div\" style=\"height:525px; width:100%;\"></div>            <script type=\"text/javascript\">                require([\"plotly\"], function(Plotly) {                    window.PLOTLYENV=window.PLOTLYENV || {};                                    if (document.getElementById(\"3002204b-0614-48f2-aac8-46242d884958\")) {                    Plotly.newPlot(                        \"3002204b-0614-48f2-aac8-46242d884958\",                        [{\"coloraxis\":\"coloraxis\",\"geo\":\"geo\",\"hovertemplate\":\"<b>%{hovertext}</b><br><br>TIME_PERIOD=2012<br>code=%{location}<br>OBS_VALUE=%{z}<extra></extra>\",\"hovertext\":[\"IS\",\"CH\",\"SI\",\"CY\",\"SE\",\"CZ\",\"RS\",\"DE\",\"RO\",\"DK\",\"PT\",\"EL\",\"PL\",\"ES\",\"FI\",\"NL\",\"FR\",\"MT\",\"HR\",\"HU\",\"LV\",\"IE\",\"LU\",\"IT\",\"BG\",\"SK\",\"EE\",\"LT\",\"UK\",\"BA\",\"TR\",\"BE\",\"AT\"],\"locations\":[\"ISL\",\"CHE\",\"SVN\",\"CYP\",\"SWE\",\"CZE\",\"SRB\",\"DEU\",\"ROU\",\"DNK\",\"PRT\",null,\"POL\",\"ESP\",\"FIN\",\"NLD\",\"FRA\",\"MLT\",\"HRV\",\"HUN\",\"LVA\",\"IRL\",\"LUX\",\"ITA\",\"BGR\",\"SVK\",\"EST\",\"LTU\",null,\"BIH\",\"TUR\",\"BEL\",\"AUT\"],\"name\":\"\",\"z\":[0.0,3444.19,535.06,153.44,2861.17,2446.13,733.04,29701.78,883.71,4915.7,1854.69,663.73,9843.48,5996.82,2254.04,11675.6,24535.96,0.0,602.16,1398.24,718.38,5379.7,277.33,10003.8,497.48,851.25,649.1,1359.9,13590.6,216.35,7932.5,3412.02,2964.13],\"type\":\"choropleth\"}],                        {\"template\":{\"data\":{\"bar\":[{\"error_x\":{\"color\":\"#2a3f5f\"},\"error_y\":{\"color\":\"#2a3f5f\"},\"marker\":{\"line\":{\"color\":\"#E5ECF6\",\"width\":0.5},\"pattern\":{\"fillmode\":\"overlay\",\"size\":10,\"solidity\":0.2}},\"type\":\"bar\"}],\"barpolar\":[{\"marker\":{\"line\":{\"color\":\"#E5ECF6\",\"width\":0.5},\"pattern\":{\"fillmode\":\"overlay\",\"size\":10,\"solidity\":0.2}},\"type\":\"barpolar\"}],\"carpet\":[{\"aaxis\":{\"endlinecolor\":\"#2a3f5f\",\"gridcolor\":\"white\",\"linecolor\":\"white\",\"minorgridcolor\":\"white\",\"startlinecolor\":\"#2a3f5f\"},\"baxis\":{\"endlinecolor\":\"#2a3f5f\",\"gridcolor\":\"white\",\"linecolor\":\"white\",\"minorgridcolor\":\"white\",\"startlinecolor\":\"#2a3f5f\"},\"type\":\"carpet\"}],\"choropleth\":[{\"colorbar\":{\"outlinewidth\":0,\"ticks\":\"\"},\"type\":\"choropleth\"}],\"contour\":[{\"colorbar\":{\"outlinewidth\":0,\"ticks\":\"\"},\"colorscale\":[[0.0,\"#0d0887\"],[0.1111111111111111,\"#46039f\"],[0.2222222222222222,\"#7201a8\"],[0.3333333333333333,\"#9c179e\"],[0.4444444444444444,\"#bd3786\"],[0.5555555555555556,\"#d8576b\"],[0.6666666666666666,\"#ed7953\"],[0.7777777777777778,\"#fb9f3a\"],[0.8888888888888888,\"#fdca26\"],[1.0,\"#f0f921\"]],\"type\":\"contour\"}],\"contourcarpet\":[{\"colorbar\":{\"outlinewidth\":0,\"ticks\":\"\"},\"type\":\"contourcarpet\"}],\"heatmap\":[{\"colorbar\":{\"outlinewidth\":0,\"ticks\":\"\"},\"colorscale\":[[0.0,\"#0d0887\"],[0.1111111111111111,\"#46039f\"],[0.2222222222222222,\"#7201a8\"],[0.3333333333333333,\"#9c179e\"],[0.4444444444444444,\"#bd3786\"],[0.5555555555555556,\"#d8576b\"],[0.6666666666666666,\"#ed7953\"],[0.7777777777777778,\"#fb9f3a\"],[0.8888888888888888,\"#fdca26\"],[1.0,\"#f0f921\"]],\"type\":\"heatmap\"}],\"heatmapgl\":[{\"colorbar\":{\"outlinewidth\":0,\"ticks\":\"\"},\"colorscale\":[[0.0,\"#0d0887\"],[0.1111111111111111,\"#46039f\"],[0.2222222222222222,\"#7201a8\"],[0.3333333333333333,\"#9c179e\"],[0.4444444444444444,\"#bd3786\"],[0.5555555555555556,\"#d8576b\"],[0.6666666666666666,\"#ed7953\"],[0.7777777777777778,\"#fb9f3a\"],[0.8888888888888888,\"#fdca26\"],[1.0,\"#f0f921\"]],\"type\":\"heatmapgl\"}],\"histogram\":[{\"marker\":{\"pattern\":{\"fillmode\":\"overlay\",\"size\":10,\"solidity\":0.2}},\"type\":\"histogram\"}],\"histogram2d\":[{\"colorbar\":{\"outlinewidth\":0,\"ticks\":\"\"},\"colorscale\":[[0.0,\"#0d0887\"],[0.1111111111111111,\"#46039f\"],[0.2222222222222222,\"#7201a8\"],[0.3333333333333333,\"#9c179e\"],[0.4444444444444444,\"#bd3786\"],[0.5555555555555556,\"#d8576b\"],[0.6666666666666666,\"#ed7953\"],[0.7777777777777778,\"#fb9f3a\"],[0.8888888888888888,\"#fdca26\"],[1.0,\"#f0f921\"]],\"type\":\"histogram2d\"}],\"histogram2dcontour\":[{\"colorbar\":{\"outlinewidth\":0,\"ticks\":\"\"},\"colorscale\":[[0.0,\"#0d0887\"],[0.1111111111111111,\"#46039f\"],[0.2222222222222222,\"#7201a8\"],[0.3333333333333333,\"#9c179e\"],[0.4444444444444444,\"#bd3786\"],[0.5555555555555556,\"#d8576b\"],[0.6666666666666666,\"#ed7953\"],[0.7777777777777778,\"#fb9f3a\"],[0.8888888888888888,\"#fdca26\"],[1.0,\"#f0f921\"]],\"type\":\"histogram2dcontour\"}],\"mesh3d\":[{\"colorbar\":{\"outlinewidth\":0,\"ticks\":\"\"},\"type\":\"mesh3d\"}],\"parcoords\":[{\"line\":{\"colorbar\":{\"outlinewidth\":0,\"ticks\":\"\"}},\"type\":\"parcoords\"}],\"pie\":[{\"automargin\":true,\"type\":\"pie\"}],\"scatter\":[{\"marker\":{\"colorbar\":{\"outlinewidth\":0,\"ticks\":\"\"}},\"type\":\"scatter\"}],\"scatter3d\":[{\"line\":{\"colorbar\":{\"outlinewidth\":0,\"ticks\":\"\"}},\"marker\":{\"colorbar\":{\"outlinewidth\":0,\"ticks\":\"\"}},\"type\":\"scatter3d\"}],\"scattercarpet\":[{\"marker\":{\"colorbar\":{\"outlinewidth\":0,\"ticks\":\"\"}},\"type\":\"scattercarpet\"}],\"scattergeo\":[{\"marker\":{\"colorbar\":{\"outlinewidth\":0,\"ticks\":\"\"}},\"type\":\"scattergeo\"}],\"scattergl\":[{\"marker\":{\"colorbar\":{\"outlinewidth\":0,\"ticks\":\"\"}},\"type\":\"scattergl\"}],\"scattermapbox\":[{\"marker\":{\"colorbar\":{\"outlinewidth\":0,\"ticks\":\"\"}},\"type\":\"scattermapbox\"}],\"scatterpolar\":[{\"marker\":{\"colorbar\":{\"outlinewidth\":0,\"ticks\":\"\"}},\"type\":\"scatterpolar\"}],\"scatterpolargl\":[{\"marker\":{\"colorbar\":{\"outlinewidth\":0,\"ticks\":\"\"}},\"type\":\"scatterpolargl\"}],\"scatterternary\":[{\"marker\":{\"colorbar\":{\"outlinewidth\":0,\"ticks\":\"\"}},\"type\":\"scatterternary\"}],\"surface\":[{\"colorbar\":{\"outlinewidth\":0,\"ticks\":\"\"},\"colorscale\":[[0.0,\"#0d0887\"],[0.1111111111111111,\"#46039f\"],[0.2222222222222222,\"#7201a8\"],[0.3333333333333333,\"#9c179e\"],[0.4444444444444444,\"#bd3786\"],[0.5555555555555556,\"#d8576b\"],[0.6666666666666666,\"#ed7953\"],[0.7777777777777778,\"#fb9f3a\"],[0.8888888888888888,\"#fdca26\"],[1.0,\"#f0f921\"]],\"type\":\"surface\"}],\"table\":[{\"cells\":{\"fill\":{\"color\":\"#EBF0F8\"},\"line\":{\"color\":\"white\"}},\"header\":{\"fill\":{\"color\":\"#C8D4E3\"},\"line\":{\"color\":\"white\"}},\"type\":\"table\"}]},\"layout\":{\"annotationdefaults\":{\"arrowcolor\":\"#2a3f5f\",\"arrowhead\":0,\"arrowwidth\":1},\"autotypenumbers\":\"strict\",\"coloraxis\":{\"colorbar\":{\"outlinewidth\":0,\"ticks\":\"\"}},\"colorscale\":{\"diverging\":[[0,\"#8e0152\"],[0.1,\"#c51b7d\"],[0.2,\"#de77ae\"],[0.3,\"#f1b6da\"],[0.4,\"#fde0ef\"],[0.5,\"#f7f7f7\"],[0.6,\"#e6f5d0\"],[0.7,\"#b8e186\"],[0.8,\"#7fbc41\"],[0.9,\"#4d9221\"],[1,\"#276419\"]],\"sequential\":[[0.0,\"#0d0887\"],[0.1111111111111111,\"#46039f\"],[0.2222222222222222,\"#7201a8\"],[0.3333333333333333,\"#9c179e\"],[0.4444444444444444,\"#bd3786\"],[0.5555555555555556,\"#d8576b\"],[0.6666666666666666,\"#ed7953\"],[0.7777777777777778,\"#fb9f3a\"],[0.8888888888888888,\"#fdca26\"],[1.0,\"#f0f921\"]],\"sequentialminus\":[[0.0,\"#0d0887\"],[0.1111111111111111,\"#46039f\"],[0.2222222222222222,\"#7201a8\"],[0.3333333333333333,\"#9c179e\"],[0.4444444444444444,\"#bd3786\"],[0.5555555555555556,\"#d8576b\"],[0.6666666666666666,\"#ed7953\"],[0.7777777777777778,\"#fb9f3a\"],[0.8888888888888888,\"#fdca26\"],[1.0,\"#f0f921\"]]},\"colorway\":[\"#636efa\",\"#EF553B\",\"#00cc96\",\"#ab63fa\",\"#FFA15A\",\"#19d3f3\",\"#FF6692\",\"#B6E880\",\"#FF97FF\",\"#FECB52\"],\"font\":{\"color\":\"#2a3f5f\"},\"geo\":{\"bgcolor\":\"white\",\"lakecolor\":\"white\",\"landcolor\":\"#E5ECF6\",\"showlakes\":true,\"showland\":true,\"subunitcolor\":\"white\"},\"hoverlabel\":{\"align\":\"left\"},\"hovermode\":\"closest\",\"mapbox\":{\"style\":\"light\"},\"paper_bgcolor\":\"white\",\"plot_bgcolor\":\"#E5ECF6\",\"polar\":{\"angularaxis\":{\"gridcolor\":\"white\",\"linecolor\":\"white\",\"ticks\":\"\"},\"bgcolor\":\"#E5ECF6\",\"radialaxis\":{\"gridcolor\":\"white\",\"linecolor\":\"white\",\"ticks\":\"\"}},\"scene\":{\"xaxis\":{\"backgroundcolor\":\"#E5ECF6\",\"gridcolor\":\"white\",\"gridwidth\":2,\"linecolor\":\"white\",\"showbackground\":true,\"ticks\":\"\",\"zerolinecolor\":\"white\"},\"yaxis\":{\"backgroundcolor\":\"#E5ECF6\",\"gridcolor\":\"white\",\"gridwidth\":2,\"linecolor\":\"white\",\"showbackground\":true,\"ticks\":\"\",\"zerolinecolor\":\"white\"},\"zaxis\":{\"backgroundcolor\":\"#E5ECF6\",\"gridcolor\":\"white\",\"gridwidth\":2,\"linecolor\":\"white\",\"showbackground\":true,\"ticks\":\"\",\"zerolinecolor\":\"white\"}},\"shapedefaults\":{\"line\":{\"color\":\"#2a3f5f\"}},\"ternary\":{\"aaxis\":{\"gridcolor\":\"white\",\"linecolor\":\"white\",\"ticks\":\"\"},\"baxis\":{\"gridcolor\":\"white\",\"linecolor\":\"white\",\"ticks\":\"\"},\"bgcolor\":\"#E5ECF6\",\"caxis\":{\"gridcolor\":\"white\",\"linecolor\":\"white\",\"ticks\":\"\"}},\"title\":{\"x\":0.05},\"xaxis\":{\"automargin\":true,\"gridcolor\":\"white\",\"linecolor\":\"white\",\"ticks\":\"\",\"title\":{\"standoff\":15},\"zerolinecolor\":\"white\",\"zerolinewidth\":2},\"yaxis\":{\"automargin\":true,\"gridcolor\":\"white\",\"linecolor\":\"white\",\"ticks\":\"\",\"title\":{\"standoff\":15},\"zerolinecolor\":\"white\",\"zerolinewidth\":2}}},\"geo\":{\"domain\":{\"x\":[0.0,1.0],\"y\":[0.0,1.0]},\"center\":{},\"scope\":\"europe\"},\"coloraxis\":{\"colorbar\":{\"title\":{\"text\":\"OBS_VALUE\"}},\"colorscale\":[[0.0,\"#0d0887\"],[0.1111111111111111,\"#46039f\"],[0.2222222222222222,\"#7201a8\"],[0.3333333333333333,\"#9c179e\"],[0.4444444444444444,\"#bd3786\"],[0.5555555555555556,\"#d8576b\"],[0.6666666666666666,\"#ed7953\"],[0.7777777777777778,\"#fb9f3a\"],[0.8888888888888888,\"#fdca26\"],[1.0,\"#f0f921\"]]},\"legend\":{\"tracegroupgap\":0},\"margin\":{\"t\":60},\"updatemenus\":[{\"buttons\":[{\"args\":[null,{\"frame\":{\"duration\":500,\"redraw\":true},\"mode\":\"immediate\",\"fromcurrent\":true,\"transition\":{\"duration\":500,\"easing\":\"linear\"}}],\"label\":\"&#9654;\",\"method\":\"animate\"},{\"args\":[[null],{\"frame\":{\"duration\":0,\"redraw\":true},\"mode\":\"immediate\",\"fromcurrent\":true,\"transition\":{\"duration\":0,\"easing\":\"linear\"}}],\"label\":\"&#9724;\",\"method\":\"animate\"}],\"direction\":\"left\",\"pad\":{\"r\":10,\"t\":70},\"showactive\":false,\"type\":\"buttons\",\"x\":0.1,\"xanchor\":\"right\",\"y\":0,\"yanchor\":\"top\"}],\"sliders\":[{\"active\":0,\"currentvalue\":{\"prefix\":\"TIME_PERIOD=\"},\"len\":0.9,\"pad\":{\"b\":10,\"t\":60},\"steps\":[{\"args\":[[\"2012\"],{\"frame\":{\"duration\":0,\"redraw\":true},\"mode\":\"immediate\",\"fromcurrent\":true,\"transition\":{\"duration\":0,\"easing\":\"linear\"}}],\"label\":\"2012\",\"method\":\"animate\"},{\"args\":[[\"2013\"],{\"frame\":{\"duration\":0,\"redraw\":true},\"mode\":\"immediate\",\"fromcurrent\":true,\"transition\":{\"duration\":0,\"easing\":\"linear\"}}],\"label\":\"2013\",\"method\":\"animate\"},{\"args\":[[\"2014\"],{\"frame\":{\"duration\":0,\"redraw\":true},\"mode\":\"immediate\",\"fromcurrent\":true,\"transition\":{\"duration\":0,\"easing\":\"linear\"}}],\"label\":\"2014\",\"method\":\"animate\"},{\"args\":[[\"2015\"],{\"frame\":{\"duration\":0,\"redraw\":true},\"mode\":\"immediate\",\"fromcurrent\":true,\"transition\":{\"duration\":0,\"easing\":\"linear\"}}],\"label\":\"2015\",\"method\":\"animate\"},{\"args\":[[\"2016\"],{\"frame\":{\"duration\":0,\"redraw\":true},\"mode\":\"immediate\",\"fromcurrent\":true,\"transition\":{\"duration\":0,\"easing\":\"linear\"}}],\"label\":\"2016\",\"method\":\"animate\"},{\"args\":[[\"2017\"],{\"frame\":{\"duration\":0,\"redraw\":true},\"mode\":\"immediate\",\"fromcurrent\":true,\"transition\":{\"duration\":0,\"easing\":\"linear\"}}],\"label\":\"2017\",\"method\":\"animate\"},{\"args\":[[\"2018\"],{\"frame\":{\"duration\":0,\"redraw\":true},\"mode\":\"immediate\",\"fromcurrent\":true,\"transition\":{\"duration\":0,\"easing\":\"linear\"}}],\"label\":\"2018\",\"method\":\"animate\"},{\"args\":[[\"2019\"],{\"frame\":{\"duration\":0,\"redraw\":true},\"mode\":\"immediate\",\"fromcurrent\":true,\"transition\":{\"duration\":0,\"easing\":\"linear\"}}],\"label\":\"2019\",\"method\":\"animate\"},{\"args\":[[\"2020\"],{\"frame\":{\"duration\":0,\"redraw\":true},\"mode\":\"immediate\",\"fromcurrent\":true,\"transition\":{\"duration\":0,\"easing\":\"linear\"}}],\"label\":\"2020\",\"method\":\"animate\"},{\"args\":[[\"2021\"],{\"frame\":{\"duration\":0,\"redraw\":true},\"mode\":\"immediate\",\"fromcurrent\":true,\"transition\":{\"duration\":0,\"easing\":\"linear\"}}],\"label\":\"2021\",\"method\":\"animate\"}],\"x\":0.1,\"xanchor\":\"left\",\"y\":0,\"yanchor\":\"top\"}],\"title\":{\"text\":\"EU Milk Production\"}},                        {\"responsive\": true}                    ).then(function(){\n",
       "                            Plotly.addFrames('3002204b-0614-48f2-aac8-46242d884958', [{\"data\":[{\"coloraxis\":\"coloraxis\",\"geo\":\"geo\",\"hovertemplate\":\"<b>%{hovertext}</b><br><br>TIME_PERIOD=2012<br>code=%{location}<br>OBS_VALUE=%{z}<extra></extra>\",\"hovertext\":[\"IS\",\"CH\",\"SI\",\"CY\",\"SE\",\"CZ\",\"RS\",\"DE\",\"RO\",\"DK\",\"PT\",\"EL\",\"PL\",\"ES\",\"FI\",\"NL\",\"FR\",\"MT\",\"HR\",\"HU\",\"LV\",\"IE\",\"LU\",\"IT\",\"BG\",\"SK\",\"EE\",\"LT\",\"UK\",\"BA\",\"TR\",\"BE\",\"AT\"],\"locations\":[\"ISL\",\"CHE\",\"SVN\",\"CYP\",\"SWE\",\"CZE\",\"SRB\",\"DEU\",\"ROU\",\"DNK\",\"PRT\",null,\"POL\",\"ESP\",\"FIN\",\"NLD\",\"FRA\",\"MLT\",\"HRV\",\"HUN\",\"LVA\",\"IRL\",\"LUX\",\"ITA\",\"BGR\",\"SVK\",\"EST\",\"LTU\",null,\"BIH\",\"TUR\",\"BEL\",\"AUT\"],\"name\":\"\",\"z\":[0.0,3444.19,535.06,153.44,2861.17,2446.13,733.04,29701.78,883.71,4915.7,1854.69,663.73,9843.48,5996.82,2254.04,11675.6,24535.96,0.0,602.16,1398.24,718.38,5379.7,277.33,10003.8,497.48,851.25,649.1,1359.9,13590.6,216.35,7932.5,3412.02,2964.13],\"type\":\"choropleth\"}],\"name\":\"2012\"},{\"data\":[{\"coloraxis\":\"coloraxis\",\"geo\":\"geo\",\"hovertemplate\":\"<b>%{hovertext}</b><br><br>TIME_PERIOD=2013<br>code=%{location}<br>OBS_VALUE=%{z}<extra></extra>\",\"hovertext\":[\"BE\",\"IE\",\"BA\",\"SE\",\"EE\",\"LV\",\"PT\",\"CZ\",\"MT\",\"AT\",\"HR\",\"RS\",\"HU\",\"NO\",\"DE\",\"SK\",\"ME\",\"DK\",\"FR\",\"CY\",\"RO\",\"NL\",\"PL\",\"TR\",\"SI\",\"LT\",\"IS\",\"CH\",\"UK\",\"ES\",\"LU\",\"EL\",\"IT\",\"BG\",\"FI\"],\"locations\":[\"BEL\",\"IRL\",\"BIH\",\"SWE\",\"EST\",\"LVA\",\"PRT\",\"CZE\",\"MLT\",\"AUT\",\"HRV\",\"SRB\",\"HUN\",\"NOR\",\"DEU\",\"SVK\",\"MNE\",\"DNK\",\"FRA\",\"CYP\",\"ROU\",\"NLD\",\"POL\",\"TUR\",\"SVN\",\"LTU\",\"ISL\",\"CHE\",null,\"ESP\",\"LUX\",null,\"ITA\",\"BGR\",\"FIN\"],\"name\":\"\",\"z\":[3474.76,5583.69,215.38,2867.55,688.8,735.66,1776.63,2382.13,0.0,2933.25,503.85,767.62,1364.23,1574.0,30301.42,826.73,25.2,5025.4,23988.94,156.67,879.07,12212.6,9921.26,7938.4,516.97,1339.49,0.0,3383.17,13687.4,6299.55,286.91,652.0,10397.47,494.63,2286.81],\"type\":\"choropleth\"}],\"name\":\"2013\"},{\"data\":[{\"coloraxis\":\"coloraxis\",\"geo\":\"geo\",\"hovertemplate\":\"<b>%{hovertext}</b><br><br>TIME_PERIOD=2014<br>code=%{location}<br>OBS_VALUE=%{z}<extra></extra>\",\"hovertext\":[\"DK\",\"ES\",\"HR\",\"IT\",\"AT\",\"BE\",\"PT\",\"EL\",\"MT\",\"EE\",\"NL\",\"PL\",\"FI\",\"FR\",\"DE\",\"NO\",\"LU\",\"IS\",\"IE\",\"RO\",\"CY\",\"LT\",\"SE\",\"CH\",\"UK\",\"TR\",\"CZ\",\"BG\",\"HU\",\"RS\",\"BA\",\"ME\",\"SK\",\"LV\",\"SI\"],\"locations\":[\"DNK\",\"ESP\",\"HRV\",\"ITA\",\"AUT\",\"BEL\",\"PRT\",null,\"MLT\",\"EST\",\"NLD\",\"POL\",\"FIN\",\"FRA\",\"DEU\",\"NOR\",\"LUX\",\"ISL\",\"IRL\",\"ROU\",\"CYP\",\"LTU\",\"SWE\",\"CHE\",null,\"TUR\",\"CZE\",\"BGR\",\"HUN\",\"SRB\",\"BIH\",\"MNE\",\"SVK\",\"LVA\",\"SVN\"],\"name\":\"\",\"z\":[5112.6,6601.1,522.69,11024.11,3067.38,3689.44,1863.45,619.0,42.77,730.0,12473.0,10581.42,2357.15,25308.5,31375.28,1558.0,305.54,138.0,5816.23,995.38,163.64,1435.5,2931.25,3511.66,14828.8,8630.0,2414.15,509.67,1470.19,817.78,231.79,25.5,843.69,804.5,531.69],\"type\":\"choropleth\"}],\"name\":\"2014\"},{\"data\":[{\"coloraxis\":\"coloraxis\",\"geo\":\"geo\",\"hovertemplate\":\"<b>%{hovertext}</b><br><br>TIME_PERIOD=2015<br>code=%{location}<br>OBS_VALUE=%{z}<extra></extra>\",\"hovertext\":[\"IT\",\"NL\",\"LT\",\"IS\",\"HR\",\"LU\",\"IE\",\"UK\",\"FR\",\"MT\",\"LV\",\"HU\",\"ME\",\"FI\",\"AT\",\"BE\",\"ES\",\"DE\",\"CZ\",\"RO\",\"DK\",\"CY\",\"PT\",\"SE\",\"EE\",\"RS\",\"TR\",\"CH\",\"BA\",\"SI\",\"PL\",\"EL\",\"NO\",\"BG\",\"SK\"],\"locations\":[\"ITA\",\"NLD\",\"LTU\",\"ISL\",\"HRV\",\"LUX\",\"IRL\",null,\"FRA\",\"MLT\",\"LVA\",\"HUN\",\"MNE\",\"FIN\",\"AUT\",\"BEL\",\"ESP\",\"DEU\",\"CZE\",\"ROU\",\"DNK\",\"CYP\",\"PRT\",\"SWE\",\"EST\",\"SRB\",\"TUR\",\"CHE\",\"BIH\",\"SVN\",\"POL\",null,\"NOR\",\"BGR\",\"SVK\"],\"name\":\"\",\"z\":[10640.98,13330.9,1438.03,149.99,513.43,332.52,6585.13,15191.3,25374.92,41.57,807.66,1536.06,25.1,2394.32,3102.56,3988.11,6871.8,31879.11,2500.39,915.95,5277.6,162.31,1927.98,2933.16,720.4,861.97,8936.9,3457.44,240.11,553.68,10869.2,612.4,1570.0,505.4,864.63],\"type\":\"choropleth\"}],\"name\":\"2015\"},{\"data\":[{\"coloraxis\":\"coloraxis\",\"geo\":\"geo\",\"hovertemplate\":\"<b>%{hovertext}</b><br><br>TIME_PERIOD=2016<br>code=%{location}<br>OBS_VALUE=%{z}<extra></extra>\",\"hovertext\":[\"BE\",\"CZ\",\"HU\",\"LV\",\"SK\",\"BA\",\"CY\",\"UK\",\"BG\",\"LT\",\"SE\",\"SI\",\"LU\",\"CH\",\"RS\",\"IE\",\"EL\",\"PL\",\"FI\",\"MT\",\"ES\",\"EE\",\"FR\",\"AT\",\"PT\",\"IT\",\"NL\",\"DK\",\"HR\",\"ME\",\"RO\",\"DE\",\"NO\",\"TR\"],\"locations\":[\"BEL\",\"CZE\",\"HUN\",\"LVA\",\"SVK\",\"BIH\",\"CYP\",null,\"BGR\",\"LTU\",\"SWE\",\"SVN\",\"LUX\",\"CHE\",\"SRB\",\"IRL\",null,\"POL\",\"FIN\",\"MLT\",\"ESP\",\"EST\",\"FRA\",\"AUT\",\"PRT\",\"ITA\",\"NLD\",\"DNK\",\"HRV\",\"MNE\",\"ROU\",\"DEU\",\"NOR\",\"TUR\"],\"name\":\"\",\"z\":[3881.51,2793.2,1547.14,814.01,822.74,242.78,200.41,14542.0,530.09,1416.31,2861.99,574.71,361.99,3406.8,844.66,6851.63,619.0,11129.96,2389.53,43.13,6863.71,714.7,24453.33,3091.48,1842.76,10773.15,14324.2,5376.29,489.66,24.56,953.41,31972.73,1572.1,9213.5],\"type\":\"choropleth\"}],\"name\":\"2016\"},{\"data\":[{\"coloraxis\":\"coloraxis\",\"geo\":\"geo\",\"hovertemplate\":\"<b>%{hovertext}</b><br><br>TIME_PERIOD=2017<br>code=%{location}<br>OBS_VALUE=%{z}<extra></extra>\",\"hovertext\":[\"NL\",\"UK\",\"NO\",\"TR\",\"SI\",\"LV\",\"SK\",\"MT\",\"SE\",\"PL\",\"LU\",\"ME\",\"RS\",\"PT\",\"LT\",\"RO\",\"AL\",\"BG\",\"HR\",\"HU\",\"EE\",\"ES\",\"CY\",\"BE\",\"IE\",\"DK\",\"FR\",\"CZ\",\"BA\",\"CH\",\"FI\",\"DE\",\"IS\",\"EL\",\"IT\",\"AT\"],\"locations\":[\"NLD\",null,\"NOR\",\"TUR\",\"SVN\",\"LVA\",\"SVK\",\"MLT\",\"SWE\",\"POL\",\"LUX\",\"MNE\",\"SRB\",\"PRT\",\"LTU\",\"ROU\",\"ALB\",\"BGR\",\"HRV\",\"HUN\",\"EST\",\"ESP\",\"CYP\",\"BEL\",\"IRL\",\"DNK\",\"FRA\",\"CZE\",\"BIH\",\"CHE\",\"FIN\",\"DEU\",\"ISL\",null,\"ITA\",\"AUT\"],\"name\":\"\",\"z\":[14295.9,15144.7,1542.8,9111.5,578.85,813.46,825.89,41.02,2816.65,11647.09,374.34,25.96,862.07,1850.79,1403.06,1028.33,57.36,592.49,476.79,1545.46,726.8,7013.9,216.26,4025.41,7475.42,5494.18,24629.49,2979.34,256.19,3409.54,2365.92,31937.03,155.65,614.3,11902.24,3199.62],\"type\":\"choropleth\"}],\"name\":\"2017\"},{\"data\":[{\"coloraxis\":\"coloraxis\",\"geo\":\"geo\",\"hovertemplate\":\"<b>%{hovertext}</b><br><br>TIME_PERIOD=2018<br>code=%{location}<br>OBS_VALUE=%{z}<extra></extra>\",\"hovertext\":[\"SE\",\"HR\",\"EE\",\"ME\",\"MT\",\"FI\",\"CY\",\"ES\",\"RO\",\"DK\",\"FR\",\"PT\",\"CZ\",\"RS\",\"CH\",\"BG\",\"AL\",\"AT\",\"EL\",\"IS\",\"LT\",\"TR\",\"PL\",\"UK\",\"BA\",\"NL\",\"IE\",\"LU\",\"SK\",\"BE\",\"NO\",\"SI\",\"HU\",\"DE\",\"LV\",\"IT\"],\"locations\":[\"SWE\",\"HRV\",\"EST\",\"MNE\",\"MLT\",\"FIN\",\"CYP\",\"ESP\",\"ROU\",\"DNK\",\"FRA\",\"PRT\",\"CZE\",\"SRB\",\"CHE\",\"BGR\",\"ALB\",\"AUT\",null,\"ISL\",\"LTU\",\"TUR\",\"POL\",null,\"BIH\",\"NLD\",\"IRL\",\"LUX\",\"SVK\",\"BEL\",\"NOR\",\"SVN\",\"HUN\",\"DEU\",\"LVA\",\"ITA\"],\"name\":\"\",\"z\":[2760.23,453.47,748.1,28.31,40.41,2353.69,228.08,7120.8,1109.31,5615.21,24542.54,1894.21,3033.02,866.97,3426.97,648.8,64.39,3182.84,620.2,156.98,1366.59,10028.3,11945.62,15188.1,262.5,13880.8,7810.24,394.78,818.22,4178.89,1565.2,570.64,1535.3,32490.94,780.64,12070.75],\"type\":\"choropleth\"}],\"name\":\"2018\"},{\"data\":[{\"coloraxis\":\"coloraxis\",\"geo\":\"geo\",\"hovertemplate\":\"<b>%{hovertext}</b><br><br>TIME_PERIOD=2019<br>code=%{location}<br>OBS_VALUE=%{z}<extra></extra>\",\"hovertext\":[\"DK\",\"PT\",\"PL\",\"IT\",\"RO\",\"CZ\",\"RS\",\"CY\",\"CH\",\"SE\",\"BG\",\"SI\",\"BE\",\"SK\",\"BA\",\"AT\",\"TR\",\"AL\",\"DE\",\"EE\",\"UK\",\"HR\",\"ME\",\"FR\",\"MT\",\"LV\",\"HU\",\"FI\",\"LU\",\"IE\",\"NL\",\"ES\",\"EL\",\"NO\",\"IS\",\"MK\",\"LT\"],\"locations\":[\"DNK\",\"PRT\",\"POL\",\"ITA\",\"ROU\",\"CZE\",\"SRB\",\"CYP\",\"CHE\",\"SWE\",\"BGR\",\"SVN\",\"BEL\",\"SVK\",\"BIH\",\"AUT\",\"TUR\",\"ALB\",\"DEU\",\"EST\",null,\"HRV\",\"MNE\",\"FRA\",\"MLT\",\"LVA\",\"HUN\",\"FIN\",\"LUX\",\"IRL\",\"NLD\",\"ESP\",null,\"NOR\",\"ISL\",\"MKD\",\"LTU\"],\"name\":\"\",\"z\":[5614.69,1892.01,12174.96,11965.01,1122.33,3073.49,873.95,238.18,3372.09,2704.39,658.77,563.97,4288.22,814.73,260.76,3139.8,9559.9,56.82,32442.21,763.0,15428.2,435.59,27.96,24526.3,41.51,785.2,1575.72,2329.67,0.0,8226.62,13801.9,7265.21,631.1,1526.36,156.39,115.59,1358.09],\"type\":\"choropleth\"}],\"name\":\"2019\"},{\"data\":[{\"coloraxis\":\"coloraxis\",\"geo\":\"geo\",\"hovertemplate\":\"<b>%{hovertext}</b><br><br>TIME_PERIOD=2020<br>code=%{location}<br>OBS_VALUE=%{z}<extra></extra>\",\"hovertext\":[\"SK\",\"CH\",\"IT\",\"AL\",\"EE\",\"HR\",\"SE\",\"BG\",\"LT\",\"LV\",\"AT\",\"HU\",\"TR\",\"SI\",\"BE\",\"LU\",\"ME\",\"BA\",\"IS\",\"IE\",\"PL\",\"ES\",\"DE\",\"NL\",\"EL\",\"DK\",\"RO\",\"CZ\",\"FI\",\"PT\",\"RS\",\"NO\",\"FR\",\"CY\"],\"locations\":[\"SVK\",\"CHE\",\"ITA\",\"ALB\",\"EST\",\"HRV\",\"SWE\",\"BGR\",\"LTU\",\"LVA\",\"AUT\",\"HUN\",\"TUR\",\"SVN\",\"BEL\",\"LUX\",\"MNE\",\"BIH\",\"ISL\",\"IRL\",\"POL\",\"ESP\",\"DEU\",\"NLD\",null,\"DNK\",\"ROU\",\"CZE\",\"FIN\",\"PRT\",\"SRB\",\"NOR\",\"FRA\",\"CYP\"],\"name\":\"\",\"z\":[833.79,3378.9,11894.79,56.27,787.8,434.0,2772.74,694.18,1359.69,790.5,3137.16,1625.67,9840.97,580.11,4431.0,0.0,28.83,271.57,155.5,8542.27,12457.39,7427.61,32548.98,13986.6,652.18,5666.5,1134.9,3192.02,2362.11,1919.51,907.65,1545.06,24602.21,271.37],\"type\":\"choropleth\"}],\"name\":\"2020\"},{\"data\":[{\"coloraxis\":\"coloraxis\",\"geo\":\"geo\",\"hovertemplate\":\"<b>%{hovertext}</b><br><br>TIME_PERIOD=2021<br>code=%{location}<br>OBS_VALUE=%{z}<extra></extra>\",\"hovertext\":[\"PL\",\"IE\",\"LT\",\"AT\",\"NL\",\"EL\",\"NO\",\"IT\",\"DK\",\"SK\",\"AL\",\"IS\",\"TR\",\"RS\",\"DE\",\"FR\",\"CY\",\"FI\",\"SE\",\"LV\",\"BG\",\"RO\",\"PT\",\"HR\",\"CZ\",\"SI\",\"BE\",\"ES\",\"HU\",\"LU\",\"MK\",\"MT\",\"EE\"],\"locations\":[\"POL\",\"IRL\",\"LTU\",\"AUT\",\"NLD\",null,\"NOR\",\"ITA\",\"DNK\",\"SVK\",\"ALB\",\"ISL\",\"TUR\",\"SRB\",\"DEU\",\"FRA\",\"CYP\",\"FIN\",\"SWE\",\"LVA\",\"BGR\",\"ROU\",\"PRT\",\"HRV\",\"CZE\",\"SVN\",\"BEL\",\"ESP\",\"HUN\",\"LUX\",\"MKD\",\"MLT\",\"EST\"],\"name\":\"\",\"z\":[12515.42,9018.37,1348.85,3153.83,13603.4,659.92,1575.49,13042.03,5643.85,822.96,58.94,153.29,10069.7,891.8,31942.32,24198.75,298.11,2271.91,2782.22,812.65,679.06,1125.66,1909.09,428.94,3128.74,588.77,4380.84,7471.71,1739.26,0.0,132.52,39.54,799.2],\"type\":\"choropleth\"}],\"name\":\"2021\"}]);\n",
       "                        }).then(function(){\n",
       "                            \n",
       "var gd = document.getElementById('3002204b-0614-48f2-aac8-46242d884958');\n",
       "var x = new MutationObserver(function (mutations, observer) {{\n",
       "        var display = window.getComputedStyle(gd).display;\n",
       "        if (!display || display === 'none') {{\n",
       "            console.log([gd, 'removed!']);\n",
       "            Plotly.purge(gd);\n",
       "            observer.disconnect();\n",
       "        }}\n",
       "}});\n",
       "\n",
       "// Listen for the removal of the full notebook cells\n",
       "var notebookContainer = gd.closest('#notebook-container');\n",
       "if (notebookContainer) {{\n",
       "    x.observe(notebookContainer, {childList: true});\n",
       "}}\n",
       "\n",
       "// Listen for the clearing of the current output cell\n",
       "var outputEl = gd.closest('.output');\n",
       "if (outputEl) {{\n",
       "    x.observe(outputEl, {childList: true});\n",
       "}}\n",
       "\n",
       "                        })                };                });            </script>        </div>"
      ]
     },
     "metadata": {},
     "output_type": "display_data"
    }
   ],
   "source": [
    "fig = px.choropleth(eudf.sort_values('TIME_PERIOD'),locations=\"code\",color=\"OBS_VALUE\",\n",
    "                    hover_name=\"geo\",animation_frame=\"TIME_PERIOD\",\n",
    "                    color_continuous_scale=px.colors.sequential.Plasma)\n",
    "fig.update_layout(\n",
    "    title_text=\"EU Milk Production\",\n",
    "    geo_scope=\"europe\"# change this to 'aisa' or 'europe' or 'africa' to zoop\n",
    "\n",
    ")\n",
    "fig.show()"
   ]
  },
  {
   "cell_type": "code",
   "execution_count": null,
   "id": "44f332d5",
   "metadata": {},
   "outputs": [],
   "source": []
  }
 ],
 "metadata": {
  "kernelspec": {
   "display_name": "Python 3 (ipykernel)",
   "language": "python",
   "name": "python3"
  },
  "language_info": {
   "codemirror_mode": {
    "name": "ipython",
    "version": 3
   },
   "file_extension": ".py",
   "mimetype": "text/x-python",
   "name": "python",
   "nbconvert_exporter": "python",
   "pygments_lexer": "ipython3",
   "version": "3.9.12"
  }
 },
 "nbformat": 4,
 "nbformat_minor": 5
}
