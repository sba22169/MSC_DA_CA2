{
 "cells": [
  {
   "cell_type": "code",
   "execution_count": 19,
   "id": "d619e891",
   "metadata": {},
   "outputs": [],
   "source": [
    "from dotenv import dotenv_values\n",
    "import pandas as pd\n",
    "import requests\n",
    "import json\n",
    "# my twitter keys are stores in a file outside the git repository for security reasons\n",
    "config = dotenv_values(\"/Users/ambrosedesmond/CCT_Projects/Ambrose_MSC_DS_CA2/.env\")\n",
    "bearer_token = config[\"BEARER_TOKEN\"]\n",
    "# this is the location of the twitter api access , looking for the most recent tweets\n",
    "search_url = \"https://api.twitter.com/2/tweets/search/recent\""
   ]
  },
  {
   "cell_type": "code",
   "execution_count": 42,
   "id": "3edf73c7",
   "metadata": {},
   "outputs": [
    {
     "ename": "IndentationError",
     "evalue": "unexpected indent (271827066.py, line 5)",
     "output_type": "error",
     "traceback": [
      "\u001b[0;36m  Input \u001b[0;32mIn [42]\u001b[0;36m\u001b[0m\n\u001b[0;31m    \"text\":[]})\u001b[0m\n\u001b[0m    ^\u001b[0m\n\u001b[0;31mIndentationError\u001b[0m\u001b[0;31m:\u001b[0m unexpected indent\n"
     ]
    }
   ],
   "source": [
    "# set up a dataframe to save tweets, only saving author and the tweet\n",
    "# from https://www.geeksforgeeks.org/python-pandas-dataframe-append/?ref=gcse\n",
    "\n",
    "#tweet_df = pd.DataFrame({\"author_id\":[],\n",
    "                   \"text\":[]})\n",
    "\n",
    "#next_t = 0\n",
    "\n",
    "# Set up the query we want to pass to api , is a json object\n",
    "    #  -is = is not a retweet. i dont want retweets showing up in my data \n",
    "    # also pulling in the author id and name\n",
    "query_params1 = {\n",
    "    'query':'pope dead -is:retweet',\n",
    "    'max_results': '10',\n",
    "    'tweet.fields':'author_id',\n",
    "    'user.fields':'name',\n",
    "\n",
    "}\n",
    "query_params2 = {\n",
    "    'query':'pope dead -is:retweet',\n",
    "    'max_results': '10',\n",
    "    'tweet.fields':'author_id',\n",
    "    'user.fields':'name',\n",
    "    'next_token' : 'abcd',\n",
    "}\n",
    " \n",
    "def bearer_oauth(r):\n",
    "    r.headers['Authorization'] = f\"Bearer {bearer_token}\"\n",
    "    r.headers['User-Agent'] = \"v2RecentSerchPython\"\n",
    "    return r\n",
    "\n",
    "def connect_to_endpoint(url,params):\n",
    "    \"\"\" Function to connect to twitter API\"\"\"\n",
    "    response = requests.get(url,auth=bearer_oauth, params=params)\n",
    "    #responce.status_code 200 is good anything else is an error\n",
    "    #404 page not found\n",
    "    return response.json()\n",
    "\n",
    "def append_dict(adict,json_response):\n",
    "    py_dict = json.loads(json_response)\n",
    "    for tweet in range(tweet_count):\n",
    "        adict[json_response['data'][0]['author_id']] = json_response['data'][0]['text']\n",
    "    return(adict)\n",
    "\n",
    "    \n",
    "def twit_call():\n",
    "    twit_dict={}\n",
    "    loop_count = 0\n",
    "    json_response = connect_to_endpoint(search_url, query_params1)\n",
    "    parsedRes = json.dumps(json_response, indent=4, ensure_ascii=False)\n",
    "    print(parsedRes)\n",
    "    append_dict(twit_dict,json_response)\n",
    "    while json_response[\"meta\"][\"next_token\"]:\n",
    "        loop_count += 1\n",
    "        if loop_count == 5:\n",
    "            break\n",
    "        print(f'the loop count is {loop_count}')\n",
    "        next_t = json_response['meta']['next_token']\n",
    "        query_params2['next_token'] = next_t\n",
    "        json_response = connect_to_endpoint(search_url, query_params2)\n",
    "        parsedRes = json.dumps(json_response, indent=4, ensure_ascii=False)\n",
    "        append_dict(twit_dict,json_response)\n",
    "            \n",
    "    return(twit_dict)\n",
    "    # setting indent to 4 to make more readable , ensure_ascii will return all charecters when false\n",
    "    # so we can get to see emojis in our twitter text\n",
    "    \n",
    "    \n",
    "    #print(parsedRes)\n",
    "    # pagenation is taking the next_token ang getting the next batch of tweets\n",
    "\n",
    "my_dict = twit_call()"
   ]
  },
  {
   "cell_type": "code",
   "execution_count": 41,
   "id": "d118ca2f",
   "metadata": {},
   "outputs": [
    {
     "name": "stdout",
     "output_type": "stream",
     "text": [
      "{}\n"
     ]
    }
   ],
   "source": [
    "print(my_dict)"
   ]
  },
  {
   "cell_type": "code",
   "execution_count": 21,
   "id": "ae1b9023",
   "metadata": {},
   "outputs": [
    {
     "ename": "NameError",
     "evalue": "name 'json_response' is not defined",
     "output_type": "error",
     "traceback": [
      "\u001b[0;31m---------------------------------------------------------------------------\u001b[0m",
      "\u001b[0;31mNameError\u001b[0m                                 Traceback (most recent call last)",
      "Input \u001b[0;32mIn [21]\u001b[0m, in \u001b[0;36m<cell line: 1>\u001b[0;34m()\u001b[0m\n\u001b[0;32m----> 1\u001b[0m \u001b[43mjson_response\u001b[49m[\u001b[38;5;124m'\u001b[39m\u001b[38;5;124mdata\u001b[39m\u001b[38;5;124m'\u001b[39m][\u001b[38;5;241m0\u001b[39m][\u001b[38;5;124m'\u001b[39m\u001b[38;5;124mauthor_id\u001b[39m\u001b[38;5;124m'\u001b[39m]\n\u001b[1;32m      2\u001b[0m json_response[\u001b[38;5;124m'\u001b[39m\u001b[38;5;124mdata\u001b[39m\u001b[38;5;124m'\u001b[39m][\u001b[38;5;241m0\u001b[39m][\u001b[38;5;124m'\u001b[39m\u001b[38;5;124mtext\u001b[39m\u001b[38;5;124m'\u001b[39m]\n\u001b[1;32m      3\u001b[0m json_response[\u001b[38;5;124m'\u001b[39m\u001b[38;5;124mmeta\u001b[39m\u001b[38;5;124m'\u001b[39m][\u001b[38;5;124m'\u001b[39m\u001b[38;5;124mnext_token\u001b[39m\u001b[38;5;124m'\u001b[39m]\n",
      "\u001b[0;31mNameError\u001b[0m: name 'json_response' is not defined"
     ]
    }
   ],
   "source": [
    "json_response['data'][0]['author_id']\n",
    "json_response['data'][0]['text']\n",
    "json_response['meta']['next_token']"
   ]
  },
  {
   "cell_type": "code",
   "execution_count": 13,
   "id": "0831f2a9",
   "metadata": {},
   "outputs": [
    {
     "ename": "NameError",
     "evalue": "name 'json_response' is not defined",
     "output_type": "error",
     "traceback": [
      "\u001b[0;31m---------------------------------------------------------------------------\u001b[0m",
      "\u001b[0;31mNameError\u001b[0m                                 Traceback (most recent call last)",
      "Input \u001b[0;32mIn [13]\u001b[0m, in \u001b[0;36m<cell line: 1>\u001b[0;34m()\u001b[0m\n\u001b[0;32m----> 1\u001b[0m \u001b[43mjson_response\u001b[49m[\u001b[38;5;124m'\u001b[39m\u001b[38;5;124mmeta\u001b[39m\u001b[38;5;124m'\u001b[39m][\u001b[38;5;124m'\u001b[39m\u001b[38;5;124mnext_token\u001b[39m\u001b[38;5;124m'\u001b[39m]\n",
      "\u001b[0;31mNameError\u001b[0m: name 'json_response' is not defined"
     ]
    }
   ],
   "source": [
    "json_response['meta']['next_token']"
   ]
  },
  {
   "cell_type": "code",
   "execution_count": null,
   "id": "2181e320",
   "metadata": {},
   "outputs": [],
   "source": []
  }
 ],
 "metadata": {
  "kernelspec": {
   "display_name": "Python 3 (ipykernel)",
   "language": "python",
   "name": "python3"
  },
  "language_info": {
   "codemirror_mode": {
    "name": "ipython",
    "version": 3
   },
   "file_extension": ".py",
   "mimetype": "text/x-python",
   "name": "python",
   "nbconvert_exporter": "python",
   "pygments_lexer": "ipython3",
   "version": "3.9.12"
  }
 },
 "nbformat": 4,
 "nbformat_minor": 5
}
