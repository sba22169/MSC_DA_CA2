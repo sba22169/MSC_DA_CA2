{
 "cells": [
  {
   "cell_type": "code",
   "execution_count": 25,
   "id": "d619e891",
   "metadata": {},
   "outputs": [],
   "source": [
    "from dotenv import dotenv_values\n",
    "import pandas as pd\n",
    "import matplotlib.pyplot as plt\n",
    "import requests\n",
    "import json\n",
    "import warnings\n",
    "warnings.filterwarnings('ignore') # We can suppress the warnings\n",
    "# my twitter keys are stores in a file outside the git repository for security reasons\n",
    "config = dotenv_values(\"/Users/ambrosedesmond/CCT_Projects/Ambrose_MSC_DS_CA2/.env\")\n",
    "bearer_token = config[\"BEARER_TOKEN\"]\n",
    "# this is the location of the twitter api access , looking for the most recent tweets\n",
    "search_url = \"https://api.twitter.com/2/tweets/search/recent\""
   ]
  },
  {
   "cell_type": "code",
   "execution_count": 3,
   "id": "3edf73c7",
   "metadata": {},
   "outputs": [],
   "source": [
    "\n",
    "\n",
    "# Set up the query we want to pass to api , is a json object\n",
    "    #   Im adding parameter -is = is not a retweet. i dont want the same retweets showing up in my data \n",
    "    # also pulling in the author id and name\n",
    "# Im using two query_params the first is without the next_token field for the first query   \n",
    "query_params1 = {\n",
    "    'query':'BREXIT farmers -is:retweet',\n",
    "    'max_results': '100',\n",
    "    'tweet.fields':'author_id',\n",
    "    'user.fields':'name',\n",
    "\n",
    "}\n",
    "# This second query is for the loop , as it requires a next_token.\n",
    "query_params2 = {\n",
    "    'query':'BREXIT farmers -is:retweet',\n",
    "    'max_results': '100',\n",
    "    'tweet.fields':'author_id',\n",
    "    'user.fields':'name',\n",
    "    'next_token' : 'abcd',\n",
    "}\n",
    "\n",
    "# my authorisation keys are used here for ther twitter API\n",
    "def bearer_oauth(r):\n",
    "    \"\"\" Function for using bearer token\"\"\"\n",
    "    r.headers['Authorization'] = f\"Bearer {bearer_token}\"\n",
    "    r.headers['User-Agent'] = \"v2RecentSerchPython\"\n",
    "    return r\n",
    "\n",
    "\n",
    "def connect_to_endpoint(url,params):\n",
    "    \"\"\" Function to connect to twitter API\"\"\"\n",
    "    response = requests.get(url,auth=bearer_oauth, params=params)\n",
    "    #responce.status_code 200 is good anything else is an error\n",
    "    \n",
    "    return response.json()\n",
    "\n",
    "def append_dict(adict,json_response):\n",
    "    for i in range(len(json_response['data'])):\n",
    "        try:\n",
    "            adict[json_response['data'][i]['author_id']] = json_response['data'][i]['text']\n",
    "            #print(i)\n",
    "            #print (f\" The Author {json_response['data'][i]['author_id']} wrote.....\")\n",
    "            #print(f\"{json_response['data'][i]['text']}\")\n",
    "        except IndexError:\n",
    "            print(\"We had an index error\")\n",
    "    return(adict)\n",
    "\n",
    "    \n",
    "def twit_call():\n",
    "    twit_dict={}\n",
    "    loop_count = 0\n",
    "    json_response = connect_to_endpoint(search_url, query_params1)\n",
    "    #parsedRes = json.dumps(json_response, indent=4, ensure_ascii=False)\n",
    "    #print(parsedRes)\n",
    "    append_dict(twit_dict,json_response)\n",
    "    # while json_response['meta']['next_token']:\n",
    "    while True:\n",
    "        # pagenation is taking the next_token and feeding it through to next query\n",
    "        if 'next_token' in json_response['meta']: \n",
    "            next_t = json_response['meta']['next_token']\n",
    "            query_params2['next_token'] = next_t\n",
    "        else:\n",
    "            # this is the last page\n",
    "            break\n",
    "        json_response = connect_to_endpoint(search_url, query_params2)\n",
    "        append_dict(twit_dict,json_response)\n",
    "           \n",
    "    return(twit_dict)\n",
    "\n",
    "my_dict = twit_call()"
   ]
  },
  {
   "cell_type": "code",
   "execution_count": 72,
   "id": "74502ca8",
   "metadata": {},
   "outputs": [
    {
     "name": "stdout",
     "output_type": "stream",
     "text": [
      "{'1474801775429496842': '‘We’re only seeing the negative’: UK farmers on Brexit and losing the common agricultural policy https://t.co/aueIOe5sJy', '1584339270680350722': '# Pledge of post-Brexit overhaul of regulation comes as some executives worry about reform of EU laws going too far 🍐🥨🍎🍳🥚🥨🥩🍖🍗🍍🍑🥓🥙🍑🍳🥚🍤🍖🍗🍊🍇🍓🍬🍫‘They will run out of money’: farmers’ fight for survival in Ukraine', '846791467741974528': '‘We’re only seeing the negative’: UK farmers on Brexit and losing the common agricultural policy “There’s no way you can dress those trade deals up as a as a good thing. I’ve heard farmers say the industry was more or less chucked under a bus.” https://t.co/MJdFpxBRwS', '1022527391762198530': '#brexitshambles: ‘We’re only seeing the negative’: UK farmers on Brexit and losing the common agricultural policy.\\nhttps://t.co/Y1dz14MRDn', '734328914': '@ScottBentonMP @DNC No good has come of Brexit. We’ve lost our rights and will lose many more at the end of 2023. Farmers, fishermen, NHS staff, businesses and everyone else can see the leavers’ lies. Project Fear is Project Fact; the gullible were taken in, leavers are desperate for a positive spin', '821557639': \"‘We’re only seeing the negative’: UK farmers on Brexit and losing the common agricultural policy. The NFU even warned farmers of the consequences but unfortunately it didn't stop a majority of farmers voting for it. Ditto fisherman. https://t.co/6CRsrFvI3X\", '1547897532': '@10DowningStreet @RishiSunak Pm uk has this power  king gave power to brexit  or ireland and france  emanule to run controle as uk s trader   even fishing   boats  at sea is locked so uk is hungry farmers and grains cost st sale  uk farmers decides', '236173261': \"Didn't all those farmers vote for that in 2016? Great news for New Zealand farmers, of course. https://t.co/MTgwbFaEuD\", '967483486511788032': '@UKIP With brexit it looks like you are on the side of EU and Aussie farmers', '856235131119554564': 'Man, dieser #Brexit war wohl doch ein genialer Schachzug.\\n\\nhttps://t.co/yKmygrWimY', '208062440': '@NicholasTyrone Brexit has been a disaster. It has not been planned very well. Why would you want to import beef halfway around the world from Australia where we could have deals with our European neighbours and our farmers.', '2815298191': '@DonnachadhMc @GeorgeMonbiot @guardian @dpcarrington @damiengayle @gow_derek My one hope for Brexit was for payments to farmers be cut and only used to protect the environment. Sheep farming is not protecting the environment.', '105269160': '@JohnMellis @francesca_geld 🤣🤣🤣🤣, yet all the trade deals the 27 countries have done, nobody seems to be complaining. But UK farmers certainly got screwed by the UK-Aus trade agreement. Another brexit win.', '1607074733673136128': '@AlanRei91920456 @terrasea @RobScarLUFC @philipstephens Yeah, unless you are a farmer for instance. 😂😂😂 Hopefully it will bankrupt those farmers that voted for Brexit.\\n\\nhttps://t.co/Ol8l0UccsD', '1303380873501437953': '@RobinOl33043877 @Tom_Clarke @BBCJustinR @BBCFoodProg @HenryDimbleby @FFC_Commission @UKSustain @NFUtweets @tomheapmedia @Jack_A_Bobo @Botanygeek @salkinstitute 1) It’s certainly not by literally, biting the hand that feeds us so badly that many are contemplating giving up https://t.co/UURLyoanuk', '1571906116627349508': '@cathyby @AndrewKnight226 @Don_LImmortale @bringiton8712 @1ainTro11sBots @Martin020455 @DelWatson9 @David19531501 @wobski421 @Gazza41 @BrunoTheBridge @ConraddKonnrad @CredaCreda @David_Vaporium @HWick_Chris @Rayjudd7 @bazcarter15 @lordgmanilson @aclem81 @andrewsibley15 @somechewlip @Roblev0 @Jimbo12449841 @SamanthaFoxy1 @Stuff32Funny @Obohobofromnobo @Davidmetroland @Musc1esbri2 @Chr1s_not_a_bot @LordOfFreedom2 @resiguru @IanGianni @wokewarriorFU @leftstance @AndrewGarside3 @suastusa @JohnRya13591294 https://t.co/ycq9lVOZqN\\n\\nThe only people who put it the \"headline\" were the ones who wanted to mock one of the subtle things gently pointed out by Jayawardena who is the sec. of state for food.\\n\\nWhat else would you expect him to highlight? Obviously not the financial aspects.', '446974428': \"Another reason why, if you're #undecided, that you should support independence.\\nOur Scottish farmers and farms and families are being decimated by Brexit.\\nIndependence would mean we keep high food standards https://t.co/vzXn0weqEg\", '2728907742': '@arianna_kaye The BBC for one has probably been warned by the government not to disseminate negative news. Let’s not forget what happened when a representative of the Scottish Farmers’ Union was interviewed about challenges in his industry. His answer included Brexit. ‘B’ word later edited out', '472305101': '‘We’re only seeing the negative’: UK farmers on Brexit and losing the common agricultural policy https://t.co/ksmUBlhpUu', '1534098588061532166': '‘We’re only seeing the negative’: UK farmers on Brexit and losing the common agricultural policy https://t.co/Kq6E9nLxTn', '1172200341556924416': '@Duncan20212 There must be some farmers and/or fishermen on Twitter who can stand up and say they are still receiving all the same money as they were before Brexit?\\nSurely?', '308222785': 'https://t.co/Geqfoq43kc', '386959428': '@Kilsally @SteveBakerHW @chhcalling @JamesCleverly @RishiSunak Farmers in GB highlighting issues with Brexit. Much more important to the U.K. https://t.co/tYeJPd0CZG', '706135919892557825': \"@ivor_park_fin @mart100 @GBNEWS You're totally deluded. End of.\\n\\nFishermen, farmers, exporters, manufacturers, hospitality, airlines, financial services, pharma - all hit by Brexit, yet you can't see it.\\n\\nKeep changing the goalposts mate.\", '888912841': '‘We’re only seeing the negative’: UK farmers on Brexit and losing the common agricultural policy https://t.co/st0xOG0C7l', '46882012': '‘We’re only seeing the negative’: UK farmers on Brexit and losing the common agricultural policy \\n\\n#FBPE #RejoinEU #Brexit #BrexitBrokeBritain #BrexitShambles #BrexitBritain #BrexitHasFailed #Brexitisntworking #BrexitDisaster\\nhttps://t.co/T0BJfXMnn3', '14845727': 'A tumultuous year – Looking back on 2022\\n\\nFarmers hoping for a quiet 2022 following several years upheaval due to Brexit and the Covid-19 pandemic were left disappointed. Abi Kay takes a look back over the past 12 months.\\n\\nhttps://t.co/SLZpcqhzOT https://t.co/UnRPOfIjKQ', '337597592': '‘We’re only seeing the negative’: UK farmers on Brexit and losing the common agricultural policy https://t.co/6Fz3TXwDCn', '1210950543373266944': '@JohnSpringford @DavidGHFrost “Vigorous advocates of Brexit” ?? Brexit is done. But it’s a disaster. Just ask small exporters. Ask fishing industry. Ask farmers. Ask artists. Ask jewellers. It’s led to non-tariff barriers with UK’s largest trading bloc. It’s  led to all the negative consequences Frost 1/2', '1156229604803301376': 'Since brexit the UK has signed just 4 new trade deals. \\n\\nTwo of them (Auz &amp; NZ) were deeply one-sided and poorly negotiated, selling British farmers down the river for nothing in return\\n\\n https://t.co/BClBrXC3JI', '606557886': '@Sidboggle1 @KimWalms55 @DeborahMeaden How are farmers, the hospitality industry, taxi companies, courier services, the NHS, the construction industry and just about every industry that involves manual labour holding up after Brexit?\\n\\nCan you say they have felt the benefits? \\n\\nI think not.', '1224417017035415554': '@kirkberzerk @TronTro79462578 @VeronicaReagan @owen_whiteley @DXW_KC So how are the farmers better off now? And what should have been done? Another clue: there was not ONE Brexit. Some said stay in the single-market (Johnson, Hannan etc); Farage wanted Norway/Switzerland &amp; he promised fewer boats crossing the channel..🥴🤣 How has this worked out?', '383719410': '@jackiekemp Many Scottish Farmers went along with Tory policy of Brexit stripping out Scotland theBrand🏴\\U000e0067\\U000e0062\\U000e0073\\U000e0063\\U000e0074\\U000e007f\\nIt beggars belief they want @scotgov support now 😐\\nBut @scotgov need to work with them to prevent poor food quality and shortages leading to fewer food choices and for some starvation!', '1082352317536575489': '@proscot4indy @jackiekemp @NathanJordan81 Dinna generalise...maybe aye on average to tories here (sadly) but Scottish farmers did not vote for brexit.  Read a farmers guardian article about it a while back.  % voting brexit reflected Scot pop generally (unlike the fishermen)', '1360497947297914880': \"@jackiekemp A percentage of Farmers/Finshing voted with the Tories. They voted for Brexit. Feel sorry for the ones that did'nt.\", '1324306090729918464': '@kirkberzerk @SSabelus @VeronicaReagan @owen_whiteley @DXW_KC I am genuinely sorry that your Brexit did not work. \\nNot for you but for the people who have to close their business, the fishermen and the farmers. \\nAll these people are suffering because of your English exceptionalism.', '945386460869480449': 'The stupidity never ends. Both major parties wholly complicit in the destruction of our economy. https://t.co/DxKuJov8ND', '481489755': '‘We’re only seeing the negative’: UK farmers on #Brexit and losing the common agricultural policy https://t.co/FJhtggHgU0', '18099078': '‘We’re only seeing the negative’: UK farmers on Brexit and losing the common agricultural policy https://t.co/7bAqV85oz5', '1550302364': '@ConsPost We threw away £100bn in trade with EU and now we’ve thrown Uk farmers under the bus to sell a bottle of gin to Oz? Unreal brexit benefits!', '965904640880635907': '‘We’re only seeing the negative’: UK farmers on Brexit and losing the common agricultural policy | Brexit | The Guardian https://t.co/gPl5tbMuN7', '19106885': '‘We’re only seeing the negative’: UK farmers on Brexit and losing the common agricultural policy https://t.co/40flxPy4Nu', '2915933310': 'https://t.co/FG3ZNsz2M7', '1439298802674962433': '‘We’re only seeing the negative’: UK farmers on Brexit and losing the common agricultural policy https://t.co/6cEvMwRgf4 @Conservatives catastrophic Brexit', '1293512854822432769': '‘We’re only seeing the negative’: UK farmers on Brexit and losing the common agricultural policy https://t.co/W9Ji1BHQLd', '43110614': 'Scottish farming down £93million in funding over loss of CAP. Food more expensive as a result. We’re only seeing the negative’: UK farmers on Brexit and losing the common agricultural policy | Brexit | The Guardian https://t.co/yT25xatxOf', '40434715': '‘We’re only seeing the negative’: UK farmers on Brexit and losing the common agricultural policy https://t.co/lzRwi2M85N', '1575903909570289665': \"@UKIP Nothing has hurt farmers more than your disaster Brexit. You're the enemy of British farmers, British fishermen. You're the enemies of the whole British population. There's probably no group of people has done more damage to Britain than you lot since WW2.\", '1354816600457703431': '@UKIP Farmers @NFUStweets @NFUtweets  say your #UKIP #Brexit or should I say BrexShit has cluster f**ked our farming, exports to #EU 📉⬇️\\n\\nYou hypocritical w*kers', '1278397502258020355': \"@IckleSoldier Or shall we talk about the other so called 'benefit' area for Brexit - 'border control'. Is that 'not going too bad' either? Farmers? Fisheries? How are they doing?\", '1427170181739073536': '@LBC @aliciakearns FFS leave the vegans alone. The problems farmers are having are due to Brexit and corrupt Tories, not vegans.', '449864075': '@ashstronge Oh, wasn’t #Brexit BRITAIN able to step in and save the day? \\n\\nhttps://t.co/UcQfoZexF4', '452904162': '‘We’re only seeing the negative’:\\n\\n UK farmers on Brexit and \\n\\nlosing the common agricultural policy \\n\\nhttps://t.co/sL2MiUWuqo', '4267058183': 'https://t.co/jJ02R5iKR8', '2565308468': '‘We’re only seeing the negative’: UK farmers on Brexit and losing the common agricultural policy https://t.co/DdAdUdd9cf', '133215684': '‘We’re only seeing the negative’: UK farmers on Brexit and losing the common agricultural policy https://t.co/yRrlwmZZuW', '1596158309526130689': 'Farmers face precarious future with loss of\\xa0CAP.  https://t.co/VD8aQh7kzL', '268194728': '@Veldhorst__W\\n\\nhttps://t.co/hIr9fy2ULM', '1533169427377799171': \"@MimiJ9 Awful news for farmers, and whilst i am enormously sympathetic, a lot of farmers voted tory and supported brexit, despite NFU advice. It's a disaster\", '1362177019': '‘We’re only seeing the negative’: UK farmers on Brexit and losing the common agricultural policy https://t.co/LAGZygxfYx', '77220423': '„He has lost unfettered access to his nearest export market, faces reduction in farm subsidies as the result of the loss of the common agricultural policy (CAP), and has been disadvantaged by trade deals.“ #brexit  https://t.co/Vd9bvX57u9', '2398498772': 'Chances are that the #EU and Britain start their relationship afresh as reality disproofs most of #Brexit arguments \\n\\n#BrexitLies #BrexitBrokeBritain \\n\\nhttps://t.co/e54JRSBD3i', '1696668979': '‘We’re only seeing the negative’: UK farmers on Brexit and losing the common agricultural policy https://t.co/VFvVjaKU7w', '31135856': '#Brexit is disaster for UK farmers: no more EU farm subsidies &amp; easy access to EU export market, undercut by trade deals giving access to UK market to rival farmers in Australia, NZ etc\\n\\nThe Tories lied to farmers &amp; worsened UK dependence on overseas food https://t.co/10Yqw4IG9I', '902001046259511296': '‘We’re only seeing the negative’: UK farmers on Brexit and losing the common agricultural policy https://t.co/0tN0z48pT1', '41316531': '‘We’re only seeing the negative’: UK farmers on Brexit and losing the common agricultural policy https://t.co/SDRQbgSMoF', '932940422137163778': 'Farmers opted for Brexit https://t.co/IPCmVUPIhC', '1040595564': 'Brexit led to the trade deal with Australia which shafts our farmers, so you don’t support our farmers. https://t.co/ngA0cjXZSz', '899378023094530048': '@Kilsally @bbreathnach Incorrect not everyone sources there seed potatoes from Scotland.\\nI use to grow potatoes used mostly my own seed which were sorted and stored in a dark house to keep them from sprouting to early.\\nI also know farmers who source seed from ROI and beyond.\\nBrexit is the problem 🤦\\u200d♂️', '106870770': '‘We’re only seeing the negative’: UK farmers on Brexit and losing the common agricultural policy https://t.co/RMQNRM5SzO', '746371177174679552': 'Charities and employers struggling due to post-Brexit funding delays\\n\\nSome voluntary groups have closed and farmers report problems after slow disbursal of UK funds to replace EU money\\n\\nBrexit is a crime. #RejoinEU\\nhttps://t.co/T5Y8UGU2fW', '327275909': 'https://t.co/NceboenkRx', '1222182594097426432': \"@GBNEWS @1GarethWynJones Well given that most of the UK grown food doesn't get picked, because farmers voted for brexit, there's going to be a lot of hungry people! What is seasonal food from January until May?!\", '2918267949': '@chrischapmanart @donmaico @sophielouisecc https://t.co/7XpeJ26vQB', '1443672026233942024': 'Brexit is shit https://t.co/6nYdBw19lF', '842574937': \"@jonsopel Yeah, but, you're only looking at the downside of Brexit.   You're like those people who point out the understaffing in NHS due to EU citizens leaving the UK, or who drone on about food rotting in farmers' fields due to EU workers having left.\", '1471238956524130304': '@UKIP Or: campaign to Rejoin the EU, the real solution.\\nBy the way, now that you got rid of the forriners that used to pick the produce you want us to buy from them, how is it going to get from the fields to us, huh?\\nhttps://t.co/1xS9Rzi5de', '450711709': \"No surprise to see farmers starting to openly speak out about the damage #Brexit &amp; the govt's trade deals are doing. Sadly, some farmers won't survive the combined impact of the govt's Brexit, cost of living and economic crises. Urgent help is needed.\\n\\nhttps://t.co/G1d3WOlbeZ\", '455693758': '@MaryRiddell I wonder how many of the farmers and other groups now bemoaning the predictable impact of Brexit voted for it.', '73717136': '‘We’re only seeing the negative’: UK farmers on Brexit and losing the common agricultural policy | Brexit | The Guardian https://t.co/cuMCp06isA', '325688284': 'Brexit is a disaster for our farmers! https://t.co/1kpU7ON2Id', '1167019401033539584': \"@Kilsally I hear when you vote out, it actually means out. \\n\\nDidn't the farmers Unions support Brexit? \\n\\nHave they actually had their EU farming grants replaced?\\n\\nWales and NI were two who got a lot more from the EU than they put in. Always baffling why Wales voted out.\\n\\nReal headscratcher\", '937019478': '#Brexit is no friend of UK farming. \\nhttps://t.co/xEz3ecGsOh', '1594067265099530247': '@UKIP Brexit made things worse for British farmers 😂', '1200118491648540672': '@BrugesGroup We left the EU so are a 3rd country, hence we are treated as a 3rd country. It’s what Brexit meant. Well, it’s what it meant to anyone capable of thought. Neither the German car industry, nor the French farmers rode to our rescue, it’s your mess. Nobody else’s\\n\\nBTW who funds you?', '2526058091': '@hanesyddiaeth @colinelves @mfletchertimes @alexandracairns How could I, without seeing the Leave campaign first ?\\n\\nIf Leave had sold a brexit where the British people lost their FoM, where our new trade deals were economically insignificant, where our farmers and fishermen suffered, and won the vote, why would we need a 2nd vote ?', '1415954245053034500': '@Conservatives @RishiSunak @Jacob_Rees_Mogg\\n@LiamFox\\n‘We’re only seeing the negative’: UK farmers on Brexit and losing the common agricultural policy https://t.co/rM9LUN9OaR', '136210768': \"There are too many Racist Keyboard Warriors who would not have the guts to tell you face to face what they think. Without immigration, this Country would fail financially. Check with the NHS, Social Services, Farmers, who lost many 'cos of Brexit. https://t.co/VZG6uuZElF\", '1185594882594922506': 'A Defra spokesperson said the “interests of our farmers and food producers is a priority of our trade policy and our trade deals are delivering on this. Our negotiations will continue to support farmers.”\\n\\nhttps://t.co/kM5VoYOjek\\n\\n#food #farming #agriculture #brexit #globaltrade', '2325618879': '@bigscrab https://t.co/CD84DOkYtN\\n\\nNo sympathy from me. Farmers voted for Brexit, just like the fishing industry they voted to wreck the entire economy for the rest of us because they thought they would get rich. Sod them. They deserve nothing.', '20142630': '@UKIP Those whose businesses were wrecked by Brexit after losing all their workers? All those who lost their European customers? Ah, you must mean support the farmers that haven’t gone bust, but those clinging on having to charge higher prices that no one can afford because of Brexit?', '20529031': '@13sarahmurphy @jonsopel ..that also destroys our own industries and overall economy. \\n\\nYay.\\n\\n🇬🇧⬇️🚾\\n\\n#Brexit #BrexitReality #BrexitLies \\n\\nhttps://t.co/zBMiKZr4SV', '1594772474910199809': '@KEdge23 Brexit = deregulation and privatisation = massive profits for the few = poverty for the many!\\nDoes anyone feel better off now that we have Brexit? All empty promises! Jam tomorrow as usual. No American trade deal. Australian and NZ deals screw our farmers. Feel conned? You should', '1601830644643930114': '@UKIP #liar\\nBrexit fucks UK farming.\\nYou wanted maximum trade barriers with the EU which fucks food exports.\\nYou want minimum controls on food imports, which will fuck farming in UK.\\nYou are in the exact opposite side of Brutish farmers.', '1499086615989436417': '‘We’re only seeing the negative’: UK farmers on Brexit and losing the common agricultural policy | Brexit | The Guardian https://t.co/e2kCAo46Ik', '1122931725280194560': '‘We’re only seeing the negative’: UK farmers on Brexit and losing the common agricultural policy https://t.co/DRBuuLBjJG', '36925507': 'Guardian: \"Charities and employers struggle due to post-Brexit funding delays. Three years after Johnson elected to “get Brexit done” employers, farmers and charities still wrestling with the reality of life outside the EU. #BrexitBrokeBritain #ToryBrexitDisaster', '1459549788': '‘We’re only seeing the negative’: UK farmers on Brexit and losing the common agricultural policy https://t.co/KPO4fowQOR', '1400389532416151552': '‘We’re only seeing the negative’: UK #farmers on #Brexit and losing the common agricultural policy. https://t.co/McNUXoL4xu', '1239268162052468738': 'So it was a case of eliminate the positive and accentuate the negative.\\n‘We’re only seeing the negative’: UK farmers on Brexit and losing the common agricultural policy https://t.co/7TKB4HjbxR', '726372601': '‘We’re only seeing the negative’: UK farmers on Brexit and losing the common agricultural policy\\n\\nAs MEP for South West England, a rural area with a strong farming constituency, I tried so hard to make this case\\n\\nBut SW voters still chose to leave the EU\\n\\nhttps://t.co/XKsumud6Ar', '771013459622367232': '@acgrayling No matter what market/public/private service your in, once a benefit is taken it is either never replaced or if it is, with something far less beneficial.  I could never understand farmers backing Brexit.', '44849238': '\"‘He\\'s lost unfettered access to his nearest export market, faces reduction in farm subsidies, &amp; been disadvantaged by trade deals giving access to the UK market to rival farmers from Australia &amp; NZ.\" \\'We’re only seeing the negative’: UK farmers on Brexit. https://t.co/pXzXVkNlrt', '1142798672457011200': '@EdwdPrice @MacAlbatross @BEERG Paul, you might be thinking of this. \\n\\nThe article’s title is a bit misleading: farmers *did* vote to Leave but, it seems, in similar shares to their rural counterparts. \\n\\nEngland-without-London voted to leave by an 11-point margin. \\n\\nhttps://t.co/6yRfqTit02 https://t.co/Narng5K5yA', '269852701': 'Thanks to the unrelenting self-serving diet of doom and gloom served up by the farming unions and press, opportunities are missed and mental health suffers! \\n\\n‘We’re only seeing the negative’: UK farmers on Brexit and losing the common agricultural policy https://t.co/aQShytk976', '1214283453891366912': '‘We’re only seeing the negative’: UK farmers on Brexit and losing the common agricultural policy https://t.co/9L64VA0KP8', '113966794': '‘We’re only seeing the negative’: UK farmers on Brexit and losing the common agricultural policy https://t.co/czsbfHRskU', '1289795336': 'Tried to tell them.😔\\nhttps://t.co/IHEhjO1uQb', '506031439': '@UKIP https://t.co/lHf9URqWhj', '14214964': '@palebd Hill farming like most UK farming has relied on subsidy to keep going, which will now change as the post brexit reality means funding being slashed. However, change must take place with the farmers &amp; their communities part &amp; parcel of that change.', '197072604': 'Erthygl wych.\\n\"...lost unfettered access to his nearest export market, faces reduction in farm subsidies as the result of the loss of the common agricultural policy, and has been disadvantaged by trade deals giving access to the UK market to rival farmers\"\\nhttps://t.co/2EHA9OlB57', '17172028': '‘We’re only seeing the negative’: UK farmers on Brexit and losing the common agricultural policy https://t.co/dYMlaaXLsZ', '1296055171': '‘We’re only seeing the negative’: UK farmers on Brexit and losing the common agricultural policy https://t.co/nVEN2jlAFa', '18044928': 'So much winning… https://t.co/oRW8JBuVS0', '1563934976042848256': '@UKIP But UKIP led for brexit, so definitely not in the side of farmers. Their enemy', '2569315796': '#Brexit #BrexitReality #scotland #Scotref #indyref2 https://t.co/YmhdqXYURv', '1506962136899239951': 'Brexit supporting, climate change denying, anti-mask, anti-lockdown lover of ‘rape jokes’, Julia Hartley-Brewer is one of those opinionated, TV &amp; radio hacks who seem to have the sole purpose in life to be rage farmers.\\n\\nThey want to spread division, hatr…https://t.co/M5fHBiPBEg', '1891485486': '@mabonapgwynfor @Plaid_Cymru Turkey’s voting for Christmas upset that Christmas came. Have zero sympathy for farmers, they all voted for Brexit and were clearly told what would happen and it was all span back as project fear. Sod them', '1032922624890994689': '‘We’re only seeing the negative’: UK farmers on Brexit and losing the common agricultural policy | Brexit | The Guardian https://t.co/V9PROLSiAO', '753587142484426752': 'Coming out of the EU’s CAP should be an opportunity to reshape our agriculture &amp; food system\\n\\nRather than propping up a farming system which damages nature, is unsustainable &amp; leaves many farmers close to poverty https://t.co/6O8SRiDyrv', '1297909607378096130': \"I'm not a farmer.\\nI know nothing about their industry.\\nBut I knew this would happen if I voted for Brexit, so I didn't. \\nIt's hard to see what those farmers who did vote for it thought would happen. 🤷\\u200d♀️ https://t.co/D3IO4Xq5Co\", '1407192828': '‘We’re only seeing the negative’: UK farmers on Brexit and losing the common agricultural policy | Brexit | The Guardian https://t.co/VC01a5mkrZ', '3064804191': '‘We’re only seeing the negative’: UK farmers on Brexit and losing the common agricultural policy https://t.co/dtswx4DSmM', '1149721492302848002': '‘We’re only seeing the negative’: UK farmers on Brexit and losing the common agricultural policy https://t.co/QMuvdjaiJi', '1545103476522422272': '‘We’re only seeing the negative’: UK farmers on Brexit and losing the common agricultural policy https://t.co/K3N4ZKVTLy', '1038021482272706560': 'https://t.co/eTELgC35ie', '270375040': \"@BEERG I seem to recall when it was looked into (though the methodology wasn't brilliant) farmers voted for Brexit roughly in line with others from their regional age cohort\", '113123928': 'Farmers face precarious future with loss of\\xa0CAP https://t.co/jlHZPtHGrl', '264429809': '‘We’re only seeing the negative’: #UK #farmers on #Brexit and losing the common #agricultural policy.. \\n\"I’ve heard farmers say the industry was more or less chucked under a bus.”\\n\\nhttps://t.co/pnELfHvv77', '1331193102233722881': 'https://t.co/0KiQ8kvR3i', '1413811855026438144': '‘We’re only seeing the negative’: UK farmers on Brexit and losing the common agricultural policy https://t.co/d8eGb5wvwQ', '571141141': '‘We’re only seeing the negative’: UK farmers on Brexit and losing the common agricultural policy https://t.co/YRzMOL287D', '560427008': 'https://t.co/7tmtd3Wp2O', '930065474687262721': '‘We’re only seeing the negative’: UK farmers on Brexit and losing the common agricultural policy https://t.co/jtfuDd6Fd8', '3191025717': '‘We’re only seeing the negative’: UK farmers on Brexit &amp; losing the common agricultural policy, the Guardian talks to farmers about the difficulties they face https://t.co/kU4ToUaKAM #Brexit #BrexitCarnage #BrexitReality #BrexitDisaster #BrexitBritain #BrexitBrokeBritain #farming', '320291489': '‘We’re only seeing the negative’: UK farmers on Brexit and losing the common agricultural policy https://t.co/uYLEnr5VPy #BrexitReality #Brexit #BrexitAgriculture', '2813746248': '“Making Britain great again” Day 729: Pre-referendum, I met with a group of farmers who told me how much they relied upon EU workers to keep their businesses going. But they were all voting for Brexit. I’ll never understand it. #BrexitReality  https://t.co/oEz16y9hfi', '1502976744042684417': 'Who knew Brexit would also be a disaster for farmers?  Well, just about everyone who thought about it for half a second before voting. #BrexitBrokeBritain #GTTO  https://t.co/uyUZOvp7Zu', '61504420': 'Farmers face precarious future with loss of\\xa0CAP https://t.co/0XFYbPKDzU', '20496975': 'lost unfettered access to nearest export market, faces reduction in farm subsidies as the result of the loss of the common agricultural policy (CAP), and has been disadvantaged by trade deals giving access to the UK market to rival farmers from Australia and New Zealand #Brexit', '790914744404348928': '“…..I’ve heard farmers say the industry was more or less chucked under a bus.” https://t.co/CZfskIPgTY', '341053499': 'https://t.co/qcYyHQdLhK', '17019081': '‘We’re only seeing the negative’: UK farmers on Brexit and losing the common agricultural policy | Brexit | The Guardian https://t.co/eZgKCg98ew', '2931141700': '‘We’re only seeing the negative’: UK farmers on Brexit and losing the common agricultural policy | Brexit | The Guardian | @scoopit https://t.co/mM8G9aGEO0 #Brexit #agriculture #post-Brexit #costofBrexit #tradedeals #CAP #ELM #subsidies @NFUtweets', '907940824121528321': '‘We’re only seeing the negative’: #UK farmers on #Brexit and losing the common agricultural policy https://t.co/szwyNgOLRv', '167121831': '‘We’re only seeing the negative’: UK farmers on Brexit and losing the common agricultural policy https://t.co/yFx6xUeOwz that is because, for all but the very wealthy who want to minimise their tax, brexit is a disaster without any positives', '107681117': 'Are these people still prepared to even hope there is a “positive” side to the #Brexit #deceit⁉️\\n#Cognitive #Dissonance is a powerful block to rational thought\\n\\n‘We’re only seeing the negative’:UK farmers on Brexit and losing the common agricultural policy https://t.co/QoTKRqPqv1', '1637794394': '‘We’re only seeing the negative’: UK farmers on Brexit and losing the common agricultural policy https://t.co/tjQo52BhpU', '77537857': '‘We’re only seeing the negative’: UK farmers on Brexit and losing the common agricultural policy\\n\\nYes , I have been asking for a balance sheet of Brexit pros and cons from Sir Bernard Jenkins MP from the beginning of the Brexit process, but a not a thing! https://t.co/zw9zSPWxvm', '1354498647686328320': '\"Yeah but sovereignty\"\\nhttps://t.co/DV0NWtZRBW', '1405773316284059648': 'He has lost unfettered access to his nearest export market, faces reduction in farm subsidies, and has been disadvantaged by trade deals giving access to the UK market to rival farmers from Australia and New Zealand.\\n\\nhttps://t.co/yiOXf8UKdV\\n\\n#brexit #brexitreality', '850766432': '#farming Farmers face precarious future with loss of\\xa0CAP https://t.co/tfVN69CXgN', '1364251213915688963': '@chrisgreybrexit @TeresaC123 Most farmers voted leave despite being forewarned what would happen. Now that is has happened they expect sympathy. \\n\\nNot until they come out and fully reject brexit, apologise and demand rejoining the EU', '63643597': \"No #Irony here at all - ‘We’re only seeing the negative’: UK farmers on Brexit and losing the common agricultural policy https://t.co/qGRixCI8gm \\nHow did they vote again? Oh, that's right...https://t.co/GMYyE967V7\", '2407340785': 'Brexit is a disaster for farmers @lisaocarroll but you should fact-check so called ecological benefits of hill grazing with ecologists. Compared to risk of wildfires, flood risk down-stream is enormous. Not to mention methane &amp; biodiversity disaster. https://t.co/54FBr3dHzd', '2566822615': '‘We’re only seeing the negative’: UK farmers on Brexit and losing the common agricultural policy https://t.co/SVDyKJzIFF', '1168669381': 'https://t.co/Z8gTo2rnyF', '228008865': '“Two years since the UK quit the EU, the future for mountain sheep-farmers is full of economic precarity. Lost unfettered access to nearest export market, facing reduction in farm subsidies as the result of the loss of the common agricultural policy (CAP). https://t.co/Y5POdbwt2I', '34236713': '‘We’re only seeing the negative’: UK farmers on Brexit and losing the common agricultural policy https://t.co/Wu43X84BD7', '48996717': 'https://t.co/1wpFiyk48U https://t.co/CuNEwYzQws', '48639042': '‘We’re only seeing the negative’: UK farmers on Brexit and losing the common agricultural policy https://t.co/G7uofwIQAK', '14349660': '‘We’re only seeing the negative’: UK farmers on Brexit and losing the common agricultural policy\\nStarmer is not going to make brexit work and needs to face up to reality\\n#ToryBrexitDisaster\\n#BrexitHasFailed\\n#RejoinEU https://t.co/erWCfDnhdI', '880075474495582208': '‘We’re only seeing the negative’: UK farmers on #Brexit and losing the common agricultural policy https://t.co/jlblH5GfCn', '1487012130046025728': '‘We’re only seeing the negative’: UK farmers on Brexit and losing the common agricultural policy https://t.co/HPRvLzjn8U', '101051395': '‘We’re only seeing the negative’: UK farmers on Brexit and losing the common agricultural policy https://t.co/mE3zAGra5S', '1198150846208446464': '‘We’re only seeing the negative’: UK farmers on Brexit and losing the common agricultural policy https://t.co/dDExGjBvh9 \\nI still see all the Billboards in the fields.......', '1216482482': '‘We’re only seeing the negative’: UK farmers on Brexit and losing the common agricultural policy https://t.co/Sy4rtY2HHM', '799536494511816704': '@LauraKe37166786 @ziggy6769 @BillOHara12 untrue. Farmers, as a constituency, missed the impact of brexit', '2190315380': 'Charities and employers struggling due to post-#Brexit funding delays - Some voluntary groups have closed and farmers report problems after slow disbursal of UK funds to replace EU money https://t.co/YKmjMz3Ss7', '46688507': 'Project Fear. All spelled out on twitter in the leadup to #Brexit https://t.co/jYj19E8IQJ', '36999865': '#r4today https://t.co/B7XxgS9j6g', '2859163367': 'https://t.co/hOzpzG1UHe https://t.co/Rxh5QNZt5q', '1657760077': '@BrexitNewsTV @BarbaraNice @Nigel_Farage https://t.co/yuGQMhkBVf  #BrexitDisaster', '128713577': '‘We’re only seeing the negative’: UK farmers on Brexit and losing the common agricultural policy\\nhttps://t.co/ymrhIdjTd6', '1545020650947215361': '‘We’re only seeing the negative’: UK farmers on Brexit and losing the common agricultural policy. Farmers, fisherman, every day folk of Britain still waiting for #Brexit benefits. A blue passport and imperial measures don’t keep the heat on. https://t.co/uLpZhzxsH1', '1134035655443529729': 'https://t.co/nEXIXOyhZg', '121637897': '‘We’re only seeing the negative’: UK farmers on Brexit and losing the common agricultural policy https://t.co/TrgP1S39ek', '1090969582712643584': '‘We’re only seeing the negative’: UK farmers on Brexit and losing the common agricultural policy https://t.co/IjyMCQNkq8', '59120414': '‘We’re only seeing the negative’: UK farmers on Brexit and losing the common agricultural policy | Brexit | The Guardian https://t.co/C7GzHkIXu7', '614229406': 'I had too many hopeless conversations with farmers to feel nothing but anguish at what too many of them voted for. Silly, silly people. https://t.co/dyWmljkDcJ', '22992823': '‘We’re only seeing the negative’: UK farmers on Brexit and losing the common agricultural policy https://t.co/8LjyeAhSsH', '939517294811762688': '😅😅😅\\n\\n#Brexit reality\\n\\n#BrexitBrokeBritain\\n\\nhttps://t.co/M2McwzI8NG', '1058066274': '‘We’re only seeing the negative’: UK farmers on Brexit and losing the common agricultural policy\\n https://t.co/P4aHEtVxYI', '1034284633': '‘We’re only seeing the negative’: UK farmers on Brexit and losing the common agricultural policy https://t.co/f3PiVw2VVI', '701696631331287040': 'UK Farmers have lost unfettered access to their nearest export market, reduction in farm subsidies, have been disadvantaged by trade deals giving access to the UK market to rival farmers from Aus &amp; NZ\\n#BrexitBrokeBritain #Brexitisntworking\\nhttps://t.co/ALbtDhSKVS', '852305933271093248': \"It's good reporting but it does miss the obvious question about how the affected farmers voted in 2016. It does make a difference if someone is a victim or an culprit https://t.co/k8FrNQxCyc\", '568617462': '‘We’re only seeing the negative’: UK farmers on Brexit and losing the common agricultural policy\\n\\nIn the third of our series looking at the impact of the Brexit trade deal, the Guardian talks to farmers about the difficulties they face\\n\\nhttps://t.co/yVwbjuM9Gf', '2209501586': '‘We’re only seeing the negative’: UK farmers on Brexit and losing the common agricultural policy https://t.co/en3nChnyBj', '880070186124156928': 'https://t.co/vpqibIk6mC', '1412369746457088000': '‘We’re only seeing the negative’: UK farmers on Brexit and losing the common agricultural policy |\\xa0Brexit https://t.co/t2Zm7QHg3x', '1092981085359820800': 'Yet more Brexit \"Sunlit Uplands\"... \\n\\n‘We’re only seeing the negative’: UK farmers on Brexit and losing the common agricultural policy https://t.co/17vZjcXktb', '3073869617': \"UK farming has been 'chucked under a bus'.\\n‘We’re only seeing the negative’: UK farmers on Brexit and losing the common agricultural policy https://t.co/C6Lxbfd6EH\", '963442716096032768': '‘We’re only seeing the negative’: UK farmers on Brexit and losing the common agricultural policy | Brexit | The Guardian https://t.co/oU8z9joqzH', '291388870': '‘We’re only seeing the negative’: UK farmers on Brexit and losing the common agricultural policy | Brexit | The Guardian https://t.co/XrF0WmDDWm', '602895954': '‘We’re only seeing the negative’: UK farmers on Brexit and losing the common agricultural policy https://t.co/yYTjNWvzpF', '1280455909': \"Key point here is that @GutoAberconwy is a former Tory MP and Minister in Theresa May's government. And his view is that Brexit has shafted farmers in Wales.   Imagine if he'd been open about the impacts in 2019. https://t.co/7YuBp7LWqJ\", '66661130': 'Britain deserves better. #GeneralElectionN0W \\n\\n‘We’re only seeing the negative’: UK farmers on Brexit and losing the common agricultural policy https://t.co/iOOPyGdn59', '20436383': 'Brexit means Brexit, Brexidiots\\n\\n‘We’re only seeing the negative’: UK farmers on Brexit and losing the common agricultural policy https://t.co/Pbpb1pTX88', '1012359349166059521': 'UK farmers blame Brexit for loss of access to EU and common agricultural policy subsidies https://t.co/DfEuwaUrao', '17484821': '‘We’re only seeing the negative’: UK farmers on Brexit and losing the common agricultural policy https://t.co/bExu98Aebe', '924257264470458368': 'Charities and employers struggling due to post-Brexit funding delays\\n\\nSome voluntary groups have closed and farmers report problems after slow disbursal of UK funds to replace EU money\\n\\n#Brexit has broken something that was working\\n#BrexitBrokeBritain https://t.co/zFXXbX5DiU', '63144412': '\"... threatening the presence of a farmer as pastoral keeper of the land... the importance of sheep grazing the uplands to keep grasses down and minimising the risk of climate change wildfires.. \" @GeorgeMonbiot have you seen this twaddle? 🤦\\u200d♂️ 🧵\\nhttps://t.co/zUwQ9lsTBD', '1221912661178404864': '‘We’re only seeing the negative’: UK farmers on Brexit and losing the common agricultural policy | Brexit | The Guardian https://t.co/HvHHCt4XyB', '1545618764': '‘We’re only seeing the negative’: UK farmers on Brexit and losing the common agricultural policy https://t.co/AUkHmdORMx', '1580210997142474755': '@vivamjm Brexit has many mysteries (courtesy of Russian cash etc) but one of the most profound is why UK farmers supported it so strongly.', '351065029': '‘We’re only seeing the negative’: UK farmers on Brexit and losing the common agricultural policy | Brexit | The Guardian https://t.co/W94eDn4CZM', '804348254': 'https://t.co/hzSvaGbs7P', '119444624': 'When \"project fear\" meets project reality ......\\n\\nhttps://t.co/9cHyVkHjFv', '830798456100966403': '@chevington Though it is frequently said, “All farmers voted for Brexit\" - Actually it seems that around 52-53% of farmers voted for Brexit based on several polls before and after June 2016.  So a similar proportion to the UK as a whole. The NFU campaigned to Remain in the ref. in 2016', '3192252407': '\"Brexit barriers are so unnecessary\" ...err...yes..FFS...so why fucking vote for them then? Jesus, what an idiot country.\\nhttps://t.co/BxvbSXgJWH', '39535196': 'Yet more Brexit \"benefits\"\\n#BrexitBrokeBritain\\n\\nhttps://t.co/GYw6zTmSfg', '129193125': \"Harvest time: Why the UK should unleash the power of gene editing.  \\n\\nBy Cameron English\\n\\nBrexit places England in a position to breakaway from the EU's archaic vision of biotech -- a more sustainable and profitable future for English farmers.\\n\\n@iealondon  https://t.co/iSZsMHvSZW https://t.co/zmHBsCrRZ0\", '185789804': '‘We’re only seeing the negative’: UK farmers on Brexit and losing the common agricultural policy https://t.co/26A3wmhlAM', '3253345791': '‘We’re only seeing the negative’: UK farmers on Brexit and losing the common agricultural policy https://t.co/sKM1VmRWe6', '1565678680558411776': '‘We’re only seeing the negative’: UK farmers on Brexit and losing the common agricultural policy https://t.co/cTAxufXNS5', '170282950': '‘We’re only seeing the negative’: UK farmers on Brexit and losing the common agricultural policy https://t.co/Fjw5fTLTc4', '368115754': 'https://t.co/K1cFprf9Fg', '1586708665918259200': '@chrisgreybrexit How many farmers supported Brexit? It’s hard to understand how they failed to predict losing all those CAP subsidies. I’m always stunned by people who don’t understand their own business.', '1615435386': '@Nigel_Farage https://t.co/vVdaSicnHw', '830808076756328448': '‘We’re only seeing the negative’: UK farmers on Brexit and losing the common agricultural policy https://t.co/4fq9E5pIdd', '1025384769054539776': 'Food for thoughts. #Brexit \\n⤵️\\n‘We’re only seeing the negative’: UK farmers on Brexit and losing the common agricultural policy https://t.co/jtpEZFXk5M', '210423769': 'Brexit. The gift that keeps on taking!\\n\\nhttps://t.co/mok6t8vqHn', '107702315': 'Some voluntary groups have closed and farmers report problems after slow disbursal of UK funds to replace EU money\\nhttps://t.co/SLTxan0ann', '57441088': 'What a stunning fuck up...By the very people getting fucked up.\\n\\nhttps://t.co/JGS3hFeYzL', '104896385': '‘We’re only seeing the negative’: UK farmers on Brexit and losing the common agricultural policy. Didn’t farmers overwhelmingly vote for Brexit? #brexitlies #brexitbrokebritain  https://t.co/IYO74b16k0', '18865355': 'So the #Brexiteers lied about the impact of #Brexit on farmers, because they HAD NO PLAN! #ToryLies #BrexitLies - ‘We’re only seeing the negative’: UK farmers on Brexit and losing the common agricultural policy https://t.co/LPKJAY0bYY', '3652599853': 'Once again further evidence that average Brit farmer didn’t understand the full implications of Brexit, loss of market access and associated costs of playing on the outside, and didn’t fight against it.  https://t.co/ZjtpbjXTJT', '253615321': 'Two years since #BrexitReality the future for mountain sheep-farmers is full of economic precarity.\\nThey have lost unfettered access to his nearest export market, faces reduction in subsidies, and has been disadvantaged by EU #tradedeals with Australia/NZ https://t.co/uFl9edQ1g9', '24472344': \"'She pledged to have the “full range” of replacement supports in place by 2024, which would work whether “you are a commoner, upland farmer, or small family farm”.'\\n\\nA 'commoner'?\\n\\nWow Britain really IS stuck in the 19th century.\\n\\nhttps://t.co/6JePEwbzrd\", '1026120626153631746': '‘We’re only seeing the negative’: UK farmers on Brexit and losing the common agricultural policy https://t.co/D5zxKvCGoa', '99337454': 'Haha - so why did they Vote for it, then? haha ‘We’re only seeing the negative’: UK farmers on Brexit and losing the common agricultural policy https://t.co/YdHEJ9RrPm', '1007034649': 'Brexit, the government said, was about giving farmers “for the first time in 50 years [the] chance to do things differently”\\n\\nIan Rickman at his farm in Wales: ‘I’ve heard farmers say the industry was more or less chucked under a bus.’ https://t.co/AcVHjlDLqN', '1594042385293774848': '‘We’re only seeing the negative’: UK farmers on Brexit and losing the common agricultural policy https://t.co/6Fy6F4i96K', '171920903': '‘We’re only seeing the negative’: UK farmers on Brexit and losing the common agricultural policy https://t.co/leRH5pil7X', '1158403249': '‘We’re only seeing the negative’: UK farmers on Brexit and losing the common agricultural policy https://t.co/feJeucZGSV', '747349420983754752': '‘We’re only seeing the negative’: UK farmers on Brexit and losing the common agricultural policy. #ToryBrexitDisaster  https://t.co/aazn9cyhgQ', '462310129': '‘We’re only seeing the negative’: UK farmers on Brexit and losing the common agricultural policy https://t.co/RpXdzvnUr5', '2273165096': '‘We’re only seeing the negative’: UK farmers on Brexit and losing the common agricultural policy https://t.co/x6JAZsyW2s', '15528707': \"In the light of this article, I've always wondered why the European Union does not have a Digital Economy Policy (at the very least) on a par with the Common Agricultural Policy\\n\\nhttps://t.co/dG9v7mCZwX\", '1596247672142315520': '@Jacob_Rees_Mogg Utter nonsense!\\nBrexit has simply not delivered what you claimed.\\nWhat you lied about.\\nLittle-Englander mentality and empty promises.\\nThough I bet that you profited from Brexit.\\n\\nhttps://t.co/wv63KBRoHy', '367718336': 'https://t.co/wLWkaqtt8q', '1349019867329032194': 'https://t.co/e5J85nOIcr', '1547714424533790721': '‘We’re only seeing the negative’: UK farmers on Brexit and losing the common agricultural policy https://t.co/9ZvpjmRtSW', '1061984344728846336': 'Is there a positive, over 90% of farmers voted for brexit, fools all of them -- https://t.co/I5kLWmXBV1', '2827178988': '@gorbalsgoebbels @mehercle @JeanMcClung2 @Gordonross45 Those material constitutional changes came quicker than anticipated... Do try to keep up. EVEL 2015, Brexit 2016, Scottish farmers denied final CAP funding 2019 Internal Market Act 2020, The UNCRC (Incorporation) (Scotland) Bill 2021 - unconstitutionally challenged by Westminster', '1597752253540081664': '‘We’re only seeing the negative’: UK farmers on Brexit and losing the common agricultural policy https://t.co/Xmek8YMBsE \\n\\nUk should just invest in rewilding', '1012176842': 'https://t.co/AV06lXzImS\\n#RejoinEU', '3083871597': '@BestForBritain The Australian,  New Zealand trade deal is a disaster for British livestock farmers,  most of whom believed the Brexit lie and voted for it. But this bullshit from Bowie illustrates just how low the nation has sunk.', '485912398': '‘We’re only seeing the negative’: UK farmers on Brexit and losing the common agricultural policy https://t.co/kmTfGNAopJ', '310203059': \"@twitchiefsmate @GBNEWS Nonsense, what are the benefits of leaving the EU? Brexit has hit the UK economy harder than the rest of Europe. Ask farmers, fishermen, the services industry, musicians or companies trading with the EU what the benefits were. They've all been shafted.\", '1282693762385403906': \"https://t.co/4U98DNX10P\\n\\nSeems that buyer's remorse stings like bugger.\", '1487201937611239424': '‘We’re only seeing the negative’: UK farmers on Brexit and losing the common agricultural policy https://t.co/XQXlFZrtp5', '1380238089763819526': 'He has lost unfettered access to his nearest export market faces reduction in farm subsidies as the result of the loss of the common agricultural policy &amp; disadvantaged by trade deals giving access to the UK market to rival farmers from Oz &amp; NZ\\nBrexit 🤪\\n\\nhttps://t.co/LRrWvvveQ9', '95955079': '‘We’re only seeing the negative’: UK farmers on Brexit and losing the common agricultural policy https://t.co/HZLUe3IjgM', '262080255': 'Who could possibly have predicted this happening 🤔\\nhttps://t.co/KlpSEDlBF9', '34069833': 'Top story: ‘We’re only seeing the negative’: UK farmers on Brexit and losing the common agricultural policy | Brexit | The Guardian https://t.co/i09x7ZIEVL, see more https://t.co/Kxh0Dt9whJ', '839402840': 'The Guardian Politics NEWTop story: ‘We’re only seeing the negative’: UK farmers on Brexit and losing the common agricultural policy | Brexit | The Guardian https://t.co/5u4MPSidnm, see more https://t.co/FIrAkwMHWl', '58377839': 'Top story: ‘We’re only seeing the negative’: UK farmers on Brexit and losing the common agricultural policy | Brexit | The Guardian https://t.co/Fq7uFO1mha, see more https://t.co/InywxU4xHs', '25673390': 'Top story: ‘We’re only seeing the negative’: UK farmers on Brexit and losing the common agricultural policy | Brexit | The Guardian https://t.co/4818xf5ay3, see more https://t.co/5MsbBLvAXG', '1024395565323497472': '‘We’re only seeing the negative’: UK farmers on Brexit and losing the common agricultural policy https://t.co/AUoQxkm4nn', '1670902892': '‘We’re only seeing the negative’: UK farmers on Brexit and losing the common agricultural policy https://t.co/vQdhMSqsds', '1017007232028958720': 'https://t.co/IxQGYeiP6D', '226526093': '‘We’re only seeing the negative’: UK farmers on Brexit and losing the common agricultural policy https://t.co/3OKqHdNLLU', '329729189': '#BrexitBenefits https://t.co/wDM2vI6fp0', '4653577936': 'As you sow so shall you reap #52 - ‘We’re only seeing the negative’: UK farmers on Brexit and losing the common agricultural policy https://t.co/2lZuMWwIhM', '74407948': 'The fact the majority of famers voted in favour of Brexit feels like a missing piece of crucial context in these sort of articles.\\nhttps://t.co/tYsvj9qxFO', '747337498481692676': 'As predicted at the time …..and yet English and Welsh farmers who generally seemed to have voted for Brexit, seem surprised by the outcomes!\\n\\n‘We’re only seeing the negative’: UK farmers on Brexit and losing the common agricultural policy https://t.co/NHfLxlFRxi', '780506480449650689': '‘We’re only seeing the negative’: UK farmers on Brexit and losing the common agricultural policy https://t.co/PN4g36qWG7', '1125358929557491713': 'Ms Batters was warned about this \\nBut she believed what Johnson told her…\\nNow look at our farms  https://t.co/PFJuzyjKfs', '309632087': '#BrexitBrokeBritain\\n#BrexitHasFailed\\n\\nhttps://t.co/LdTkdb7C0Y', '1085683407844265984': 'There are NO positives, only negatives.\\n\\n#BrexitIsACrimeScene\\n\\n‘We’re only seeing the negative’: UK farmers on Brexit and losing the common agricultural policy https://t.co/XbqifmzhDj', '1266563068223504389': \"'We're only seeing the negative': UK farmers on Brexit and losing the common agricultural policy: The Guardian https://t.co/0F0z7a3vah \\n\\nMORE w/ EcoSearch: https://t.co/V08wP763Ft\", '1100542186733690880': 'Yet another \"benefit\" of Brexit.\\nhttps://t.co/KH07FkLzha', '28361342': '@lisaocarroll None of this should be a surprise to farmers. Why the moaning? They were warned about the impact Brexit would have on farming but still they all voted for it. Actions have consequences.', '54575030': '“There’s no way you can dress those trade deals up as a good thing. I’ve heard farmers say the industry was more or less chucked under a bus.”\\n\\nhttps://t.co/BhaF5OdKGh\\n\\n#bbcpm', '1139120828124225538': 'Cannot see any blue sky &amp; Brexit benefits in this analysis. Maybe Liz @LizWebsterLD can? #RejoinEU #Rejoin ‘We’re only seeing the negative’: UK farmers on Brexit and losing the common agricultural policy https://t.co/WzN5s2B4vd', '18897867': '‘We’re only seeing the negative’: UK farmers on Brexit and losing the common agricultural policy https://t.co/UzoiahkBZI', '1004318000584056832': '#BrexitReality\\n\\n‘We’re only seeing the negative’: UK farmers on Brexit and losing the common agricultural policy\\n\\nhttps://t.co/JFVNvwUsLY', '3295732359': \"Charities and employers struggling due to post-Brexit funding delays.\\n\\nBy Lisa O'Carroll\\xa0and\\xa0Heather Stewart.\\n\\nSome voluntary groups have closed and farmers report problems after slow disbursal of UK funds to replace EU money.\\n\\nhttps://t.co/2hGgAZbd2s\", '1394983431440846854': 'Taking back control\\nhttps://t.co/8lbnibhHeM', '380261352': '‘We’re only seeing the negative’: UK farmers on Brexit and losing the common agricultural policy https://t.co/q9B3T6BY5R', '299131994': '@BestForBritain How many farmers voted for Brexit?', '379683242': '‘We’re only seeing the negative’: UK farmers on Brexit and losing the common agricultural policy https://t.co/JNHAHcnSuX', '100561484': '‘We’re only seeing the negative’: UK farmers on Brexit and losing the common agricultural policy https://t.co/l9PMJl8d7F', '1109510295582588930': \"@BestForBritain Farmers saying they're only seeing the negative from brexit.\\n\\nIs there a single industry that's seeing positive consequences of brexit?\", '25876418': 'Brexit special report:                               2 years post Brexit, how is agriculture faring with that CAP replacement?     And those New Z and Oz trade deals?                                                         (2moro I report on EU dev funds)  https://t.co/FxBK0bQ5th', '846037320667217921': 'He has lost unfettered access to his nearest export market, faces reduction in farm subsidies, and has been disadvantaged by trade deals. \\n\\n“The industry was more or less chucked under a bus.” ~AA \\n\\nhttps://t.co/PJNyFEOjQj', '329215336': '‘We’re only seeing the negative’: UK farmers on Brexit and losing the common agricultural policy https://t.co/iiJ4OzMjo8', '788783954212036608': '‘We’re only seeing the negative’: UK farmers on Brexit and losing the common agricultural policy https://t.co/EHmvVHOFTk\\n#BrexitBrokeBritain #ToryCostOfGreedCrisis', '831288468437344260': '‘We’re only seeing the negative’: UK farmers on Brexit and losing the common agricultural policy https://t.co/w5wPhBt7Gu', '2724613663': '‘We’re only seeing the negative’: UK farmers on Brexit and losing the common agricultural policy https://t.co/Li749Q8XaU', '1279770955318013952': '‘We’re only seeing the negative’: UK farmers on Brexit and losing the common agricultural policy https://t.co/emOMYRfldU', '77724070': '‘We’re only seeing the negative’: UK farmers on Brexit and losing the common agricultural policy https://t.co/r0V5vtHQYL', '13841812': '‘We’re only seeing the negative’: UK farmers on Brexit and losing the common agricultural policy https://t.co/nqkkkMh5uc', '731794914401456128': '#Brexit all downside  for British agriculture.... as had been announced already before the referendum. \\n\\n@lisaocarroll\\nhttps://t.co/4O5k2ErZrU', '771611432': \"No 'fantastic benefits' of #Brexit for consumers or farmers, @mimsdavies. @midsussex_times #bbcpm #RemainersWereRight https://t.co/VBvN9KuVw8\", '3362591548': '‘We’re only seeing the negative’: UK farmers on Brexit and losing the common agricultural policy https://t.co/gexkeKhrAD', '1869167598': 'Sunlit uplands still undiscovered #BrexitBrokeBritain #BrexitReality https://t.co/XJRBGikuKe', '3345987107': '‘We’re only seeing the negative’: UK farmers on Brexit and losing the common agricultural policy https://t.co/xMlHlBvy5A', '4120967009': '‘We’re only seeing the negative’: UK farmers on Brexit and losing the common agricultural policy &amp; yet again Brexit spells out what a bloody disaster it was for all of us! Retweet if you agree! A15M8uW?ocid=msedgdhp&amp;pc=U531&amp;cvid=aaeea70fe9804523b6c8907ac3653f73', '815486352': '‘We’re only seeing the negative’: UK farmers on Brexit and losing the common agricultural policy. So where’s the fight back and your voices raised 📣 Your 🇫🇷 counterparts would never have gone down with a whimper. https://t.co/JukuW49XKz', '1092378031': '‘We’re only seeing the negative’: UK farmers on Brexit and losing the common agricultural policy https://t.co/pjyM3FuWeN', '2982353332': '@johanntasker “From a sheep farmer’s point of view, there’s no good outcome from those trade deals”says Rickman.\\n\\n“Their predominant international markets are China &amp; far east. Why give them access to the UK?” Indeed.  @lisaocarroll \\nhttps://t.co/xztvfK8HmE', '1269268364096135171': '‘We’re only seeing the negative’: UK farmers on Brexit and losing the common agricultural policy https://t.co/tickBRjT0L to find answers very simple find a regime in the world and that will be the answer special when comes to profits and corruption', '19037388': '#Brexit screwed Farmers\\n#Brexit screwed Fisheries\\n#Brexit has failed.\\n\\nhttps://t.co/UQzg2ertuT', '1248594550983098375': \"...get yourselves, equipment and livestock driven I to the heart of Westminster and picket these heinous Political cretins into submission. You were lied too &amp; your suffering the consequences. Drop the manure on No 10's front doorstep #IstandwithUKfarmers https://t.co/E0BzQg31mk\", '302631227': '‘We’re only seeing the negative’: UK farmers on Brexit and losing the common agricultural policy https://t.co/3uUoHn9Mmc', '315370094': '‘We’re only seeing the negative’: UK farmers on Brexit and losing the common agricultural policy https://t.co/FYQjzrLFmQ', '265289792': \"That's because the supposedly positive stuff was lies! #Brexit https://t.co/HbaopESVbb\", '1169991524': '‘We’re only seeing the negative’: UK farmers on Brexit and losing the common agricultural policy | really?? What a surprise!  https://t.co/gnWstlyZBC', '4854823233': '‘We’re only seeing the negative’: UK farmers on Brexit and losing the common agricultural policy https://t.co/Y852DEXPvd', '2862152221': '‘We’re only seeing the negative’: UK farmers on Brexit and losing the common agricultural policy https://t.co/5HeMvQuHOU', '1031499271093272576': '‘We’re only seeing the negative’: UK farmers on Brexit and losing the common agricultural policy https://t.co/bNwx25ofgk', '902620050636595203': 'Brexit has been all bad for farmers. Undercut by dodgy trade deals, loss of EU support with no adequate replacement funding, loss of labour due to end of free movement, all negative. \\n\\nhttps://t.co/NjkmVBRx6Z', '1459076994625413121': '‘We’re only seeing the negative’: UK farmers on Brexit and losing the common agricultural policy https://t.co/VBXrTP4o0J', '3341560641': \"'We're only seeing the negative': UK farmers on Brexit and losing the common agricultural policy https://t.co/pVh1EYJ0mL\", '604528915': \"Probably shouldn't have kept voting tory  https://t.co/yKKx0VEwhH\", '841197324156194816': 'Brexit! The economic disaster that keeps on delivering poverty &amp; chaos! Welcome to broken Brexitania!\\nhttps://t.co/4dObajFp18', '383826765': 'A good series by The Guardian. It would be interesting to know how Herefordshire farmers are affected by the changes. @HerefordshireEU @herefordtimes ‘We’re only seeing the negative’: UK farmers on Brexit and losing the common agricultural policy https://t.co/k0JHRCEMXs', '25736713': '‘We’re only seeing the negative’: UK farmers on Brexit and losing the common agricultural policy https://t.co/BgAejLyYtk', '20371485': '‘We’re only seeing the negative’: UK farmers on Brexit and losing the common agricultural policy https://t.co/GvT95WqhSq', '191112958': '‘We’re only seeing the negative’: UK farmers on Brexit and losing the common agricultural policy https://t.co/0MiGEIFsyw', '918196050384556037': '‘We’re only seeing the negative’: UK farmers on Brexit and losing the common agricultural policy https://t.co/XxpYwZoC5C', '807271301283016704': '@Ellis_Selway @IoloWilliams2 @AliDriverUK https://t.co/nOTfgvDDJ7', '3070119119': \"We're only seeing #Brexit negative say farmers that have lost unfettered access to their nearest export market, face reduction in farm subsidies as a result of loss of common agricultural policy, &amp; disadvantaged by trade deals \\nhttps://t.co/vgMF1ykdfN\", '24842995': '‘We’re only seeing the negative’: UK farmers on Brexit and losing the common agricultural policy https://t.co/VZaywmJahl', '1367983368': '@Chenbart1 @acgrayling Farmers voted for brexit. It is up to them to make it work for them and stop whining. They are not my problem.', '194113890': 'https://t.co/7QAfiHt7bQ', '365336458': 'These were the BEST placed people to understand what being in the EU meant. But they all out up their UKIP signs in their fields to throw their weight around. \\n\\nhttps://t.co/YAlTtW4OAr', '385996137': '‘We’re only seeing the negative’: UK farmers on Brexit and losing the common agricultural policy https://t.co/AxhBI3fHIl', '49943918': '‘We’re only seeing the negative’: UK farmers on Brexit and losing the common agricultural policy https://t.co/Hs9m7V37RI', '1560485761': '‘We’re only seeing the negative’: UK farmers on Brexit and losing the common agricultural policy https://t.co/J2pZLABGNd https://t.co/ZBFvZmLaoD', '194608722': '‘We’re only seeing the negative’: UK farmers on Brexit and losing the common agricultural policy https://t.co/DH9vF4nImp', '1410540669173743619': '‘We’re only seeing the negative’: UK farmers on Brexit and losing the Common Agricultural Policy | The Guardian https://t.co/aLJ4hg2bBg #BrexitCarnage', '1257408962749763584': '‘We’re only seeing the negative’: UK farmers on Brexit and losing the common agricultural policy https://t.co/hV3W0E3H3i', '352292404': '“Brexit barriers are so unnecessary and for so little gain.” https://t.co/1hghwVGteF', '210413648': '‘We’re only seeing the negative’: UK farmers on Brexit and losing the common agricultural policy https://t.co/2Lp3lHj8y8', '633067171': 'Can anyone explain why I as a non farmer should care about farmers like this when most of them always vote Tory and most of them supported Brexit. Own the direct consequences of your own stupidity farmers! https://t.co/VSitBBwBM6', '991648740': '‘We’re only seeing the negative’: UK farmers on Brexit and losing the common agricultural policy https://t.co/8ejUllIK2M', '16984207': '‘We’re only seeing the negative’: UK farmers on Brexit and losing the common agricultural policy https://t.co/J7u9icjwu8', '2368945105': 'Ooops - more Brexit Benefits \\n\\nhttps://t.co/NEA304nHQu', '1053037378284253184': 'Have to disagree with Bev for the FUW. Brexit barriers are essential if a country’s population falls for nationalist, right wing propaganda and votes to leave the common market. There were always going to be consequences.  https://t.co/urzICnAsc9', '335500784': \"Shouldn't have voted for it, should you? https://t.co/8ewLydY0eU\", '419430544': '‘We’re only seeing the negative’: UK farmers on Brexit and losing the common agricultural policy https://t.co/z1Fj4yJ0gp', '29659071': 'Tories poll ratings are in the toilet precisely because they have screwed over every part of their voter base with Brexit. Brexit only worked when it was an opaque idea https://t.co/8MQyto6oLu', '196541017': '‘We’re only seeing the negative’: UK farmers on Brexit and losing the common agricultural policy https://t.co/9m2wq6Wkzt', '1082964799510720513': 'Brexshit is going SO well... https://t.co/fxOsEV68Az', '17844652': '@RishiSunak once tweeted \"As a representative of one of the most rural constituencies in the UK I will always #BackBritishFarming.\"\\nAgricultural areas Tiverton/Honiton, N.Shropshire and Chesham/Amersham voted for the rejoiner #LibDems.\\nThis is why 👇👇👇\\n\\nhttps://t.co/cWGwX3Jgyi', '1228020590159761410': '@Steve54712762 Yes he did vote Brexit but regrets it bitterly - there was so much misinformation (lies) in UK before referendum &amp; farmers were assured there would be no changes', '1652177576': 'In which 👇 British farmers realise they were sold out by Johnson and Truss, eager for their \"Instagram me now, I won\\'t be around when the damage is done\" trade deals with 🇳🇿🇦🇺\\n(you know, the \"not very good\" ones according to the Brexiteer who signed them) https://t.co/BH60c9dcwl', '2474884325': '‘We’re only seeing the negative’: UK farmers on Brexit and losing the common agricultural policy | Brexit | The Guardian https://t.co/QIVmFJQuaU', '1275709796117815297': '‘We’re only seeing the negative’: UK farmers on Brexit and losing the common agricultural policy - anyone actually surprised??? If so, how can you be!??  https://t.co/9icco3vbhw', '189107137': 'If only someone had warned farmers about this before they filled their fields with Vote Leave banners.\\nhttps://t.co/k82E2DWDzw', '3062777470': 'Hundreds of voluntary organisations have been forced to shut up shop or scale back operations and farmers report problems because of government delays in replacing EU funding, as consequences of Brexit continue to ripple out across the UK.  https://t.co/wyHmvnAYP7', '1271873179896725504': 'Remember this, farmers of #breconandradnorshire, when it comes to the next election:\\nYour current MP, @JonesyFay, thinks the post-Brexit trade deals and reductions in animal welfare standards are good for farming.\\nYou get what you vote for.  https://t.co/SZHdKvivUk', '1578035712049303556': '‘We’re only seeing the negative’: UK farmers on Brexit and losing the common agricultural policy https://t.co/5XtJom5Cyo idiots who voted for brexit good luck and goodnight', '386630251': '\"in the breathtaking western reaches of the Brecon Beacons, Ian Rickman ponders the damage Brexit has done to his future. Two years since the UK quit the EU, the future for mountain sheep-farmers such as him is full of economic precarity.\" https://t.co/hyHIqh0Pi2', '248777189': '‘We’re only seeing the negative’: UK farmers on Brexit and losing the common agricultural policy https://t.co/uL7md4SHDx', '4047251667': '‘We’re only seeing the negative’: UK farmers on Brexit and losing the common agricultural policy https://t.co/VjPbZ9tvVn', '81554436': 'Here we go again! Policy success is difficult. Policy failure is common. Having NO policy to address a serious political problem is unthinkable; that’s exactly what we have with Brexit. Staggering political cowardice. https://t.co/4vEKioeA0O', '33344949': '‘We’re only seeing the negative’: UK farmers on Brexit and losing the common agricultural policy https://t.co/0PQxHquH7l', '1076983036842045440': '“Brexit was always going to lead to considerable change for farm businesses in the UK, with the end of free movement of labour”. But did he vote Brexit ?\\n\\n‘We’re only seeing the negative’: UK farmers on Brexit and losing the common agricultural policy https://t.co/N2NBRd1NmZ', '1089150094765641728': '‘We’re only seeing the negative’: UK farmers on Brexit and losing the common agricultural policy https://t.co/aQBwYTm6GR', '18678321': 'Are EU supporters within the EU the only people to benefit from Brexit? #BrexitCarnage\\nhttps://t.co/nOMmIY62eX', '48992513': '#BrexitReality #ToryBrexitDisaster  ‘We’re only seeing the negative’: UK farmers on #Brexit and losing the common agricultural policy https://t.co/OCCuOMa7Qt', '45823110': '‘We’re only seeing the negative’: UK farmers on Brexit and losing the common agricultural policy https://t.co/il9veALghh', '26485644': 'If only someone could have warned them….’We’re only seeing the negative’: UK farmers on Brexit 🤷\\u200d♂️#brexitlies. #carefulwhatyouwishfor https://t.co/PzzDW7wbHq', '448282164': '#UK farmers 🐑🚜on #Brexit and losing the Common Agricultural Policy #Wales https://t.co/zMf4K9U1hK', '22472162': 'Sunlit uplands …. https://t.co/oRtIDDqoLq', '2550890816': '‘We’re only seeing the negative’: UK farmers on #Brexit and losing the common agricultural policy. \\nThe Guardian talks to farmers about the difficulties Brexit has caused..\\nTwo years since the UK quit the EU, the future ... is full of economic precarity... https://t.co/lfMZEqKiJf', '343986670': '#Conservatives\\n#Brexit\\nhttps://t.co/pA8Kn2vdje', '1307001866': '‘We’re only seeing the negative’: UK farmers on Brexit and losing the common agricultural policy https://t.co/0mmyMS0zyK', '260911380': '#Brexit - just a pile of poo.\\nhttps://t.co/HNKG9LFjNF', '736470381914161152': '‘We’re only seeing the negative’: UK farmers on Brexit and losing the common agricultural policy https://t.co/ttUWzzRRAh', '744559800877342730': '‘We’re only seeing the negative’: UK farmers on Brexit and losing the common agricultural policy https://t.co/PBziDuytmJ  #Brexit #ukpolitics', '825717050538618880': '\"I’ve heard farmers say the industry was more or less chucked under a bus.\"\\n\\nhttps://t.co/2E586rmW9j\\n\\nF*** Business\\nF*** Farmers\\nF*** Fishing\\n\\nBrexit has \\'benefitted\\' just a very few, very rich folks. Nobody else.', '1392236288': '‘We’re only seeing the negative’: UK farmers on Brexit and losing the common agricultural policy https://t.co/acgpJt61G6', '1268848730754756611': '“From a sheep farmer’s point of view, there’s no good outcome from those trade deals,” says Rickman.\\n\\n“Their predominant international markets are China and the far east. Why give them access to the UK? At the moment we are fine, but if for some ….\\n\\nhttps://t.co/ypQYtyS6hx', '995443722': 'Charities and employers struggling due to post-#Brexit funding delays.\\nSome voluntary groups have closed and farmers report problems after slow disbursal of UK funds to replace EU money\\nhttps://t.co/MCjVRhiz3j', '800717025773400064': 'Farmers: #Brexit: lost unfettered access to his nearest export market, faces reduction in farm subsidies as the result of the loss of the common agricultural policy (CAP), and has been disadvantaged by trade deals giving access to the UK market to farmers:Australia/\\xa0New Zealand', '22201609': '‘We’re only seeing the negative’: UK farmers on Brexit and losing the common agricultural policy https://t.co/Kb7wQwhbwk', '31424741': 'https://t.co/qVurE7xcz4', '56041921': '\"We\\'re only seeing negatives...\"\\nDisappointed Brexit-voting farmers, as seen by the rest of the world...\\nhttps://t.co/v4Bvg9Luz4 https://t.co/kB9EBHFyrM', '1686105852': 'so much fucking winning. https://t.co/semzEz8AXJ', '19287584': '‘We’re only seeing the negative’: UK farmers on Brexit and losing the common agricultural policy \\n\\nMakes you wonder why so many opposed the CAP and voted for Brexit sadly.\\n\\nhttps://t.co/U2sGQGKlyJ', '336640966': '‘We’re only seeing the negative’: UK farmers on Brexit and losing the common agricultural policy https://t.co/TdH6F1Ihez', '341163992': 'https://t.co/2Eip9kHyZ8', '1589817711319818240': '@RichardBentall It’s a hearty ‘fuck the farmers’ from me. Didn’t give a toss about their impact on any other industry when they enthusiastically voted for Brexit and the Tories. They’ve made their bed. 🤷\\u200d♂️', '186854449': '‘We’re only seeing the negative’: UK farmers on Brexit and losing the common agricultural policy https://t.co/g8fjKIH5AS', '4350658697': 'Yet another Brexit failure. But there again us guardian reading, tofu eating, left-facing, woke remoners told you this a long time ago. https://t.co/82vIB8ltgR', '504584963': 'More news on the #BrexitCarnage\\n\\nMostly on Wales, which voted for it of course.\\n\\n#ToryBrexitDisaster\\n\\nhttps://t.co/bIJfIWSHx8', '1595528398880792601': '‘We’re only seeing the negative’: UK farmers on Brexit and losing the common agricultural policy https://t.co/A4gR33sFAC Mis-sold Brexit? Put on the list below mis-sold ombudsjustice.', '20521666': 'https://t.co/oeBaqKigHE', '3034684527': 'https://t.co/nMSf6kBLVp', '877550580725686272': '#BrexitReality hitting UK farmers hard, Guardian reports.  https://t.co/7r8nnBmyIp', '211927507': 'The Minford thing of letting the market reign supreme and if that means NZ lamb products puts our farmers out of business (for example), thats just the market at work, feels foolish in the world of pandemics and war. We should prioritise food security.\\n\\nhttps://t.co/i2EJQRNtpF', '849590740246290433': '‘We’re only seeing the negative’: UK farmers on Brexit and losing the common agricultural policy | Brexit https://t.co/b9Z3B6DrEA https://t.co/XRm1iMH2Ut', '166556095': '‘We’re only seeing the negative’: UK farmers on Brexit and losing the common agricultural policy https://t.co/DLLFWvCXbl', '227040979': '‘We’re only seeing the negative’: UK farmers on Brexit and losing the common agricultural policy #ToryBrexitReality https://t.co/WC6F5WeTCx', '896743879050964992': '‘We’re only seeing the negative’: UK farmers on Brexit and losing the common agricultural policy https://t.co/xnn1C3zzdm', '1579394600309080065': '‘We’re only seeing the negative’: UK farmers on Brexit and losing the common agricultural policy. \\u2066@Keir_Starmer\\u2069 \\u2066@AngelaRayner\\u2069 \\u2066@UKLabour\\u2069  https://t.co/8FaDffCJyV', '2730883631': '‘We’re only seeing the negative’: UK farmers on Brexit and losing the common agricultural policy https://t.co/i0n1CKzPRw https://t.co/jmiOF0NlKQ', '619215006': '‘We’re only seeing the negative’: UK farmers on Brexshit and losing the common agricultural policy https://t.co/RvDWthpQFl', '1341846631650648064': '@FreedomRockRad1 Click for full Article! #Breaking #News! ---&gt; ‘We’re only seeing the negative’: UK farmers on Brexit and losing the common agricultural policy | Brexit &lt;--- Freedom Rock Radio https://t.co/S99hnZempB', '2741929095': 'He lost unfettered access to his nearest export market, faces reduction in farm subsidies as the result of the loss of the common agricultural policy, and has been disadvantaged by trade deals giving access to the UK market to rival farmers from 🇦🇺 and 🇳🇿.\\nhttps://t.co/i5Bgwa5eJy', '870295900127715328': 'Chris Grayling’s horrible Hard Brexit is damaging the people it was most meant to help. https://t.co/XJQggUlrV9', '473095137': '‘We’re only seeing the negative’: UK farmers on Brexit and losing the common agricultural policy https://t.co/dfuY9IauAa https://t.co/4o47zRr3K6', '1601306696579702792': \"'We only see the negative': UK farmers on Brexit and losing the Common Agricultural Policy |  Brexit\\nhttps://t.co/XLvxlw1Z3W\", '993968890500788225': '#Brexit\\n‘We’re only seeing the negative’: UK farmers on Brexit and losing the common agricultural policy\\n‘The progressive phasing out of the CAP has left farmers at least 20% down this year and they will be short by 50% of the previous EU subsidy in 2024’  https://t.co/OOn7UOVt08', '591938371': '@LeanHamish Never understood why some farmers seemed to be in favour of Brexit ...', '1601618781910048768': \"'We only see the negative': British farmers on Brexit and the loss of the common agricultural policy |  Brexit\\nhttps://t.co/EpyeirSC7H\", '18525497': '‘We’re only seeing the negative’: UK farmers on #Brexit and losing the common agricultural policy - https://t.co/1cmSJb7Pkn will be even worse with the terrible trade deals UK gov signed with #australia and #newzealand...', '1046305593194106882': 'https://t.co/6ugZZ37IGh', '47930123': '@markjuszkiewicz @KarlTurnerMP @brexit_sham @guardian A NFU poll of farmers showed that 53% voted for Brexit; only 1% more than the general voting population.  Lower than I had imagined.  I’m guessing, lower than you’d imagined too.', '1519048628849029124': \"@KarlTurnerMP @brexit_sham @guardian Screw those farmers...seeing those brexit voting greed ridden clowns lose money is a bonus as far as I'm concerned..\", '1584803404995502082': '‘We’re only seeing the negative’: UK farmers on Brexit and losing the common agricultural policy\\n\\nI wish they hadn’t cried “project fear” when warned. They did, now this 😞 https://t.co/WzlSHQqGrY', '25087876': '‘We’re only seeing the negative’: UK farmers on Brexit and losing the common agricultural policy https://t.co/86cqgEh3uZ', '380462032': '‘We’re only seeing the negative’: UK farmers on Brexit and losing the common agricultural policy https://t.co/yTKxt8uzwH', '47636400': '‘We’re only seeing the negative’: UK farmers on Brexit and losing the common agricultural policy https://t.co/GQSRj45fNF', '948307573744324609': '‘We’re only seeing the negative’: UK farmers on Brexit and losing the common agricultural policy https://t.co/zIKdZBxS5Z', '2872212337': '‘We’re only seeing the negative’: UK farmers on Brexit and losing the common agricultural policy https://t.co/XQtJhn4ABD', '742821120': '“From a sheep farmer’s point of view, there’s no good outcome from those trade deals”.\\n#sapevatelo\\n\\nUK farmers on Brexit and losing the common agricultural policy https://t.co/HY7vwSRQoc', '228176071': '‘We’re only seeing the negative’: UK farmers on Brexit and losing the common agricultural policy https://t.co/w3hwsDxjp6', '814952878666346496': '‘We’re only seeing the negative’: UK farmers on Brexit and losing the common agricultural policy https://t.co/loqzPgIHZA', '1117821212': '\"He has lost unfettered access to his nearest export market, faces reduction in farm subsidies as the result of the loss of the CAP, and has been disadvantaged by trade deals giving access to the UK market to rival farmers from AUZ and NZ.\"\\n\\nhttps://t.co/tERfQ1dYGS', '432396682': '‘We’re only seeing the negative’: UK farmers on Brexit and losing the common agricultural policy \\u2066@guardian\\u2069  https://t.co/hEoUbc3VeT', '57486612': '‘We’re only seeing the negative’: UK farmers on Brexit and losing the common agricultural policy https://t.co/0kih7rO1OG', '2210251178': 'Charities &amp; employers struggling due to post-Brexit funding delays\\n\\nSome voluntary groups have closed &amp; farmers report problems after slow disbursal of funds to replace EU money\\n\\n🤔But, blue passports . . . passports that are blue!😬\\n\\n#ToryBrexitDisaster\\nhttps://t.co/6pdC2241z2', '2940557482': '‘We’re only seeing the negative’: UK farmers on Brexit and losing the common agricultural policy https://t.co/LVo7y5edEg', '1337754019163496450': '#Voluntarysector #Internationaltrade Charities and employers struggling due to post-Brexit funding delays: Some voluntary groups have closed and farmers report problems after slow disbursal of UK funds to replace EU money\\n\\n * UK traders on Brexit: ‘It’s… https://t.co/t9uo6Rk5NG', '87818409': '‘We’re only seeing the negative’: UK farmers on losing the common agricultural policy https://t.co/CSMsK2R8Rv', '391510019': 'Rishi Sunak’s bid to join Pacific trade bloc could hurt UK farmers, internal data shows https://t.co/cUW1h1QcRy\\n\\nHurting UK farmers hasn’t stopped Sunak before. He’s motivated by a desperate desire to mitigate the consequences of Brexit but he’ll alienate his base.', '1104702810220888064': '@MrRCain2 No such thing as Democracy in a party that uses the term in its title the DUP. Loyal DUP voting farmers begging for them to listen over Brexit and they ignore them and do their own thing. Many examples of disregarding democracy can be found. They, in reality the anti democracy!', '903683024503623680': \"Egg rules 'may be scrambled' to avoid British producers being undercut https://t.co/HJwl1qLB4V \\n\\nDidn't #ProjectFear say that UK food standards would be cut as part of #Brexit? Yet here we see EU doing this very thing - reducing food standards... Any remainers care to comment????\", '1596422296469651456': \"@LeoKearse Could be Brexit, white people or COVID. But it definitely won't be the world governments telling farmers to try coding instead.\", '1472982721622380547': '@Justbob111 @RobMcGuire4 @confidencenac @VineyBernard Bob -let’s see how fishermen &amp; farmers fare in coming years with the desperate deals they’ve done to cover Brexit; UK firms also struggling with supply chain issues due to Brexit. Like you I’m a former life long conservative, worked in the North Sea,currently politically homeless', '1113720391715962880': 'AND ANOTHER BREXIT FAILURE AND COVERUP, HOW CAN CHICKENS RAISED INSIDE BE FREE RANGE WE ASK THE TORIES: Free range egg rules could be torn up over fears EU farmers will get unfair advantage say the Lying English government https://t.co/rFNVWXQcof', '1271223433553207296': 'UK farmers and fishing folk voted for Brexit.\\nIdiots.\\nAbsolutely sold themselves out.\\nNo sympathy whatsoever.\\nTaking back control!!!!!!!!! https://t.co/SQIBcTTB8F', '459587081': 'Brexit presented an opportunity to pay farmers more realistically for the public goods and services they provide - biodiversity, water management, carbon sequestration, public access, amenity.\\n\\nThat opportunity seems to be vanishing quickly.', '1224381854377291776': '@BrainoLad @NicholasTyrone https://t.co/eseTAdJ2fM', '1074657601214910464': \"Pathetic and a lie @RishiSunak. What's happened to your promises of honesty and integrity? Brexit either worked or didn't. Making animals suffer to cover up your failures is immoral. \\nhttps://t.co/5wwxCdb3zh\", '1305909315493130242': 'Free range egg rules could be torn up over fears EU farmers will get unfair advantage \\nSHOWS BORIS LIED ON LL COUNTS, THE DEAL EH SIGNED WAS NOT BREXIT.\\nhttps://t.co/9h7A1LxJoG', '2386275591': '@Dhharri @Daveyraveyrgave @brexit_sham @Agaholic76 Farmers and fishermen voted for it. Look at the state of them industries now.', '542025094': 'Brexit - another disaster for Wales and our farmers. Come on Conservatives, stop pretending it’s a complete and utter nightmare for  us and do something about it. https://t.co/qhPb5t3M87', '1275094461689876481': '@CAupdates Farmers packing it in as Brexit, inflation &amp; rising interest rates destroy their business. But, aye. Toff away on your barbaric sham.', '1061584045409210368': 'Charities and employers struggling due to post-Brexit funding delays. Some voluntary groups have closed and farmers report problems after slow disbursal of UK funds to replace EU money https://t.co/aK131qEH0z @LibDemsinBiz @timfarron @LibDemCreative @cajardineMP @WelshLibDems https://t.co/VAxLCfl7Rj', '1400801737431257088': \"With #Brexit affecting the agriculture industry, now is a great time for farmers to consider diversifying their businesses. Whether it's offering agritourism experiences, starting a farm-to-table restaurant, or something else entirely, there are so many possibilities for #Farm...\", '179468611': \"I know I keep on about it, but Brexit failed miserably! Boris's promised funding to employers, farmers &amp; charities to replace EU support never arrived - £11bn!\", '2203796087': 'Charities and employers struggling due to post-Brexit funding delays\\n\\nVoluntary groups have closed and farmers report problems after slow disbursal of UK funds\\n\\nGovernment funding intended to replace EU support shows multimillion-pound gaps in funding\\nhttps://t.co/mDDyfqTUwL', '1887781854': 'In fairness to Rishi Sunak why would you allow the publication of figures showing that your Brexit trade deals are actually harming British farmers &amp; businesses ? \\n\\n#BrexitHasFailed \\n\\nGov’t won’t publish estimate of “economic benefits” of Brexit trade deal https://t.co/A4s72zh3jc', '1372959715': 'Charities and employers struggling due to post-Brexit funding delays\\nSome voluntary groups have closed and farmers report problems after slow disbursal of UK funds to replace EU money\\n\\nUK traders on Brexit: ‘It’s increased paperwork, stress, everything’\\n\\n https://t.co/r7UYAAAPKj', '1513515476051238918': '@johnredwood Well I live in a rural area and the farmers round here since Brexit have ploughed salad crops back into their fields and given away soft fruit for free to the local community because they can’t get pickers. We need FOM end of story.', '310028318': '@FarmingUK @teaandabikkie We haven’t been able to feed ourselves solely from our own production since the 1860s. Brexit (wh sadly many farmers supported) was a disaster &amp; current planning policy is slaughtering what’s left, wholesale. Get farmland &amp; Green Belts protected. Go for agroforestry. FIGHT BACK', '911241543394217985': '@FarmingUK So mi5 and farmers think brexit is a disaster?', '713892997599928320': '@johnredwood You lots made so many fishermen out of work with brexit lol. As for grants for farmers is that to keep them silent from saying how lack of workers since brexit has hampered them. If I also remember tories said in 2014 oil in North Sea is running out.... #Scotland', '84391238': 'Charities and employers struggling due to post-Brexit funding delays: Three years after Boris Johnson was swept to power promising to “get Brexit done” employers, farmers and charities are still wrestling with the reality of life outside the EU. https://t.co/86GcvwcLgV', '2710156460': '@johnredwood Due to Brexit your farmers have no workers. \\nThe oil we produce we don’t use,we export gas.\\nYou can rebuild your fishing fleet all you want,they will have no quotas,they have been sold.Apart from the fact due to the sewage overflowing into you seas no one will buy you’re fish. https://t.co/TGP39dX91h', '1467977554879565826': 'Conservatives dysfunctionality: 100s of voluntary orgs R collapsing due2 delays in replacing EU funding. Jhnson’s Brexit is the epicentre of increasing farming, infrastructure &amp; there4 PPL’S austerity. Farmers &amp; charities R wrestling with existing https://t.co/zWnN8jV9KW', '826234890492456960': \"@GarethMiles15 @NicholasTyrone You're clearly for the globalist, free trade Brexit. UK farmers, fishermen and 'red wall' voters wanted a much more 'UK protectionist Brexit'. You believe the EU was already way too 'protectionist'. Not sure there's that much support for your Mimford/Rees-Mogg version now.\", '555558387': \"@johnredwood Do you have any idea that farmers are losing their subsidies (originally from the EU) by 2028 due to your Tory Hard Brexit, John?\\nIf you're angry about that, complain to your local MP.\", '492500754': '@boomer_ish @WilliamYearnor @ChrisEv06631592 @MunroeL @rec777777 @BogCleaner1 @Cuidad10 @FactsReason @MattAdkin @Stephen1010102 @bromhome @987_charles @Michael80789776 @993Adam @thefactroom @PetrasPics66 @andyfarnell07 @Goosey30111568 @ruckmalc @ShegorTheReador @CSY10111 @Bellagio_bound @TomRalst @thegrimbarian @auto_rec_bot @Monde1012 @somechewlip @Wonkypolicywonk @Boba113479861 @Roblev0 @barcodemark1 @delsbells @cathyby @adbalfour @Peter14306722 @Tagliatellla @crikeyolson @SghostBigdog @JenniferCoogan1 @Paddycakepaddy1 @RonnieTheFrog @mattbla66079059 @quasirob @ShearerRab @Brecksflex2_O @Stephen10101011 @roarbro @Hairy_Laphroaig @AodanDePaor @Rusty_Rascal https://t.co/PlvtsySOYu', '1438882787331919873': '@ConsPost This “fantastic” deal is worth £1million over 5 years. The Brexit losses to the British pig farmers amount to £700 million in two years. Don’t be taken in by propaganda: Brexit kills!', '984369698014932993': '@devonviews @SocialM85897396 @boblister_poole Can you explain @devonviews how things are going so well, particularly for the fisherfolk and farmers down here in the south west. All those I know are in deep trouble thanks to Brexit and the Tories (thereby you too). So I would welcome evidence you have to disprove this.', '1035992038750281729': '\"Three years after #BorisJohnson was swept to power promising to “get #Brexit done”, a Guardian reporting project finds employers, farmers and charities are still\\xa0wrestling with the reality of life\\xa0outside the #EU.\"\\n#ToryBrexitDisaster\\n#BrexitBrokeBritain\\nhttps://t.co/RLYECNtZnH', '211802076': '#BrexitBrokeBritain\\n#BackWaterBritain\\n\\nCharities and employers struggling due to post-Brexit funding delays\\nSome voluntary groups have closed and farmers report problems after slow disbursal of UK funds to replace EU money\\nhttps://t.co/sh511vUUBK', '1267539307604119554': \"@Suewilson91 How come Brexit hasn't solved the migrant problem yet? It appears to be worse, not better, just like the other so-called advantages of Brexit e.g. EASIER trade with the EU. I jest not, even that was promised!🤣 The fishers and farmers are jumping for joy too, I don't think!😂\", '300413828': '@murdo_fraser @TheScotsman To grow the economy you need a WORKFORCE\\nBrexit removed free movement\\n- farmers cannot harvest crops or slaughter animals\\n- hospitality is struggling for staff\\n- NHS/Social care struggling for staff\\nGenerate a fluid workforce you grow the economy and then can afford tax cuts', '334021325': 'Charities and employers struggling due to post-Brexit funding delays. Some voluntary groups have closed and farmers report problems after slow disbursal of UK funds to replace EU money. #BrexitBrokeBritain  https://t.co/0TfolhmjBS', '285194696': 'Three years after Boris Johnson was swept to power promising to “get Brexit done”, a Guardian reporting project finds employers, farmers and charities are still wrestling with the reality of life outside the EU. https://t.co/7YXQRGoIQm', '1444716700763623428': \"@NileGardiner mmm! No we don't! The man's a charlatan who has benefited greatly for doing very little whilst in office! Shafted the majority of the UK small businesses, farmers &amp; fisherwo/men and never got Brexit done!\", '18938704': \"#BrexitBrokeBritain this shouldn't surprise anyone least of all UK #farmers who largely voted for #BrexitBritain\\nhttps://t.co/P7qACceU5R\", '1508215751739592712': 'Charities and employers struggling due to post-Brexit funding delays - https://t.co/We4pp1Tysb -Some voluntary groups have closed and farmers report problems after slow disbursal of UK funds to replace EU money\\nUK traders on Brexit: ‘It’s increased paperwork, stress, everythin...', '1330911446440554496': 'Charities and employers struggling due to post-Brexit funding delays\\n\\n#EMPLOYERS #FARMERS\\n\\nhttps://t.co/MDfaFs7F1K', '828366441099436037': '@johnredwood Oh not this shit again. Fine, throw more good money at farmers to produce more food that they can’t harvest because of a lack of workforce because of, wait for it…., Brexit. Your inability to understand how you’ve completely fucked up is staggering', '1473098138470821888': \"@jezobrien @jayemdee63 @NicholasTyrone A new system for landowners/farmers has already been devised and rolled out. It's also devolved, &amp; is much fairer than the 'one cap (no pun) fits all' EU rules based version which served to line the pockets of the likes of remainer Heseltine.\\n\\nhttps://t.co/A5EShD8hiV\", '1106226236987183104': '@johnredwood Farmers and fisheries and their difficulties are a direct result of failed Brexit - own your failure Redwood', '1547263982746075136': '@Zeb184878 @mrjamesob Firstly I apologize for calling you stupid, I have simply had enough of this gov. Switzerland was a land of farmers just like Trentino in Italy. Now they are both the best countries in the world to live in although I still prefer New Zealand. What is the UK? A nightmare. Brexit.', '856439242456793088': 'Our recession is GLOBAL but we will be the last to recover out of every single G20 economy. \\n\\nAny idea why?\\n\\nPerhaps, an imbecilic/inept Tory Govt?\\n\\nThe Party of fiscal diligence, we have been told!!\\n\\nYou said, under Brexit, EU farming subsidies to UK farmers would be matched! \\n? https://t.co/RpL74tbWAp', '933754477244493824': '@ThomasCrownTree @grahambsi After the Oxford comma, we now have the Brexit question mark.\\n\\n(Yes, we would. It’s about sovereignty. I’d like UK to be a sovereign #EU nation, rather than sacrificing our farmers, fishing crews, engineers … for a disastrous trade deal with Suriname or Tuvalu.)', '1517544434321305602': \"@johnredwood It's no good farmers growing more food, when they haven't got the workers to pick it.\\nBecause of Brexit. \\nScousers not English\", '884401843': \"@johnredwood Didn't the farmers receive grants and didnt we have a fishing fleet when we were in the EU but you conmen decided it would be in your interests to have Brexit which is going so well, keep your stupid ideas to yourself before you completely destroy this once great country\", '1551847986199683072': '@commonwealthcca Terrible for 🇬🇧 carbon footprint, British farmers, and the public. We’ve shot ourselves and the foundations of our civilisation in the foot with Brexit.', '709712738986098688': '@johnredwood Grants for farmers were in place prior to Brexit! The U.K. has sold its rights to control oil and gas production but may be subject to a windfall tax? Fishing fleets were decimated by allowing them to be sold off. How can you speed up a technology that is not yet fully developed?', '1586263955311366146': '@Arron_banks Brexit was about sovereignty. What we ALL need is a capable government. One that controls immigration, helps farmers to produce food, sorts education to produce people with actual useful skills and other non globalist look after our own people stuff….', '133339557': '@burngold @lukemcgee Sloppy journalism from Luke, relying on the dog-whistle of Brexit to get views, likes and quote tweets from the usual Remoaners. 10 secs on Google finds stories about rotting crops all over Europe, such as this one from France: https://t.co/BgzdjvZD99', '528674835': '@johnredwood To grow the economy you need a WORKFORCE\\nBrexit removed free movement\\n- farmers cannot harvest crops or slaughter animals\\n- hospitality is struggling for staff\\n- NHS/Social care struggling for staff\\nGenerate a fluid workforce you grow the economy and then can afford tax cuts', '1365754903': '@johnredwood @MeganWi90287242 The WEF / Blackrock controlled government Are trying to get rid of farmers, UK is offering 100,000 to farmers to retire &amp; walk away, brexit has not been completed properly &amp; has done nothing for fishing, our Country is being dismantled from within so they can build back better!!', '1105804707962986505': '@GregHands At last, the benefits of Brexit!!!!!!!!!!!!! £2.17 a year extra for the 92,000 farmers. Hallelujah!!!!', '227682918': 'For many people, including business owners and farmers, Brexit has been a disaster.\\n\\nPolls indicate that 56% of the British people think Brexit was a mistake https://t.co/bbDjBCl8VL', '1340250393687822336': '@hcsgts @WarRocketAjaxUK @GBNEWS Guess we’ll have to work to tear it apart like you lot did to brexit, cause going back to the EU means signing onto slavery. They are literally killing Dutch farmers and stealing their land and you want that for us. Evil remoaner scum.', '1520551373275807745': \"@RosemaryStewar1 @GBNEWS What Brexit benefits? There are none. Ask British farmers how they're being undercut by Australian farmers..it's the Dunning-Kruger Awards for everyone who supported Brexit.\", '85649807': '@vivamjm @joejhehir @castlvillageman @JohnKer80478006 @RobinPirates It advantages EU producers *and UK consumers* over UK fishermen and farmers.\\nBut fishermen and farmers have lost their political importance. For brexitters, their plight is a reminder that they were wrong, and remainers are unlikely to forget the role they played in brexit.', '730745480024592384': '@ChrisyDrThomas @BrexitBin @lindarich48 @BorisJohnson @Jacob_Rees_Mogg @SirGrahamBrady This is so upsetting. I really feel for the farmers and what’s happening. Selling a family farm because of #Brexit. Unforgivable. I hope things get better for your friend.', '3241997267': \"Disappointing that the UK's trade envoy to Australia keeps referring to England instead of the UK! And still believes that Brexit is a great idea for Britain's farmers and our wine trade. Embarrassing. https://t.co/9kWw4HfG8d\", '738157163252613120': \"@Mike__lufc No actual people who are knowledgeable about their areas of expertise. Economists,  Exporters, fishermen, farmers, logistics, touring musicians...shall I continue?? Brexit is a disaster and I'm sorry you're in denial and reaching for the copium.\", '248237770': '@johnestevens The dick created Brexit based on lies and racism!\\nI quite liked the guy before but being in tv the day after saying we shouldn’t have said that!(about the millions giving back to the nhs) he lied to the farmers who were the ones beneficiating  the most from the Eu! Shame on you!!', '1313801413802242049': 'Farmers have been hard hit by brexit. They are facing extreme uncertainty after losing their subsidies from the EU. https://t.co/vLtdZzFIjB', '2460004712': '@GregHands I am sure the farmers of Great Britain will be applauding this spectacular #brexit coup of £200,000 a year.', '38830654': 'Beaten only by the Conference pitch about opening pork markets in Beijing for UK farmers that have killed &amp; burnt over 50,000 healthy pigs this year due to this very Tory Brexit. https://t.co/WORZFsvW0j', '212021036': '@GregHands Have you become a parody of yourself? There are 10k pork farmers in uk who will all be better off by .38p per week, you must be do proud. Remind me how much they have lost since Brexit? Pathetic.', '3399193727': '@tomhfh Indeed well said\\n\\nAlthough @RishiSunak on Self-ID could win more #women votes by being clear why he would block @Keir_Starmer on this\\n\\n#Brexit benefits, immigration, tough on Unions, keep unemployment low, strong defence policy, protect farmers/green belt, tangibly level up etc', '1269967012471717894': '@GregHands @carol_falaki Even the MP that helped make the Australian Trade Deal said it throws the UK Farmers to the wolves.\\n\\nBrexit shafts the Farmers \\nTake you porky lies somewhere else', '52380716': '@GregHands 1 million .... Over 5 years...😂😂😂😂😂 Between how many farmers? Whoooo £250 a year each wow the \"bonus\" of brexit .. nob', '1202175130031538176': '@DemeryUK Even worse, if you check the replies in the Greg Hands tweet, you will find plenty that show Korea did the same for EU farmers and their pork. But 3 months earlier. \\n\\nBrexit benefit: Get the same benefits as the EU, only later (see also US steel tariffs on  EU &amp; UK steel)', '2272185878': '@PartyOatsUK @GregHands So basically they put UP the barrier (#Brexit) and deprived our farmers of all that money for a couple of years? \\nIs this yet another of the #ToryBrexitLies?\\n\\n#ToryBrexitCon #ToryBrexitDisaster #BrexitCarnage #brexitrecession #BrexitBrokeBritain', '762036667200962560': '@RobBfromDerby @johnredwood “Brexit is a huge success, we can now trade pork to South Korea … up to £1m in 5 years.”\\n\\n“Imagine how long it would take to strike up that deal in the EU.”\\n\\n“Our pork farmers must be so happy we left the EU!”\\n\\n“What do you mean the EU made the same deal 3 months ago?” https://t.co/BHrWN3tJlJ', '93606002': \"@GregHands Up to £1 million over five years?!?\\nThat's a top end of £200K pa shared across all the UK pig farmers.\\nWowzers, that's almost as much as one consultant working in the EU brought us pre Brexit and the end of Freedom of Movement.\", '1330195717718233096': 'On the 12th day of Brexit my true love gave to me:\\n12 Tories lying\\n11 Drivers crying\\n10 Students seething\\n9 Apples rotting\\n8 Truckers paying\\n7 Gits betraying\\n6 Farmers praying\\n\\n5 Brown Rings...\\n\\n4 Soiling Turds\\n3 Henchmen \\n2 Michael Goves\\nAnd an Arsehole in a bare tree. https://t.co/Fg1YRNFUBF', '1585011593615646749': '@sophielouisecc Pleased Brexit is going so well for you. Backing British traditions and farmers and damned those foreign immigrants !!!! Well done. !!!!!!', '20333840': 'Golly gosh! An incredible deal! £200k a year! Woo hoo! Brexit was certainly worth it, eh? A whoooooole £550 a day to be shared amongst all the pork farmers in Britain. Astounding stuff!\\n\\n(FFS! Do people actually fall for this idiocy?) https://t.co/tog5QJS0KL', '431379842': '@GregHands Apart from telling porkies for 12 long years you are not fooling the public anymore. You are a disgrace. There is no great profit in post #Brexit deals. Shafted our farmers and everyone of us. Manchester Merry Christmas my arse as #TheRoyleFamily would say', '61522485': 'Up to £1 million over five years?  How many billion has Brexit cost us? How much are farmers losing from the Australia deal? @GregHands https://t.co/QMTz3eyChC', '895570464': '@Robert_Patman @TymVirginia Even more confusing is the number of Farmers, Fishermen &amp; Hospitality Groups that supported Brexit ignoring the expert advice that it would cause chaos. #ToryBrexitDisaster #brexitrecession #BrexitBrokeBritain\\nhttps://t.co/71yaSjznmE', '2437741387': 'A £200,000 per year trade deal with South Korea whilst a new study finds that Brexit has cost the UK £33 billion in lost trade.\\nMerry Xmas farmers luv the Tories...'}\n"
     ]
    }
   ],
   "source": [
    "# print(my_dict)"
   ]
  },
  {
   "cell_type": "code",
   "execution_count": 39,
   "id": "ae1b9023",
   "metadata": {},
   "outputs": [
    {
     "ename": "NameError",
     "evalue": "name 'json_response' is not defined",
     "output_type": "error",
     "traceback": [
      "\u001b[0;31m---------------------------------------------------------------------------\u001b[0m",
      "\u001b[0;31mNameError\u001b[0m                                 Traceback (most recent call last)",
      "Input \u001b[0;32mIn [39]\u001b[0m, in \u001b[0;36m<cell line: 1>\u001b[0;34m()\u001b[0m\n\u001b[0;32m----> 1\u001b[0m \u001b[43mjson_response\u001b[49m[\u001b[38;5;124m'\u001b[39m\u001b[38;5;124mdata\u001b[39m\u001b[38;5;124m'\u001b[39m][\u001b[38;5;241m0\u001b[39m][\u001b[38;5;124m'\u001b[39m\u001b[38;5;124mauthor_id\u001b[39m\u001b[38;5;124m'\u001b[39m]\n\u001b[1;32m      2\u001b[0m json_response[\u001b[38;5;124m'\u001b[39m\u001b[38;5;124mdata\u001b[39m\u001b[38;5;124m'\u001b[39m][\u001b[38;5;241m0\u001b[39m][\u001b[38;5;124m'\u001b[39m\u001b[38;5;124mtext\u001b[39m\u001b[38;5;124m'\u001b[39m]\n\u001b[1;32m      3\u001b[0m json_response[\u001b[38;5;124m'\u001b[39m\u001b[38;5;124mmeta\u001b[39m\u001b[38;5;124m'\u001b[39m][\u001b[38;5;124m'\u001b[39m\u001b[38;5;124mnext_token\u001b[39m\u001b[38;5;124m'\u001b[39m]\n",
      "\u001b[0;31mNameError\u001b[0m: name 'json_response' is not defined"
     ]
    }
   ],
   "source": [
    "json_response['data'][0]['author_id']\n",
    "json_response['data'][0]['text']\n",
    "json_response['meta']['next_token']"
   ]
  },
  {
   "cell_type": "code",
   "execution_count": 4,
   "id": "0cba9ec4",
   "metadata": {
    "scrolled": true
   },
   "outputs": [],
   "source": [
    "# convert dictionary to dataframe\n",
    "df = pd.DataFrame.from_dict(my_dict, orient='index',columns=['tweets'])"
   ]
  },
  {
   "cell_type": "code",
   "execution_count": 5,
   "id": "56a3cf8b",
   "metadata": {},
   "outputs": [
    {
     "data": {
      "text/plain": [
       "(517, 1)"
      ]
     },
     "execution_count": 5,
     "metadata": {},
     "output_type": "execute_result"
    }
   ],
   "source": [
    "df.shape"
   ]
  },
  {
   "cell_type": "code",
   "execution_count": 6,
   "id": "0da2fee0",
   "metadata": {},
   "outputs": [
    {
     "data": {
      "text/html": [
       "<div>\n",
       "<style scoped>\n",
       "    .dataframe tbody tr th:only-of-type {\n",
       "        vertical-align: middle;\n",
       "    }\n",
       "\n",
       "    .dataframe tbody tr th {\n",
       "        vertical-align: top;\n",
       "    }\n",
       "\n",
       "    .dataframe thead th {\n",
       "        text-align: right;\n",
       "    }\n",
       "</style>\n",
       "<table border=\"1\" class=\"dataframe\">\n",
       "  <thead>\n",
       "    <tr style=\"text-align: right;\">\n",
       "      <th></th>\n",
       "      <th>tweets</th>\n",
       "    </tr>\n",
       "  </thead>\n",
       "  <tbody>\n",
       "    <tr>\n",
       "      <th>1122931725280194560</th>\n",
       "      <td>‘We’re only seeing the negative’: UK farmers o...</td>\n",
       "    </tr>\n",
       "    <tr>\n",
       "      <th>1579880450532806661</th>\n",
       "      <td>@premnsikka Piss off, the current situation is...</td>\n",
       "    </tr>\n",
       "    <tr>\n",
       "      <th>1887781854</th>\n",
       "      <td>In fairness to Rishi Sunak why would you allow...</td>\n",
       "    </tr>\n",
       "    <tr>\n",
       "      <th>3015100089</th>\n",
       "      <td>👉 #BrexitReality #farming #trade ⁦@RishiSunak⁩...</td>\n",
       "    </tr>\n",
       "    <tr>\n",
       "      <th>21930807</th>\n",
       "      <td>‘We’re only seeing the negative’: UK farmers o...</td>\n",
       "    </tr>\n",
       "  </tbody>\n",
       "</table>\n",
       "</div>"
      ],
      "text/plain": [
       "                                                                tweets\n",
       "1122931725280194560  ‘We’re only seeing the negative’: UK farmers o...\n",
       "1579880450532806661  @premnsikka Piss off, the current situation is...\n",
       "1887781854           In fairness to Rishi Sunak why would you allow...\n",
       "3015100089           👉 #BrexitReality #farming #trade ⁦@RishiSunak⁩...\n",
       "21930807             ‘We’re only seeing the negative’: UK farmers o..."
      ]
     },
     "execution_count": 6,
     "metadata": {},
     "output_type": "execute_result"
    }
   ],
   "source": [
    "df.head()"
   ]
  },
  {
   "cell_type": "code",
   "execution_count": 7,
   "id": "2181e320",
   "metadata": {},
   "outputs": [
    {
     "name": "stdout",
     "output_type": "stream",
     "text": [
      "<class 'pandas.core.frame.DataFrame'>\n",
      "Index: 517 entries, 1122931725280194560 to 2437741387\n",
      "Data columns (total 1 columns):\n",
      " #   Column  Non-Null Count  Dtype \n",
      "---  ------  --------------  ----- \n",
      " 0   tweets  517 non-null    object\n",
      "dtypes: object(1)\n",
      "memory usage: 8.1+ KB\n"
     ]
    }
   ],
   "source": [
    "df.info()"
   ]
  },
  {
   "cell_type": "code",
   "execution_count": 8,
   "id": "761d5752",
   "metadata": {},
   "outputs": [],
   "source": [
    "import nltk"
   ]
  },
  {
   "cell_type": "code",
   "execution_count": 9,
   "id": "15423660",
   "metadata": {},
   "outputs": [
    {
     "name": "stderr",
     "output_type": "stream",
     "text": [
      "[nltk_data] Downloading package stopwords to\n",
      "[nltk_data]     /Users/ambrosedesmond/nltk_data...\n",
      "[nltk_data]   Package stopwords is already up-to-date!\n"
     ]
    },
    {
     "data": {
      "text/plain": [
       "True"
      ]
     },
     "execution_count": 9,
     "metadata": {},
     "output_type": "execute_result"
    }
   ],
   "source": [
    "nltk.download(\"stopwords\")"
   ]
  },
  {
   "cell_type": "code",
   "execution_count": 10,
   "id": "489f636e",
   "metadata": {},
   "outputs": [],
   "source": [
    "# using regular expressions to remove all special charecters.\n",
    "df[\"tweets\"] = df['tweets'].str.replace('[^\\w\\s]','')"
   ]
  },
  {
   "cell_type": "code",
   "execution_count": 11,
   "id": "aec4fc05",
   "metadata": {},
   "outputs": [],
   "source": [
    "# using regular expressions to remove all tabs and carrige returns that were imported in original csv\n",
    "df[\"tweets\"] = df['tweets'].str.replace(r'\\r\\n','')"
   ]
  },
  {
   "cell_type": "code",
   "execution_count": 12,
   "id": "0a2a6247",
   "metadata": {},
   "outputs": [],
   "source": [
    "# Basically words like this, an, a, the, etc that do not affect the meaning of the tweet\n",
    "from nltk.corpus import stopwords\n",
    "stop = stopwords.words(\"english\")"
   ]
  },
  {
   "cell_type": "code",
   "execution_count": 13,
   "id": "ff56ecf5",
   "metadata": {},
   "outputs": [],
   "source": [
    "df[\"stopwords\"]  = df[\"tweets\"].apply(lambda x : len([x for x in x.split() if x in stop]))"
   ]
  },
  {
   "cell_type": "code",
   "execution_count": 14,
   "id": "0e9b4eb9",
   "metadata": {},
   "outputs": [],
   "source": [
    "# upper case words indicate shouting ect\n",
    "df[\"upper\"]  = df[\"tweets\"].apply(lambda x : len([x for x in x.split() if x.isupper()]))"
   ]
  },
  {
   "cell_type": "code",
   "execution_count": 85,
   "id": "f22d3444",
   "metadata": {},
   "outputs": [
    {
     "name": "stdout",
     "output_type": "stream",
     "text": [
      "Collecting textblob\n",
      "  Using cached textblob-0.17.1-py2.py3-none-any.whl (636 kB)\n",
      "Requirement already satisfied: nltk>=3.1 in /Users/ambrosedesmond/opt/anaconda3/lib/python3.9/site-packages (from textblob) (3.7)\n",
      "Requirement already satisfied: click in /Users/ambrosedesmond/opt/anaconda3/lib/python3.9/site-packages (from nltk>=3.1->textblob) (8.0.4)\n",
      "Requirement already satisfied: regex>=2021.8.3 in /Users/ambrosedesmond/opt/anaconda3/lib/python3.9/site-packages (from nltk>=3.1->textblob) (2022.3.15)\n",
      "Requirement already satisfied: tqdm in /Users/ambrosedesmond/opt/anaconda3/lib/python3.9/site-packages (from nltk>=3.1->textblob) (4.64.0)\n",
      "Requirement already satisfied: joblib in /Users/ambrosedesmond/opt/anaconda3/lib/python3.9/site-packages (from nltk>=3.1->textblob) (1.1.0)\n",
      "Installing collected packages: textblob\n",
      "Successfully installed textblob-0.17.1\n",
      "Note: you may need to restart the kernel to use updated packages.\n"
     ]
    }
   ],
   "source": [
    "#pip install textblob"
   ]
  },
  {
   "cell_type": "code",
   "execution_count": 16,
   "id": "cda485a9",
   "metadata": {},
   "outputs": [
    {
     "name": "stdout",
     "output_type": "stream",
     "text": [
      "<class 'pandas.core.frame.DataFrame'>\n",
      "Index: 517 entries, 1122931725280194560 to 2437741387\n",
      "Data columns (total 3 columns):\n",
      " #   Column     Non-Null Count  Dtype \n",
      "---  ------     --------------  ----- \n",
      " 0   tweets     517 non-null    object\n",
      " 1   stopwords  517 non-null    int64 \n",
      " 2   upper      517 non-null    int64 \n",
      "dtypes: int64(2), object(1)\n",
      "memory usage: 16.2+ KB\n"
     ]
    }
   ],
   "source": [
    "df.info()"
   ]
  },
  {
   "cell_type": "code",
   "execution_count": 18,
   "id": "698f98a4",
   "metadata": {},
   "outputs": [],
   "source": [
    "df['tweets'] = df['tweets'].astype(str)"
   ]
  },
  {
   "cell_type": "code",
   "execution_count": 19,
   "id": "994c1f1e",
   "metadata": {},
   "outputs": [],
   "source": [
    "##################### Warning this cell can take up to 20 mins to complete ################### \n",
    "# corrects spellings and grammer based on context\n",
    "# use txtblob to correct the tweet spelling\n",
    "from textblob import TextBlob\n",
    "df['tweets_correct?']= df[\"tweets\"].apply(lambda x : str(TextBlob(x).correct()))\n",
    "# pattern matching is not good"
   ]
  },
  {
   "cell_type": "code",
   "execution_count": 21,
   "id": "8c7b3b66",
   "metadata": {},
   "outputs": [],
   "source": [
    "# get the sentiment . using scored words. scores are added up and the final score is the entimenen \n",
    "# The polarity score is a float within the range [-1.0, 1.0]. The subjectivity is a float within the \n",
    "# range [0.0, 1.0] where 0.0 is very objective and 1.0 is very subjective.\n",
    "df['sentiment_1'] = df[\"tweets\"].apply(lambda x : TextBlob(x).sentiment[0])\n",
    "df['sentiment_2'] = df[\"tweets_correct?\"].apply(lambda x : TextBlob(x).sentiment[0])"
   ]
  },
  {
   "cell_type": "code",
   "execution_count": 22,
   "id": "750cdcd6",
   "metadata": {},
   "outputs": [
    {
     "data": {
      "text/html": [
       "<div>\n",
       "<style scoped>\n",
       "    .dataframe tbody tr th:only-of-type {\n",
       "        vertical-align: middle;\n",
       "    }\n",
       "\n",
       "    .dataframe tbody tr th {\n",
       "        vertical-align: top;\n",
       "    }\n",
       "\n",
       "    .dataframe thead th {\n",
       "        text-align: right;\n",
       "    }\n",
       "</style>\n",
       "<table border=\"1\" class=\"dataframe\">\n",
       "  <thead>\n",
       "    <tr style=\"text-align: right;\">\n",
       "      <th></th>\n",
       "      <th>tweets</th>\n",
       "      <th>stopwords</th>\n",
       "      <th>upper</th>\n",
       "      <th>tweets_correct?</th>\n",
       "      <th>sentiment_1</th>\n",
       "      <th>sentiment_2</th>\n",
       "    </tr>\n",
       "  </thead>\n",
       "  <tbody>\n",
       "    <tr>\n",
       "      <th>1122931725280194560</th>\n",
       "      <td>Were only seeing the negative UK farmers on Br...</td>\n",
       "      <td>5</td>\n",
       "      <td>1</td>\n",
       "      <td>Were only seeing the negative of farmers on Cr...</td>\n",
       "      <td>-0.200000</td>\n",
       "      <td>-0.200000</td>\n",
       "    </tr>\n",
       "    <tr>\n",
       "      <th>1579880450532806661</th>\n",
       "      <td>premnsikka Piss off the current situation is n...</td>\n",
       "      <td>16</td>\n",
       "      <td>1</td>\n",
       "      <td>premnsikka Miss off the current situation is n...</td>\n",
       "      <td>-0.050000</td>\n",
       "      <td>-0.050000</td>\n",
       "    </tr>\n",
       "    <tr>\n",
       "      <th>1887781854</th>\n",
       "      <td>In fairness to Rishi Sunak why would you allow...</td>\n",
       "      <td>10</td>\n",
       "      <td>0</td>\n",
       "      <td>In fairness to Wish Sunk why would you allow t...</td>\n",
       "      <td>0.066667</td>\n",
       "      <td>0.066667</td>\n",
       "    </tr>\n",
       "    <tr>\n",
       "      <th>3015100089</th>\n",
       "      <td>BrexitReality farming trade RishiSunak Conser...</td>\n",
       "      <td>0</td>\n",
       "      <td>0</td>\n",
       "      <td>BrexitReality farming trade RishiSunak Conser...</td>\n",
       "      <td>0.000000</td>\n",
       "      <td>0.000000</td>\n",
       "    </tr>\n",
       "    <tr>\n",
       "      <th>21930807</th>\n",
       "      <td>Were only seeing the negative UK farmers on Br...</td>\n",
       "      <td>5</td>\n",
       "      <td>1</td>\n",
       "      <td>Were only seeing the negative of farmers on Cr...</td>\n",
       "      <td>-0.200000</td>\n",
       "      <td>-0.200000</td>\n",
       "    </tr>\n",
       "  </tbody>\n",
       "</table>\n",
       "</div>"
      ],
      "text/plain": [
       "                                                                tweets  \\\n",
       "1122931725280194560  Were only seeing the negative UK farmers on Br...   \n",
       "1579880450532806661  premnsikka Piss off the current situation is n...   \n",
       "1887781854           In fairness to Rishi Sunak why would you allow...   \n",
       "3015100089            BrexitReality farming trade RishiSunak Conser...   \n",
       "21930807             Were only seeing the negative UK farmers on Br...   \n",
       "\n",
       "                     stopwords  upper  \\\n",
       "1122931725280194560          5      1   \n",
       "1579880450532806661         16      1   \n",
       "1887781854                  10      0   \n",
       "3015100089                   0      0   \n",
       "21930807                     5      1   \n",
       "\n",
       "                                                       tweets_correct?  \\\n",
       "1122931725280194560  Were only seeing the negative of farmers on Cr...   \n",
       "1579880450532806661  premnsikka Miss off the current situation is n...   \n",
       "1887781854           In fairness to Wish Sunk why would you allow t...   \n",
       "3015100089            BrexitReality farming trade RishiSunak Conser...   \n",
       "21930807             Were only seeing the negative of farmers on Cr...   \n",
       "\n",
       "                     sentiment_1  sentiment_2  \n",
       "1122931725280194560    -0.200000    -0.200000  \n",
       "1579880450532806661    -0.050000    -0.050000  \n",
       "1887781854              0.066667     0.066667  \n",
       "3015100089              0.000000     0.000000  \n",
       "21930807               -0.200000    -0.200000  "
      ]
     },
     "execution_count": 22,
     "metadata": {},
     "output_type": "execute_result"
    }
   ],
   "source": [
    "df.head()"
   ]
  },
  {
   "cell_type": "code",
   "execution_count": 27,
   "id": "49d22481",
   "metadata": {},
   "outputs": [],
   "source": [
    "df = df.sort_values(by='sentiment_1', ascending=False)\n",
    "df = df.sort_values(by='sentiment_2', ascending=False)"
   ]
  },
  {
   "cell_type": "code",
   "execution_count": 26,
   "id": "44024669",
   "metadata": {},
   "outputs": [
    {
     "data": {
      "image/png": "[encoded data removed]",
      "text/plain": [
       "<Figure size 432x288 with 1 Axes>"
      ]
     },
     "metadata": {
      "needs_background": "light"
     },
     "output_type": "display_data"
    }
   ],
   "source": [
    "df.hist(column='sentiment_1')\n",
    "\n",
    "plt.show()"
   ]
  },
  {
   "cell_type": "code",
   "execution_count": 28,
   "id": "8235e278",
   "metadata": {},
   "outputs": [
    {
     "data": {
      "image/png": "[encoded data removed]",
      "text/plain": [
       "<Figure size 432x288 with 1 Axes>"
      ]
     },
     "metadata": {
      "needs_background": "light"
     },
     "output_type": "display_data"
    }
   ],
   "source": [
    "df.hist(column='sentiment_2')\n",
    "\n",
    "plt.show()"
   ]
  },
  {
   "cell_type": "markdown",
   "id": "d064235c",
   "metadata": {},
   "source": [
    "## BAG OF WORDS"
   ]
  },
  {
   "cell_type": "code",
   "execution_count": 31,
   "id": "49ed3e27",
   "metadata": {},
   "outputs": [],
   "source": [
    "# Store the comments\n",
    "X = df[\"tweets\"]\n",
    "y = df[\"sentiment_1\"]"
   ]
  },
  {
   "cell_type": "code",
   "execution_count": 32,
   "id": "0ebc0311",
   "metadata": {},
   "outputs": [
    {
     "data": {
      "text/plain": [
       "365336458     1.000000\n",
       "2460004712    0.633333\n",
       "105269160     0.507143\n",
       "449864075     0.500000\n",
       "52380716      0.300000\n",
       "Name: sentiment_1, dtype: float64"
      ]
     },
     "execution_count": 32,
     "metadata": {},
     "output_type": "execute_result"
    }
   ],
   "source": [
    "y.head()"
   ]
  },
  {
   "cell_type": "code",
   "execution_count": 33,
   "id": "b765ef78",
   "metadata": {},
   "outputs": [],
   "source": [
    "# Lamdba to categorise the sentiment to 0,1,2 groupings\n",
    "y = y.apply(lambda x: 0 if x < -0.5 else (1 if x < 0.5 else 2))"
   ]
  },
  {
   "cell_type": "code",
   "execution_count": 34,
   "id": "4c4e49eb",
   "metadata": {},
   "outputs": [
    {
     "data": {
      "text/plain": [
       "365336458     2\n",
       "2460004712    2\n",
       "105269160     2\n",
       "449864075     2\n",
       "52380716      1\n",
       "Name: sentiment_1, dtype: int64"
      ]
     },
     "execution_count": 34,
     "metadata": {},
     "output_type": "execute_result"
    }
   ],
   "source": [
    "y.head()"
   ]
  },
  {
   "cell_type": "code",
   "execution_count": 35,
   "id": "2fc353c3",
   "metadata": {},
   "outputs": [
    {
     "name": "stderr",
     "output_type": "stream",
     "text": [
      "[nltk_data] Downloading package stopwords to\n",
      "[nltk_data]     /Users/ambrosedesmond/nltk_data...\n",
      "[nltk_data]   Package stopwords is already up-to-date!\n"
     ]
    }
   ],
   "source": [
    "from nltk.corpus import stopwords\n",
    "nltk.download('stopwords')\n",
    "\n",
    "import string\n",
    "from nltk.stem import PorterStemmer"
   ]
  },
  {
   "cell_type": "code",
   "execution_count": 36,
   "id": "ee7f3129",
   "metadata": {},
   "outputs": [],
   "source": [
    "# Store the stopwords into the object named as \"stop_words\"\n",
    "# Stopwords are words which do not contain enough significance to be used without our algorithm\n",
    "stop_words = stopwords.words('english')\n",
    "\n",
    "# Store the string.punctuation into an object punct. Removing Punctuation: ‘,.*!’ and other \n",
    "# punctuation marks that are not really needed by the model\n",
    "punct = string.punctuation\n",
    "\n",
    "# Initialise an object using a method PorterStemmer.\n",
    "# reducing words like ‘jumping, jumped, jump’ into its root word(also called stem)\n",
    "stemmer = PorterStemmer()"
   ]
  },
  {
   "cell_type": "code",
   "execution_count": 37,
   "id": "db5fd0d6",
   "metadata": {},
   "outputs": [],
   "source": [
    "import re\n",
    "\n",
    "cleaned_data=[]\n",
    "\n",
    "# For loop from first value to length(X), ^a-zA-Z means include small and capital case letters\n",
    "\n",
    "for i in range(len(X)):\n",
    "    message = re.sub('[^a-zA-Z]', ' ', X.iloc[i])\n",
    "    message = message.lower().split()\n",
    "    message = [stemmer.stem(word) for word in message if (word not in stop_words) and (word not in punct)]\n",
    "    # we rejoin all the words back into a sentance again and append the sentances into a list\n",
    "    message = ' '.join(message)\n",
    "    cleaned_data.append(message)"
   ]
  },
  {
   "cell_type": "code",
   "execution_count": 38,
   "id": "916b582a",
   "metadata": {},
   "outputs": [
    {
     "data": {
      "text/plain": [
       "365336458              These were the BEST placed people to understan...\n",
       "2460004712             GregHands I am sure the farmers of Great Brita...\n",
       "105269160              JohnMellis francesca_geld  yet all the trade d...\n",
       "449864075              ashstronge Oh wasnt Brexit BRITAIN able to ste...\n",
       "52380716               GregHands 1 million  Over 5 years Between how ...\n",
       "                                             ...                        \n",
       "1360497947297914880    jackiekemp A percentage of FarmersFinshing vot...\n",
       "3192252407             Brexit barriers are so unnecessary erryesFFSso...\n",
       "933754477244493824     ThomasCrownTree grahambsi After the Oxford com...\n",
       "179468611              I know I keep on about it but Brexit failed mi...\n",
       "1074657601214910464    Pathetic and a lie RishiSunak Whats happened t...\n",
       "Name: tweets, Length: 517, dtype: object"
      ]
     },
     "execution_count": 38,
     "metadata": {},
     "output_type": "execute_result"
    }
   ],
   "source": [
    "X # this is the regular cleaned data, note I have full sentices with all the unnecessary words"
   ]
  },
  {
   "cell_type": "code",
   "execution_count": 39,
   "id": "f3b9c8f5",
   "metadata": {},
   "outputs": [
    {
     "data": {
      "text/plain": [
       "['best place peopl understand eu meant ukip sign field throw weight around httpstcoyalttw oar',\n",
       " 'greghand sure farmer great britain applaud spectacular brexit coup year',\n",
       " 'johnmelli francesca geld yet trade deal countri done nobodi seem complain uk farmer certainli got screw ukau trade agreement anoth brexit win',\n",
       " 'ashstrong oh wasnt brexit britain abl step save day httpstcoucqfozexf',\n",
       " 'greghand million year mani farmer whoooo year wow bonu brexit nob',\n",
       " 'much win httpstcoorw jbuv',\n",
       " 'news brexitcarnag mostli wale vote cours torybrexitdisast httpstcobijfiwshx',\n",
       " 'gbnew garethwynjon well given uk grown food doesnt get pick farmer vote brexit there go lot hungri peopl season food januari may',\n",
       " 'chrisgreybrexit teresac farmer vote leav despit forewarn would happen happen expect sympathi come fulli reject brexit apologis demand rejoin eu',\n",
       " 'much fuck win httpstcosemzez axj',\n",
       " 'make britain great day prereferendum met group farmer told much reli upon eu worker keep busi go vote brexit ill never understand brexitr httpstcooez hfi',\n",
       " 'kirkberzerk trontro veronicareagan owen whiteley dxw kc farmer better done anoth clue one brexit said stay singlemarket johnson hannan etc farag want norwayswitzerland amp promis fewer boat cross channel work',\n",
       " 'ooop brexit benefit httpstconea nhqu',\n",
       " 'chanc eu britain start relationship afresh realiti disproof brexit argument brexitli brexitbrokebritain httpstcoe jrsbd',\n",
       " 'bestforbritain mani farmer vote brexit',\n",
       " 'yet brexit benefit brexitbrokebritain httpstcogyw ztmsfg',\n",
       " 'come eu cap opportun reshap agricultur amp food system rather prop farm system damag natur unsustain amp leav mani farmer close poverti httpstco sridyrv',\n",
       " 'didnt farmer vote great news new zealand farmer cours httpstcomtgwbfaeud',\n",
       " 'fantast benefit brexit consum farmer mimsdavi midsussex time bbcpm remainerswereright httpstcovbvn kuvw',\n",
       " 'johnesteven dick creat brexit base lie racism quit like guy tv day say shouldnt said thatabout million give back nh lie farmer one benefici eu shame',\n",
       " 'greghand million five year that top end k pa share across uk pig farmer wowzer that almost much one consult work eu brought us pre brexit end freedom movement',\n",
       " 'chrisydrthoma brexitbin lindarich borisjohnson jacob ree mogg sirgrahambradi upset realli feel farmer what happen sell famili farm brexit unforgiv hope thing get better friend',\n",
       " 'million five year mani billion brexit cost us much farmer lose australia deal greghand httpstcoqmtz eychc',\n",
       " 'there way dress trade deal good thing ive heard farmer say industri less chuck bu httpstcobhaf odkgh bbcpm',\n",
       " 'brexit special report year post brexit agricultur fare cap replac new z oz trade deal moro report eu dev fund httpstcofxbk bq th',\n",
       " 'brexit affect agricultur industri great time farmer consid diversifi busi whether offer agritour experi start farmtot restaur someth els entir mani possibl farm',\n",
       " 'johnredwood oh shit fine throw good money farmer produc food cant harvest lack workforc wait brexit inabl understand youv complet fuck stagger',\n",
       " 'per year trade deal south korea whilst new studi find brexit cost uk billion lost trade merri xma farmer luv tori',\n",
       " 'vivamjm brexit mani mysteri courtesi russian cash etc one profound uk farmer support strongli',\n",
       " 'mrrcain thing democraci parti use term titl dup loyal dup vote farmer beg listen brexit ignor thing mani exampl disregard democraci found realiti anti democraci',\n",
       " 'sarahmurphi jonsopel also destroy industri overal economi yay brexit brexitr brexitli httpstcozbmikzr sv',\n",
       " 'kilsal stevebakerhw chhcall jamescleverli rishisunak farmer gb highlight issu brexit much import uk httpstcotyejpd czg',\n",
       " 'golli gosh incred deal k year woo hoo brexit certainli worth eh whooooool day share amongst pork farmer britain astound stuff ff peopl actual fall idioci httpstcotog qj kl',\n",
       " 'anyon explain non farmer care farmer like alway vote tori support brexit direct consequ stupid farmer httpstcovsitbbwbm',\n",
       " 'ukip noth hurt farmer disast brexit your enemi british farmer british fishermen your enemi whole british popul there probabl group peopl done damag britain lot sinc ww',\n",
       " 'beerg seem recal look though methodolog wasnt brilliant farmer vote brexit roughli line other region age cohort',\n",
       " 'scottbentonmp dnc good come brexit weve lost right lose mani end farmer fishermen nh staff busi everyon els see leaver lie project fear project fact gullibl taken leaver desper posit spin',\n",
       " 'rishisunak tweet repres one rural constitu uk alway backbritishfarm agricultur area tivertonhoniton nshropshir cheshamamersham vote rejoin libdem httpstcocwgwx jgyi',\n",
       " 'johnredwood lot made mani fishermen work brexit lol grant farmer keep silent say lack worker sinc brexit hamper also rememb tori said oil north sea run scotland',\n",
       " 'mani peopl includ busi owner farmer brexit disast poll indic british peopl think brexit mistak httpstcobbdjbcl vl',\n",
       " 'duncan must farmer andor fishermen twitter stand say still receiv money brexit sure',\n",
       " 'tomhfh inde well said although rishisunak selfid could win women vote clear would block keir starmer brexit benefit immigr tough union keep unemploy low strong defenc polici protect farmersgreen belt tangibl level etc',\n",
       " 'rememb farmer breconandradnorshir come next elect current mp jonesyfay think postbrexit trade deal reduct anim welfar standard good farm get vote httpstcoszhdkvivuk',\n",
       " 'that supposedli posit stuff lie brexit httpstcohbaopesvbb',\n",
       " 'posit farmer vote brexit fool httpstcoi klwmxbv',\n",
       " 'breathtak western reach brecon beacon ian rickman ponder damag brexit done futur two year sinc uk quit eu futur mountain sheepfarm full econom precar httpstcohyhiqh pi',\n",
       " 'good report miss obviou question affect farmer vote make differ someon victim culprit httpstcok frnqxcyc',\n",
       " 'brexit present opportun pay farmer realist public good servic provid biodivers water manag carbon sequestr public access amen opportun seem vanish quickli',\n",
       " 'garethmil nicholastyron your clearli globalist free trade brexit uk farmer fishermen red wall voter want much uk protectionist brexit believ eu alreadi way protectionist sure there much support mimfordreesmogg version',\n",
       " 'robbfromderbi johnredwood brexit huge success trade pork south korea year imagin long would take strike deal eu pork farmer must happi left eu mean eu made deal month ago httpstcobhrwn tjlj',\n",
       " 'ukip campaign rejoin eu real solut way got rid forrin use pick produc want us buy go get field us huh httpstco xs rzi de',\n",
       " 'johnredwood grow economi need workforc brexit remov free movement farmer cannot harvest crop slaughter anim hospit struggl staff nhssocial care struggl staff gener fluid workforc grow economi afford tax cut',\n",
       " 'murdo fraser thescotsman grow economi need workforc brexit remov free movement farmer cannot harvest crop slaughter anim hospit struggl staff nhssocial care struggl staff gener fluid workforc grow economi afford tax cut',\n",
       " 'someon warn farmer fill field vote leav banner httpstcok e dwdzw',\n",
       " 'farminguk teaandabikki havent abl feed sole product sinc brexit wh sadli mani farmer support disast amp current plan polici slaughter what left wholesal get farmland amp green belt protect go agroforestri fight back',\n",
       " 'brexit econom disast keep deliv poverti amp chao welcom broken brexitania httpstco dobajfp',\n",
       " 'arron bank brexit sovereignti need capabl govern one control immigr help farmer produc food sort educ produc peopl actual use skill non globalist look peopl stuff',\n",
       " 'bigscrab httpstcocd dokytn sympathi farmer vote brexit like fish industri vote wreck entir economi rest us thought would get rich sod deserv noth',\n",
       " 'two year sinc brexitr futur mountain sheepfarm full econom precar lost unfett access nearest export market face reduct subsidi disadvantag eu traded australianz httpstcoufl edq g',\n",
       " 'markjuszkiewicz karlturnermp brexit sham guardian nfu poll farmer show vote brexit gener vote popul lower imagin im guess lower youd imagin',\n",
       " 'kilsal bbreathnach incorrect everyon sourc seed potato scotland use grow potato use mostli seed sort store dark hous keep sprout earli also know farmer sourc seed roi beyond brexit problem',\n",
       " 'kilsal hear vote actual mean didnt farmer union support brexit actual eu farm grant replac wale ni two got lot eu put alway baffl wale vote real headscratch',\n",
       " 'th day brexit true love gave tori lie driver cri student seeth appl rot trucker pay git betray farmer pray brown ring soil turd henchmen michael gove arsehol bare tree httpstcofg yrnfubf',\n",
       " 'hanesyddiaeth colinelv mfletchertim alexandracairn could without see leav campaign first leav sold brexit british peopl lost fom new trade deal econom insignific farmer fishermen suffer vote would need nd vote',\n",
       " 'jezobrien jayemde nicholastyron new system landownersfarm alreadi devis roll also devolv amp much fairer one cap pun fit eu rule base version serv line pocket like remain heseltin httpstcoa eshd hiv',\n",
       " 'ive heard farmer say industri less chuck bu httpstcoczfskipgti',\n",
       " 'lost unfett access nearest export market face reduct farm subsidi disadvantag trade deal industri less chuck bu aa httpstcopjnyfeojqj',\n",
       " 'johnredwood meganwi wef blackrock control govern tri get rid farmer uk offer farmer retir amp walk away brexit complet properli amp done noth fish countri dismantl within build back better',\n",
       " 'two year sinc uk quit eu futur mountain sheepfarm full econom precar lost unfett access nearest export market face reduct farm subsidi result loss common agricultur polici cap httpstcoy podbwt',\n",
       " 'conspost fantast deal worth million year brexit loss british pig farmer amount million two year dont taken propaganda brexit kill',\n",
       " 'brexit disast farmer lisaocarrol factcheck call ecolog benefit hill graze ecologist compar risk wildfir flood risk downstream enorm mention methan amp biodivers disast httpstco fbr dhzd',\n",
       " 'brexit govern said give farmer first time year chanc thing differ ian rickman farm wale ive heard farmer say industri less chuck bu httpstcoacvhjldlqn',\n",
       " 'palebd hill farm like uk farm reli subsidi keep go chang post brexit realiti mean fund slash howev chang must take place farmer amp commun part amp parcel chang',\n",
       " 'ive heard farmer say industri less chuck bu httpstco e rmw j f busi f farmer f fish brexit benefit rich folk nobodi els',\n",
       " 'lost unfett access nearest export market face reduct farm subsidi disadvantag trade deal give access uk market rival farmer australia new zealand httpstcoyioxf ukdv brexit brexitr',\n",
       " 'devonview socialm boblist pool explain devonview thing go well particularli fisherfolk farmer south west know deep troubl thank brexit tori therebi would welcom evid disprov',\n",
       " 'bestforbritain australian new zealand trade deal disast british livestock farmer believ brexit lie vote bullshit bowi illustr low nation sunk',\n",
       " 'greghand becom parodi k pork farmer uk better p per week must proud remind much lost sinc brexit pathet',\n",
       " 'harvest time uk unleash power gene edit cameron english brexit place england posit breakaway eu archaic vision biotech sustain profit futur english farmer iealondon httpstcoiszsmhvszw httpstcozmhbscrrz',\n",
       " 'brexit support climat chang deni antimask antilockdown lover rape joke julia hartleybrew one opinion tv amp radio hack seem sole purpos life rage farmer want spread divis hatrhttpstcom fhbipbeg',\n",
       " 'sophielouisecc pleas brexit go well back british tradit farmer damn foreign immigr well done',\n",
       " 'ivor park fin mart gbnew your total delud end fishermen farmer export manufactur hospit airlin financi servic pharma hit brexit yet cant see keep chang goalpost mate',\n",
       " 'good seri guardian would interest know herefordshir farmer affect chang herefordshireeu herefordtim see neg uk farmer brexit lose common agricultur polici httpstcok jhrcemx',\n",
       " 'mani racist keyboard warrior would gut tell face face think without immigr countri would fail financi check nh social servic farmer lost mani co brexit httpstcovzg uuzelf',\n",
       " 'zeb mrjamesob firstli apolog call stupid simpli enough gov switzerland land farmer like trentino itali best countri world live although still prefer new zealand uk nightmar brexit',\n",
       " 'nilegardin mmm dont man charlatan benefit greatli littl whilst offic shaft major uk small busi farmer amp fisherwomen never got brexit done',\n",
       " 'disappoint uk trade envoy australia keep refer england instead uk still believ brexit great idea britain farmer wine trade embarrass httpstco kww hfg',\n",
       " 'greghand carol falaki even mp help make australian trade deal said throw uk farmer wolv brexit shaft farmer take porki lie somewher els',\n",
       " 'robert patman tymvirginia even confus number farmer fishermen amp hospit group support brexit ignor expert advic would caus chao torybrexitdisast brexitrecess brexitbrokebritain httpstco yasjznm',\n",
       " 'nicholastyron brexit disast plan well would want import beef halfway around world australia could deal european neighbour farmer',\n",
       " 'karlturnermp brexit sham guardian screw farmersse brexit vote greed ridden clown lose money bonu far im concern',\n",
       " 'egg rule may scrambl avoid british produc undercut httpstcohjwl qlb v didnt projectfear say uk food standard would cut part brexit yet see eu thing reduc food standard remain care comment',\n",
       " 'three year borisjohnson swept power promis get brexit done guardian report project find employ farmer chariti still wrestl realiti life outsid eu torybrexitdisast brexitbrokebritain httpstcorlyecntznh',\n",
       " 'pledg postbrexit overhaul regul come execut worri reform eu law go far run money farmer fight surviv ukrain',\n",
       " 'three year bori johnson swept power promis get brexit done guardian report project find employ farmer chariti still wrestl realiti life outsid eu httpstco yxqrgoiqm',\n",
       " 'stun fuck upbi peopl get fuck httpstcojg hfeyzl',\n",
       " 'pledg full rang replac support place would work whether common upland farmer small famili farm common wow britain realli stuck th centuri httpstco jepewbzrd',\n",
       " 'brexit disast uk farmer eu farm subsidi amp easi access eu export market undercut trade deal give access uk market rival farmer australia nz etc tori lie farmer amp worsen uk depend oversea food httpstco yqw ig',\n",
       " 'top stori see neg uk farmer brexit lose common agricultur polici brexit guardian httpstcofq ufo mha see httpstcoinywxu xh',\n",
       " 'top stori see neg uk farmer brexit lose common agricultur polici brexit guardian httpstco xf ay see httpstco msbblvaxg',\n",
       " 'top stori see neg uk farmer brexit lose common agricultur polici brexit guardian httpstcoi x zievl see httpstcokxh dt whj',\n",
       " 'chrisgreybrexit mani farmer support brexit hard understand fail predict lose cap subsidi im alway stun peopl dont understand busi',\n",
       " 'beaten confer pitch open pork market beij uk farmer kill amp burnt healthi pig year due tori brexit httpstcoworzfsvw j',\n",
       " 'see neg uk farmer brexit lose common agricultur polici there way dress trade deal good thing ive heard farmer say industri less chuck bu httpstcomjdfpxbrw',\n",
       " 'fair rishi sunak would allow public figur show brexit trade deal actual harm british farmer amp busi brexithasfail govt wont publish estim econom benefit brexit trade deal httpstcoa zh jc',\n",
       " 'johnredwood well live rural area farmer round sinc brexit plough salad crop back field given away soft fruit free local commun cant get picker need fom end stori',\n",
       " 'maryriddel wonder mani farmer group bemoan predict impact brexit vote',\n",
       " 'kedg brexit deregul privatis massiv profit poverti mani anyon feel better brexit empti promis jam tomorrow usual american trade deal australian nz deal screw farmer feel con',\n",
       " 'demeryuk even wors check repli greg hand tweet find plenti show korea eu farmer pork month earlier brexit benefit get benefit eu later see also us steel tariff eu amp uk steel',\n",
       " 'see neg uk farmer brexit lose common agricultur polici httpstcoyfx xueowz wealthi want minimis tax brexit disast without posit',\n",
       " 'chevington though frequent said farmer vote brexit actual seem around farmer vote brexit base sever poll june similar proport uk whole nfu campaign remain ref',\n",
       " 'johnredwood good farmer grow food havent got worker pick brexit scouser english',\n",
       " 'mabonapgwynfor plaid cymru turkey vote christma upset christma came zero sympathi farmer vote brexit clearli told would happen span back project fear sod',\n",
       " 'jonsopel yeah your look downsid brexit your like peopl point understaf nh due eu citizen leav uk drone food rot farmer field due eu worker left',\n",
       " 'brexit anoth disast wale farmer come conserv stop pretend complet utter nightmar us someth httpstcoqhpb',\n",
       " 'evid averag brit farmer didnt understand full implic brexit loss market access associ cost play outsid didnt fight httpstcozjtpbjxtjt',\n",
       " 'sheep farmer point view there good outcom trade deal say rickman predomin intern market china far east give access uk moment fine httpstcoypqyti hx',\n",
       " 'chariti employ struggl due postbrexit fund delay three year bori johnson swept power promis get brexit done employ farmer chariti still wrestl realiti life outsid eu httpstco gcvwclgv',\n",
       " 'food thought brexit see neg uk farmer brexit lose common agricultur polici httpstcojtpezfxk',\n",
       " 'suewilson come brexit hasnt solv migrant problem yet appear wors better like socal advantag brexit eg easier trade eu jest even promis fisher farmer jump joy dont think',\n",
       " 'brugesgroup left eu rd countri henc treat rd countri brexit meant well meant anyon capabl thought neither german car industri french farmer rode rescu mess nobodi els btw fund',\n",
       " 'uk farmer lost unfett access nearest export market reduct farm subsidi disadvantag trade deal give access uk market rival farmer au amp nz brexitbrokebritain brexitisntwork httpstcoalbtdhskv',\n",
       " 'brexit realiti brexitbrokebritain httpstcom mcwzi ng',\n",
       " 'httpstcok cfprf fg',\n",
       " 'httpstco u dnx p seem buyer remors sting like bugger',\n",
       " 'httpstcohzsvagb p',\n",
       " 'httpstcoav lxzim rejoineu',\n",
       " 'gorbalsgoebbel mehercl jeanmcclung gordonross materi constitut chang came quicker anticip tri keep evel brexit scottish farmer deni final cap fund intern market act uncrc incorpor scotland bill unconstitut challeng westminst',\n",
       " 'httpstcowlwkaqtt q',\n",
       " 'httpstcoe j noicr',\n",
       " 'sunlit upland still undiscov brexitbrokebritain brexitr httpstcoxjrbgikuk',\n",
       " 'httpstco eip khyz',\n",
       " 'mani hopeless convers farmer feel noth anguish mani vote silli silli peopl httpstcodywmljkdcj',\n",
       " 'nigel farag httpstcovvdasicnhw',\n",
       " 'brexit gift keep take httpstcomok vqhn',\n",
       " 'httpstcovpqibik mc',\n",
       " 'httpstconexixoyhzg',\n",
       " 'key point gutoaberconwi former tori mp minist theresa may govern view brexit shaft farmer wale imagin hed open impact httpstco yubp lwqj',\n",
       " 'conserv brexit httpstcopa kn vdje',\n",
       " 'httpstcoixqgyeip',\n",
       " 'brexitbenefit httpstcowdm vi fp',\n",
       " 'httpstconmsf kblvp',\n",
       " 'minford thing let market reign suprem mean nz lamb product put farmer busi exampl that market work feel foolish world pandem war prioritis food secur httpstcoi ejqrntpf',\n",
       " 'httpstcoqvur xcz',\n",
       " 'project fear meet project realiti httpstco chyvkhjfv',\n",
       " 'leanhamish never understood farmer seem favour brexit',\n",
       " 'greghand last benefit brexit year extra farmer hallelujah',\n",
       " 'boomer ish williamyearnor chrisev munroel rec bogclean cuidad factsreason mattadkin stephen bromhom charl michael adam thefactroom petrasp andyfarnel goosey ruckmalc shegorthereador csi bellagio bound tomralst thegrimbarian auto rec bot mond somechewlip wonkypolicywonk boba roblev barcodemark delsbel cathybi adbalfour peter tagliatellla crikeyolson sghostbigdog jennifercoogan paddycakepaddi ronniethefrog mattbla quasirob shearerrab brecksflex stephen roarbro hairi laphroaig aodandepaor rusti rascal httpstcoplvtsysoyu',\n",
       " 'leokears could brexit white peopl covid definit wont world govern tell farmer tri code instead',\n",
       " 'dhharri daveyraveyrgav brexit sham agahol farmer fishermen vote look state industri',\n",
       " 'brainolad nicholastyron httpstcoesetadj fm',\n",
       " 'rosemarystewar gbnew brexit benefit none ask british farmer theyr undercut australian farmersit dunningkrug award everyon support brexit',\n",
       " 'lost unfett access nearest export market face reduct farm subsidi result loss cap disadvantag trade deal give access uk market rival farmer auz nz httpstcoterfq dyg',\n",
       " 'farminguk mi farmer think brexit disast',\n",
       " 'r today httpstcob xxg j g',\n",
       " 'brexit pile poo httpstcohnkg lfjnf',\n",
       " 'get equip livestock driven heart westminst picket heinou polit cretin submiss lie amp suffer consequ drop manur front doorstep istandwithukfarm httpstcoe bzqg mk',\n",
       " 'ms batter warn believ johnson told look farm httpstcopfjuzyjkf',\n",
       " 'brexitbrokebritain brexithasfail httpstcoldtkdb c',\n",
       " 'yet anoth benefit brexit httpstcokh fklzha',\n",
       " 'lisaocarrol none surpris farmer moan warn impact brexit would farm still vote action consequ',\n",
       " 'take back control httpstco lbnibhhem',\n",
       " 'brexit downsid british agricultur announc alreadi referendum lisaocarrol httpstco k erzru',\n",
       " 'httpstco ugzz igh',\n",
       " 'partyoatsuk greghand basic put barrier brexit depriv farmer money coupl year yet anoth torybrexitli torybrexitcon torybrexitdisast brexitcarnag brexitrecess brexitbrokebritain',\n",
       " 'httpstcooebaqkigh',\n",
       " 'httpstcoz gto rnyf',\n",
       " 'probabl shouldnt kept vote tori httpstcoykkx vewhh',\n",
       " 'httpstco kiq kvr',\n",
       " 'chenbart acgrayl farmer vote brexit make work stop whine problem',\n",
       " 'httpstco qafiht bq',\n",
       " 'shouldnt vote httpstco ewlydi eu',\n",
       " 'brexshit go well httpstcofxosev az',\n",
       " 'steve ye vote brexit regret bitterli much misinform lie uk referendum amp farmer assur would chang',\n",
       " 'eu support within eu peopl benefit brexit brexitcarnag httpstconommiy ex',\n",
       " 'httpstcohozpzg uhe httpstcorxh qnzt q',\n",
       " 'could possibl predict happen httpstcoklpsedlbf',\n",
       " 'httpstco wpfiyk u httpstcocunewyzqw',\n",
       " 'project fear spell twitter leadup brexit httpstcojyj e iqj',\n",
       " 'yeah sovereignti httpstcodv nwtzrbw',\n",
       " 'brexitr farm trade rishisunak conserv httpstconkntprbrk',\n",
       " 'conspost threw away bn trade eu weve thrown uk farmer bu sell bottl gin oz unreal brexit benefit',\n",
       " 'httpstcofg znsz',\n",
       " 'httpstcoqcyyhqdlhk',\n",
       " 'ukip farmer nfustweet nfutweet say ukip brexit say brexshit cluster fked farm export eu hypocrit wker',\n",
       " 'brexitnewstv barbaranic nigel farag httpstcoyugqmhkbvf brexitdisast',\n",
       " 'httpstcojj r ikr',\n",
       " 'farmer face precari futur loss cap httpstcovd aqh kzl',\n",
       " 'httpstco tmtd wp',\n",
       " 'veldhorst w httpstcohir fy ulm',\n",
       " 'farm farmer face precari futur loss cap httpstcotfvn cxgn',\n",
       " 'defra spokesperson said interest farmer food produc prioriti trade polici trade deal deliv negoti continu support farmer httpstcokm voyojek food farm agricultur brexit globaltrad',\n",
       " 'farmer face precari futur loss cap httpstco xfybpkdzu',\n",
       " 'httpstcoetelgc ie',\n",
       " 'brexit disast farmer httpstco kpu id',\n",
       " 'farmer opt brexit httpstcoipcmvupihc',\n",
       " 'ukip ukip led brexit definit side farmer enemi',\n",
       " 'elli selway iolowilliam alidriveruk httpstconotfgvddj',\n",
       " 'brexit led trade deal australia shaft farmer dont support farmer httpstconga cjxzsz',\n",
       " 'httpstconceboenkrx',\n",
       " 'ukip httpstcolhf urqwhj',\n",
       " 'chrischapmanart donmaico sophielouisecc httpstco xpej vqb',\n",
       " 'tri tell httpstcoihehjo uqb',\n",
       " 'brexit brexitr scotland scotref indyref httpstcoymhdqxyurv',\n",
       " 'sunlit upland httpstcoortiddqolq',\n",
       " 'edwdpric macalbatross beerg paul might think articl titl bit mislead farmer vote leav seem similar share rural counterpart englandwithoutlondon vote leav point margin httpstco yrfqtit httpstconarng k ya',\n",
       " 'brexit friend uk farm httpstcoxez ecgsoh',\n",
       " 'downingstreet rishisunak pm uk power king gave power brexit ireland franc emanul run control uk trader even fish boat sea lock uk hungri farmer grain cost st sale uk farmer decid',\n",
       " 'sidboggl kimwalm deborahmeaden farmer hospit industri taxi compani courier servic nh construct industri everi industri involv manual labour hold brexit say felt benefit think',\n",
       " 'farmer face precari futur loss cap httpstcojlhzpthgrl',\n",
       " 'man dieser brexit war wohl doch ein genial schachzug httpstcoykmygrwimi',\n",
       " 'ukip brexit look like side eu aussi farmer',\n",
       " 'laurak ziggi billohara untru farmer constitu miss impact brexit',\n",
       " 'httpstcogeqfoq kc',\n",
       " 'alanrei terrasea robscarlufc philipstephen yeah unless farmer instanc hope bankrupt farmer vote brexit httpstcool l uccsd',\n",
       " 'donnachadhmc georgemonbiot guardian dpcarrington damiengayl gow derek one hope brexit payment farmer cut use protect environ sheep farm protect environ',\n",
       " 'anoth brexit failur coverup chicken rais insid free rang ask tori free rang egg rule could torn fear eu farmer get unfair advantag say lie english govern httpstcorfnvwxqcof',\n",
       " 'scottish farm million fund loss cap food expens result see neg uk farmer brexit lose common agricultur polici brexit guardian httpstcoyt xatxof',\n",
       " 'see neg uk farmer brexit lose common agricultur polici guardian talk farmer difficulti brexit caus two year sinc uk quit eu futur full econom precar httpstcolfmzeqkijf',\n",
       " 'peopl still prepar even hope posit side brexit deceit cognit disson power block ration thought see negativeuk farmer brexit lose common agricultur polici httpstcoqotkrqpqv',\n",
       " 'brexit alway go lead consider chang farm busi uk end free movement labour vote brexit see neg uk farmer brexit lose common agricultur polici httpstcon nbrd nmz',\n",
       " 'ukip whose busi wreck brexit lose worker lost european custom ah must mean support farmer havent gone bust cling charg higher price one afford brexit',\n",
       " 'johnredwood grant farmer place prior brexit uk sold right control oil ga product may subject windfal tax fish fleet decim allow sold speed technolog yet fulli develop',\n",
       " 'recess global last recov everi singl g economi idea perhap imbecilicinept tori govt parti fiscal dilig told said brexit eu farm subsidi uk farmer would match httpstcorpl tbwap',\n",
       " 'see neg uk farmer brexit lose common agricultur polici didnt farmer overwhelmingli vote brexit brexitli brexitbrokebritain httpstcoiyo b k',\n",
       " 'britain deserv better generalelectionn w see neg uk farmer brexit lose common agricultur polici httpstcoioopygdn',\n",
       " 'yet brexit sunlit upland see neg uk farmer brexit lose common agricultur polici httpstco vzjcxktb',\n",
       " 'guardian polit newtop stori see neg uk farmer brexit lose common agricultur polici brexit guardian httpstco u mpsidnm see httpstcofirakwmhwl',\n",
       " 'see neg uk farmer brexit lose common agricultur polici guardian httpstco f z vah w ecosearch httpstcov wp ft',\n",
       " 'cathybi andrewknight limmortal bringiton aintro sbot martin delwatson david wobski gazza brunothebridg conraddkonnrad credacreda david vaporium hwick chri rayjudd bazcart lordgmanilson aclem andrewsibley somechewlip roblev jimbo samanthafoxi stuff funni obohobofromnobo davidmetroland musc esbri chr bot lordoffreedom resiguru iangianni wokewarriorfu leftstanc andrewgarsid suastusa johnrya httpstcoycq lvozqn peopl put headlin one want mock one subtl thing gentli point jayawardena sec state food els would expect highlight obvious financi aspect',\n",
       " 'disagre bev fuw brexit barrier essenti countri popul fall nationalist right wing propaganda vote leav common market alway go consequ httpstcourzicnasc',\n",
       " 'johnredwood farmer fisheri difficulti direct result fail brexit failur redwood',\n",
       " 'acgrayl matter marketpublicpriv servic benefit taken either never replac someth far less benefici could never understand farmer back brexit',\n",
       " 'jacob ree mogg utter nonsens brexit simpli deliv claim lie littleengland mental empti promis though bet profit brexit httpstcowv kbrohi',\n",
       " 'bestforbritain farmer say theyr see neg brexit singl industri that see posit consequ brexit',\n",
       " 'brexitbrokebritain shouldnt surpris anyon least uk farmer larg vote brexitbritain httpstcop qacceu r',\n",
       " 'see neg uk farmer brexit lose common agricultur polici httpstcotickbrjt l find answer simpl find regim world answer special come profit corrupt',\n",
       " 'free rang egg rule could torn fear eu farmer get unfair advantag show bori lie count deal eh sign brexit httpstco h lxjog',\n",
       " 'premnsikka piss current situat noth brexit print money oblivion that caus inflat whole financi system chang soon anyway cbdc come cash histori thing wors eu ask dutch farmer',\n",
       " 'see neg uk farmer brexit lose common agricultur polici ive heard farmer say industri less chuck bu httpstcopnelfhvv',\n",
       " 'light articl ive alway wonder european union digit economi polici least par common agricultur polici httpstcodg v mczwx',\n",
       " 'guardian chariti employ struggl due postbrexit fund delay three year johnson elect get brexit done employ farmer chariti still wrestl realiti life outsid eu brexitbrokebritain torybrexitdisast',\n",
       " 'freedomrockrad click full articl break news gt see neg uk farmer brexit lose common agricultur polici brexit lt freedom rock radio httpstco hnzempb',\n",
       " 'johnredwood didnt farmer receiv grant didnt fish fleet eu conmen decid would interest brexit go well keep stupid idea complet destroy great countri',\n",
       " 'predict time yet english welsh farmer gener seem vote brexit seem surpris outcom see neg uk farmer brexit lose common agricultur polici httpstconhflxlfrxi',\n",
       " 'anoth reason your undecid support independ scottish farmer farm famili decim brexit independ would mean keep high food standard httpstcovzxn weqeg',\n",
       " 'see neg uk farmer brexit lose common agricultur polici mep south west england rural area strong farm constitu tri hard make case sw voter still chose leav eu httpstcoxksumud ar',\n",
       " 'lost unfett access nearest export market face reduct farm subsidi result loss common agricultur polici cap disadvantag trade deal give access uk market rival farmer australia new zealand brexit',\n",
       " 'farmer brexit lost unfett access nearest export market face reduct farm subsidi result loss common agricultur polici cap disadvantag trade deal give access uk market farmersaustralia new zealand',\n",
       " 'knew brexit would also disast farmer well everyon thought half second vote brexitbrokebritain gtto httpstcouyuzovp zu',\n",
       " 'johanntask sheep farmer point view there good outcom trade dealssay rickman predomin intern market china amp far east give access uk inde lisaocarrol httpstcoxztvfk hme',\n",
       " 'sinc brexit uk sign new trade deal two auz amp nz deepli onesid poorli negoti sell british farmer river noth return httpstcobclbrxc ji',\n",
       " 'see neg uk farmer brexit lose common agricultur polici realli surpris httpstcognwstlyzbc',\n",
       " 'someon could warn themwer see neg uk farmer brexit brexitli carefulwhatyouwishfor httpstcopzzdw wbhq',\n",
       " 'twitchiefsm gbnew nonsens benefit leav eu brexit hit uk economi harder rest europ ask farmer fishermen servic industri musician compani trade eu benefit theyv shaft',\n",
       " 'fact major famer vote favour brexit feel like miss piec crucial context sort articl httpstcotysvj qxfo',\n",
       " 'robinol tom clark bbcjustinr bbcfoodprog henrydimblebi ffc commiss uksustain nfutweet tomheapmedia jack bobo botanygeek salkinstitut certainli liter bite hand feed us badli mani contempl give httpstcouurlyoanuk',\n",
       " 'chariti amp employ struggl due postbrexit fund delay voluntari group close amp farmer report problem slow disburs fund replac eu money blue passport passport blue torybrexitdisast httpstco pdc z',\n",
       " 'go polici success difficult polici failur common polici address seriou polit problem unthink that exactli brexit stagger polit cowardic httpstco vekioea',\n",
       " 'tori poll rate toilet precis screw everi part voter base brexit brexit work opaqu idea httpstco mqyto olu',\n",
       " 'johnredwood idea farmer lose subsidi origin eu due tori hard brexit john your angri complain local mp',\n",
       " 'posit neg brexitisacrimescen see neg uk farmer brexit lose common agricultur polici httpstcoxbqifmzhdj',\n",
       " 'see neg uk farmer brexit lose common agricultur polici make wonder mani oppos cap vote brexit sadli httpstcou sgqgklyj',\n",
       " 'surpris see farmer start openli speak damag brexit amp govt trade deal sadli farmer wont surviv combin impact govt brexit cost live econom crise urgent help need httpstcog wolbez',\n",
       " 'johnredwood due brexit farmer worker oil produc dont usew export ga rebuild fish fleet wantthey quotasthey soldapart fact due sewag overflow sea one buy your fish httpstcotgp dx h',\n",
       " 'conserv dysfunction voluntari org r collaps due delay replac eu fund jhnson brexit epicentr increas farm infrastructur amp ppl auster farmer amp chariti r wrestl exist httpstcozwnn jv kw',\n",
       " 'burngold lukemcge sloppi journal luke reli dogwhistl brexit get view like quot tweet usual remoan sec googl find stori rot crop europ one franc httpstcobgzdjvzd',\n",
       " 'ukip liar brexit fuck uk farm want maximum trade barrier eu fuck food export want minimum control food import fuck farm uk exact opposit side brutish farmer',\n",
       " 'tumultu year look back farmer hope quiet follow sever year upheav due brexit covid pandem left disappoint abi kay take look back past month httpstcoslzpcqhzot httpstcounrpofijkq',\n",
       " 'see neg uk farmer brexit lose common agricultur polici anyon actual surpris httpstco icco vbhw',\n",
       " 'chariti employ struggl due postbrexit fund delay employ farmer httpstcomdfaf f k',\n",
       " 'case elimin posit accentu neg see neg uk farmer brexit lose common agricultur polici httpstco tkb hjbxr',\n",
       " 'british farmer realis sold johnson truss eager instagram wont around damag done trade deal know good one accord brexit sign httpstcobh c dcwl',\n",
       " 'see neg uk farmer brexit lose common agricultur polici httpstco xtjom cyo idiot vote brexit good luck goodnight',\n",
       " 'he lost unfett access nearest export market face reduct farm subsidi amp disadvantag trade deal give access uk market rival farmer australia amp nz see neg uk farmer brexit httpstcopxzxvknlrt',\n",
       " 'greghand apart tell porki long year fool public anymor disgrac great profit post brexit deal shaft farmer everyon us manchest merri christma ars theroylefamili would say',\n",
       " 'see neg uk farmer brexit lose common agricultur polici third seri look impact brexit trade deal guardian talk farmer difficulti face httpstcoyvwbjum gf',\n",
       " 'cannot see blue sky amp brexit benefit analysi mayb liz lizwebsterld rejoineu rejoin see neg uk farmer brexit lose common agricultur polici httpstcowzn b vd',\n",
       " 'see neg british farmer brexit loss common agricultur polici brexit httpstcoepyeirsc h',\n",
       " 'proscot indi jackiekemp nathanjordan dinna generalisemayb aye averag tori sadli scottish farmer vote brexit read farmer guardian articl back vote brexit reflect scot pop gener unlik fishermen',\n",
       " 'arianna kay bbc one probabl warn govern dissemin neg news let forget happen repres scottish farmer union interview challeng industri answer includ brexit b word later edit',\n",
       " 'see neg uk farmer brexit lose common agricultur polici farmer fisherman everi day folk britain still wait brexit benefit blue passport imperi measur dont keep heat httpstcoulpzhzxsh',\n",
       " 'hundr voluntari organis forc shut shop scale back oper farmer report problem govern delay replac eu fund consequ brexit continu rippl across uk httpstcowyhmvnayp',\n",
       " 'see neg uk farmer brexit lose common agricultur polici where fight back voic rais counterpart would never gone whimper httpstcojukuw xkz',\n",
       " 'brexit see neg uk farmer brexit lose common agricultur polici progress phase cap left farmer least year short previou eu subsidi httpstcooon uovt',\n",
       " 'justbob robmcguir confidencenac vineybernard bob let see fishermen amp farmer fare come year desper deal theyv done cover brexit uk firm also struggl suppli chain issu due brexit like im former life long conserv work north seacurr polit homeless',\n",
       " 'threaten presenc farmer pastor keeper land import sheep graze upland keep grass minimis risk climat chang wildfir georgemonbiot seen twaddl httpstcozuwq lstbd',\n",
       " 'chariti employ struggl due postbrexit fund delay voluntari group close farmer report problem slow disburs uk fund replac eu money uk trader brexit increas paperwork stress everyth httpstcor uyaaapkj',\n",
       " 'chariti employ struggl due postbrexit fund delay lisa ocarrol heather stewart voluntari group close farmer report problem slow disburs uk fund replac eu money httpstco hggazbd',\n",
       " 'brexitbrokebritain backwaterbritain chariti employ struggl due postbrexit fund delay voluntari group close farmer report problem slow disburs uk fund replac eu money httpstcosh vuubk',\n",
       " 'chariti employ struggl due postbrexit fund delay voluntari group close farmer report problem slow disburs uk fund govern fund intend replac eu support show multimillionpound gap fund httpstcomddyfqtuwl',\n",
       " 'chariti employ struggl due postbrexit fund delay voluntari group close farmer report problem slow disburs uk fund replac eu money httpstcoak qeh z libdemsinbiz timfarron libdemcr cajardinemp welshlibdem httpstcovaxlcfl rj',\n",
       " 'voluntarysector internationaltrad chariti employ struggl due postbrexit fund delay voluntari group close farmer report problem slow disburs uk fund replac eu money uk trader brexit httpstcot uo rk ng',\n",
       " 'chariti employ struggl due postbrexit fund delay voluntari group close farmer report problem slow disburs uk fund replac eu money brexitbrokebritain httpstco tfolhmjb',\n",
       " 'chariti employ struggl due postbrexit fund delay voluntari group close farmer report problem slow disburs uk fund replac eu money brexit crime rejoineu httpstcot ugu fw',\n",
       " 'chariti employ struggl due postbrexit fund delay voluntari group close farmer report problem slow disburs uk fund replac eu money httpstcoykmjmz ss',\n",
       " 'chariti employ struggl due postbrexit fund delay voluntari group close farmer report problem slow disburs uk fund replac eu money httpstcomcjvrhiz j',\n",
       " 'chariti employ struggl due postbrexit fund delay httpstcow pp tysb voluntari group close farmer report problem slow disburs uk fund replac eu money uk trader brexit increas paperwork stress everythin',\n",
       " 'thank unrel selfserv diet doom gloom serv farm union press opportun miss mental health suffer see neg uk farmer brexit lose common agricultur polici httpstcoaqshytk',\n",
       " 'brexit bad farmer undercut dodgi trade deal loss eu support adequ replac fund loss labour due end free movement neg httpstconjkmvbrx z',\n",
       " 'yet anoth brexit failur us guardian read tofu eat leftfac woke remon told long time ago httpstco vib ltgr',\n",
       " 'see neg uk farmer brexit lose common agricultur polici httpstcosl miuwuqo',\n",
       " 'see neg uk farmer brexit lose common agricultur polici httpstcofjhtgghgu',\n",
       " 'see neg uk farmer brexit lose common agricultur polici httpstco flxpi nu',\n",
       " 'see neg uk farmer brexit lose common agricultur polici httpstco mmym zyk',\n",
       " 'see neg uk farmer brexit lose common agricultur polici httpstcost xog c l',\n",
       " 'see neg uk farmer brexit lose common agricultur polici httpstco baqv oz',\n",
       " 'see neg uk farmer brexit lose common agricultur polici brexit guardian httpstcocumcp isa',\n",
       " 'see neg uk farmer brexit lose common agricultur polici httpstcopbziduytmj brexit ukpolit',\n",
       " 'see neg uk farmer brexit lose common agricultur polici httpstco fz txwdcn',\n",
       " 'see neg uk farmer brexit lose common agricultur polici fbpe rejoineu brexit brexitbrokebritain brexitshambl brexitbritain brexithasfail brexitisntwork brexitdisast httpstcot bjfxmnn',\n",
       " 'see neg uk farmer brexit lose common agricultur polici brexit guardian httpstcogpl tbmun',\n",
       " 'see neg uk farmer brexit lose common agricultur polici httpstcottuwzzrrah',\n",
       " 'see neg uk farmer brexit lose common agricultur polici httpstcoksmublhpuu',\n",
       " 'see neg uk farmer brexit lose common agricultur polici httpstcolzrwi n',\n",
       " 'see neg uk farmer brexit lose common agricultur polici httpstcoul md shdx',\n",
       " 'see neg uk farmer brexit lose common agricultur polici httpstcokq e nlxtn',\n",
       " 'see neg uk farmer brexit lose common agricultur polici httpstcoil vealghh',\n",
       " 'brexitr torybrexitdisast see neg uk farmer brexit lose common agricultur polici httpstcooccuoma qt',\n",
       " 'see neg uk farmer brexit lose common agricultur polici httpstcoacgpjt g',\n",
       " 'see neg uk farmer brexit lose common agricultur polici httpstco cevmwrgf conserv catastroph brexit',\n",
       " 'see neg uk farmer brexit lose common agricultur polici httpstcodllfwvcxbl',\n",
       " 'see neg uk farmer brexit lose common agricultur polici wish hadnt cri project fear warn httpstcowzlshqqgri',\n",
       " 'see neg uk farmer brexit lose common agricultur polici httpstcoxnn c zzdm',\n",
       " 'see neg uk farmer brexit lose common agricultur polici httpstcoaqbwytm gr',\n",
       " 'see neg uk farmer brexit lose common agricultur polici httpstcohzlu ijgm',\n",
       " 'see neg uk farmer brexit lose common agricultur polici httpstco pqxhquh l',\n",
       " 'see neg uk farmer brexit lose common agricultur polici httpstcow ji bhqld',\n",
       " 'see neg uk farmer brexit lose common agricultur polici httpstco tn z pt',\n",
       " 'see neg uk farmer brexit lose common agricultur polici httpstcoddadudd cf',\n",
       " 'see neg uk farmer brexit lose common agricultur polici httpstcodfuy iauaa httpstco zrr k',\n",
       " 'see neg uk farmer brexit lose common agricultur polici torybrexitr httpstcowc f wetcx',\n",
       " 'see neg uk farmer brexit lose common agricultur polici keir starmer angelarayn uklabour httpstco fadffcjyv',\n",
       " 'see neg uk farmer brexit lose common agricultur polici httpstco cqgeh uz',\n",
       " 'see neg uk farmer brexit lose common agricultur polici httpstcoi n ckzprw httpstcojmiof nlkq',\n",
       " 'see neg uk farmer brexshit lose common agricultur polici httpstcorvdwthpqfl',\n",
       " 'see neg uk farmer brexit lose common agricultur polici httpstcoxqtjhn abd',\n",
       " 'see neg uk farmer brexit lose common agricultur polici brexit httpstcoxlvxlw z w',\n",
       " 'see neg uk farmer brexit lose common agricultur polici httpstcosdrqbgsmof',\n",
       " 'see neg uk farmer brexit lose common agricultur polici httpstcozikdzbx z',\n",
       " 'see neg uk farmer brexit lose common agricultur polici httpstcogqsrj fnf',\n",
       " 'see neg uk farmer brexit lose common agricultur polici httpstcoytkxt uzwh',\n",
       " 'conserv rishisunak jacob ree mogg liamfox see neg uk farmer brexit lose common agricultur polici httpstcorm lun oar',\n",
       " 'see neg uk farmer brexit lose common agricultur polici httpstcow hwsdxjp',\n",
       " 'see neg uk farmer brexit lose common agricultur polici httpstcovfvvjaku w',\n",
       " 'see neg uk farmer lose common agricultur polici httpstcocsmsk r rv',\n",
       " 'see neg uk farmer brexit lose common agricultur polici httpstcoloqzpgihza',\n",
       " 'see neg uk farmer brexit lose common agricultur polici httpstco kih ro og',\n",
       " 'see neg uk farmer brexit lose common agricultur polici httpstcormqnrm szo',\n",
       " 'see neg uk farmer brexit lose common agricultur polici httpstcoa gr sfac missold brexit put list missold ombudsjustic',\n",
       " 'brexitshambl see neg uk farmer brexit lose common agricultur polici httpstcoy dz mrdn',\n",
       " 'see neg uk farmer brexit lose common agricultur polici httpstcoaueioe sji',\n",
       " 'see neg uk farmer brexit lose common agricultur polici httpstcolvo edeg',\n",
       " 'see neg uk farmer brexit lose common agricultur polici httpstcog fjkih',\n",
       " 'see neg uk farmer brexit lose common agricultur polici httpstcoubfykcugsz',\n",
       " 'see neg uk farmer brexit lose common agricultur polici httpstcotjqo bhpu',\n",
       " 'see neg uk farmer brexit lose common agricultur polici httpstcolagzygxfyx',\n",
       " 'see neg uk farmer brexit lose common agricultur polici httpstcokb wqwhbwk',\n",
       " 'see neg uk farmer brexit lose common agricultur polici httpstcoyrrlwmzzuw',\n",
       " 'see neg uk farmer brexit lose common agricultur polici httpstcomcnuxol xu',\n",
       " 'see neg uk farmer brexit lose common agricultur polici brexit guardian httpstcoqivmfjquau',\n",
       " 'see neg uk farmer brexit lose common agricultur polici httpstcofjw ftltc',\n",
       " 'see neg uk farmer brexit lose common agricultur polici httpstco fq e pidd',\n",
       " 'see neg uk farmer brexit lose common agricultur polici guardian httpstcoheoubc vet',\n",
       " 'see neg uk farmer brexit lose common agricultur polici httpstcotdh f ihez',\n",
       " 'see neg uk farmer brexit lose common agricultur polici httpstcoszwyngolrv',\n",
       " 'see neg uk farmer brexit lose common agricultur polici httpstcovjpbz tvvn',\n",
       " 'see neg uk farmer brexit lose common agricultur polici torybrexitdisast httpstcoaazn cyhgq',\n",
       " 'see neg uk farmer brexit lose common agricultur polici brexit httpstcob z b drea httpstcoxrm imh ut',\n",
       " 'see neg uk farmer brexit lose common agricultur polici httpstcox jazsyw',\n",
       " 'see neg uk farmer brexit lose common agricultur polici brexit guardian scoopit httpstcomm g ageo brexit agricultur postbrexit costofbrexit traded cap elm subsidi nfutweet',\n",
       " 'see neg uk farmer brexit lose common agricultur polici brexit guardian httpstcoezgkcg ew',\n",
       " 'see neg uk farmer brexit lose common agricultur polici httpstcod zxkvcgoa',\n",
       " 'see neg uk farmer brexit lose common agricultur polici httpstco fy f k',\n",
       " 'see neg uk farmer brexit lose common agricultur polici httpstcolerh pil x',\n",
       " 'see neg uk farmer brexit lose common agricultur polici httpstcofejeuczgsv',\n",
       " 'see neg uk farmer brexit lose common agricultur polici httpstcorpxdzvnur',\n",
       " 'see neg uk farmer brexit lose common agricultur polici brexit guardian httpstcoe kcao ik',\n",
       " 'see neg uk farmer brexit lose common agricultur polici httpstco zvpjmrtsw',\n",
       " 'brexit lie impact brexit farmer plan toryli brexitli see neg uk farmer brexit lose common agricultur polici httpstcolpkjay byy',\n",
       " 'see neg uk farmer brexit lose common agricultur polici httpstcouylenr vpi brexitr brexit brexitagricultur',\n",
       " 'see neg uk farmer brexit lose common agricultur polici httpstcoxmek ymbse uk invest rewild',\n",
       " 'see neg uk farmer brexit amp lose common agricultur polici guardian talk farmer difficulti face httpstcoku touakam brexit brexitcarnag brexitr brexitdisast brexitbritain brexitbrokebritain farm',\n",
       " 'see neg uk farmer brexit lose common agricultur polici httpstcojtfudd fd',\n",
       " 'see neg uk farmer brexit lose common agricultur polici httpstcokmtfgnaopj',\n",
       " 'see neg uk farmer brexit lose common agricultur polici httpstcoxqxlfzrtp',\n",
       " 'see neg uk farmer brexit lose common agricultur polici httpstcoyrzmol',\n",
       " 'see neg uk farmer brexit lose common agricultur polici httpstcoauoqxkm nn',\n",
       " 'see neg uk farmer brexit lose common agricultur polici httpstcoczsbfhrsku',\n",
       " 'see neg uk farmer brexit lose common agricultur polici httpstcoen nchnybj',\n",
       " 'see neg uk farmer brexit lose common agricultur polici brexit httpstcot zm qhg x',\n",
       " 'see neg uk farmer brexit lose common agricultur polici httpstcodh vf nimp',\n",
       " 'see neg uk farmer brexit lose common agricultur polici httpstcovqdhmsqsd',\n",
       " 'see neg uk farmer brexit lose common agricultur polici httpstco okqhdnllu',\n",
       " 'see neg uk farmer brexit lose common agricultur polici httpstconven jlafa',\n",
       " 'see neg uk farmer brexit lose common agricultur polici ye ask balanc sheet brexit pro con sir bernard jenkin mp begin brexit process thing httpstcozw zspwxvm',\n",
       " 'see neg uk farmer brexit lose common agricultur polici httpstcoctaxufxn',\n",
       " 'see neg uk farmer brexit lose common agricultur polici httpstcok n zkvtli',\n",
       " 'see neg uk farmer brexit lose common agricultur polici httpstcoskm vmrwe',\n",
       " 'see neg uk farmer brexit lose common agricultur polici httpstcoymrhidjtd',\n",
       " 'see neg uk farmer brexit lose common agricultur polici httpstcotrgp ek',\n",
       " 'see neg uk farmer brexit lose common agricultur polici httpstcoijymcqnkq',\n",
       " 'see neg uk farmer brexit lose common agricultur polici brexit guardian httpstcoc gzhkixu',\n",
       " 'see neg uk farmer brexit lose common agricultur polici httpstcosi rti hhm',\n",
       " 'see neg uk farmer brexit lose common agricultur polici httpstco ljyeahssh',\n",
       " 'see neg uk farmer brexit lose common agricultur polici httpstcoddexgjbvh still see billboard field',\n",
       " 'see neg uk farmer brexit lose common agricultur polici httpstcop ahetvxyi',\n",
       " 'see neg uk farmer brexit lose common agricultur polici httpstcof pivw vvi',\n",
       " 'see neg uk farmer brexit lose common agricultur polici httpstcome zagra',\n",
       " 'sow shall reap see neg uk farmer brexit lose common agricultur polici httpstco lzumwwihm',\n",
       " 'see neg uk farmer brexit lose common agricultur polici brexit guardian httpstcoou z joqzh',\n",
       " 'see neg uk farmer brexit lose common agricultur polici httpstcoj pzlabgnd httpstcozbfvzmlaod',\n",
       " 'see neg uk farmer brexit lose common agricultur polici brexit guardian httpstcow edn czm',\n",
       " 'haha vote haha see neg uk farmer brexit lose common agricultur polici httpstcoydhej rrpm',\n",
       " 'brexit mean brexit brexidiot see neg uk farmer brexit lose common agricultur polici httpstcopbpb ptx',\n",
       " 'see neg uk farmer brexit lose common agricultur polici httpstcoaukhmdormx',\n",
       " 'see neg uk farmer brexit lose common agricultur polici brexit guardian httpstcohvhhct xyb',\n",
       " 'see neg uk farmer brexit lose common agricultur polici httpstcobexu aeb',\n",
       " 'see neg uk farmer brexit lose common agricultur polici brexit guardian httpstcoxrf wmddwm',\n",
       " 'see neg uk farmer brexit lose common agricultur polici starmer go make brexit work need face realiti torybrexitdisast brexithasfail rejoineu httpstcoerwcfdnhdi',\n",
       " 'see neg uk farmer brexit lose common agricultur polici httpstcoyytjnwvzpf',\n",
       " 'see neg uk farmer brexit lose common agricultur polici httpstcog uofwiqak',\n",
       " 'see neg uk farmer brexit lose common agricultur polici httpstcor v vthqyl',\n",
       " 'ironi see neg uk farmer brexit lose common agricultur polici httpstcoqgrixci gm vote oh that righthttpstcogmyy v',\n",
       " 'see neg uk farmer brexit lose common agricultur polici httpstcowu x bd',\n",
       " 'see neg uk farmer brexit lose common agricultur polici httpstcosvdykjziff',\n",
       " 'uk farm chuck bu see neg uk farmer brexit lose common agricultur polici httpstcoc lxbfd eh',\n",
       " 'see neg uk farmer brexit lose common agricultur polici httpstco wmhlam',\n",
       " 'see neg uk farmer brexit lose common agricultur polici httpstcopn g qwg',\n",
       " 'see neg uk farmer brexit lose common agricultur polici httpstcodrbuulbjjg',\n",
       " 'see neg uk farmer brexit lose common agricultur polici httpstcoqmuvdjaiji',\n",
       " 'see neg uk farmer brexit lose common agricultur polici httpstcohprvlzjn u',\n",
       " 'see neg uk farmer brexit lose common agricultur polici httpstcojlblh gfcn',\n",
       " 'see neg uk farmer brexit lose common agricultur polici httpstco l va kp',\n",
       " 'see neg uk farmer brexit lose common agricultur polici guardian httpstcoalj hg bbg brexitcarnag',\n",
       " 'see brexit neg say farmer lost unfett access nearest export market face reduct farm subsidi result loss common agricultur polici amp disadvantag trade deal httpstcovgmf ykdfn',\n",
       " 'see neg uk farmer brexit lose common agricultur polici httpstcoxmlhlbvi',\n",
       " 'see neg uk farmer brexit lose common agricultur polici httpstcoh v ri',\n",
       " 'see neg uk farmer brexit lose common agricultur polici httpstcopjym fuwen',\n",
       " 'see neg uk farmer brexit lose common agricultur polici httpstcoaxhbi fhil',\n",
       " 'see neg uk farmer brexit lose common agricultur polici httpstcovzaywmjahl',\n",
       " 'see neg uk farmer brexit lose common agricultur polici httpstco uuohn mmc',\n",
       " 'see neg uk farmer brexit lose common agricultur polici httpstcofyqjzrlfmq',\n",
       " 'see neg uk farmer brexit lose common agricultur polici httpstcoy dexpvd',\n",
       " 'see neg uk farmer brexit lose common agricultur polici httpstco hemvquh',\n",
       " 'see neg uk farmer brexit lose common agricultur polici httpstconqkkkmh uc',\n",
       " 'see neg uk farmer brexit lose common agricultur polici httpstcoxxpywzoc c',\n",
       " 'see neg uk farmer brexit lose common agricultur polici httpstcobnwx ofgk',\n",
       " 'see neg uk farmer brexit lose common agricultur polici httpstco migeifsyw',\n",
       " 'see neg uk farmer brexit lose common agricultur polici httpstcovbxrtp j',\n",
       " 'see neg uk farmer brexit lose common agricultur polici httpstcogvt wqhsq',\n",
       " 'see neg uk farmer brexit lose common agricultur polici httpstcopvh eyj ml',\n",
       " 'see neg uk farmer brexit lose common agricultur polici httpstcobgaejlyytk',\n",
       " 'see neg uk farmer brexit lose common agricultur polici httpstcod egb wvwq',\n",
       " 'see neg uk farmer brexit lose common agricultur polici httpstcodymlaaxlsz',\n",
       " 'see neg uk farmer brexit lose common agricultur polici httpstcokpo fowqor',\n",
       " 'see neg uk farmer brexit lose common agricultur polici httpstcoj u icjwu',\n",
       " 'see neg uk farmer brexit lose common agricultur polici httpstcogexkekhrad',\n",
       " 'see neg uk farmer brexit lose common agricultur polici httpstcodtswx dsmm',\n",
       " 'see neg uk farmer brexit lose common agricultur polici brexit guardian httpstcovc mkrz',\n",
       " 'see neg uk farmer brexit lose common agricultur polici httpstcouzoiahkbzi',\n",
       " 'brexitr see neg uk farmer brexit lose common agricultur polici httpstcojfvnvwusli',\n",
       " 'see neg uk farmer brexit lose common agricultur polici httpstco wq wkzt',\n",
       " 'see neg uk farmer brexit lose common agricultur polici httpstcoz fj yj gp',\n",
       " 'see neg uk farmer brexit lose common agricultur polici httpstcoq b r',\n",
       " 'see neg uk farmer brexit lose common agricultur polici httpstcoli q xau',\n",
       " 'see neg uk farmer brexit lose common agricultur polici httpstcojnhahcnsux',\n",
       " 'see neg uk farmer brexit lose common agricultur polici httpstco ejullik',\n",
       " 'see neg uk farmer brexit lose common agricultur polici httpstcol pmjl f',\n",
       " 'see neg uk farmer brexit lose common agricultur polici httpstcow wphbt gu',\n",
       " 'see neg uk farmer brexit lose common agricultur polici httpstcohv w e h',\n",
       " 'see neg uk farmer brexit lose common agricultur polici httpstcoemomyrfldu',\n",
       " 'see neg uk farmer brexit lose common agricultur polici httpstcoiij ozmjo',\n",
       " 'see neg uk farmer brexit lose common agricultur polici httpstco lp lhj',\n",
       " 'see neg uk farmer brexit lose common agricultur polici httpstcoehmvvhoftk brexitbrokebritain torycostofgreedcrisi',\n",
       " 'see neg uk farmer brexit lose common agricultur polici brexit guardian httpstcov prolsiao',\n",
       " 'ukip brexit made thing wors british farmer',\n",
       " 'voluntari group close farmer report problem slow disburs uk fund replac eu money httpstcosltxan ann',\n",
       " 'caupdat farmer pack brexit inflat amp rise interest rate destroy busi aye toff away barbar sham',\n",
       " 'brexit shit httpstco nydbw lf',\n",
       " 'uk farmer fish folk vote brexit idiot absolut sold sympathi whatsoev take back control httpstcosqibcttb f',\n",
       " 'farmer hard hit brexit face extrem uncertainti lose subsidi eu httpstcovltdzzfijb',\n",
       " 'chariti employ struggl due postbrexit fund delay voluntari group close farmer report problem slow disburs uk fund replac eu money brexit broken someth work brexitbrokebritain httpstcozfxxbx diu',\n",
       " 'mike lufc actual peopl knowledg area expertis economist export fishermen farmer logist tour musiciansshal continu brexit disast im sorri your denial reach copium',\n",
       " 'kirkberzerk ssabelu veronicareagan owen whiteley dxw kc genuin sorri brexit work peopl close busi fishermen farmer peopl suffer english exception',\n",
       " 'mimij aw news farmer whilst enorm sympathet lot farmer vote tori support brexit despit nfu advic disast',\n",
       " 'richardbental hearti fuck farmer didnt give toss impact industri enthusiast vote brexit tori theyv made bed',\n",
       " 'chri grayl horribl hard brexit damag peopl meant help httpstcoxjqggulrv',\n",
       " 'stupid never end major parti wholli complicit destruct economi httpstcodxkujov nd',\n",
       " 'johnspringford davidghfrost vigor advoc brexit brexit done disast ask small export ask fish industri ask farmer ask artist ask jewel led nontariff barrier uk largest trade bloc led neg consequ frost',\n",
       " 'see neg uk farmer brexit lose common agricultur polici nfu even warn farmer consequ unfortun didnt stop major farmer vote ditto fisherman httpstco crsrfvi x',\n",
       " 'im farmer know noth industri knew would happen vote brexit didnt hard see farmer vote thought would happen httpstcod io xq co',\n",
       " 'brexitr hit uk farmer hard guardian report httpstco r nnbmyip',\n",
       " 'brexit barrier unnecessari littl gain httpstco hghwvgtef',\n",
       " 'erthygl wych lost unfett access nearest export market face reduct farm subsidi result loss common agricultur polici disadvantag trade deal give access uk market rival farmer httpstco eha olb',\n",
       " 'lost unfett access nearest export market face reduct farm subsidi result loss common agricultur polici cap disadvantag trade deal brexit httpstcovd bvx u',\n",
       " 'uk farmer brexit lose common agricultur polici wale httpstcozmf k u hk',\n",
       " 'lost unfett access nearest export market face reduct farm subsidi result loss common agricultur polici disadvantag trade deal give access uk market rival farmer httpstcoi bgwa eji',\n",
       " 'uk farmer blame brexit loss access eu common agricultur polici subsidi httpstcodfeuwaurao',\n",
       " 'lost unfett access nearest export market face reduct farm subsidi result loss common agricultur polici amp disadvantag trade deal give access uk market rival farmer oz amp nz brexit httpstcolrrwvvveq',\n",
       " 'lbc aliciakearn ff leav vegan alon problem farmer due brexit corrupt tori vegan',\n",
       " 'sheep farmer point view there good outcom trade deal sapevatelo uk farmer brexit lose common agricultur polici httpstcohi vwsrqoc',\n",
       " 'commonwealthcca terribl carbon footprint british farmer public weve shot foundat civilis foot brexit',\n",
       " 'vivamjm joejhehir castlvillageman johnker robinpir advantag eu produc uk consum uk fishermen farmer fishermen farmer lost polit import brexitt plight remind wrong remain unlik forget role play brexit',\n",
       " 'see neg uk farmer brexit lose common agricultur polici amp yet brexit spell bloodi disast us retweet agre uwocidmsedgdhpamppcu ampcvidaaeea fe b c ac f',\n",
       " 'see neg disappoint brexitvot farmer seen rest world httpstcov bvg luz httpstcokb ebhfyrm',\n",
       " 'see neg uk farmer brexit lose common agricultur polici httpstco cmsjb pkn even wors terribl trade deal uk gov sign australia newzealand',\n",
       " 'jackiekemp mani scottish farmer went along tori polici brexit strip scotland thebrand beggar belief want scotgov support scotgov need work prevent poor food qualiti shortag lead fewer food choic starvat',\n",
       " 'icklesoldi shall talk call benefit area brexit border control go bad either farmer fisheri',\n",
       " 'rishi sunak bid join pacif trade bloc could hurt uk farmer intern data show httpstcocuw h qcri hurt uk farmer hasnt stop sunak he motiv desper desir mitig consequ brexit hell alien base',\n",
       " 'hcsgt warrocketajaxuk gbnew guess well work tear apart like lot brexit caus go back eu mean sign onto slaveri liter kill dutch farmer steal land want us evil remoan scum',\n",
       " 'brexit screw farmer brexit screw fisheri brexit fail httpstcouqzg ertut',\n",
       " 'jackiekemp percentag farmersfinsh vote tori vote brexit feel sorri one didnt',\n",
       " 'brexit barrier unnecessari erryesffsso fuck vote jesu idiot countri httpstcobxvbsxgjwh',\n",
       " 'thomascrowntre grahambsi oxford comma brexit question mark ye would sovereignti id like uk sovereign eu nation rather sacrif farmer fish crew engin disastr trade deal surinam tuvalu',\n",
       " 'know keep brexit fail miser boriss promis fund employ farmer amp chariti replac eu support never arriv bn',\n",
       " 'pathet lie rishisunak what happen promis honesti integr brexit either work didnt make anim suffer cover failur immor httpstco wwxcdb zh']"
      ]
     },
     "execution_count": 39,
     "metadata": {},
     "output_type": "execute_result"
    }
   ],
   "source": [
    "# Unnecessary (stop words) removed but meaning still intact. the stemer sometimes abbreviates words too\n",
    "cleaned_data "
   ]
  },
  {
   "cell_type": "code",
   "execution_count": 40,
   "id": "85bb946e",
   "metadata": {},
   "outputs": [
    {
     "data": {
      "text/plain": [
       "(517, 2496)"
      ]
     },
     "execution_count": 40,
     "metadata": {},
     "output_type": "execute_result"
    }
   ],
   "source": [
    "# Tokenization is the act of breaking up a sequence of strings into pieces such \n",
    "# as words, keywords, phrases, symbols and other elements called tokens\n",
    "from sklearn.feature_extraction.text import CountVectorizer\n",
    "\n",
    "# Instantiate an object cv by calling a method named as CountVectorzer()\n",
    "# here we are only taking 3K columns else the dataset will be too big\n",
    "# one con here is the order of the words is lost so the meaning can be lost a little\n",
    "# set stop words to names that dont indicate sentiment\n",
    "cv    = CountVectorizer(max_features = 3000, stop_words = ['BREXIT'])\n",
    "\n",
    "# convert the cleaneddata into the bag of words we want\n",
    "X_fin = cv.fit_transform(cleaned_data).toarray()\n",
    "\n",
    "# Display the rows and colums\n",
    "X_fin.shape"
   ]
  },
  {
   "cell_type": "code",
   "execution_count": 41,
   "id": "dbc8ae26",
   "metadata": {},
   "outputs": [
    {
     "data": {
      "text/plain": [
       "array([[0, 0, 0, ..., 0, 0, 0],\n",
       "       [0, 0, 0, ..., 0, 0, 0],\n",
       "       [0, 0, 0, ..., 0, 0, 0],\n",
       "       ...,\n",
       "       [0, 0, 0, ..., 0, 0, 0],\n",
       "       [0, 0, 0, ..., 0, 0, 0],\n",
       "       [0, 0, 0, ..., 0, 0, 0]])"
      ]
     },
     "execution_count": 41,
     "metadata": {},
     "output_type": "execute_result"
    }
   ],
   "source": [
    "# This is the feature vector just created\n",
    "X_fin"
   ]
  },
  {
   "cell_type": "code",
   "execution_count": 42,
   "id": "28cafd88",
   "metadata": {},
   "outputs": [],
   "source": [
    "# build the NLP model using the input and the output, use the Multinomial Naive Bayes\n",
    "# model to figure out the relationship between the input and the output.\n",
    "# its a supervised learning algorithm that works really well for text based data\n",
    "from sklearn.naive_bayes import MultinomialNB\n",
    "from sklearn.model_selection import train_test_split\n",
    "\n",
    "# Instantiate an object model by calling a method MultinomialNB()\n",
    "model = MultinomialNB()"
   ]
  },
  {
   "cell_type": "code",
   "execution_count": 43,
   "id": "06793bf9",
   "metadata": {},
   "outputs": [],
   "source": [
    "# Split the dataset into training and testing parts\n",
    "X_train, X_test, y_train, y_test = train_test_split(X_fin, y, test_size = 0.3)"
   ]
  },
  {
   "cell_type": "code",
   "execution_count": 44,
   "id": "95532020",
   "metadata": {},
   "outputs": [
    {
     "data": {
      "text/plain": [
       "MultinomialNB()"
      ]
     },
     "execution_count": 44,
     "metadata": {},
     "output_type": "execute_result"
    }
   ],
   "source": [
    "# Train the model by calling a method fit()\n",
    "model.fit(X_train,y_train)"
   ]
  },
  {
   "cell_type": "code",
   "execution_count": 45,
   "id": "78725da5",
   "metadata": {},
   "outputs": [],
   "source": [
    "# Call predict() method\n",
    "# To check how good our model is we first make predictions on the test set\n",
    "y_pred = model.predict(X_test)"
   ]
  },
  {
   "cell_type": "code",
   "execution_count": 46,
   "id": "5bbc229d",
   "metadata": {},
   "outputs": [
    {
     "name": "stdout",
     "output_type": "stream",
     "text": [
      "[1 1 1 1 1 1 1 1 1 1 1 1 1 1 1 1 1 1 2 1 1 1 1 2 2 1 1 1 1 1 2 1 1 1 1 1 1\n",
      " 1 2 1 1 1 1 1 1 1 1 1 1 1 1 1 2 1 1 1 1 1 1 1 1 1 2 1 1 1 1 1 1 1 1 2 1 1\n",
      " 1 1 1 1 1 1 1 1 1 1 1 1 1 1 1 1 1 1 1 1 1 1 1 2 1 1 1 1 1 1 1 1 1 1 1 1 1\n",
      " 1 1 1 1 1 1 1 1 1 1 1 1 1 1 1 1 1 1 1 1 1 1 1 1 1 1 1 1 1 1 1 1 1 2 1 1 1\n",
      " 1 1 2 1 1 1 1 1]\n"
     ]
    }
   ],
   "source": [
    "print(y_pred)"
   ]
  },
  {
   "cell_type": "code",
   "execution_count": 47,
   "id": "6b3dd4a6",
   "metadata": {},
   "outputs": [
    {
     "name": "stdout",
     "output_type": "stream",
     "text": [
      "              precision    recall  f1-score   support\n",
      "\n",
      "           0       0.00      0.00      0.00         1\n",
      "           1       0.96      0.93      0.94       150\n",
      "           2       0.00      0.00      0.00         5\n",
      "\n",
      "    accuracy                           0.89       156\n",
      "   macro avg       0.32      0.31      0.31       156\n",
      "weighted avg       0.92      0.89      0.91       156\n",
      "\n"
     ]
    }
   ],
   "source": [
    "from sklearn.metrics import classification_report\n",
    "\n",
    "# Instantiate a mthod named as Cla\n",
    "cf = classification_report(y_test, y_pred)\n",
    "\n",
    "# Display the values of an object cf\n",
    "print(cf)"
   ]
  },
  {
   "cell_type": "markdown",
   "id": "8db6c5d0",
   "metadata": {},
   "source": [
    "## Feture Generation using TI-IDF"
   ]
  },
  {
   "cell_type": "code",
   "execution_count": 48,
   "id": "8d0350c7",
   "metadata": {},
   "outputs": [],
   "source": [
    "from sklearn.feature_extraction.text import TfidfVectorizer\n",
    "\n",
    "# Create an object 'tf' by calling a method TfidfVectorizer()\n",
    "tfidf = TfidfVectorizer(max_features = 3000)\n",
    "\n",
    "# Train the dataset by calling a method fit_tranform() \n",
    "X_tfidf = tfidf.fit_transform(cleaned_data).toarray()"
   ]
  },
  {
   "cell_type": "code",
   "execution_count": 49,
   "id": "110f0c0f",
   "metadata": {},
   "outputs": [],
   "source": [
    "from sklearn.naive_bayes import MultinomialNB\n",
    "from sklearn.model_selection import train_test_split\n",
    "\n",
    "# Instantiate an object model by calling a method MultinomialNB()\n",
    "model_tdidf = MultinomialNB()"
   ]
  },
  {
   "cell_type": "code",
   "execution_count": 50,
   "id": "51747c78",
   "metadata": {},
   "outputs": [],
   "source": [
    "# Split the dataset into training and testing parts\n",
    "X_train, X_test, y_train, y_test = train_test_split(X_tfidf, y, test_size = 0.3)"
   ]
  },
  {
   "cell_type": "code",
   "execution_count": 51,
   "id": "d4eca18d",
   "metadata": {},
   "outputs": [
    {
     "data": {
      "text/plain": [
       "MultinomialNB()"
      ]
     },
     "execution_count": 51,
     "metadata": {},
     "output_type": "execute_result"
    }
   ],
   "source": [
    "# Train the model by calling a method fit()\n",
    "model_tdidf.fit(X_train, y_train)"
   ]
  },
  {
   "cell_type": "code",
   "execution_count": 52,
   "id": "cb40e41b",
   "metadata": {},
   "outputs": [],
   "source": [
    "# Call predict() method\n",
    "y_pred = model_tdidf.predict(X_test)"
   ]
  },
  {
   "cell_type": "code",
   "execution_count": 53,
   "id": "d37b5960",
   "metadata": {},
   "outputs": [
    {
     "name": "stdout",
     "output_type": "stream",
     "text": [
      "              precision    recall  f1-score   support\n",
      "\n",
      "           0       0.00      0.00      0.00         3\n",
      "           1       0.96      1.00      0.98       149\n",
      "           2       0.00      0.00      0.00         4\n",
      "\n",
      "    accuracy                           0.96       156\n",
      "   macro avg       0.32      0.33      0.33       156\n",
      "weighted avg       0.91      0.96      0.93       156\n",
      "\n"
     ]
    }
   ],
   "source": [
    "from sklearn.metrics import classification_report\n",
    "\n",
    "# Instantiate a mthod named as Cla\n",
    "cf = classification_report(y_test, y_pred)\n",
    "\n",
    "# Display the values of an object cf\n",
    "print(cf)"
   ]
  },
  {
   "cell_type": "code",
   "execution_count": null,
   "id": "3fd6ce7c",
   "metadata": {},
   "outputs": [],
   "source": []
  }
 ],
 "metadata": {
  "kernelspec": {
   "display_name": "Python 3 (ipykernel)",
   "language": "python",
   "name": "python3"
  },
  "language_info": {
   "codemirror_mode": {
    "name": "ipython",
    "version": 3
   },
   "file_extension": ".py",
   "mimetype": "text/x-python",
   "name": "python",
   "nbconvert_exporter": "python",
   "pygments_lexer": "ipython3",
   "version": "3.9.12"
  }
 },
 "nbformat": 4,
 "nbformat_minor": 5
}
