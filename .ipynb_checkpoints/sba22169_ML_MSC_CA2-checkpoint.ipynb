{
 "cells": [
  {
   "cell_type": "code",
   "execution_count": 25,
   "id": "d619e891",
   "metadata": {},
   "outputs": [],
   "source": [
    "from dotenv import dotenv_values\n",
    "import pandas as pd\n",
    "import matplotlib.pyplot as plt\n",
    "import requests\n",
    "import json\n",
    "import warnings\n",
    "warnings.filterwarnings('ignore') # We can suppress the warnings\n",
    "# my twitter keys are stores in a file outside the git repository for security reasons\n",
    "config = dotenv_values(\"/Users/ambrosedesmond/CCT_Projects/Ambrose_MSC_DS_CA2/.env\")\n",
    "bearer_token = config[\"BEARER_TOKEN\"]\n",
    "# this is the location of the twitter api access , looking for the most recent tweets\n",
    "search_url = \"https://api.twitter.com/2/tweets/search/recent\""
   ]
  },
  {
   "cell_type": "code",
   "execution_count": 3,
   "id": "3edf73c7",
   "metadata": {},
   "outputs": [],
   "source": [
    "\n",
    "\n",
    "# Set up the query we want to pass to api , is a json object\n",
    "    #   Im adding parameter -is = is not a retweet. i dont want the same retweets showing up in my data \n",
    "    # also pulling in the author id and name\n",
    "# Im using two query_params the first is without the next_token field for the first query   \n",
    "query_params1 = {\n",
    "    'query':'BREXIT farmers -is:retweet',\n",
    "    'max_results': '100',\n",
    "    'tweet.fields':'author_id',\n",
    "    'user.fields':'name',\n",
    "\n",
    "}\n",
    "# This second query is for the loop , as it requires a next_token.\n",
    "query_params2 = {\n",
    "    'query':'BREXIT farmers -is:retweet',\n",
    "    'max_results': '100',\n",
    "    'tweet.fields':'author_id',\n",
    "    'user.fields':'name',\n",
    "    'next_token' : 'abcd',\n",
    "}\n",
    "\n",
    "# my authorisation keys are used here for ther twitter API\n",
    "def bearer_oauth(r):\n",
    "    \"\"\" Function for using bearer token\"\"\"\n",
    "    r.headers['Authorization'] = f\"Bearer {bearer_token}\"\n",
    "    r.headers['User-Agent'] = \"v2RecentSerchPython\"\n",
    "    return r\n",
    "\n",
    "\n",
    "def connect_to_endpoint(url,params):\n",
    "    \"\"\" Function to connect to twitter API\"\"\"\n",
    "    response = requests.get(url,auth=bearer_oauth, params=params)\n",
    "    #responce.status_code 200 is good anything else is an error\n",
    "    \n",
    "    return response.json()\n",
    "\n",
    "def append_dict(adict,json_response):\n",
    "    for i in range(len(json_response['data'])):\n",
    "        try:\n",
    "            adict[json_response['data'][i]['author_id']] = json_response['data'][i]['text']\n",
    "\n",
    "        except IndexError:\n",
    "            print(\"We had an index error\")\n",
    "    return(adict)\n",
    "\n",
    "    \n",
    "def twit_call():\n",
    "    twit_dict={}\n",
    "    loop_count = 0\n",
    "    json_response = connect_to_endpoint(search_url, query_params1)\n",
    "\n",
    "    append_dict(twit_dict,json_response)\n",
    "    # while json_response['meta']['next_token']:\n",
    "    while True:\n",
    "        # pagenation is taking the next_token and feeding it through to next query\n",
    "        if 'next_token' in json_response['meta']: \n",
    "            next_t = json_response['meta']['next_token']\n",
    "            query_params2['next_token'] = next_t\n",
    "        else:\n",
    "            # this is the last page\n",
    "            break\n",
    "        json_response = connect_to_endpoint(search_url, query_params2)\n",
    "        append_dict(twit_dict,json_response)\n",
    "           \n",
    "    return(twit_dict)\n",
    "\n",
    "my_dict = twit_call()"
   ]
  },
  {
   "cell_type": "code",
   "execution_count": 4,
   "id": "0cba9ec4",
   "metadata": {
    "scrolled": true
   },
   "outputs": [],
   "source": [
    "# convert dictionary to dataframe\n",
    "df = pd.DataFrame.from_dict(my_dict, orient='index',columns=['tweets'])"
   ]
  },
  {
   "cell_type": "code",
   "execution_count": 5,
   "id": "3bc965e0",
   "metadata": {},
   "outputs": [
    {
     "data": {
      "text/plain": [
       "(517, 1)"
      ]
     },
     "execution_count": 5,
     "metadata": {},
     "output_type": "execute_result"
    }
   ],
   "source": [
    "df.shape"
   ]
  },
  {
   "cell_type": "code",
   "execution_count": 6,
   "id": "daf20c2e",
   "metadata": {},
   "outputs": [
    {
     "data": {
      "text/html": [
       "<div>\n",
       "<style scoped>\n",
       "    .dataframe tbody tr th:only-of-type {\n",
       "        vertical-align: middle;\n",
       "    }\n",
       "\n",
       "    .dataframe tbody tr th {\n",
       "        vertical-align: top;\n",
       "    }\n",
       "\n",
       "    .dataframe thead th {\n",
       "        text-align: right;\n",
       "    }\n",
       "</style>\n",
       "<table border=\"1\" class=\"dataframe\">\n",
       "  <thead>\n",
       "    <tr style=\"text-align: right;\">\n",
       "      <th></th>\n",
       "      <th>tweets</th>\n",
       "    </tr>\n",
       "  </thead>\n",
       "  <tbody>\n",
       "    <tr>\n",
       "      <th>1122931725280194560</th>\n",
       "      <td>‘We’re only seeing the negative’: UK farmers o...</td>\n",
       "    </tr>\n",
       "    <tr>\n",
       "      <th>1579880450532806661</th>\n",
       "      <td>@premnsikka Piss off, the current situation is...</td>\n",
       "    </tr>\n",
       "    <tr>\n",
       "      <th>1887781854</th>\n",
       "      <td>In fairness to Rishi Sunak why would you allow...</td>\n",
       "    </tr>\n",
       "    <tr>\n",
       "      <th>3015100089</th>\n",
       "      <td>👉 #BrexitReality #farming #trade ⁦@RishiSunak⁩...</td>\n",
       "    </tr>\n",
       "    <tr>\n",
       "      <th>21930807</th>\n",
       "      <td>‘We’re only seeing the negative’: UK farmers o...</td>\n",
       "    </tr>\n",
       "  </tbody>\n",
       "</table>\n",
       "</div>"
      ],
      "text/plain": [
       "                                                                tweets\n",
       "1122931725280194560  ‘We’re only seeing the negative’: UK farmers o...\n",
       "1579880450532806661  @premnsikka Piss off, the current situation is...\n",
       "1887781854           In fairness to Rishi Sunak why would you allow...\n",
       "3015100089           👉 #BrexitReality #farming #trade ⁦@RishiSunak⁩...\n",
       "21930807             ‘We’re only seeing the negative’: UK farmers o..."
      ]
     },
     "execution_count": 6,
     "metadata": {},
     "output_type": "execute_result"
    }
   ],
   "source": [
    "df.head()"
   ]
  },
  {
   "cell_type": "code",
   "execution_count": 7,
   "id": "2181e320",
   "metadata": {},
   "outputs": [
    {
     "name": "stdout",
     "output_type": "stream",
     "text": [
      "<class 'pandas.core.frame.DataFrame'>\n",
      "Index: 517 entries, 1122931725280194560 to 2437741387\n",
      "Data columns (total 1 columns):\n",
      " #   Column  Non-Null Count  Dtype \n",
      "---  ------  --------------  ----- \n",
      " 0   tweets  517 non-null    object\n",
      "dtypes: object(1)\n",
      "memory usage: 8.1+ KB\n"
     ]
    }
   ],
   "source": [
    "df.info()"
   ]
  },
  {
   "cell_type": "code",
   "execution_count": 8,
   "id": "70255eae",
   "metadata": {},
   "outputs": [],
   "source": [
    "import nltk"
   ]
  },
  {
   "cell_type": "code",
   "execution_count": 9,
   "id": "b70dee42",
   "metadata": {},
   "outputs": [
    {
     "name": "stderr",
     "output_type": "stream",
     "text": [
      "[nltk_data] Downloading package stopwords to\n",
      "[nltk_data]     /Users/ambrosedesmond/nltk_data...\n",
      "[nltk_data]   Package stopwords is already up-to-date!\n"
     ]
    },
    {
     "data": {
      "text/plain": [
       "True"
      ]
     },
     "execution_count": 9,
     "metadata": {},
     "output_type": "execute_result"
    }
   ],
   "source": [
    "nltk.download(\"stopwords\")"
   ]
  },
  {
   "cell_type": "code",
   "execution_count": 10,
   "id": "a9feb4ba",
   "metadata": {},
   "outputs": [],
   "source": [
    "# using regular expressions to remove all special charecters.\n",
    "df[\"tweets\"] = df['tweets'].str.replace('[^\\w\\s]','')"
   ]
  },
  {
   "cell_type": "code",
   "execution_count": 11,
   "id": "15823825",
   "metadata": {},
   "outputs": [],
   "source": [
    "# using regular expressions to remove all tabs and carrige returns that were imported in original csv\n",
    "df[\"tweets\"] = df['tweets'].str.replace(r'\\r\\n','')"
   ]
  },
  {
   "cell_type": "code",
   "execution_count": 12,
   "id": "1d0f2ce8",
   "metadata": {},
   "outputs": [],
   "source": [
    "# Basically stop words like this, an, a, the, etc that do not affect the meaning of the tweet will be removed\n",
    "from nltk.corpus import stopwords\n",
    "stop = stopwords.words(\"english\")"
   ]
  },
  {
   "cell_type": "code",
   "execution_count": 13,
   "id": "6c9b2de2",
   "metadata": {},
   "outputs": [],
   "source": [
    "# lambda counts the  number of stop words in each tweet\n",
    "df[\"stopwords\"]  = df[\"tweets\"].apply(lambda x : len([x for x in x.split() if x in stop]))"
   ]
  },
  {
   "cell_type": "code",
   "execution_count": 14,
   "id": "d02834a3",
   "metadata": {},
   "outputs": [],
   "source": [
    "# lambda counts the number of upper case words in tweet , indicate shouting , anger ect\n",
    "df[\"upper\"]  = df[\"tweets\"].apply(lambda x : len([x for x in x.split() if x.isupper()]))"
   ]
  },
  {
   "cell_type": "code",
   "execution_count": 85,
   "id": "2bd01fa7",
   "metadata": {},
   "outputs": [
    {
     "name": "stdout",
     "output_type": "stream",
     "text": [
      "Collecting textblob\n",
      "  Using cached textblob-0.17.1-py2.py3-none-any.whl (636 kB)\n",
      "Requirement already satisfied: nltk>=3.1 in /Users/ambrosedesmond/opt/anaconda3/lib/python3.9/site-packages (from textblob) (3.7)\n",
      "Requirement already satisfied: click in /Users/ambrosedesmond/opt/anaconda3/lib/python3.9/site-packages (from nltk>=3.1->textblob) (8.0.4)\n",
      "Requirement already satisfied: regex>=2021.8.3 in /Users/ambrosedesmond/opt/anaconda3/lib/python3.9/site-packages (from nltk>=3.1->textblob) (2022.3.15)\n",
      "Requirement already satisfied: tqdm in /Users/ambrosedesmond/opt/anaconda3/lib/python3.9/site-packages (from nltk>=3.1->textblob) (4.64.0)\n",
      "Requirement already satisfied: joblib in /Users/ambrosedesmond/opt/anaconda3/lib/python3.9/site-packages (from nltk>=3.1->textblob) (1.1.0)\n",
      "Installing collected packages: textblob\n",
      "Successfully installed textblob-0.17.1\n",
      "Note: you may need to restart the kernel to use updated packages.\n"
     ]
    }
   ],
   "source": [
    "\n",
    "#pip install textblob"
   ]
  },
  {
   "cell_type": "code",
   "execution_count": 16,
   "id": "a1b5b223",
   "metadata": {},
   "outputs": [
    {
     "name": "stdout",
     "output_type": "stream",
     "text": [
      "<class 'pandas.core.frame.DataFrame'>\n",
      "Index: 517 entries, 1122931725280194560 to 2437741387\n",
      "Data columns (total 3 columns):\n",
      " #   Column     Non-Null Count  Dtype \n",
      "---  ------     --------------  ----- \n",
      " 0   tweets     517 non-null    object\n",
      " 1   stopwords  517 non-null    int64 \n",
      " 2   upper      517 non-null    int64 \n",
      "dtypes: int64(2), object(1)\n",
      "memory usage: 16.2+ KB\n"
     ]
    }
   ],
   "source": [
    "df.info()"
   ]
  },
  {
   "cell_type": "code",
   "execution_count": 18,
   "id": "86c1f88a",
   "metadata": {},
   "outputs": [],
   "source": [
    "df['tweets'] = df['tweets'].astype(str)"
   ]
  },
  {
   "cell_type": "code",
   "execution_count": 19,
   "id": "d1f357ac",
   "metadata": {},
   "outputs": [],
   "source": [
    "##################### Warning this cell can take up to 20 mins to complete ################### \n",
    "# corrects spellings and grammer based on context\n",
    "# use txtblob to correct the tweet spelling\n",
    "from textblob import TextBlob\n",
    "df['tweets_correct?']= df[\"tweets\"].apply(lambda x : str(TextBlob(x).correct()))\n",
    "# pattern matching is not good"
   ]
  },
  {
   "cell_type": "code",
   "execution_count": 21,
   "id": "23bb45a1",
   "metadata": {},
   "outputs": [],
   "source": [
    "# get the sentiment . using scored words. scores are added up and the final score is the entimenen \n",
    "# The polarity score is a float within the range [-1.0, 1.0]. The subjectivity is a float within the \n",
    "# range [0.0, 1.0] where 0.0 is very objective and 1.0 is very subjective.\n",
    "df['sentiment_1'] = df[\"tweets\"].apply(lambda x : TextBlob(x).sentiment[0])\n",
    "df['sentiment_2'] = df[\"tweets_correct?\"].apply(lambda x : TextBlob(x).sentiment[0])"
   ]
  },
  {
   "cell_type": "code",
   "execution_count": 22,
   "id": "64df5169",
   "metadata": {},
   "outputs": [
    {
     "data": {
      "text/html": [
       "<div>\n",
       "<style scoped>\n",
       "    .dataframe tbody tr th:only-of-type {\n",
       "        vertical-align: middle;\n",
       "    }\n",
       "\n",
       "    .dataframe tbody tr th {\n",
       "        vertical-align: top;\n",
       "    }\n",
       "\n",
       "    .dataframe thead th {\n",
       "        text-align: right;\n",
       "    }\n",
       "</style>\n",
       "<table border=\"1\" class=\"dataframe\">\n",
       "  <thead>\n",
       "    <tr style=\"text-align: right;\">\n",
       "      <th></th>\n",
       "      <th>tweets</th>\n",
       "      <th>stopwords</th>\n",
       "      <th>upper</th>\n",
       "      <th>tweets_correct?</th>\n",
       "      <th>sentiment_1</th>\n",
       "      <th>sentiment_2</th>\n",
       "    </tr>\n",
       "  </thead>\n",
       "  <tbody>\n",
       "    <tr>\n",
       "      <th>1122931725280194560</th>\n",
       "      <td>Were only seeing the negative UK farmers on Br...</td>\n",
       "      <td>5</td>\n",
       "      <td>1</td>\n",
       "      <td>Were only seeing the negative of farmers on Cr...</td>\n",
       "      <td>-0.200000</td>\n",
       "      <td>-0.200000</td>\n",
       "    </tr>\n",
       "    <tr>\n",
       "      <th>1579880450532806661</th>\n",
       "      <td>premnsikka Piss off the current situation is n...</td>\n",
       "      <td>16</td>\n",
       "      <td>1</td>\n",
       "      <td>premnsikka Miss off the current situation is n...</td>\n",
       "      <td>-0.050000</td>\n",
       "      <td>-0.050000</td>\n",
       "    </tr>\n",
       "    <tr>\n",
       "      <th>1887781854</th>\n",
       "      <td>In fairness to Rishi Sunak why would you allow...</td>\n",
       "      <td>10</td>\n",
       "      <td>0</td>\n",
       "      <td>In fairness to Wish Sunk why would you allow t...</td>\n",
       "      <td>0.066667</td>\n",
       "      <td>0.066667</td>\n",
       "    </tr>\n",
       "    <tr>\n",
       "      <th>3015100089</th>\n",
       "      <td>BrexitReality farming trade RishiSunak Conser...</td>\n",
       "      <td>0</td>\n",
       "      <td>0</td>\n",
       "      <td>BrexitReality farming trade RishiSunak Conser...</td>\n",
       "      <td>0.000000</td>\n",
       "      <td>0.000000</td>\n",
       "    </tr>\n",
       "    <tr>\n",
       "      <th>21930807</th>\n",
       "      <td>Were only seeing the negative UK farmers on Br...</td>\n",
       "      <td>5</td>\n",
       "      <td>1</td>\n",
       "      <td>Were only seeing the negative of farmers on Cr...</td>\n",
       "      <td>-0.200000</td>\n",
       "      <td>-0.200000</td>\n",
       "    </tr>\n",
       "  </tbody>\n",
       "</table>\n",
       "</div>"
      ],
      "text/plain": [
       "                                                                tweets  \\\n",
       "1122931725280194560  Were only seeing the negative UK farmers on Br...   \n",
       "1579880450532806661  premnsikka Piss off the current situation is n...   \n",
       "1887781854           In fairness to Rishi Sunak why would you allow...   \n",
       "3015100089            BrexitReality farming trade RishiSunak Conser...   \n",
       "21930807             Were only seeing the negative UK farmers on Br...   \n",
       "\n",
       "                     stopwords  upper  \\\n",
       "1122931725280194560          5      1   \n",
       "1579880450532806661         16      1   \n",
       "1887781854                  10      0   \n",
       "3015100089                   0      0   \n",
       "21930807                     5      1   \n",
       "\n",
       "                                                       tweets_correct?  \\\n",
       "1122931725280194560  Were only seeing the negative of farmers on Cr...   \n",
       "1579880450532806661  premnsikka Miss off the current situation is n...   \n",
       "1887781854           In fairness to Wish Sunk why would you allow t...   \n",
       "3015100089            BrexitReality farming trade RishiSunak Conser...   \n",
       "21930807             Were only seeing the negative of farmers on Cr...   \n",
       "\n",
       "                     sentiment_1  sentiment_2  \n",
       "1122931725280194560    -0.200000    -0.200000  \n",
       "1579880450532806661    -0.050000    -0.050000  \n",
       "1887781854              0.066667     0.066667  \n",
       "3015100089              0.000000     0.000000  \n",
       "21930807               -0.200000    -0.200000  "
      ]
     },
     "execution_count": 22,
     "metadata": {},
     "output_type": "execute_result"
    }
   ],
   "source": [
    "df.head()"
   ]
  },
  {
   "cell_type": "code",
   "execution_count": 27,
   "id": "a81291e6",
   "metadata": {},
   "outputs": [],
   "source": [
    "df = df.sort_values(by='sentiment_1', ascending=False)\n",
    "df = df.sort_values(by='sentiment_2', ascending=False)"
   ]
  },
  {
   "cell_type": "code",
   "execution_count": 26,
   "id": "1c3f5e8c",
   "metadata": {},
   "outputs": [
    {
     "data": {
      "image/png": "[encoded data removed]",
      "text/plain": [
       "<Figure size 432x288 with 1 Axes>"
      ]
     },
     "metadata": {
      "needs_background": "light"
     },
     "output_type": "display_data"
    }
   ],
   "source": [
    "df.hist(column='sentiment_1')\n",
    "\n",
    "plt.show()"
   ]
  },
  {
   "cell_type": "code",
   "execution_count": 28,
   "id": "f51da3b0",
   "metadata": {},
   "outputs": [
    {
     "data": {
      "image/png": "[encoded data removed]",
      "text/plain": [
       "<Figure size 432x288 with 1 Axes>"
      ]
     },
     "metadata": {
      "needs_background": "light"
     },
     "output_type": "display_data"
    }
   ],
   "source": [
    "# The histogram give a visual indication of the sentiment, \n",
    "# we see the majority of the sentiment is below 0 on the x axis indicating negative sentiment \n",
    "# in relation to Brexit and farming\n",
    "df.hist(column='sentiment_2')\n",
    "\n",
    "plt.show()"
   ]
  },
  {
   "cell_type": "markdown",
   "id": "235dff56",
   "metadata": {},
   "source": [
    "## BAG OF WORDS"
   ]
  },
  {
   "cell_type": "code",
   "execution_count": 31,
   "id": "20a99ba1",
   "metadata": {},
   "outputs": [],
   "source": [
    "# Store the comments\n",
    "X = df[\"tweets\"]\n",
    "y = df[\"sentiment_1\"]"
   ]
  },
  {
   "cell_type": "code",
   "execution_count": 32,
   "id": "12ffd4d3",
   "metadata": {},
   "outputs": [
    {
     "data": {
      "text/plain": [
       "365336458     1.000000\n",
       "2460004712    0.633333\n",
       "105269160     0.507143\n",
       "449864075     0.500000\n",
       "52380716      0.300000\n",
       "Name: sentiment_1, dtype: float64"
      ]
     },
     "execution_count": 32,
     "metadata": {},
     "output_type": "execute_result"
    }
   ],
   "source": [
    "y.head()"
   ]
  },
  {
   "cell_type": "code",
   "execution_count": 33,
   "id": "c2883e28",
   "metadata": {},
   "outputs": [],
   "source": [
    "# Lamdba to categorise the sentiment to 0,1,2 groupings\n",
    "y = y.apply(lambda x: 0 if x < -0.5 else (1 if x < 0.5 else 2))"
   ]
  },
  {
   "cell_type": "code",
   "execution_count": 34,
   "id": "802034ce",
   "metadata": {},
   "outputs": [
    {
     "data": {
      "text/plain": [
       "365336458     2\n",
       "2460004712    2\n",
       "105269160     2\n",
       "449864075     2\n",
       "52380716      1\n",
       "Name: sentiment_1, dtype: int64"
      ]
     },
     "execution_count": 34,
     "metadata": {},
     "output_type": "execute_result"
    }
   ],
   "source": [
    "y.head()"
   ]
  },
  {
   "cell_type": "code",
   "execution_count": 35,
   "id": "2da0b617",
   "metadata": {},
   "outputs": [
    {
     "name": "stderr",
     "output_type": "stream",
     "text": [
      "[nltk_data] Downloading package stopwords to\n",
      "[nltk_data]     /Users/ambrosedesmond/nltk_data...\n",
      "[nltk_data]   Package stopwords is already up-to-date!\n"
     ]
    }
   ],
   "source": [
    "from nltk.corpus import stopwords\n",
    "nltk.download('stopwords')\n",
    "\n",
    "import string\n",
    "from nltk.stem import PorterStemmer"
   ]
  },
  {
   "cell_type": "code",
   "execution_count": 36,
   "id": "057b7e52",
   "metadata": {},
   "outputs": [],
   "source": [
    "# Store the stopwords into the object named as \"stop_words\"\n",
    "# Stopwords are words which do not contain enough significance to be used without our algorithm\n",
    "stop_words = stopwords.words('english')\n",
    "\n",
    "# Store the string.punctuation into an object punct. Removing Punctuation: ‘,.*!’ and other \n",
    "# punctuation marks that are not really needed by the model\n",
    "punct = string.punctuation\n",
    "\n",
    "# Initialise an object using a method PorterStemmer.\n",
    "# reducing words like ‘jumping, jumped, jump’ into its root word(also called stem)\n",
    "stemmer = PorterStemmer()"
   ]
  },
  {
   "cell_type": "code",
   "execution_count": 37,
   "id": "76c81436",
   "metadata": {},
   "outputs": [],
   "source": [
    "import re\n",
    "\n",
    "cleaned_data=[]\n",
    "\n",
    "# For loop from first value to length(X), ^a-zA-Z means include small and capital case letters\n",
    "\n",
    "for i in range(len(X)):\n",
    "    message = re.sub('[^a-zA-Z]', ' ', X.iloc[i])\n",
    "    message = message.lower().split()\n",
    "    message = [stemmer.stem(word) for word in message if (word not in stop_words) and (word not in punct)]\n",
    "    # we rejoin all the words back into a sentance again and append the sentances into a list\n",
    "    message = ' '.join(message)\n",
    "    cleaned_data.append(message)"
   ]
  },
  {
   "cell_type": "code",
   "execution_count": 38,
   "id": "2cb3f401",
   "metadata": {},
   "outputs": [
    {
     "data": {
      "text/plain": [
       "365336458              These were the BEST placed people to understan...\n",
       "2460004712             GregHands I am sure the farmers of Great Brita...\n",
       "105269160              JohnMellis francesca_geld  yet all the trade d...\n",
       "449864075              ashstronge Oh wasnt Brexit BRITAIN able to ste...\n",
       "52380716               GregHands 1 million  Over 5 years Between how ...\n",
       "                                             ...                        \n",
       "1360497947297914880    jackiekemp A percentage of FarmersFinshing vot...\n",
       "3192252407             Brexit barriers are so unnecessary erryesFFSso...\n",
       "933754477244493824     ThomasCrownTree grahambsi After the Oxford com...\n",
       "179468611              I know I keep on about it but Brexit failed mi...\n",
       "1074657601214910464    Pathetic and a lie RishiSunak Whats happened t...\n",
       "Name: tweets, Length: 517, dtype: object"
      ]
     },
     "execution_count": 38,
     "metadata": {},
     "output_type": "execute_result"
    }
   ],
   "source": [
    "X # this is the regular cleaned data, note I have full sentices with all the unnecessary words"
   ]
  },
  {
   "cell_type": "code",
   "execution_count": 39,
   "id": "0b1a5428",
   "metadata": {},
   "outputs": [
    {
     "data": {
      "text/plain": [
       "['best place peopl understand eu meant ukip sign field throw weight around httpstcoyalttw oar',\n",
       " 'greghand sure farmer great britain applaud spectacular brexit coup year',\n",
       " 'johnmelli francesca geld yet trade deal countri done nobodi seem complain uk farmer certainli got screw ukau trade agreement anoth brexit win',\n",
       " 'ashstrong oh wasnt brexit britain abl step save day httpstcoucqfozexf',\n",
       " 'greghand million year mani farmer whoooo year wow bonu brexit nob',\n",
       " 'much win httpstcoorw jbuv',\n",
       " 'news brexitcarnag mostli wale vote cours torybrexitdisast httpstcobijfiwshx',\n",
       " 'gbnew garethwynjon well given uk grown food doesnt get pick farmer vote brexit there go lot hungri peopl season food januari may',\n",
       " 'chrisgreybrexit teresac farmer vote leav despit forewarn would happen happen expect sympathi come fulli reject brexit apologis demand rejoin eu',\n",
       " 'much fuck win httpstcosemzez axj',\n",
       " 'make britain great day prereferendum met group farmer told much reli upon eu worker keep busi go vote brexit ill never understand brexitr httpstcooez hfi',\n",
       " 'kirkberzerk trontro veronicareagan owen whiteley dxw kc farmer better done anoth clue one brexit said stay singlemarket johnson hannan etc farag want norwayswitzerland amp promis fewer boat cross channel work',\n",
       " 'ooop brexit benefit httpstconea nhqu',\n",
       " 'chanc eu britain start relationship afresh realiti disproof brexit argument brexitli brexitbrokebritain httpstcoe jrsbd',\n",
       " 'bestforbritain mani farmer vote brexit',\n",
       " 'yet brexit benefit brexitbrokebritain httpstcogyw ztmsfg',\n",
       " 'come eu cap opportun reshap agricultur amp food system rather prop farm system damag natur unsustain amp leav mani farmer close poverti httpstco sridyrv',\n",
       " 'didnt farmer vote great news new zealand farmer cours httpstcomtgwbfaeud',\n",
       " 'fantast benefit brexit consum farmer mimsdavi midsussex time bbcpm remainerswereright httpstcovbvn kuvw',\n",
       " 'johnesteven dick creat brexit base lie racism quit like guy tv day say shouldnt said thatabout million give back nh lie farmer one benefici eu shame',\n",
       " 'greghand million five year that top end k pa share across uk pig farmer wowzer that almost much one consult work eu brought us pre brexit end freedom movement',\n",
       " 'chrisydrthoma brexitbin lindarich borisjohnson jacob ree mogg sirgrahambradi upset realli feel farmer what happen sell famili farm brexit unforgiv hope thing get better friend',\n",
       " 'million five year mani billion brexit cost us much farmer lose australia deal greghand httpstcoqmtz eychc',\n",
       " 'there way dress trade deal good thing ive heard farmer say industri less chuck bu httpstcobhaf odkgh bbcpm',\n",
       " 'brexit special report year post brexit agricultur fare cap replac new z oz trade deal moro report eu dev fund httpstcofxbk bq th',\n",
       " 'brexit affect agricultur industri great time farmer consid diversifi busi whether offer agritour experi start farmtot restaur someth els entir mani possibl farm',\n",
       " 'johnredwood oh shit fine throw good money farmer produc food cant harvest lack workforc wait brexit inabl understand youv complet fuck stagger',\n",
       " 'per year trade deal south korea whilst new studi find brexit cost uk billion lost trade merri xma farmer luv tori',\n",
       " 'vivamjm brexit mani mysteri courtesi russian cash etc one profound uk farmer support strongli',\n",
       " 'mrrcain thing democraci parti use term titl dup loyal dup vote farmer beg listen brexit ignor thing mani exampl disregard democraci found realiti anti democraci',\n",
       " 'sarahmurphi jonsopel also destroy industri overal economi yay brexit brexitr brexitli httpstcozbmikzr sv',\n",
       " 'kilsal stevebakerhw chhcall jamescleverli rishisunak farmer gb highlight issu brexit much import uk httpstcotyejpd czg',\n",
       " 'golli gosh incred deal k year woo hoo brexit certainli worth eh whooooool day share amongst pork farmer britain astound stuff ff peopl actual fall idioci httpstcotog qj kl',\n",
       " 'anyon explain non farmer care farmer like alway vote tori support brexit direct consequ stupid farmer httpstcovsitbbwbm',\n",
       " 'ukip noth hurt farmer disast brexit your enemi british farmer british fishermen your enemi whole british popul there probabl group peopl done damag britain lot sinc ww',\n",
       " 'beerg seem recal look though methodolog wasnt brilliant farmer vote brexit roughli line other region age cohort',\n",
       " 'scottbentonmp dnc good come brexit weve lost right lose mani end farmer fishermen nh staff busi everyon els see leaver lie project fear project fact gullibl taken leaver desper posit spin',\n",
       " 'rishisunak tweet repres one rural constitu uk alway backbritishfarm agricultur area tivertonhoniton nshropshir cheshamamersham vote rejoin libdem httpstcocwgwx jgyi',\n",
       " 'johnredwood lot made mani fishermen work brexit lol grant farmer keep silent say lack worker sinc brexit hamper also rememb tori said oil north sea run scotland',\n",
       " 'mani peopl includ busi owner farmer brexit disast poll indic british peopl think brexit mistak httpstcobbdjbcl vl',\n",
       " 'duncan must farmer andor fishermen twitter stand say still receiv money brexit sure',\n",
       " 'tomhfh inde well said although rishisunak selfid could win women vote clear would block keir starmer brexit benefit immigr tough union keep unemploy low strong defenc polici protect farmersgreen belt tangibl level etc',\n",
       " 'rememb farmer breconandradnorshir come next elect current mp jonesyfay think postbrexit trade deal reduct anim welfar standard good farm get vote httpstcoszhdkvivuk',\n",
       " 'that supposedli posit stuff lie brexit httpstcohbaopesvbb',\n",
       " 'posit farmer vote brexit fool httpstcoi klwmxbv',\n",
       " 'breathtak western reach brecon beacon ian rickman ponder damag brexit done futur two year sinc uk quit eu futur mountain sheepfarm full econom precar httpstcohyhiqh pi',\n",
       " 'good report miss obviou question affect farmer vote make differ someon victim culprit httpstcok frnqxcyc',\n",
       " 'brexit present opportun pay farmer realist public good servic provid biodivers water manag carbon sequestr public access amen opportun seem vanish quickli',\n",
       " 'garethmil nicholastyron your clearli globalist free trade brexit uk farmer fishermen red wall voter want much uk protectionist brexit believ eu alreadi way protectionist sure there much support mimfordreesmogg version',\n",
       " 'robbfromderbi johnredwood brexit huge success trade pork south korea year imagin long would take strike deal eu pork farmer must happi left eu mean eu made deal month ago httpstcobhrwn tjlj',\n",
       " 'ukip campaign rejoin eu real solut way got rid forrin use pick produc want us buy go get field us huh httpstco xs rzi de',\n",
       " 'johnredwood grow economi need workforc brexit remov free movement farmer cannot harvest crop slaughter anim hospit struggl staff nhssocial care struggl staff gener fluid workforc grow economi afford tax cut',\n",
       " 'murdo fraser thescotsman grow economi need workforc brexit remov free movement farmer cannot harvest crop slaughter anim hospit struggl staff nhssocial care struggl staff gener fluid workforc grow economi afford tax cut',\n",
       " 'someon warn farmer fill field vote leav banner httpstcok e dwdzw',\n",
       " 'farminguk teaandabikki havent abl feed sole product sinc brexit wh sadli mani farmer support disast amp current plan polici slaughter what left wholesal get farmland amp green belt protect go agroforestri fight back',\n",
       " 'brexit econom disast keep deliv poverti amp chao welcom broken brexitania httpstco dobajfp',\n",
       " 'arron bank brexit sovereignti need capabl govern one control immigr help farmer produc food sort educ produc peopl actual use skill non globalist look peopl stuff',\n",
       " 'bigscrab httpstcocd dokytn sympathi farmer vote brexit like fish industri vote wreck entir economi rest us thought would get rich sod deserv noth',\n",
       " 'two year sinc brexitr futur mountain sheepfarm full econom precar lost unfett access nearest export market face reduct subsidi disadvantag eu traded australianz httpstcoufl edq g',\n",
       " 'markjuszkiewicz karlturnermp brexit sham guardian nfu poll farmer show vote brexit gener vote popul lower imagin im guess lower youd imagin',\n",
       " 'kilsal bbreathnach incorrect everyon sourc seed potato scotland use grow potato use mostli seed sort store dark hous keep sprout earli also know farmer sourc seed roi beyond brexit problem',\n",
       " 'kilsal hear vote actual mean didnt farmer union support brexit actual eu farm grant replac wale ni two got lot eu put alway baffl wale vote real headscratch',\n",
       " 'th day brexit true love gave tori lie driver cri student seeth appl rot trucker pay git betray farmer pray brown ring soil turd henchmen michael gove arsehol bare tree httpstcofg yrnfubf',\n",
       " 'hanesyddiaeth colinelv mfletchertim alexandracairn could without see leav campaign first leav sold brexit british peopl lost fom new trade deal econom insignific farmer fishermen suffer vote would need nd vote',\n",
       " 'jezobrien jayemde nicholastyron new system landownersfarm alreadi devis roll also devolv amp much fairer one cap pun fit eu rule base version serv line pocket like remain heseltin httpstcoa eshd hiv',\n",
       " 'ive heard farmer say industri less chuck bu httpstcoczfskipgti',\n",
       " 'lost unfett access nearest export market face reduct farm subsidi disadvantag trade deal industri less chuck bu aa httpstcopjnyfeojqj',\n",
       " 'johnredwood meganwi wef blackrock control govern tri get rid farmer uk offer farmer retir amp walk away brexit complet properli amp done noth fish countri dismantl within build back better',\n",
       " 'two year sinc uk quit eu futur mountain sheepfarm full econom precar lost unfett access nearest export market face reduct farm subsidi result loss common agricultur polici cap httpstcoy podbwt',\n",
       " 'conspost fantast deal worth million year brexit loss british pig farmer amount million two year dont taken propaganda brexit kill',\n",
       " 'brexit disast farmer lisaocarrol factcheck call ecolog benefit hill graze ecologist compar risk wildfir flood risk downstream enorm mention methan amp biodivers disast httpstco fbr dhzd',\n",
       " 'brexit govern said give farmer first time year chanc thing differ ian rickman farm wale ive heard farmer say industri less chuck bu httpstcoacvhjldlqn',\n",
       " 'palebd hill farm like uk farm reli subsidi keep go chang post brexit realiti mean fund slash howev chang must take place farmer amp commun part amp parcel chang',\n",
       " 'ive heard farmer say industri less chuck bu httpstco e rmw j f busi f farmer f fish brexit benefit rich folk nobodi els',\n",
       " 'lost unfett access nearest export market face reduct farm subsidi disadvantag trade deal give access uk market rival farmer australia new zealand httpstcoyioxf ukdv brexit brexitr',\n",
       " 'devonview socialm boblist pool explain devonview thing go well particularli fisherfolk farmer south west know deep troubl thank brexit tori therebi would welcom evid disprov',\n",
       " 'bestforbritain australian new zealand trade deal disast british livestock farmer believ brexit lie vote bullshit bowi illustr low nation sunk',\n",
       " 'greghand becom parodi k pork farmer uk better p per week must proud remind much lost sinc brexit pathet',\n",
       " 'harvest time uk unleash power gene edit cameron english brexit place england posit breakaway eu archaic vision biotech sustain profit futur english farmer iealondon httpstcoiszsmhvszw httpstcozmhbscrrz',\n",
       " 'brexit support climat chang deni antimask antilockdown lover rape joke julia hartleybrew one opinion tv amp radio hack seem sole purpos life rage farmer want spread divis hatrhttpstcom fhbipbeg',\n",
       " 'sophielouisecc pleas brexit go well back british tradit farmer damn foreign immigr well done',\n",
       " 'ivor park fin mart gbnew your total delud end fishermen farmer export manufactur hospit airlin financi servic pharma hit brexit yet cant see keep chang goalpost mate',\n",
       " 'good seri guardian would interest know herefordshir farmer affect chang herefordshireeu herefordtim see neg uk farmer brexit lose common agricultur polici httpstcok jhrcemx',\n",
       " 'mani racist keyboard warrior would gut tell face face think without immigr countri would fail financi check nh social servic farmer lost mani co brexit httpstcovzg uuzelf',\n",
       " 'zeb mrjamesob firstli apolog call stupid simpli enough gov switzerland land farmer like trentino itali best countri world live although still prefer new zealand uk nightmar brexit',\n",
       " 'nilegardin mmm dont man charlatan benefit greatli littl whilst offic shaft major uk small busi farmer amp fisherwomen never got brexit done',\n",
       " 'disappoint uk trade envoy australia keep refer england instead uk still believ brexit great idea britain farmer wine trade embarrass httpstco kww hfg',\n",
       " 'greghand carol falaki even mp help make australian trade deal said throw uk farmer wolv brexit shaft farmer take porki lie somewher els',\n",
       " 'robert patman tymvirginia even confus number farmer fishermen amp hospit group support brexit ignor expert advic would caus chao torybrexitdisast brexitrecess brexitbrokebritain httpstco yasjznm',\n",
       " 'nicholastyron brexit disast plan well would want import beef halfway around world australia could deal european neighbour farmer',\n",
       " 'karlturnermp brexit sham guardian screw farmersse brexit vote greed ridden clown lose money bonu far im concern',\n",
       " 'egg rule may scrambl avoid british produc undercut httpstcohjwl qlb v didnt projectfear say uk food standard would cut part brexit yet see eu thing reduc food standard remain care comment',\n",
       " 'three year borisjohnson swept power promis get brexit done guardian report project find employ farmer chariti still wrestl realiti life outsid eu torybrexitdisast brexitbrokebritain httpstcorlyecntznh',\n",
       " 'pledg postbrexit overhaul regul come execut worri reform eu law go far run money farmer fight surviv ukrain',\n",
       " 'three year bori johnson swept power promis get brexit done guardian report project find employ farmer chariti still wrestl realiti life outsid eu httpstco yxqrgoiqm',\n",
       " 'stun fuck upbi peopl get fuck httpstcojg hfeyzl',\n",
       " 'pledg full rang replac support place would work whether common upland farmer small famili farm common wow britain realli stuck th centuri httpstco jepewbzrd',\n",
       " 'brexit disast uk farmer eu farm subsidi amp easi access eu export market undercut trade deal give access uk market rival farmer australia nz etc tori lie farmer amp worsen uk depend oversea food httpstco yqw ig',\n",
       " 'top stori see neg uk farmer brexit lose common agricultur polici brexit guardian httpstcofq ufo mha see httpstcoinywxu xh',\n",
       " 'top stori see neg uk farmer brexit lose common agricultur polici brexit guardian httpstco xf ay see httpstco msbblvaxg',\n",
       " 'top stori see neg uk farmer brexit lose common agricultur polici brexit guardian httpstcoi x zievl see httpstcokxh dt whj',\n",
       " 'chrisgreybrexit mani farmer support brexit hard understand fail predict lose cap subsidi im alway stun peopl dont understand busi',\n",
       " 'beaten confer pitch open pork market beij uk farmer kill amp burnt healthi pig year due tori brexit httpstcoworzfsvw j',\n",
       " 'see neg uk farmer brexit lose common agricultur polici there way dress trade deal good thing ive heard farmer say industri less chuck bu httpstcomjdfpxbrw',\n",
       " 'fair rishi sunak would allow public figur show brexit trade deal actual harm british farmer amp busi brexithasfail govt wont publish estim econom benefit brexit trade deal httpstcoa zh jc',\n",
       " 'johnredwood well live rural area farmer round sinc brexit plough salad crop back field given away soft fruit free local commun cant get picker need fom end stori',\n",
       " 'maryriddel wonder mani farmer group bemoan predict impact brexit vote',\n",
       " 'kedg brexit deregul privatis massiv profit poverti mani anyon feel better brexit empti promis jam tomorrow usual american trade deal australian nz deal screw farmer feel con',\n",
       " 'demeryuk even wors check repli greg hand tweet find plenti show korea eu farmer pork month earlier brexit benefit get benefit eu later see also us steel tariff eu amp uk steel',\n",
       " 'see neg uk farmer brexit lose common agricultur polici httpstcoyfx xueowz wealthi want minimis tax brexit disast without posit',\n",
       " 'chevington though frequent said farmer vote brexit actual seem around farmer vote brexit base sever poll june similar proport uk whole nfu campaign remain ref',\n",
       " 'johnredwood good farmer grow food havent got worker pick brexit scouser english',\n",
       " 'mabonapgwynfor plaid cymru turkey vote christma upset christma came zero sympathi farmer vote brexit clearli told would happen span back project fear sod',\n",
       " 'jonsopel yeah your look downsid brexit your like peopl point understaf nh due eu citizen leav uk drone food rot farmer field due eu worker left',\n",
       " 'brexit anoth disast wale farmer come conserv stop pretend complet utter nightmar us someth httpstcoqhpb',\n",
       " 'evid averag brit farmer didnt understand full implic brexit loss market access associ cost play outsid didnt fight httpstcozjtpbjxtjt',\n",
       " 'sheep farmer point view there good outcom trade deal say rickman predomin intern market china far east give access uk moment fine httpstcoypqyti hx',\n",
       " 'chariti employ struggl due postbrexit fund delay three year bori johnson swept power promis get brexit done employ farmer chariti still wrestl realiti life outsid eu httpstco gcvwclgv',\n",
       " 'food thought brexit see neg uk farmer brexit lose common agricultur polici httpstcojtpezfxk',\n",
       " 'suewilson come brexit hasnt solv migrant problem yet appear wors better like socal advantag brexit eg easier trade eu jest even promis fisher farmer jump joy dont think',\n",
       " 'brugesgroup left eu rd countri henc treat rd countri brexit meant well meant anyon capabl thought neither german car industri french farmer rode rescu mess nobodi els btw fund',\n",
       " 'uk farmer lost unfett access nearest export market reduct farm subsidi disadvantag trade deal give access uk market rival farmer au amp nz brexitbrokebritain brexitisntwork httpstcoalbtdhskv',\n",
       " 'brexit realiti brexitbrokebritain httpstcom mcwzi ng',\n",
       " 'httpstcok cfprf fg',\n",
       " 'httpstco u dnx p seem buyer remors sting like bugger',\n",
       " 'httpstcohzsvagb p',\n",
       " 'httpstcoav lxzim rejoineu',\n",
       " 'gorbalsgoebbel mehercl jeanmcclung gordonross materi constitut chang came quicker anticip tri keep evel brexit scottish farmer deni final cap fund intern market act uncrc incorpor scotland bill unconstitut challeng westminst',\n",
       " 'httpstcowlwkaqtt q',\n",
       " 'httpstcoe j noicr',\n",
       " 'sunlit upland still undiscov brexitbrokebritain brexitr httpstcoxjrbgikuk',\n",
       " 'httpstco eip khyz',\n",
       " 'mani hopeless convers farmer feel noth anguish mani vote silli silli peopl httpstcodywmljkdcj',\n",
       " 'nigel farag httpstcovvdasicnhw',\n",
       " 'brexit gift keep take httpstcomok vqhn',\n",
       " 'httpstcovpqibik mc',\n",
       " 'httpstconexixoyhzg',\n",
       " 'key point gutoaberconwi former tori mp minist theresa may govern view brexit shaft farmer wale imagin hed open impact httpstco yubp lwqj',\n",
       " 'conserv brexit httpstcopa kn vdje',\n",
       " 'httpstcoixqgyeip',\n",
       " 'brexitbenefit httpstcowdm vi fp',\n",
       " 'httpstconmsf kblvp',\n",
       " 'minford thing let market reign suprem mean nz lamb product put farmer busi exampl that market work feel foolish world pandem war prioritis food secur httpstcoi ejqrntpf',\n",
       " 'httpstcoqvur xcz',\n",
       " 'project fear meet project realiti httpstco chyvkhjfv',\n",
       " 'leanhamish never understood farmer seem favour brexit',\n",
       " 'greghand last benefit brexit year extra farmer hallelujah',\n",
       " 'boomer ish williamyearnor chrisev munroel rec bogclean cuidad factsreason mattadkin stephen bromhom charl michael adam thefactroom petrasp andyfarnel goosey ruckmalc shegorthereador csi bellagio bound tomralst thegrimbarian auto rec bot mond somechewlip wonkypolicywonk boba roblev barcodemark delsbel cathybi adbalfour peter tagliatellla crikeyolson sghostbigdog jennifercoogan paddycakepaddi ronniethefrog mattbla quasirob shearerrab brecksflex stephen roarbro hairi laphroaig aodandepaor rusti rascal httpstcoplvtsysoyu',\n",
       " 'leokears could brexit white peopl covid definit wont world govern tell farmer tri code instead',\n",
       " 'dhharri daveyraveyrgav brexit sham agahol farmer fishermen vote look state industri',\n",
       " 'brainolad nicholastyron httpstcoesetadj fm',\n",
       " 'rosemarystewar gbnew brexit benefit none ask british farmer theyr undercut australian farmersit dunningkrug award everyon support brexit',\n",
       " 'lost unfett access nearest export market face reduct farm subsidi result loss cap disadvantag trade deal give access uk market rival farmer auz nz httpstcoterfq dyg',\n",
       " 'farminguk mi farmer think brexit disast',\n",
       " 'r today httpstcob xxg j g',\n",
       " 'brexit pile poo httpstcohnkg lfjnf',\n",
       " 'get equip livestock driven heart westminst picket heinou polit cretin submiss lie amp suffer consequ drop manur front doorstep istandwithukfarm httpstcoe bzqg mk',\n",
       " 'ms batter warn believ johnson told look farm httpstcopfjuzyjkf',\n",
       " 'brexitbrokebritain brexithasfail httpstcoldtkdb c',\n",
       " 'yet anoth benefit brexit httpstcokh fklzha',\n",
       " 'lisaocarrol none surpris farmer moan warn impact brexit would farm still vote action consequ',\n",
       " 'take back control httpstco lbnibhhem',\n",
       " 'brexit downsid british agricultur announc alreadi referendum lisaocarrol httpstco k erzru',\n",
       " 'httpstco ugzz igh',\n",
       " 'partyoatsuk greghand basic put barrier brexit depriv farmer money coupl year yet anoth torybrexitli torybrexitcon torybrexitdisast brexitcarnag brexitrecess brexitbrokebritain',\n",
       " 'httpstcooebaqkigh',\n",
       " 'httpstcoz gto rnyf',\n",
       " 'probabl shouldnt kept vote tori httpstcoykkx vewhh',\n",
       " 'httpstco kiq kvr',\n",
       " 'chenbart acgrayl farmer vote brexit make work stop whine problem',\n",
       " 'httpstco qafiht bq',\n",
       " 'shouldnt vote httpstco ewlydi eu',\n",
       " 'brexshit go well httpstcofxosev az',\n",
       " 'steve ye vote brexit regret bitterli much misinform lie uk referendum amp farmer assur would chang',\n",
       " 'eu support within eu peopl benefit brexit brexitcarnag httpstconommiy ex',\n",
       " 'httpstcohozpzg uhe httpstcorxh qnzt q',\n",
       " 'could possibl predict happen httpstcoklpsedlbf',\n",
       " 'httpstco wpfiyk u httpstcocunewyzqw',\n",
       " 'project fear spell twitter leadup brexit httpstcojyj e iqj',\n",
       " 'yeah sovereignti httpstcodv nwtzrbw',\n",
       " 'brexitr farm trade rishisunak conserv httpstconkntprbrk',\n",
       " 'conspost threw away bn trade eu weve thrown uk farmer bu sell bottl gin oz unreal brexit benefit',\n",
       " 'httpstcofg znsz',\n",
       " 'httpstcoqcyyhqdlhk',\n",
       " 'ukip farmer nfustweet nfutweet say ukip brexit say brexshit cluster fked farm export eu hypocrit wker',\n",
       " 'brexitnewstv barbaranic nigel farag httpstcoyugqmhkbvf brexitdisast',\n",
       " 'httpstcojj r ikr',\n",
       " 'farmer face precari futur loss cap httpstcovd aqh kzl',\n",
       " 'httpstco tmtd wp',\n",
       " 'veldhorst w httpstcohir fy ulm',\n",
       " 'farm farmer face precari futur loss cap httpstcotfvn cxgn',\n",
       " 'defra spokesperson said interest farmer food produc prioriti trade polici trade deal deliv negoti continu support farmer httpstcokm voyojek food farm agricultur brexit globaltrad',\n",
       " 'farmer face precari futur loss cap httpstco xfybpkdzu',\n",
       " 'httpstcoetelgc ie',\n",
       " 'brexit disast farmer httpstco kpu id',\n",
       " 'farmer opt brexit httpstcoipcmvupihc',\n",
       " 'ukip ukip led brexit definit side farmer enemi',\n",
       " 'elli selway iolowilliam alidriveruk httpstconotfgvddj',\n",
       " 'brexit led trade deal australia shaft farmer dont support farmer httpstconga cjxzsz',\n",
       " 'httpstconceboenkrx',\n",
       " 'ukip httpstcolhf urqwhj',\n",
       " 'chrischapmanart donmaico sophielouisecc httpstco xpej vqb',\n",
       " 'tri tell httpstcoihehjo uqb',\n",
       " 'brexit brexitr scotland scotref indyref httpstcoymhdqxyurv',\n",
       " 'sunlit upland httpstcoortiddqolq',\n",
       " 'edwdpric macalbatross beerg paul might think articl titl bit mislead farmer vote leav seem similar share rural counterpart englandwithoutlondon vote leav point margin httpstco yrfqtit httpstconarng k ya',\n",
       " 'brexit friend uk farm httpstcoxez ecgsoh',\n",
       " 'downingstreet rishisunak pm uk power king gave power brexit ireland franc emanul run control uk trader even fish boat sea lock uk hungri farmer grain cost st sale uk farmer decid',\n",
       " 'sidboggl kimwalm deborahmeaden farmer hospit industri taxi compani courier servic nh construct industri everi industri involv manual labour hold brexit say felt benefit think',\n",
       " 'farmer face precari futur loss cap httpstcojlhzpthgrl',\n",
       " 'man dieser brexit war wohl doch ein genial schachzug httpstcoykmygrwimi',\n",
       " 'ukip brexit look like side eu aussi farmer',\n",
       " 'laurak ziggi billohara untru farmer constitu miss impact brexit',\n",
       " 'httpstcogeqfoq kc',\n",
       " 'alanrei terrasea robscarlufc philipstephen yeah unless farmer instanc hope bankrupt farmer vote brexit httpstcool l uccsd',\n",
       " 'donnachadhmc georgemonbiot guardian dpcarrington damiengayl gow derek one hope brexit payment farmer cut use protect environ sheep farm protect environ',\n",
       " 'anoth brexit failur coverup chicken rais insid free rang ask tori free rang egg rule could torn fear eu farmer get unfair advantag say lie english govern httpstcorfnvwxqcof',\n",
       " 'scottish farm million fund loss cap food expens result see neg uk farmer brexit lose common agricultur polici brexit guardian httpstcoyt xatxof',\n",
       " 'see neg uk farmer brexit lose common agricultur polici guardian talk farmer difficulti brexit caus two year sinc uk quit eu futur full econom precar httpstcolfmzeqkijf',\n",
       " 'peopl still prepar even hope posit side brexit deceit cognit disson power block ration thought see negativeuk farmer brexit lose common agricultur polici httpstcoqotkrqpqv',\n",
       " 'brexit alway go lead consider chang farm busi uk end free movement labour vote brexit see neg uk farmer brexit lose common agricultur polici httpstcon nbrd nmz',\n",
       " 'ukip whose busi wreck brexit lose worker lost european custom ah must mean support farmer havent gone bust cling charg higher price one afford brexit',\n",
       " 'johnredwood grant farmer place prior brexit uk sold right control oil ga product may subject windfal tax fish fleet decim allow sold speed technolog yet fulli develop',\n",
       " 'recess global last recov everi singl g economi idea perhap imbecilicinept tori govt parti fiscal dilig told said brexit eu farm subsidi uk farmer would match httpstcorpl tbwap',\n",
       " 'see neg uk farmer brexit lose common agricultur polici didnt farmer overwhelmingli vote brexit brexitli brexitbrokebritain httpstcoiyo b k',\n",
       " 'britain deserv better generalelectionn w see neg uk farmer brexit lose common agricultur polici httpstcoioopygdn',\n",
       " 'yet brexit sunlit upland see neg uk farmer brexit lose common agricultur polici httpstco vzjcxktb',\n",
       " 'guardian polit newtop stori see neg uk farmer brexit lose common agricultur polici brexit guardian httpstco u mpsidnm see httpstcofirakwmhwl',\n",
       " 'see neg uk farmer brexit lose common agricultur polici guardian httpstco f z vah w ecosearch httpstcov wp ft',\n",
       " 'cathybi andrewknight limmortal bringiton aintro sbot martin delwatson david wobski gazza brunothebridg conraddkonnrad credacreda david vaporium hwick chri rayjudd bazcart lordgmanilson aclem andrewsibley somechewlip roblev jimbo samanthafoxi stuff funni obohobofromnobo davidmetroland musc esbri chr bot lordoffreedom resiguru iangianni wokewarriorfu leftstanc andrewgarsid suastusa johnrya httpstcoycq lvozqn peopl put headlin one want mock one subtl thing gentli point jayawardena sec state food els would expect highlight obvious financi aspect',\n",
       " 'disagre bev fuw brexit barrier essenti countri popul fall nationalist right wing propaganda vote leav common market alway go consequ httpstcourzicnasc',\n",
       " 'johnredwood farmer fisheri difficulti direct result fail brexit failur redwood',\n",
       " 'acgrayl matter marketpublicpriv servic benefit taken either never replac someth far less benefici could never understand farmer back brexit',\n",
       " 'jacob ree mogg utter nonsens brexit simpli deliv claim lie littleengland mental empti promis though bet profit brexit httpstcowv kbrohi',\n",
       " 'bestforbritain farmer say theyr see neg brexit singl industri that see posit consequ brexit',\n",
       " 'brexitbrokebritain shouldnt surpris anyon least uk farmer larg vote brexitbritain httpstcop qacceu r',\n",
       " 'see neg uk farmer brexit lose common agricultur polici httpstcotickbrjt l find answer simpl find regim world answer special come profit corrupt',\n",
       " 'free rang egg rule could torn fear eu farmer get unfair advantag show bori lie count deal eh sign brexit httpstco h lxjog',\n",
       " 'premnsikka piss current situat noth brexit print money oblivion that caus inflat whole financi system chang soon anyway cbdc come cash histori thing wors eu ask dutch farmer',\n",
       " 'see neg uk farmer brexit lose common agricultur polici ive heard farmer say industri less chuck bu httpstcopnelfhvv',\n",
       " 'light articl ive alway wonder european union digit economi polici least par common agricultur polici httpstcodg v mczwx',\n",
       " 'guardian chariti employ struggl due postbrexit fund delay three year johnson elect get brexit done employ farmer chariti still wrestl realiti life outsid eu brexitbrokebritain torybrexitdisast',\n",
       " 'freedomrockrad click full articl break news gt see neg uk farmer brexit lose common agricultur polici brexit lt freedom rock radio httpstco hnzempb',\n",
       " 'johnredwood didnt farmer receiv grant didnt fish fleet eu conmen decid would interest brexit go well keep stupid idea complet destroy great countri',\n",
       " 'predict time yet english welsh farmer gener seem vote brexit seem surpris outcom see neg uk farmer brexit lose common agricultur polici httpstconhflxlfrxi',\n",
       " 'anoth reason your undecid support independ scottish farmer farm famili decim brexit independ would mean keep high food standard httpstcovzxn weqeg',\n",
       " 'see neg uk farmer brexit lose common agricultur polici mep south west england rural area strong farm constitu tri hard make case sw voter still chose leav eu httpstcoxksumud ar',\n",
       " 'lost unfett access nearest export market face reduct farm subsidi result loss common agricultur polici cap disadvantag trade deal give access uk market rival farmer australia new zealand brexit',\n",
       " 'farmer brexit lost unfett access nearest export market face reduct farm subsidi result loss common agricultur polici cap disadvantag trade deal give access uk market farmersaustralia new zealand',\n",
       " 'knew brexit would also disast farmer well everyon thought half second vote brexitbrokebritain gtto httpstcouyuzovp zu',\n",
       " 'johanntask sheep farmer point view there good outcom trade dealssay rickman predomin intern market china amp far east give access uk inde lisaocarrol httpstcoxztvfk hme',\n",
       " 'sinc brexit uk sign new trade deal two auz amp nz deepli onesid poorli negoti sell british farmer river noth return httpstcobclbrxc ji',\n",
       " 'see neg uk farmer brexit lose common agricultur polici realli surpris httpstcognwstlyzbc',\n",
       " 'someon could warn themwer see neg uk farmer brexit brexitli carefulwhatyouwishfor httpstcopzzdw wbhq',\n",
       " 'twitchiefsm gbnew nonsens benefit leav eu brexit hit uk economi harder rest europ ask farmer fishermen servic industri musician compani trade eu benefit theyv shaft',\n",
       " 'fact major famer vote favour brexit feel like miss piec crucial context sort articl httpstcotysvj qxfo',\n",
       " 'robinol tom clark bbcjustinr bbcfoodprog henrydimblebi ffc commiss uksustain nfutweet tomheapmedia jack bobo botanygeek salkinstitut certainli liter bite hand feed us badli mani contempl give httpstcouurlyoanuk',\n",
       " 'chariti amp employ struggl due postbrexit fund delay voluntari group close amp farmer report problem slow disburs fund replac eu money blue passport passport blue torybrexitdisast httpstco pdc z',\n",
       " 'go polici success difficult polici failur common polici address seriou polit problem unthink that exactli brexit stagger polit cowardic httpstco vekioea',\n",
       " 'tori poll rate toilet precis screw everi part voter base brexit brexit work opaqu idea httpstco mqyto olu',\n",
       " 'johnredwood idea farmer lose subsidi origin eu due tori hard brexit john your angri complain local mp',\n",
       " 'posit neg brexitisacrimescen see neg uk farmer brexit lose common agricultur polici httpstcoxbqifmzhdj',\n",
       " 'see neg uk farmer brexit lose common agricultur polici make wonder mani oppos cap vote brexit sadli httpstcou sgqgklyj',\n",
       " 'surpris see farmer start openli speak damag brexit amp govt trade deal sadli farmer wont surviv combin impact govt brexit cost live econom crise urgent help need httpstcog wolbez',\n",
       " 'johnredwood due brexit farmer worker oil produc dont usew export ga rebuild fish fleet wantthey quotasthey soldapart fact due sewag overflow sea one buy your fish httpstcotgp dx h',\n",
       " 'conserv dysfunction voluntari org r collaps due delay replac eu fund jhnson brexit epicentr increas farm infrastructur amp ppl auster farmer amp chariti r wrestl exist httpstcozwnn jv kw',\n",
       " 'burngold lukemcge sloppi journal luke reli dogwhistl brexit get view like quot tweet usual remoan sec googl find stori rot crop europ one franc httpstcobgzdjvzd',\n",
       " 'ukip liar brexit fuck uk farm want maximum trade barrier eu fuck food export want minimum control food import fuck farm uk exact opposit side brutish farmer',\n",
       " 'tumultu year look back farmer hope quiet follow sever year upheav due brexit covid pandem left disappoint abi kay take look back past month httpstcoslzpcqhzot httpstcounrpofijkq',\n",
       " 'see neg uk farmer brexit lose common agricultur polici anyon actual surpris httpstco icco vbhw',\n",
       " 'chariti employ struggl due postbrexit fund delay employ farmer httpstcomdfaf f k',\n",
       " 'case elimin posit accentu neg see neg uk farmer brexit lose common agricultur polici httpstco tkb hjbxr',\n",
       " 'british farmer realis sold johnson truss eager instagram wont around damag done trade deal know good one accord brexit sign httpstcobh c dcwl',\n",
       " 'see neg uk farmer brexit lose common agricultur polici httpstco xtjom cyo idiot vote brexit good luck goodnight',\n",
       " 'he lost unfett access nearest export market face reduct farm subsidi amp disadvantag trade deal give access uk market rival farmer australia amp nz see neg uk farmer brexit httpstcopxzxvknlrt',\n",
       " 'greghand apart tell porki long year fool public anymor disgrac great profit post brexit deal shaft farmer everyon us manchest merri christma ars theroylefamili would say',\n",
       " 'see neg uk farmer brexit lose common agricultur polici third seri look impact brexit trade deal guardian talk farmer difficulti face httpstcoyvwbjum gf',\n",
       " 'cannot see blue sky amp brexit benefit analysi mayb liz lizwebsterld rejoineu rejoin see neg uk farmer brexit lose common agricultur polici httpstcowzn b vd',\n",
       " 'see neg british farmer brexit loss common agricultur polici brexit httpstcoepyeirsc h',\n",
       " 'proscot indi jackiekemp nathanjordan dinna generalisemayb aye averag tori sadli scottish farmer vote brexit read farmer guardian articl back vote brexit reflect scot pop gener unlik fishermen',\n",
       " 'arianna kay bbc one probabl warn govern dissemin neg news let forget happen repres scottish farmer union interview challeng industri answer includ brexit b word later edit',\n",
       " 'see neg uk farmer brexit lose common agricultur polici farmer fisherman everi day folk britain still wait brexit benefit blue passport imperi measur dont keep heat httpstcoulpzhzxsh',\n",
       " 'hundr voluntari organis forc shut shop scale back oper farmer report problem govern delay replac eu fund consequ brexit continu rippl across uk httpstcowyhmvnayp',\n",
       " 'see neg uk farmer brexit lose common agricultur polici where fight back voic rais counterpart would never gone whimper httpstcojukuw xkz',\n",
       " 'brexit see neg uk farmer brexit lose common agricultur polici progress phase cap left farmer least year short previou eu subsidi httpstcooon uovt',\n",
       " 'justbob robmcguir confidencenac vineybernard bob let see fishermen amp farmer fare come year desper deal theyv done cover brexit uk firm also struggl suppli chain issu due brexit like im former life long conserv work north seacurr polit homeless',\n",
       " 'threaten presenc farmer pastor keeper land import sheep graze upland keep grass minimis risk climat chang wildfir georgemonbiot seen twaddl httpstcozuwq lstbd',\n",
       " 'chariti employ struggl due postbrexit fund delay voluntari group close farmer report problem slow disburs uk fund replac eu money uk trader brexit increas paperwork stress everyth httpstcor uyaaapkj',\n",
       " 'chariti employ struggl due postbrexit fund delay lisa ocarrol heather stewart voluntari group close farmer report problem slow disburs uk fund replac eu money httpstco hggazbd',\n",
       " 'brexitbrokebritain backwaterbritain chariti employ struggl due postbrexit fund delay voluntari group close farmer report problem slow disburs uk fund replac eu money httpstcosh vuubk',\n",
       " 'chariti employ struggl due postbrexit fund delay voluntari group close farmer report problem slow disburs uk fund govern fund intend replac eu support show multimillionpound gap fund httpstcomddyfqtuwl',\n",
       " 'chariti employ struggl due postbrexit fund delay voluntari group close farmer report problem slow disburs uk fund replac eu money httpstcoak qeh z libdemsinbiz timfarron libdemcr cajardinemp welshlibdem httpstcovaxlcfl rj',\n",
       " 'voluntarysector internationaltrad chariti employ struggl due postbrexit fund delay voluntari group close farmer report problem slow disburs uk fund replac eu money uk trader brexit httpstcot uo rk ng',\n",
       " 'chariti employ struggl due postbrexit fund delay voluntari group close farmer report problem slow disburs uk fund replac eu money brexitbrokebritain httpstco tfolhmjb',\n",
       " 'chariti employ struggl due postbrexit fund delay voluntari group close farmer report problem slow disburs uk fund replac eu money brexit crime rejoineu httpstcot ugu fw',\n",
       " 'chariti employ struggl due postbrexit fund delay voluntari group close farmer report problem slow disburs uk fund replac eu money httpstcoykmjmz ss',\n",
       " 'chariti employ struggl due postbrexit fund delay voluntari group close farmer report problem slow disburs uk fund replac eu money httpstcomcjvrhiz j',\n",
       " 'chariti employ struggl due postbrexit fund delay httpstcow pp tysb voluntari group close farmer report problem slow disburs uk fund replac eu money uk trader brexit increas paperwork stress everythin',\n",
       " 'thank unrel selfserv diet doom gloom serv farm union press opportun miss mental health suffer see neg uk farmer brexit lose common agricultur polici httpstcoaqshytk',\n",
       " 'brexit bad farmer undercut dodgi trade deal loss eu support adequ replac fund loss labour due end free movement neg httpstconjkmvbrx z',\n",
       " 'yet anoth brexit failur us guardian read tofu eat leftfac woke remon told long time ago httpstco vib ltgr',\n",
       " 'see neg uk farmer brexit lose common agricultur polici httpstcosl miuwuqo',\n",
       " 'see neg uk farmer brexit lose common agricultur polici httpstcofjhtgghgu',\n",
       " 'see neg uk farmer brexit lose common agricultur polici httpstco flxpi nu',\n",
       " 'see neg uk farmer brexit lose common agricultur polici httpstco mmym zyk',\n",
       " 'see neg uk farmer brexit lose common agricultur polici httpstcost xog c l',\n",
       " 'see neg uk farmer brexit lose common agricultur polici httpstco baqv oz',\n",
       " 'see neg uk farmer brexit lose common agricultur polici brexit guardian httpstcocumcp isa',\n",
       " 'see neg uk farmer brexit lose common agricultur polici httpstcopbziduytmj brexit ukpolit',\n",
       " 'see neg uk farmer brexit lose common agricultur polici httpstco fz txwdcn',\n",
       " 'see neg uk farmer brexit lose common agricultur polici fbpe rejoineu brexit brexitbrokebritain brexitshambl brexitbritain brexithasfail brexitisntwork brexitdisast httpstcot bjfxmnn',\n",
       " 'see neg uk farmer brexit lose common agricultur polici brexit guardian httpstcogpl tbmun',\n",
       " 'see neg uk farmer brexit lose common agricultur polici httpstcottuwzzrrah',\n",
       " 'see neg uk farmer brexit lose common agricultur polici httpstcoksmublhpuu',\n",
       " 'see neg uk farmer brexit lose common agricultur polici httpstcolzrwi n',\n",
       " 'see neg uk farmer brexit lose common agricultur polici httpstcoul md shdx',\n",
       " 'see neg uk farmer brexit lose common agricultur polici httpstcokq e nlxtn',\n",
       " 'see neg uk farmer brexit lose common agricultur polici httpstcoil vealghh',\n",
       " 'brexitr torybrexitdisast see neg uk farmer brexit lose common agricultur polici httpstcooccuoma qt',\n",
       " 'see neg uk farmer brexit lose common agricultur polici httpstcoacgpjt g',\n",
       " 'see neg uk farmer brexit lose common agricultur polici httpstco cevmwrgf conserv catastroph brexit',\n",
       " 'see neg uk farmer brexit lose common agricultur polici httpstcodllfwvcxbl',\n",
       " 'see neg uk farmer brexit lose common agricultur polici wish hadnt cri project fear warn httpstcowzlshqqgri',\n",
       " 'see neg uk farmer brexit lose common agricultur polici httpstcoxnn c zzdm',\n",
       " 'see neg uk farmer brexit lose common agricultur polici httpstcoaqbwytm gr',\n",
       " 'see neg uk farmer brexit lose common agricultur polici httpstcohzlu ijgm',\n",
       " 'see neg uk farmer brexit lose common agricultur polici httpstco pqxhquh l',\n",
       " 'see neg uk farmer brexit lose common agricultur polici httpstcow ji bhqld',\n",
       " 'see neg uk farmer brexit lose common agricultur polici httpstco tn z pt',\n",
       " 'see neg uk farmer brexit lose common agricultur polici httpstcoddadudd cf',\n",
       " 'see neg uk farmer brexit lose common agricultur polici httpstcodfuy iauaa httpstco zrr k',\n",
       " 'see neg uk farmer brexit lose common agricultur polici torybrexitr httpstcowc f wetcx',\n",
       " 'see neg uk farmer brexit lose common agricultur polici keir starmer angelarayn uklabour httpstco fadffcjyv',\n",
       " 'see neg uk farmer brexit lose common agricultur polici httpstco cqgeh uz',\n",
       " 'see neg uk farmer brexit lose common agricultur polici httpstcoi n ckzprw httpstcojmiof nlkq',\n",
       " 'see neg uk farmer brexshit lose common agricultur polici httpstcorvdwthpqfl',\n",
       " 'see neg uk farmer brexit lose common agricultur polici httpstcoxqtjhn abd',\n",
       " 'see neg uk farmer brexit lose common agricultur polici brexit httpstcoxlvxlw z w',\n",
       " 'see neg uk farmer brexit lose common agricultur polici httpstcosdrqbgsmof',\n",
       " 'see neg uk farmer brexit lose common agricultur polici httpstcozikdzbx z',\n",
       " 'see neg uk farmer brexit lose common agricultur polici httpstcogqsrj fnf',\n",
       " 'see neg uk farmer brexit lose common agricultur polici httpstcoytkxt uzwh',\n",
       " 'conserv rishisunak jacob ree mogg liamfox see neg uk farmer brexit lose common agricultur polici httpstcorm lun oar',\n",
       " 'see neg uk farmer brexit lose common agricultur polici httpstcow hwsdxjp',\n",
       " 'see neg uk farmer brexit lose common agricultur polici httpstcovfvvjaku w',\n",
       " 'see neg uk farmer lose common agricultur polici httpstcocsmsk r rv',\n",
       " 'see neg uk farmer brexit lose common agricultur polici httpstcoloqzpgihza',\n",
       " 'see neg uk farmer brexit lose common agricultur polici httpstco kih ro og',\n",
       " 'see neg uk farmer brexit lose common agricultur polici httpstcormqnrm szo',\n",
       " 'see neg uk farmer brexit lose common agricultur polici httpstcoa gr sfac missold brexit put list missold ombudsjustic',\n",
       " 'brexitshambl see neg uk farmer brexit lose common agricultur polici httpstcoy dz mrdn',\n",
       " 'see neg uk farmer brexit lose common agricultur polici httpstcoaueioe sji',\n",
       " 'see neg uk farmer brexit lose common agricultur polici httpstcolvo edeg',\n",
       " 'see neg uk farmer brexit lose common agricultur polici httpstcog fjkih',\n",
       " 'see neg uk farmer brexit lose common agricultur polici httpstcoubfykcugsz',\n",
       " 'see neg uk farmer brexit lose common agricultur polici httpstcotjqo bhpu',\n",
       " 'see neg uk farmer brexit lose common agricultur polici httpstcolagzygxfyx',\n",
       " 'see neg uk farmer brexit lose common agricultur polici httpstcokb wqwhbwk',\n",
       " 'see neg uk farmer brexit lose common agricultur polici httpstcoyrrlwmzzuw',\n",
       " 'see neg uk farmer brexit lose common agricultur polici httpstcomcnuxol xu',\n",
       " 'see neg uk farmer brexit lose common agricultur polici brexit guardian httpstcoqivmfjquau',\n",
       " 'see neg uk farmer brexit lose common agricultur polici httpstcofjw ftltc',\n",
       " 'see neg uk farmer brexit lose common agricultur polici httpstco fq e pidd',\n",
       " 'see neg uk farmer brexit lose common agricultur polici guardian httpstcoheoubc vet',\n",
       " 'see neg uk farmer brexit lose common agricultur polici httpstcotdh f ihez',\n",
       " 'see neg uk farmer brexit lose common agricultur polici httpstcoszwyngolrv',\n",
       " 'see neg uk farmer brexit lose common agricultur polici httpstcovjpbz tvvn',\n",
       " 'see neg uk farmer brexit lose common agricultur polici torybrexitdisast httpstcoaazn cyhgq',\n",
       " 'see neg uk farmer brexit lose common agricultur polici brexit httpstcob z b drea httpstcoxrm imh ut',\n",
       " 'see neg uk farmer brexit lose common agricultur polici httpstcox jazsyw',\n",
       " 'see neg uk farmer brexit lose common agricultur polici brexit guardian scoopit httpstcomm g ageo brexit agricultur postbrexit costofbrexit traded cap elm subsidi nfutweet',\n",
       " 'see neg uk farmer brexit lose common agricultur polici brexit guardian httpstcoezgkcg ew',\n",
       " 'see neg uk farmer brexit lose common agricultur polici httpstcod zxkvcgoa',\n",
       " 'see neg uk farmer brexit lose common agricultur polici httpstco fy f k',\n",
       " 'see neg uk farmer brexit lose common agricultur polici httpstcolerh pil x',\n",
       " 'see neg uk farmer brexit lose common agricultur polici httpstcofejeuczgsv',\n",
       " 'see neg uk farmer brexit lose common agricultur polici httpstcorpxdzvnur',\n",
       " 'see neg uk farmer brexit lose common agricultur polici brexit guardian httpstcoe kcao ik',\n",
       " 'see neg uk farmer brexit lose common agricultur polici httpstco zvpjmrtsw',\n",
       " 'brexit lie impact brexit farmer plan toryli brexitli see neg uk farmer brexit lose common agricultur polici httpstcolpkjay byy',\n",
       " 'see neg uk farmer brexit lose common agricultur polici httpstcouylenr vpi brexitr brexit brexitagricultur',\n",
       " 'see neg uk farmer brexit lose common agricultur polici httpstcoxmek ymbse uk invest rewild',\n",
       " 'see neg uk farmer brexit amp lose common agricultur polici guardian talk farmer difficulti face httpstcoku touakam brexit brexitcarnag brexitr brexitdisast brexitbritain brexitbrokebritain farm',\n",
       " 'see neg uk farmer brexit lose common agricultur polici httpstcojtfudd fd',\n",
       " 'see neg uk farmer brexit lose common agricultur polici httpstcokmtfgnaopj',\n",
       " 'see neg uk farmer brexit lose common agricultur polici httpstcoxqxlfzrtp',\n",
       " 'see neg uk farmer brexit lose common agricultur polici httpstcoyrzmol',\n",
       " 'see neg uk farmer brexit lose common agricultur polici httpstcoauoqxkm nn',\n",
       " 'see neg uk farmer brexit lose common agricultur polici httpstcoczsbfhrsku',\n",
       " 'see neg uk farmer brexit lose common agricultur polici httpstcoen nchnybj',\n",
       " 'see neg uk farmer brexit lose common agricultur polici brexit httpstcot zm qhg x',\n",
       " 'see neg uk farmer brexit lose common agricultur polici httpstcodh vf nimp',\n",
       " 'see neg uk farmer brexit lose common agricultur polici httpstcovqdhmsqsd',\n",
       " 'see neg uk farmer brexit lose common agricultur polici httpstco okqhdnllu',\n",
       " 'see neg uk farmer brexit lose common agricultur polici httpstconven jlafa',\n",
       " 'see neg uk farmer brexit lose common agricultur polici ye ask balanc sheet brexit pro con sir bernard jenkin mp begin brexit process thing httpstcozw zspwxvm',\n",
       " 'see neg uk farmer brexit lose common agricultur polici httpstcoctaxufxn',\n",
       " 'see neg uk farmer brexit lose common agricultur polici httpstcok n zkvtli',\n",
       " 'see neg uk farmer brexit lose common agricultur polici httpstcoskm vmrwe',\n",
       " 'see neg uk farmer brexit lose common agricultur polici httpstcoymrhidjtd',\n",
       " 'see neg uk farmer brexit lose common agricultur polici httpstcotrgp ek',\n",
       " 'see neg uk farmer brexit lose common agricultur polici httpstcoijymcqnkq',\n",
       " 'see neg uk farmer brexit lose common agricultur polici brexit guardian httpstcoc gzhkixu',\n",
       " 'see neg uk farmer brexit lose common agricultur polici httpstcosi rti hhm',\n",
       " 'see neg uk farmer brexit lose common agricultur polici httpstco ljyeahssh',\n",
       " 'see neg uk farmer brexit lose common agricultur polici httpstcoddexgjbvh still see billboard field',\n",
       " 'see neg uk farmer brexit lose common agricultur polici httpstcop ahetvxyi',\n",
       " 'see neg uk farmer brexit lose common agricultur polici httpstcof pivw vvi',\n",
       " 'see neg uk farmer brexit lose common agricultur polici httpstcome zagra',\n",
       " 'sow shall reap see neg uk farmer brexit lose common agricultur polici httpstco lzumwwihm',\n",
       " 'see neg uk farmer brexit lose common agricultur polici brexit guardian httpstcoou z joqzh',\n",
       " 'see neg uk farmer brexit lose common agricultur polici httpstcoj pzlabgnd httpstcozbfvzmlaod',\n",
       " 'see neg uk farmer brexit lose common agricultur polici brexit guardian httpstcow edn czm',\n",
       " 'haha vote haha see neg uk farmer brexit lose common agricultur polici httpstcoydhej rrpm',\n",
       " 'brexit mean brexit brexidiot see neg uk farmer brexit lose common agricultur polici httpstcopbpb ptx',\n",
       " 'see neg uk farmer brexit lose common agricultur polici httpstcoaukhmdormx',\n",
       " 'see neg uk farmer brexit lose common agricultur polici brexit guardian httpstcohvhhct xyb',\n",
       " 'see neg uk farmer brexit lose common agricultur polici httpstcobexu aeb',\n",
       " 'see neg uk farmer brexit lose common agricultur polici brexit guardian httpstcoxrf wmddwm',\n",
       " 'see neg uk farmer brexit lose common agricultur polici starmer go make brexit work need face realiti torybrexitdisast brexithasfail rejoineu httpstcoerwcfdnhdi',\n",
       " 'see neg uk farmer brexit lose common agricultur polici httpstcoyytjnwvzpf',\n",
       " 'see neg uk farmer brexit lose common agricultur polici httpstcog uofwiqak',\n",
       " 'see neg uk farmer brexit lose common agricultur polici httpstcor v vthqyl',\n",
       " 'ironi see neg uk farmer brexit lose common agricultur polici httpstcoqgrixci gm vote oh that righthttpstcogmyy v',\n",
       " 'see neg uk farmer brexit lose common agricultur polici httpstcowu x bd',\n",
       " 'see neg uk farmer brexit lose common agricultur polici httpstcosvdykjziff',\n",
       " 'uk farm chuck bu see neg uk farmer brexit lose common agricultur polici httpstcoc lxbfd eh',\n",
       " 'see neg uk farmer brexit lose common agricultur polici httpstco wmhlam',\n",
       " 'see neg uk farmer brexit lose common agricultur polici httpstcopn g qwg',\n",
       " 'see neg uk farmer brexit lose common agricultur polici httpstcodrbuulbjjg',\n",
       " 'see neg uk farmer brexit lose common agricultur polici httpstcoqmuvdjaiji',\n",
       " 'see neg uk farmer brexit lose common agricultur polici httpstcohprvlzjn u',\n",
       " 'see neg uk farmer brexit lose common agricultur polici httpstcojlblh gfcn',\n",
       " 'see neg uk farmer brexit lose common agricultur polici httpstco l va kp',\n",
       " 'see neg uk farmer brexit lose common agricultur polici guardian httpstcoalj hg bbg brexitcarnag',\n",
       " 'see brexit neg say farmer lost unfett access nearest export market face reduct farm subsidi result loss common agricultur polici amp disadvantag trade deal httpstcovgmf ykdfn',\n",
       " 'see neg uk farmer brexit lose common agricultur polici httpstcoxmlhlbvi',\n",
       " 'see neg uk farmer brexit lose common agricultur polici httpstcoh v ri',\n",
       " 'see neg uk farmer brexit lose common agricultur polici httpstcopjym fuwen',\n",
       " 'see neg uk farmer brexit lose common agricultur polici httpstcoaxhbi fhil',\n",
       " 'see neg uk farmer brexit lose common agricultur polici httpstcovzaywmjahl',\n",
       " 'see neg uk farmer brexit lose common agricultur polici httpstco uuohn mmc',\n",
       " 'see neg uk farmer brexit lose common agricultur polici httpstcofyqjzrlfmq',\n",
       " 'see neg uk farmer brexit lose common agricultur polici httpstcoy dexpvd',\n",
       " 'see neg uk farmer brexit lose common agricultur polici httpstco hemvquh',\n",
       " 'see neg uk farmer brexit lose common agricultur polici httpstconqkkkmh uc',\n",
       " 'see neg uk farmer brexit lose common agricultur polici httpstcoxxpywzoc c',\n",
       " 'see neg uk farmer brexit lose common agricultur polici httpstcobnwx ofgk',\n",
       " 'see neg uk farmer brexit lose common agricultur polici httpstco migeifsyw',\n",
       " 'see neg uk farmer brexit lose common agricultur polici httpstcovbxrtp j',\n",
       " 'see neg uk farmer brexit lose common agricultur polici httpstcogvt wqhsq',\n",
       " 'see neg uk farmer brexit lose common agricultur polici httpstcopvh eyj ml',\n",
       " 'see neg uk farmer brexit lose common agricultur polici httpstcobgaejlyytk',\n",
       " 'see neg uk farmer brexit lose common agricultur polici httpstcod egb wvwq',\n",
       " 'see neg uk farmer brexit lose common agricultur polici httpstcodymlaaxlsz',\n",
       " 'see neg uk farmer brexit lose common agricultur polici httpstcokpo fowqor',\n",
       " 'see neg uk farmer brexit lose common agricultur polici httpstcoj u icjwu',\n",
       " 'see neg uk farmer brexit lose common agricultur polici httpstcogexkekhrad',\n",
       " 'see neg uk farmer brexit lose common agricultur polici httpstcodtswx dsmm',\n",
       " 'see neg uk farmer brexit lose common agricultur polici brexit guardian httpstcovc mkrz',\n",
       " 'see neg uk farmer brexit lose common agricultur polici httpstcouzoiahkbzi',\n",
       " 'brexitr see neg uk farmer brexit lose common agricultur polici httpstcojfvnvwusli',\n",
       " 'see neg uk farmer brexit lose common agricultur polici httpstco wq wkzt',\n",
       " 'see neg uk farmer brexit lose common agricultur polici httpstcoz fj yj gp',\n",
       " 'see neg uk farmer brexit lose common agricultur polici httpstcoq b r',\n",
       " 'see neg uk farmer brexit lose common agricultur polici httpstcoli q xau',\n",
       " 'see neg uk farmer brexit lose common agricultur polici httpstcojnhahcnsux',\n",
       " 'see neg uk farmer brexit lose common agricultur polici httpstco ejullik',\n",
       " 'see neg uk farmer brexit lose common agricultur polici httpstcol pmjl f',\n",
       " 'see neg uk farmer brexit lose common agricultur polici httpstcow wphbt gu',\n",
       " 'see neg uk farmer brexit lose common agricultur polici httpstcohv w e h',\n",
       " 'see neg uk farmer brexit lose common agricultur polici httpstcoemomyrfldu',\n",
       " 'see neg uk farmer brexit lose common agricultur polici httpstcoiij ozmjo',\n",
       " 'see neg uk farmer brexit lose common agricultur polici httpstco lp lhj',\n",
       " 'see neg uk farmer brexit lose common agricultur polici httpstcoehmvvhoftk brexitbrokebritain torycostofgreedcrisi',\n",
       " 'see neg uk farmer brexit lose common agricultur polici brexit guardian httpstcov prolsiao',\n",
       " 'ukip brexit made thing wors british farmer',\n",
       " 'voluntari group close farmer report problem slow disburs uk fund replac eu money httpstcosltxan ann',\n",
       " 'caupdat farmer pack brexit inflat amp rise interest rate destroy busi aye toff away barbar sham',\n",
       " 'brexit shit httpstco nydbw lf',\n",
       " 'uk farmer fish folk vote brexit idiot absolut sold sympathi whatsoev take back control httpstcosqibcttb f',\n",
       " 'farmer hard hit brexit face extrem uncertainti lose subsidi eu httpstcovltdzzfijb',\n",
       " 'chariti employ struggl due postbrexit fund delay voluntari group close farmer report problem slow disburs uk fund replac eu money brexit broken someth work brexitbrokebritain httpstcozfxxbx diu',\n",
       " 'mike lufc actual peopl knowledg area expertis economist export fishermen farmer logist tour musiciansshal continu brexit disast im sorri your denial reach copium',\n",
       " 'kirkberzerk ssabelu veronicareagan owen whiteley dxw kc genuin sorri brexit work peopl close busi fishermen farmer peopl suffer english exception',\n",
       " 'mimij aw news farmer whilst enorm sympathet lot farmer vote tori support brexit despit nfu advic disast',\n",
       " 'richardbental hearti fuck farmer didnt give toss impact industri enthusiast vote brexit tori theyv made bed',\n",
       " 'chri grayl horribl hard brexit damag peopl meant help httpstcoxjqggulrv',\n",
       " 'stupid never end major parti wholli complicit destruct economi httpstcodxkujov nd',\n",
       " 'johnspringford davidghfrost vigor advoc brexit brexit done disast ask small export ask fish industri ask farmer ask artist ask jewel led nontariff barrier uk largest trade bloc led neg consequ frost',\n",
       " 'see neg uk farmer brexit lose common agricultur polici nfu even warn farmer consequ unfortun didnt stop major farmer vote ditto fisherman httpstco crsrfvi x',\n",
       " 'im farmer know noth industri knew would happen vote brexit didnt hard see farmer vote thought would happen httpstcod io xq co',\n",
       " 'brexitr hit uk farmer hard guardian report httpstco r nnbmyip',\n",
       " 'brexit barrier unnecessari littl gain httpstco hghwvgtef',\n",
       " 'erthygl wych lost unfett access nearest export market face reduct farm subsidi result loss common agricultur polici disadvantag trade deal give access uk market rival farmer httpstco eha olb',\n",
       " 'lost unfett access nearest export market face reduct farm subsidi result loss common agricultur polici cap disadvantag trade deal brexit httpstcovd bvx u',\n",
       " 'uk farmer brexit lose common agricultur polici wale httpstcozmf k u hk',\n",
       " 'lost unfett access nearest export market face reduct farm subsidi result loss common agricultur polici disadvantag trade deal give access uk market rival farmer httpstcoi bgwa eji',\n",
       " 'uk farmer blame brexit loss access eu common agricultur polici subsidi httpstcodfeuwaurao',\n",
       " 'lost unfett access nearest export market face reduct farm subsidi result loss common agricultur polici amp disadvantag trade deal give access uk market rival farmer oz amp nz brexit httpstcolrrwvvveq',\n",
       " 'lbc aliciakearn ff leav vegan alon problem farmer due brexit corrupt tori vegan',\n",
       " 'sheep farmer point view there good outcom trade deal sapevatelo uk farmer brexit lose common agricultur polici httpstcohi vwsrqoc',\n",
       " 'commonwealthcca terribl carbon footprint british farmer public weve shot foundat civilis foot brexit',\n",
       " 'vivamjm joejhehir castlvillageman johnker robinpir advantag eu produc uk consum uk fishermen farmer fishermen farmer lost polit import brexitt plight remind wrong remain unlik forget role play brexit',\n",
       " 'see neg uk farmer brexit lose common agricultur polici amp yet brexit spell bloodi disast us retweet agre uwocidmsedgdhpamppcu ampcvidaaeea fe b c ac f',\n",
       " 'see neg disappoint brexitvot farmer seen rest world httpstcov bvg luz httpstcokb ebhfyrm',\n",
       " 'see neg uk farmer brexit lose common agricultur polici httpstco cmsjb pkn even wors terribl trade deal uk gov sign australia newzealand',\n",
       " 'jackiekemp mani scottish farmer went along tori polici brexit strip scotland thebrand beggar belief want scotgov support scotgov need work prevent poor food qualiti shortag lead fewer food choic starvat',\n",
       " 'icklesoldi shall talk call benefit area brexit border control go bad either farmer fisheri',\n",
       " 'rishi sunak bid join pacif trade bloc could hurt uk farmer intern data show httpstcocuw h qcri hurt uk farmer hasnt stop sunak he motiv desper desir mitig consequ brexit hell alien base',\n",
       " 'hcsgt warrocketajaxuk gbnew guess well work tear apart like lot brexit caus go back eu mean sign onto slaveri liter kill dutch farmer steal land want us evil remoan scum',\n",
       " 'brexit screw farmer brexit screw fisheri brexit fail httpstcouqzg ertut',\n",
       " 'jackiekemp percentag farmersfinsh vote tori vote brexit feel sorri one didnt',\n",
       " 'brexit barrier unnecessari erryesffsso fuck vote jesu idiot countri httpstcobxvbsxgjwh',\n",
       " 'thomascrowntre grahambsi oxford comma brexit question mark ye would sovereignti id like uk sovereign eu nation rather sacrif farmer fish crew engin disastr trade deal surinam tuvalu',\n",
       " 'know keep brexit fail miser boriss promis fund employ farmer amp chariti replac eu support never arriv bn',\n",
       " 'pathet lie rishisunak what happen promis honesti integr brexit either work didnt make anim suffer cover failur immor httpstco wwxcdb zh']"
      ]
     },
     "execution_count": 39,
     "metadata": {},
     "output_type": "execute_result"
    }
   ],
   "source": [
    "# Unnecessary (stop words) removed but meaning still intact. the stemer sometimes abbreviates words too\n",
    "cleaned_data "
   ]
  },
  {
   "cell_type": "code",
   "execution_count": 40,
   "id": "d33c6615",
   "metadata": {},
   "outputs": [
    {
     "data": {
      "text/plain": [
       "(517, 2496)"
      ]
     },
     "execution_count": 40,
     "metadata": {},
     "output_type": "execute_result"
    }
   ],
   "source": [
    "# Tokenization is the act of breaking up a sequence of strings into pieces such \n",
    "# as words, keywords, phrases, symbols and other elements called tokens\n",
    "from sklearn.feature_extraction.text import CountVectorizer\n",
    "\n",
    "# Instantiate an object cv by calling a method named as CountVectorzer()\n",
    "# here we are only taking 3K columns else the dataset will be too big\n",
    "# one con here is the order of the words is lost so the meaning can be lost a little\n",
    "# set stop words to names that dont indicate sentiment\n",
    "cv    = CountVectorizer(max_features = 3000, stop_words = ['BREXIT'])\n",
    "\n",
    "# convert the cleaneddata into the bag of words we want\n",
    "X_fin = cv.fit_transform(cleaned_data).toarray()\n",
    "\n",
    "# Display the rows and colums\n",
    "X_fin.shape"
   ]
  },
  {
   "cell_type": "code",
   "execution_count": 41,
   "id": "f4929a0b",
   "metadata": {},
   "outputs": [
    {
     "data": {
      "text/plain": [
       "array([[0, 0, 0, ..., 0, 0, 0],\n",
       "       [0, 0, 0, ..., 0, 0, 0],\n",
       "       [0, 0, 0, ..., 0, 0, 0],\n",
       "       ...,\n",
       "       [0, 0, 0, ..., 0, 0, 0],\n",
       "       [0, 0, 0, ..., 0, 0, 0],\n",
       "       [0, 0, 0, ..., 0, 0, 0]])"
      ]
     },
     "execution_count": 41,
     "metadata": {},
     "output_type": "execute_result"
    }
   ],
   "source": [
    "# This is the feature vector just created\n",
    "X_fin"
   ]
  },
  {
   "cell_type": "code",
   "execution_count": 42,
   "id": "9ce9cf32",
   "metadata": {},
   "outputs": [],
   "source": [
    "# build the NLP model using the input and the output, use the Multinomial Naive Bayes\n",
    "# model to figure out the relationship between the input and the output.\n",
    "# its a supervised learning algorithm that works really well for text based data\n",
    "from sklearn.naive_bayes import MultinomialNB\n",
    "from sklearn.model_selection import train_test_split\n",
    "\n",
    "# Instantiate an object model by calling a method MultinomialNB()\n",
    "model = MultinomialNB()"
   ]
  },
  {
   "cell_type": "code",
   "execution_count": 43,
   "id": "f21417d8",
   "metadata": {},
   "outputs": [],
   "source": [
    "# Split the dataset into training and testing parts\n",
    "X_train, X_test, y_train, y_test = train_test_split(X_fin, y, test_size = 0.3)"
   ]
  },
  {
   "cell_type": "code",
   "execution_count": 44,
   "id": "5cc8e5b4",
   "metadata": {},
   "outputs": [
    {
     "data": {
      "text/plain": [
       "MultinomialNB()"
      ]
     },
     "execution_count": 44,
     "metadata": {},
     "output_type": "execute_result"
    }
   ],
   "source": [
    "# Train the model by calling a method fit()\n",
    "model.fit(X_train,y_train)"
   ]
  },
  {
   "cell_type": "code",
   "execution_count": 45,
   "id": "1218710e",
   "metadata": {},
   "outputs": [],
   "source": [
    "# Call predict() method\n",
    "# To check how good our model is we first make predictions on the test set\n",
    "y_pred = model.predict(X_test)"
   ]
  },
  {
   "cell_type": "code",
   "execution_count": 46,
   "id": "dca625ee",
   "metadata": {},
   "outputs": [
    {
     "name": "stdout",
     "output_type": "stream",
     "text": [
      "[1 1 1 1 1 1 1 1 1 1 1 1 1 1 1 1 1 1 2 1 1 1 1 2 2 1 1 1 1 1 2 1 1 1 1 1 1\n",
      " 1 2 1 1 1 1 1 1 1 1 1 1 1 1 1 2 1 1 1 1 1 1 1 1 1 2 1 1 1 1 1 1 1 1 2 1 1\n",
      " 1 1 1 1 1 1 1 1 1 1 1 1 1 1 1 1 1 1 1 1 1 1 1 2 1 1 1 1 1 1 1 1 1 1 1 1 1\n",
      " 1 1 1 1 1 1 1 1 1 1 1 1 1 1 1 1 1 1 1 1 1 1 1 1 1 1 1 1 1 1 1 1 1 2 1 1 1\n",
      " 1 1 2 1 1 1 1 1]\n"
     ]
    }
   ],
   "source": [
    "print(y_pred)"
   ]
  },
  {
   "cell_type": "code",
   "execution_count": 47,
   "id": "4415aa26",
   "metadata": {},
   "outputs": [
    {
     "name": "stdout",
     "output_type": "stream",
     "text": [
      "              precision    recall  f1-score   support\n",
      "\n",
      "           0       0.00      0.00      0.00         1\n",
      "           1       0.96      0.93      0.94       150\n",
      "           2       0.00      0.00      0.00         5\n",
      "\n",
      "    accuracy                           0.89       156\n",
      "   macro avg       0.32      0.31      0.31       156\n",
      "weighted avg       0.92      0.89      0.91       156\n",
      "\n"
     ]
    }
   ],
   "source": [
    "from sklearn.metrics import classification_report\n",
    "\n",
    "# Instantiate a mthod named as Cla\n",
    "cf = classification_report(y_test, y_pred)\n",
    "\n",
    "# Display the values of an object cf\n",
    "print(cf)"
   ]
  },
  {
   "cell_type": "markdown",
   "id": "76494e68",
   "metadata": {},
   "source": [
    "## Feture Generation using TI-IDF"
   ]
  },
  {
   "cell_type": "code",
   "execution_count": 48,
   "id": "8c24fbd3",
   "metadata": {},
   "outputs": [],
   "source": [
    "from sklearn.feature_extraction.text import TfidfVectorizer\n",
    "\n",
    "# Create an object 'tf' by calling a method TfidfVectorizer()\n",
    "tfidf = TfidfVectorizer(max_features = 3000)\n",
    "\n",
    "# Train the dataset by calling a method fit_tranform() \n",
    "X_tfidf = tfidf.fit_transform(cleaned_data).toarray()"
   ]
  },
  {
   "cell_type": "code",
   "execution_count": 49,
   "id": "25bf54cb",
   "metadata": {},
   "outputs": [],
   "source": [
    "from sklearn.naive_bayes import MultinomialNB\n",
    "from sklearn.model_selection import train_test_split\n",
    "\n",
    "# Instantiate an object model by calling a method MultinomialNB()\n",
    "model_tdidf = MultinomialNB()"
   ]
  },
  {
   "cell_type": "code",
   "execution_count": 50,
   "id": "6a4d53a7",
   "metadata": {},
   "outputs": [],
   "source": [
    "# Split the dataset into training and testing parts\n",
    "X_train, X_test, y_train, y_test = train_test_split(X_tfidf, y, test_size = 0.3)"
   ]
  },
  {
   "cell_type": "code",
   "execution_count": 51,
   "id": "3dbd2b5c",
   "metadata": {},
   "outputs": [
    {
     "data": {
      "text/plain": [
       "MultinomialNB()"
      ]
     },
     "execution_count": 51,
     "metadata": {},
     "output_type": "execute_result"
    }
   ],
   "source": [
    "# Train the model by calling a method fit()\n",
    "model_tdidf.fit(X_train, y_train)"
   ]
  },
  {
   "cell_type": "code",
   "execution_count": 52,
   "id": "c5bc1b0b",
   "metadata": {},
   "outputs": [],
   "source": [
    "# Call predict() method\n",
    "y_pred = model_tdidf.predict(X_test)"
   ]
  },
  {
   "cell_type": "code",
   "execution_count": 53,
   "id": "b787cd35",
   "metadata": {},
   "outputs": [
    {
     "name": "stdout",
     "output_type": "stream",
     "text": [
      "              precision    recall  f1-score   support\n",
      "\n",
      "           0       0.00      0.00      0.00         3\n",
      "           1       0.96      1.00      0.98       149\n",
      "           2       0.00      0.00      0.00         4\n",
      "\n",
      "    accuracy                           0.96       156\n",
      "   macro avg       0.32      0.33      0.33       156\n",
      "weighted avg       0.91      0.96      0.93       156\n",
      "\n"
     ]
    }
   ],
   "source": [
    "from sklearn.metrics import classification_report\n",
    "\n",
    "# Instantiate a mthod named as Cla\n",
    "cf = classification_report(y_test, y_pred)\n",
    "\n",
    "# Display the values of an object cf\n",
    "print(cf)"
   ]
  },
  {
   "cell_type": "markdown",
   "id": "430b8de0",
   "metadata": {},
   "source": [
    "## Time series on milk production."
   ]
  },
  {
   "cell_type": "code",
   "execution_count": 55,
   "id": "55fd10d4",
   "metadata": {},
   "outputs": [
    {
     "name": "stderr",
     "output_type": "stream",
     "text": [
      "2023-01-01 17:01:15.502865: I tensorflow/core/platform/cpu_feature_guard.cc:193] This TensorFlow binary is optimized with oneAPI Deep Neural Network Library (oneDNN) to use the following CPU instructions in performance-critical operations:  AVX2 FMA\n",
      "To enable them in other operations, rebuild TensorFlow with the appropriate compiler flags.\n"
     ]
    },
    {
     "name": "stdout",
     "output_type": "stream",
     "text": [
      "Tensorflow/Keras: 2.11.0\n",
      "pandas: 1.4.2\n",
      "numpy: 1.21.5\n",
      "sklearn: 1.0.2\n",
      "plotly: 5.6.0\n"
     ]
    }
   ],
   "source": [
    "# Tensorflow / Keras\n",
    "from tensorflow import keras # for building Neural Networks\n",
    "print('Tensorflow/Keras: %s' % keras.__version__) # print version\n",
    "from keras.models import Sequential # for creating a linear stack of layers for our Neural Network\n",
    "from keras import Input # for instantiating a keras tensor\n",
    "from keras.layers import Dense, SimpleRNN # for creating regular densely-connected NN layers and RNN layers\n",
    "\n",
    "# Data manipulation\n",
    "import pandas as pd # for data manipulation\n",
    "print('pandas: %s' % pd.__version__) # print version\n",
    "import numpy as np # for data manipulation\n",
    "print('numpy: %s' % np.__version__) # print version\n",
    "import math # to help with data reshaping of the data\n",
    "\n",
    "# Sklearn\n",
    "import sklearn # for model evaluation\n",
    "print('sklearn: %s' % sklearn.__version__) # print version\n",
    "from sklearn.model_selection import train_test_split # for splitting the data into train and test samples\n",
    "from sklearn.metrics import mean_squared_error # for model evaluation metrics\n",
    "from sklearn.preprocessing import MinMaxScaler # for feature scaling\n",
    "\n",
    "# Visualization\n",
    "import plotly \n",
    "import plotly.express as px\n",
    "import plotly.graph_objects as go\n",
    "print('plotly: %s' % plotly.__version__) # print version"
   ]
  },
  {
   "cell_type": "code",
   "execution_count": null,
   "id": "8227ce36",
   "metadata": {},
   "outputs": [],
   "source": []
  }
 ],
 "metadata": {
  "kernelspec": {
   "display_name": "Python 3 (ipykernel)",
   "language": "python",
   "name": "python3"
  },
  "language_info": {
   "codemirror_mode": {
    "name": "ipython",
    "version": 3
   },
   "file_extension": ".py",
   "mimetype": "text/x-python",
   "name": "python",
   "nbconvert_exporter": "python",
   "pygments_lexer": "ipython3",
   "version": "3.9.12"
  }
 },
 "nbformat": 4,
 "nbformat_minor": 5
}
