{
 "cells": [
  {
   "cell_type": "code",
   "execution_count": 154,
   "id": "d619e891",
   "metadata": {},
   "outputs": [],
   "source": [
    "from dotenv import dotenv_values\n",
    "import pandas as pd\n",
    "import numpy as np\n",
    "import matplotlib.pyplot as plt\n",
    "import requests\n",
    "import json\n",
    "from sklearn.ensemble import RandomForestRegressor\n",
    "from sklearn.tree import DecisionTreeRegressor\n",
    "from sklearn.linear_model import LinearRegression\n",
    "from sklearn.model_selection import train_test_split\n",
    "from sklearn.model_selection import GridSearchCV\n",
    "from sklearn.metrics import accuracy_score\n",
    "from sklearn.metrics import mean_squared_error as MSE\n",
    "from sklearn.preprocessing import StandardScaler\n",
    "import warnings\n",
    "warnings.filterwarnings('ignore') # We can suppress the warnings\n",
    "# my twitter keys are stores in a file outside the git repository for security reasons\n",
    "config = dotenv_values(\"/Users/ambrosedesmond/CCT_Projects/Ambrose_MSC_DS_CA2/.env\")\n",
    "bearer_token = config[\"BEARER_TOKEN\"]\n",
    "# this is the location of the twitter api access , looking for the most recent tweets\n",
    "search_url = \"https://api.twitter.com/2/tweets/search/recent\""
   ]
  },
  {
   "cell_type": "markdown",
   "id": "beba62da",
   "metadata": {},
   "source": [
    "# Set up and run API query. Save result to .csv"
   ]
  },
  {
   "cell_type": "code",
   "execution_count": 155,
   "id": "3edf73c7",
   "metadata": {},
   "outputs": [],
   "source": [
    "\n",
    "\n",
    "# Set up the query we want to pass to api , is a json object\n",
    "    #   Im adding parameter -is = is not a retweet. i dont want the same retweets showing up in my data \n",
    "    # also pulling in the author id and name\n",
    "# Im using two query_params the first is without the next_token field for the first query   \n",
    "query_params1 = {\n",
    "    'query':'BREXIT farmers -is:retweet',\n",
    "    'max_results': '100',\n",
    "    'tweet.fields':'author_id',\n",
    "    'user.fields':'name',\n",
    "\n",
    "}\n",
    "# This second query is for the loop , as it requires a next_token.\n",
    "query_params2 = {\n",
    "    'query':'BREXIT farmers -is:retweet',\n",
    "    'max_results': '100',\n",
    "    'tweet.fields':'author_id',\n",
    "    'user.fields':'name',\n",
    "    'next_token' : 'abcd',\n",
    "}\n",
    "\n",
    "# my authorisation keys are used here for ther twitter API\n",
    "def bearer_oauth(r):\n",
    "    \"\"\" Function for using bearer token\"\"\"\n",
    "    r.headers['Authorization'] = f\"Bearer {bearer_token}\"\n",
    "    r.headers['User-Agent'] = \"v2RecentSerchPython\"\n",
    "    return r\n",
    "\n",
    "\n",
    "def connect_to_endpoint(url,params):\n",
    "    \"\"\" Function to connect to twitter API\"\"\"\n",
    "    response = requests.get(url,auth=bearer_oauth, params=params)\n",
    "    #responce.status_code 200 is good anything else is an error\n",
    "    \n",
    "    return response.json()\n",
    "\n",
    "def append_dict(adict,json_response):\n",
    "    for i in range(len(json_response['data'])):\n",
    "        try:\n",
    "            adict[json_response['data'][i]['author_id']] = json_response['data'][i]['text']\n",
    "\n",
    "        except IndexError:\n",
    "            print(\"We had an index error\")\n",
    "    return(adict)\n",
    "\n",
    "    \n",
    "def twit_call():\n",
    "    twit_dict={}\n",
    "    loop_count = 0\n",
    "    json_response = connect_to_endpoint(search_url, query_params1)\n",
    "\n",
    "    append_dict(twit_dict,json_response)\n",
    "    # while json_response['meta']['next_token']:\n",
    "    while True:\n",
    "        # pagenation is taking the next_token and feeding it through to next query\n",
    "        if 'next_token' in json_response['meta']: \n",
    "            next_t = json_response['meta']['next_token']\n",
    "            query_params2['next_token'] = next_t\n",
    "        else:\n",
    "            # this is the last page\n",
    "            break\n",
    "        json_response = connect_to_endpoint(search_url, query_params2)\n",
    "        append_dict(twit_dict,json_response)\n",
    "           \n",
    "    return(twit_dict)\n",
    "\n",
    "my_dict = twit_call()"
   ]
  },
  {
   "cell_type": "code",
   "execution_count": 156,
   "id": "0cba9ec4",
   "metadata": {
    "scrolled": true
   },
   "outputs": [],
   "source": [
    "# convert dictionary to dataframe\n",
    "df = pd.DataFrame.from_dict(my_dict, orient='index',columns=['tweets'])"
   ]
  },
  {
   "cell_type": "code",
   "execution_count": 157,
   "id": "3bc965e0",
   "metadata": {},
   "outputs": [
    {
     "data": {
      "text/plain": [
       "(527, 1)"
      ]
     },
     "execution_count": 157,
     "metadata": {},
     "output_type": "execute_result"
    }
   ],
   "source": [
    "df.shape"
   ]
  },
  {
   "cell_type": "code",
   "execution_count": 158,
   "id": "daf20c2e",
   "metadata": {},
   "outputs": [
    {
     "data": {
      "text/html": [
       "<div>\n",
       "<style scoped>\n",
       "    .dataframe tbody tr th:only-of-type {\n",
       "        vertical-align: middle;\n",
       "    }\n",
       "\n",
       "    .dataframe tbody tr th {\n",
       "        vertical-align: top;\n",
       "    }\n",
       "\n",
       "    .dataframe thead th {\n",
       "        text-align: right;\n",
       "    }\n",
       "</style>\n",
       "<table border=\"1\" class=\"dataframe\">\n",
       "  <thead>\n",
       "    <tr style=\"text-align: right;\">\n",
       "      <th></th>\n",
       "      <th>tweets</th>\n",
       "    </tr>\n",
       "  </thead>\n",
       "  <tbody>\n",
       "    <tr>\n",
       "      <th>1424795549144846341</th>\n",
       "      <td>@NicholasTyrone Cry me a river. Farmers enthus...</td>\n",
       "    </tr>\n",
       "    <tr>\n",
       "      <th>40645197</th>\n",
       "      <td>Most farmers voted for Brexit and the NFU enco...</td>\n",
       "    </tr>\n",
       "    <tr>\n",
       "      <th>67428426</th>\n",
       "      <td>Just 224 farmers paid under post-Brexit farmin...</td>\n",
       "    </tr>\n",
       "    <tr>\n",
       "      <th>1372024232</th>\n",
       "      <td>Farmers to be paid double for planting hedgero...</td>\n",
       "    </tr>\n",
       "    <tr>\n",
       "      <th>75337774</th>\n",
       "      <td>Just 224 farmers were paid under post-Brexit f...</td>\n",
       "    </tr>\n",
       "  </tbody>\n",
       "</table>\n",
       "</div>"
      ],
      "text/plain": [
       "                                                                tweets\n",
       "1424795549144846341  @NicholasTyrone Cry me a river. Farmers enthus...\n",
       "40645197             Most farmers voted for Brexit and the NFU enco...\n",
       "67428426             Just 224 farmers paid under post-Brexit farmin...\n",
       "1372024232           Farmers to be paid double for planting hedgero...\n",
       "75337774             Just 224 farmers were paid under post-Brexit f..."
      ]
     },
     "execution_count": 158,
     "metadata": {},
     "output_type": "execute_result"
    }
   ],
   "source": [
    "df.head()"
   ]
  },
  {
   "cell_type": "code",
   "execution_count": 46,
   "id": "dcac170f",
   "metadata": {},
   "outputs": [],
   "source": [
    "# save the dataframe as cvs file.\n",
    "\n",
    "df.to_csv('BREXIT_tweets.csv')\n"
   ]
  },
  {
   "cell_type": "markdown",
   "id": "c822b9e7",
   "metadata": {},
   "source": [
    "# Load previously saved tweets"
   ]
  },
  {
   "cell_type": "code",
   "execution_count": 162,
   "id": "c4e9a069",
   "metadata": {},
   "outputs": [],
   "source": [
    "df = pd.read_csv(\"BREXIT_tweets_5_jan.csv\")\n",
    "df = df.set_index('Unnamed: 0')"
   ]
  },
  {
   "cell_type": "code",
   "execution_count": 164,
   "id": "2181e320",
   "metadata": {},
   "outputs": [
    {
     "data": {
      "text/html": [
       "<div>\n",
       "<style scoped>\n",
       "    .dataframe tbody tr th:only-of-type {\n",
       "        vertical-align: middle;\n",
       "    }\n",
       "\n",
       "    .dataframe tbody tr th {\n",
       "        vertical-align: top;\n",
       "    }\n",
       "\n",
       "    .dataframe thead th {\n",
       "        text-align: right;\n",
       "    }\n",
       "</style>\n",
       "<table border=\"1\" class=\"dataframe\">\n",
       "  <thead>\n",
       "    <tr style=\"text-align: right;\">\n",
       "      <th></th>\n",
       "      <th>tweets</th>\n",
       "    </tr>\n",
       "    <tr>\n",
       "      <th>Unnamed: 0</th>\n",
       "      <th></th>\n",
       "    </tr>\n",
       "  </thead>\n",
       "  <tbody>\n",
       "    <tr>\n",
       "      <th>799375162072240128</th>\n",
       "      <td>So basically, the new funding is doing nothing...</td>\n",
       "    </tr>\n",
       "    <tr>\n",
       "      <th>170835152</th>\n",
       "      <td>@john4brexit Market access is a growth driver,...</td>\n",
       "    </tr>\n",
       "    <tr>\n",
       "      <th>996874375583412224</th>\n",
       "      <td>Just 224 #farmers in England were paid last ye...</td>\n",
       "    </tr>\n",
       "    <tr>\n",
       "      <th>1211023046946877440</th>\n",
       "      <td>Post-Brexit £1,000 farming payments ‘too littl...</td>\n",
       "    </tr>\n",
       "    <tr>\n",
       "      <th>1046423957900066816</th>\n",
       "      <td>@ConsPost Farmers have been doing that since b...</td>\n",
       "    </tr>\n",
       "  </tbody>\n",
       "</table>\n",
       "</div>"
      ],
      "text/plain": [
       "                                                                tweets\n",
       "Unnamed: 0                                                            \n",
       "799375162072240128   So basically, the new funding is doing nothing...\n",
       "170835152            @john4brexit Market access is a growth driver,...\n",
       "996874375583412224   Just 224 #farmers in England were paid last ye...\n",
       "1211023046946877440  Post-Brexit £1,000 farming payments ‘too littl...\n",
       "1046423957900066816  @ConsPost Farmers have been doing that since b..."
      ]
     },
     "execution_count": 164,
     "metadata": {},
     "output_type": "execute_result"
    }
   ],
   "source": [
    "df.head()"
   ]
  },
  {
   "cell_type": "code",
   "execution_count": 165,
   "id": "70255eae",
   "metadata": {},
   "outputs": [],
   "source": [
    "import nltk"
   ]
  },
  {
   "cell_type": "code",
   "execution_count": 166,
   "id": "b70dee42",
   "metadata": {},
   "outputs": [
    {
     "name": "stderr",
     "output_type": "stream",
     "text": [
      "[nltk_data] Downloading package stopwords to\n",
      "[nltk_data]     /Users/ambrosedesmond/nltk_data...\n",
      "[nltk_data]   Package stopwords is already up-to-date!\n"
     ]
    },
    {
     "data": {
      "text/plain": [
       "True"
      ]
     },
     "execution_count": 166,
     "metadata": {},
     "output_type": "execute_result"
    }
   ],
   "source": [
    "nltk.download(\"stopwords\")"
   ]
  },
  {
   "cell_type": "code",
   "execution_count": 167,
   "id": "a9feb4ba",
   "metadata": {},
   "outputs": [],
   "source": [
    "# using regular expressions to remove all special charecters.\n",
    "df[\"tweets\"] = df['tweets'].str.replace('[^\\w\\s]','')"
   ]
  },
  {
   "cell_type": "code",
   "execution_count": 168,
   "id": "15823825",
   "metadata": {},
   "outputs": [],
   "source": [
    "# using regular expressions to remove all tabs and carrige returns that were imported in original csv\n",
    "df[\"tweets\"] = df['tweets'].str.replace(r'\\r\\n','')"
   ]
  },
  {
   "cell_type": "code",
   "execution_count": 169,
   "id": "1d0f2ce8",
   "metadata": {},
   "outputs": [],
   "source": [
    "# Basically stop words like this, an, a, the, etc that do not affect the meaning of the tweet will be removed\n",
    "from nltk.corpus import stopwords\n",
    "stop = stopwords.words(\"english\")"
   ]
  },
  {
   "cell_type": "code",
   "execution_count": 170,
   "id": "6c9b2de2",
   "metadata": {},
   "outputs": [],
   "source": [
    "# lambda counts the  number of stop words in each tweet\n",
    "df[\"stopwords\"]  = df[\"tweets\"].apply(lambda x : len([x for x in x.split() if x in stop]))"
   ]
  },
  {
   "cell_type": "code",
   "execution_count": 171,
   "id": "d02834a3",
   "metadata": {},
   "outputs": [],
   "source": [
    "# lambda counts the number of upper case words in tweet , indicate shouting , anger ect\n",
    "df[\"upper\"]  = df[\"tweets\"].apply(lambda x : len([x for x in x.split() if x.isupper()]))"
   ]
  },
  {
   "cell_type": "code",
   "execution_count": 32,
   "id": "2bd01fa7",
   "metadata": {},
   "outputs": [],
   "source": [
    "#pip install textblob"
   ]
  },
  {
   "cell_type": "code",
   "execution_count": 172,
   "id": "86c1f88a",
   "metadata": {},
   "outputs": [],
   "source": [
    "df['tweets'] = df['tweets'].astype(str)"
   ]
  },
  {
   "cell_type": "code",
   "execution_count": 173,
   "id": "d1f357ac",
   "metadata": {},
   "outputs": [],
   "source": [
    "##################### Warning this cell can take up to 20 mins to complete ################### \n",
    "# corrects spellings and grammer based on context\n",
    "# use txtblob to correct the tweet spelling\n",
    "from textblob import TextBlob\n",
    "df['tweets_correct?']= df[\"tweets\"].apply(lambda x : str(TextBlob(x).correct()))\n",
    "# pattern matching is not good"
   ]
  },
  {
   "cell_type": "code",
   "execution_count": 174,
   "id": "23bb45a1",
   "metadata": {},
   "outputs": [],
   "source": [
    "# get the sentiment . using scored words. scores are added up and the final score is the entimenen \n",
    "# The polarity score is a float within the range [-1.0, 1.0]. The subjectivity is a float within the \n",
    "# range [0.0, 1.0] where 0.0 is very objective and 1.0 is very subjective.\n",
    "df['sentiment_1'] = df[\"tweets\"].apply(lambda x : TextBlob(x).sentiment[0])\n",
    "df['sentiment_2'] = df[\"tweets_correct?\"].apply(lambda x : TextBlob(x).sentiment[0])"
   ]
  },
  {
   "cell_type": "code",
   "execution_count": 175,
   "id": "64df5169",
   "metadata": {},
   "outputs": [
    {
     "data": {
      "text/html": [
       "<div>\n",
       "<style scoped>\n",
       "    .dataframe tbody tr th:only-of-type {\n",
       "        vertical-align: middle;\n",
       "    }\n",
       "\n",
       "    .dataframe tbody tr th {\n",
       "        vertical-align: top;\n",
       "    }\n",
       "\n",
       "    .dataframe thead th {\n",
       "        text-align: right;\n",
       "    }\n",
       "</style>\n",
       "<table border=\"1\" class=\"dataframe\">\n",
       "  <thead>\n",
       "    <tr style=\"text-align: right;\">\n",
       "      <th></th>\n",
       "      <th>tweets</th>\n",
       "      <th>stopwords</th>\n",
       "      <th>upper</th>\n",
       "      <th>tweets_correct?</th>\n",
       "      <th>sentiment_1</th>\n",
       "      <th>sentiment_2</th>\n",
       "    </tr>\n",
       "    <tr>\n",
       "      <th>Unnamed: 0</th>\n",
       "      <th></th>\n",
       "      <th></th>\n",
       "      <th></th>\n",
       "      <th></th>\n",
       "      <th></th>\n",
       "      <th></th>\n",
       "    </tr>\n",
       "  </thead>\n",
       "  <tbody>\n",
       "    <tr>\n",
       "      <th>799375162072240128</th>\n",
       "      <td>So basically the new funding is doing nothing ...</td>\n",
       "      <td>8</td>\n",
       "      <td>0</td>\n",
       "      <td>To basically the new funding is doing nothing ...</td>\n",
       "      <td>-0.073064</td>\n",
       "      <td>-0.073064</td>\n",
       "    </tr>\n",
       "    <tr>\n",
       "      <th>170835152</th>\n",
       "      <td>john4brexit Market access is a growth driver J...</td>\n",
       "      <td>15</td>\n",
       "      <td>0</td>\n",
       "      <td>john4brexit Market access is a growth driver J...</td>\n",
       "      <td>0.171667</td>\n",
       "      <td>0.171667</td>\n",
       "    </tr>\n",
       "    <tr>\n",
       "      <th>996874375583412224</th>\n",
       "      <td>Just 224 farmers in England were paid last yea...</td>\n",
       "      <td>8</td>\n",
       "      <td>2</td>\n",
       "      <td>Must 224 farmers in England were paid last yea...</td>\n",
       "      <td>0.000000</td>\n",
       "      <td>0.000000</td>\n",
       "    </tr>\n",
       "    <tr>\n",
       "      <th>1211023046946877440</th>\n",
       "      <td>PostBrexit 1000 farming payments too little to...</td>\n",
       "      <td>4</td>\n",
       "      <td>0</td>\n",
       "      <td>PostBrexit 1000 farming payments too little to...</td>\n",
       "      <td>-0.243750</td>\n",
       "      <td>-0.243750</td>\n",
       "    </tr>\n",
       "    <tr>\n",
       "      <th>1046423957900066816</th>\n",
       "      <td>ConsPost Farmers have been doing that since be...</td>\n",
       "      <td>5</td>\n",
       "      <td>0</td>\n",
       "      <td>ConsPost Farmers have been doing that since be...</td>\n",
       "      <td>0.000000</td>\n",
       "      <td>0.000000</td>\n",
       "    </tr>\n",
       "  </tbody>\n",
       "</table>\n",
       "</div>"
      ],
      "text/plain": [
       "                                                                tweets  \\\n",
       "Unnamed: 0                                                               \n",
       "799375162072240128   So basically the new funding is doing nothing ...   \n",
       "170835152            john4brexit Market access is a growth driver J...   \n",
       "996874375583412224   Just 224 farmers in England were paid last yea...   \n",
       "1211023046946877440  PostBrexit 1000 farming payments too little to...   \n",
       "1046423957900066816  ConsPost Farmers have been doing that since be...   \n",
       "\n",
       "                     stopwords  upper  \\\n",
       "Unnamed: 0                              \n",
       "799375162072240128           8      0   \n",
       "170835152                   15      0   \n",
       "996874375583412224           8      2   \n",
       "1211023046946877440          4      0   \n",
       "1046423957900066816          5      0   \n",
       "\n",
       "                                                       tweets_correct?  \\\n",
       "Unnamed: 0                                                               \n",
       "799375162072240128   To basically the new funding is doing nothing ...   \n",
       "170835152            john4brexit Market access is a growth driver J...   \n",
       "996874375583412224   Must 224 farmers in England were paid last yea...   \n",
       "1211023046946877440  PostBrexit 1000 farming payments too little to...   \n",
       "1046423957900066816  ConsPost Farmers have been doing that since be...   \n",
       "\n",
       "                     sentiment_1  sentiment_2  \n",
       "Unnamed: 0                                     \n",
       "799375162072240128     -0.073064    -0.073064  \n",
       "170835152               0.171667     0.171667  \n",
       "996874375583412224      0.000000     0.000000  \n",
       "1211023046946877440    -0.243750    -0.243750  \n",
       "1046423957900066816     0.000000     0.000000  "
      ]
     },
     "execution_count": 175,
     "metadata": {},
     "output_type": "execute_result"
    }
   ],
   "source": [
    "df.head()"
   ]
  },
  {
   "cell_type": "code",
   "execution_count": 176,
   "id": "a81291e6",
   "metadata": {},
   "outputs": [],
   "source": [
    "df = df.sort_values(by='sentiment_1', ascending=False)\n",
    "df = df.sort_values(by='sentiment_2', ascending=False)"
   ]
  },
  {
   "cell_type": "code",
   "execution_count": 177,
   "id": "1c3f5e8c",
   "metadata": {},
   "outputs": [
    {
     "data": {
      "image/png": "[encoded data removed]",
      "text/plain": [
       "<Figure size 432x288 with 1 Axes>"
      ]
     },
     "metadata": {
      "needs_background": "light"
     },
     "output_type": "display_data"
    }
   ],
   "source": [
    "# the histogram gives a instant view of all sentiment , and changes from day to day\n",
    "# depending on the news topic of the day.\n",
    "df.hist(column='sentiment_1')\n",
    "\n",
    "plt.show()"
   ]
  },
  {
   "cell_type": "code",
   "execution_count": 178,
   "id": "f51da3b0",
   "metadata": {},
   "outputs": [
    {
     "data": {
      "image/png": "[encoded data removed]",
      "text/plain": [
       "<Figure size 432x288 with 1 Axes>"
      ]
     },
     "metadata": {
      "needs_background": "light"
     },
     "output_type": "display_data"
    }
   ],
   "source": [
    "# The histogram give a visual indication of the sentiment, \n",
    "# we see the majority of the sentiment is around 0 on the x axis indicating neutral sentiment \n",
    "# in relation to Brexit and farming on the day the reading was taken. Previous readings \n",
    "# have tended to be mostly negative.\n",
    "df.hist(column='sentiment_2')\n",
    "\n",
    "plt.show()"
   ]
  },
  {
   "cell_type": "markdown",
   "id": "235dff56",
   "metadata": {},
   "source": [
    "## BAG OF WORDS"
   ]
  },
  {
   "cell_type": "code",
   "execution_count": 179,
   "id": "20a99ba1",
   "metadata": {},
   "outputs": [],
   "source": [
    "# Store the comments\n",
    "X = df[\"tweets\"]\n",
    "y = df[\"sentiment_1\"]"
   ]
  },
  {
   "cell_type": "code",
   "execution_count": 180,
   "id": "12ffd4d3",
   "metadata": {},
   "outputs": [
    {
     "data": {
      "text/plain": [
       "Unnamed: 0\n",
       "1358992730    1.000000\n",
       "603077286     0.800000\n",
       "1551416341    0.750000\n",
       "125339572     0.700000\n",
       "105269160     0.507143\n",
       "Name: sentiment_1, dtype: float64"
      ]
     },
     "execution_count": 180,
     "metadata": {},
     "output_type": "execute_result"
    }
   ],
   "source": [
    "y.head()"
   ]
  },
  {
   "cell_type": "code",
   "execution_count": 181,
   "id": "c2883e28",
   "metadata": {},
   "outputs": [],
   "source": [
    "# Lamdba to categorise the sentiment to 0,1,2 groupings\n",
    "y = y.apply(lambda x: 0 if x < -0.5 else (1 if x < 0.5 else 2))"
   ]
  },
  {
   "cell_type": "code",
   "execution_count": 182,
   "id": "802034ce",
   "metadata": {},
   "outputs": [
    {
     "data": {
      "text/plain": [
       "Unnamed: 0\n",
       "1358992730    2\n",
       "603077286     2\n",
       "1551416341    2\n",
       "125339572     2\n",
       "105269160     2\n",
       "Name: sentiment_1, dtype: int64"
      ]
     },
     "execution_count": 182,
     "metadata": {},
     "output_type": "execute_result"
    }
   ],
   "source": [
    "y.head()"
   ]
  },
  {
   "cell_type": "code",
   "execution_count": 183,
   "id": "2da0b617",
   "metadata": {},
   "outputs": [
    {
     "name": "stderr",
     "output_type": "stream",
     "text": [
      "[nltk_data] Downloading package stopwords to\n",
      "[nltk_data]     /Users/ambrosedesmond/nltk_data...\n",
      "[nltk_data]   Package stopwords is already up-to-date!\n"
     ]
    }
   ],
   "source": [
    "from nltk.corpus import stopwords\n",
    "nltk.download('stopwords')\n",
    "\n",
    "import string\n",
    "from nltk.stem import PorterStemmer"
   ]
  },
  {
   "cell_type": "code",
   "execution_count": 184,
   "id": "057b7e52",
   "metadata": {},
   "outputs": [],
   "source": [
    "# Store the stopwords into the object named as \"stop_words\"\n",
    "# Stopwords are words which do not contain enough significance to be used without our algorithm\n",
    "stop_words = stopwords.words('english')\n",
    "\n",
    "# Store the string.punctuation into an object punct. Removing Punctuation: ‘,.*!’ and other \n",
    "# punctuation marks that are not really needed by the model\n",
    "punct = string.punctuation\n",
    "\n",
    "# Initialise an object using a method PorterStemmer.\n",
    "# reducing words like ‘jumping, jumped, jump’ into its root word(also called stem)\n",
    "stemmer = PorterStemmer()"
   ]
  },
  {
   "cell_type": "code",
   "execution_count": 185,
   "id": "76c81436",
   "metadata": {},
   "outputs": [],
   "source": [
    "import re\n",
    "\n",
    "cleaned_data=[]\n",
    "\n",
    "# For loop from first value to length(X), ^a-zA-Z means include small and capital case letters\n",
    "\n",
    "for i in range(len(X)):\n",
    "    message = re.sub('[^a-zA-Z]', ' ', X.iloc[i])\n",
    "    message = message.lower().split()\n",
    "    message = [stemmer.stem(word) for word in message if (word not in stop_words) and (word not in punct)]\n",
    "    # we rejoin all the words back into a sentance again and append the sentances into a list\n",
    "    message = ' '.join(message)\n",
    "    cleaned_data.append(message)"
   ]
  },
  {
   "cell_type": "code",
   "execution_count": 186,
   "id": "2cb3f401",
   "metadata": {},
   "outputs": [
    {
     "data": {
      "text/plain": [
       "Unnamed: 0\n",
       "1358992730             hic334 The NFU position was that farmers inter...\n",
       "603077286              natalieben UK farmers are being priced out by ...\n",
       "1551416341             The headline doesnt do justice to the importan...\n",
       "125339572                                   Good news httpstcoJijauzZpfG\n",
       "105269160              JohnMellis francesca_geld  yet all the trade d...\n",
       "                                             ...                        \n",
       "1501716185234096129    NicholasTyrone Amen to that\\n\\nIt makes me ang...\n",
       "1360497947297914880    jackiekemp A percentage of FarmersFinshing vot...\n",
       "1497954762377113608    I find it really difficult to get excised abou...\n",
       "3192252407             Brexit barriers are so unnecessary erryesFFSso...\n",
       "22519204               No money for Elms means farmers will have no c...\n",
       "Name: tweets, Length: 599, dtype: object"
      ]
     },
     "execution_count": 186,
     "metadata": {},
     "output_type": "execute_result"
    }
   ],
   "source": [
    "X # this is the regular cleaned data, note I have full sentices with all the unnecessary words"
   ]
  },
  {
   "cell_type": "code",
   "execution_count": 187,
   "id": "0b1a5428",
   "metadata": {},
   "outputs": [
    {
     "data": {
      "text/plain": [
       "['hic nfu posit farmer interest would best serv stay eu yet farmer vote brexit',\n",
       " 'natalieben uk farmer price supermarket farmer leav industri choic insolv govern happi trade deal australia nz undermin farmer even nz media realis would affect uk farmer brexit benefit cours',\n",
       " 'headlin doesnt justic import complex make transit success biodivers climat resili ecosystem impact httpstcooov w khuu',\n",
       " 'good news httpstcojijauzzpfg',\n",
       " 'johnmelli francesca geld yet trade deal countri done nobodi seem complain uk farmer certainli got screw ukau trade agreement anoth brexit win',\n",
       " 'chanc eu britain start relationship afresh realiti disproof brexit argument brexitli brexitbrokebritain httpstcoe jrsbd',\n",
       " 'come eu cap opportun reshap agricultur amp food system rather prop farm system damag natur unsustain amp leav mani farmer close poverti httpstco sridyrv',\n",
       " 'waltjack sainsburi tesco garethwynjon farmersweekli farmersguardian scottishfarm nfutweet natsheep bbcneandcumbria farminguk thefarmingforum bbcfarmingtoday farmer dont make sure farm organis proactiv ensur govern support like farmer vote tori vote brexit vote',\n",
       " 'magnuscani musc esbri nicholastyron mrjamesob ironi brexit hurt vote fishermen farmer etc area got eu fund slash',\n",
       " 'conspost sure doesnt look way httpstcokqtjpi qfb',\n",
       " 'waltjack sainsburi tesco garethwynjon farmersweekli farmersguardian scottishfarm nfutweet natsheep bbcneandcumbria farminguk thefarmingforum bbcfarmingtoday believ farmer vote brexit brexit',\n",
       " 'greghand wow million year pork farmer brexit dream sure deliv hahah',\n",
       " 'downingstreet oh dear tori incompet gift never stop give brexit httpstcoynipwwirni',\n",
       " 'brexit sham probabl farmer vote brexit',\n",
       " 'make britain great day prereferendum met group farmer told much reli upon eu worker keep busi go vote brexit ill never understand brexitr httpstcooez hfi',\n",
       " 'peterstefanovi mikegalsworthi rememb michael gove promis farmer food standard would reduc remov post brexit httpstcow spcksbjp',\n",
       " 'brexit benefit uk farmer protect enhanc environ receiv increas payment httpstcorxwcerenjg via conserv post',\n",
       " 'yet brexit benefit brexitbrokebritain httpstcogyw ztmsfg',\n",
       " 'brexit benefit uk farmer protect enhanc environ receiv increas payment httpstcoz zwiic via conserv post',\n",
       " 'anoth brexit miracl much better thing sure httpstcohdalentqki',\n",
       " 'chrisgreybrexit teresac farmer vote leav despit forewarn would happen happen expect sympathi come fulli reject brexit apologis demand rejoin eu',\n",
       " 'kirkberzerk trontro veronicareagan owen whiteley dxw kc farmer better done anoth clue one brexit said stay singlemarket johnson hannan etc farag want norwayswitzerland amp promis fewer boat cross channel work',\n",
       " 'ashstrong oh wasnt brexit britain abl step save day httpstcoucqfozexf',\n",
       " 'mumwhocar unusu time sound lot better road kill prison food rustl livestock menu farmer bewar brexit benefit starv nation noth foodbank credit inept fraudul grift benefit scroung govern farm',\n",
       " 'waltjack sainsburi tesco garethwynjon farmersweekli farmersguardian scottishfarm nfutweet natsheep bbcneandcumbria farminguk thefarmingforum bbcfarmingtoday brexit benefit go way avoid buy anyth emblazon union jack farmer think freedom movement son overwhelm vote brexit reap sow',\n",
       " 'gbnew garethwynjon well given uk grown food doesnt get pick farmer vote brexit there go lot hungri peopl season food januari may',\n",
       " 'rosalindann sympathi uk farmer conserv voter vote brexittheyr get vote',\n",
       " 'waltjack sainsburi tesco garethwynjon farmersweekli farmersguardian scottishfarm nfutweet natsheep bbcneandcumbria farminguk thefarmingforum bbcfarmingtoday mostli farmer vote brexit',\n",
       " 'fesserjerri phillipspobrien graviti trade alway accept fact except brexit circl like deni realiti brexit prove one thing import converg standard rather diverg ask farmer sure vote remain',\n",
       " 'much win httpstcoorw jbuv',\n",
       " 'waltjack sainsburi tesco garethwynjon farmersweekli farmersguardian scottishfarm nfutweet natsheep bbcneandcumbria farminguk thefarmingforum bbcfarmingtoday tori told us made great deal new zealand uk farmer vote brexit shouldnt get',\n",
       " 'didnt farmer vote great news new zealand farmer cours httpstcomtgwbfaeud',\n",
       " 'great deal someth benefici agricultur there way dress trade deal good thing ive heard farmer say industri less chuck bu brexit brexitr httpstcondqmpjhqoz',\n",
       " 'waltjack amandakend sainsburi tesco garethwynjon farmersweekli farmersguardian scottishfarm nfutweet natsheep bbcneandcumbria farminguk thefarmingforum bbcfarmingtoday free market know one push tori ever parti vast major farmer vote got brilliant nz free trade deal favour farmer eu protect farmer vote brexit',\n",
       " 'nicholastyron oh ye eu farmer thrive wonder farm issu eu amp us climat agenda brexit httpstcojel wdbk',\n",
       " 'joblijob guardian myth farmer vote overwhelmingli brexit roadsid placard saw run referendum larg place hand wealthi landown',\n",
       " 'danieljhannan spoken farmer commerci fishermen sinc brexit see happi httpstcog cifbrvz',\n",
       " 'welsh liber democrat continu call uk rejoin singl market custom union brave bold courag dont give bulli busi farmer need us strong togeth httpstcojxqoikosqg',\n",
       " 'britishalba go speak farmer peopl sw fund dri sinc brexit realiti region compet nation prioriti fund way werent westminst prioriti tend win',\n",
       " 'nfutweet ironi ironi sinc mani farmer tori pro brexit httpstcoydpgslfgqu',\n",
       " 'context take pork farmer year trade deal save back one year brexit loss good deal httpstcoiuqjia xs',\n",
       " 'there way dress trade deal good thing ive heard farmer say industri less chuck bu httpstcobhaf odkgh bbcpm',\n",
       " 'uk post brexit farm scheme leav heroic farmer better paid environment good like rewild instead leav face uncertain amp financi peril futur owe better httpstco woiba',\n",
       " 'cleckylad accord fishermen farmer brexit resound success dont realli see mani fishermen farmer day',\n",
       " 'waltjack sainsburi tesco garethwynjon farmersweekli farmersguardian scottishfarm nfutweet natsheep bbcneandcumbria farminguk thefarmingforum bbcfarmingtoday farmer buy japanes vehicl year cheaperbett valu farmer vote brexit despit huge benefit eu subsidi farmer vote conserv vote ideolog free market',\n",
       " 'waltjack sainsburi tesco garethwynjon farmersweekli farmersguardian scottishfarm nfutweet natsheep bbcneandcumbria farminguk thefarmingforum bbcfarmingtoday new zealand lamb tast better cheaper farmer vote brexit',\n",
       " 'vivamjm brexit mani mysteri courtesi russian cash etc one profound uk farmer support strongli',\n",
       " 'brexit monger trussliz deal undermin uk sheep farmer brexit monger borisjohnson oven readi deal leav import check border huge check export mayb stop vote conserv httpstcof anqk e h',\n",
       " 'kilsal stevebakerhw chhcall jamescleverli rishisunak farmer gb highlight issu brexit much import uk httpstcotyejpd czg',\n",
       " 'anoth shambl theresecoffey long delay implement scheme first propos michaelgov environ secretari delay mani time sinc caus mani farmer sign httpstcoraqkf gtrc',\n",
       " 'sarahmurphi jonsopel also destroy industri overal economi yay brexit brexitr brexitli httpstcozbmikzr sv',\n",
       " 'ukip noth hurt farmer disast brexit your enemi british farmer british fishermen your enemi whole british popul there probabl group peopl done damag britain lot sinc ww',\n",
       " 'oh yeah deal beef ruin farmer mayb wood chop rain forest anyth make brexit look good httpstcokzdix xaj',\n",
       " 'p per day pig farmer across uk anoth massiv brexit win left sooner httpstcotlyr tzewo',\n",
       " 'beerg seem recal look though methodolog wasnt brilliant farmer vote brexit roughli line other region age cohort',\n",
       " 'scottbentonmp dnc good come brexit weve lost right lose mani end farmer fishermen nh staff busi everyon els see leaver lie project fear project fact gullibl taken leaver desper posit spin',\n",
       " 'frankiecullen nicholastyron farmer welsh scot northern english farmer depend smaller eu subsidi larg brexit part success campaign lie leav told campaign led folk still believ farmer want brexit isnt true',\n",
       " 'mr dyson think sucker fruit farmer scotland put huge invest farm farm produc high qualiti fruit brexit meant lack export market lack worker brexit also wide damag trade',\n",
       " 'alanmoor delroymorrison matthewstadlen accord farmer nuf brexit damag british agricultur erect trade barrier ntb',\n",
       " 'mani peopl includ busi owner farmer brexit disast poll indic british peopl think brexit mistak httpstco px f np',\n",
       " 'brexitshambl told farmer httpstcox nxh gwpx',\n",
       " 'latest updat sunlit upland farmer england paid govern flagship postbrexit naturefriendli agricultur scheme last year httpstco j vtbpwe',\n",
       " 'issu isnt mani farmer paid payment rate sfi unten low whatev pro amp con elm that what go kill scheme mani smaller farm httpstcoo gsdprn f',\n",
       " 'mani peopl includ busi owner farmer brexit disast poll indic british peopl think brexit mistak httpstcoosmnq uzp',\n",
       " 'duncan must farmer andor fishermen twitter stand say still receiv money brexit sure',\n",
       " 'privat sector come mitig carbon footprint whilst help farmer farm sustain rewildingsustainablefarmingfarmingfornaturereducecarbonfootprinthelpbiodivers httpstcoh mvte x',\n",
       " 'posit farmer vote brexit fool httpstcoi klwmxbv',\n",
       " 'ndwilliam paulemberi putin caus mass instabl make brexit look like minor rippl pleas note longer fund frencheu farmer',\n",
       " 'good report miss obviou question affect farmer vote make differ someon victim culprit httpstcok frnqxcyc',\n",
       " 'commer stroke erdo mean nfu report ye meant nfu let guess fame area live full brexit vote never better farmer whose field full brexit vote exambul drive crop picker',\n",
       " 'conspost meanwhil real world httpstcolu v yf',\n",
       " 'anyon honestli think farmer would better lose common agricultur polici brexit short read httpstcoh auv v',\n",
       " 'ukip campaign rejoin eu real solut way got rid forrin use pick produc want us buy go get field us huh httpstco xs rzi de',\n",
       " 'brexit farm benefit toryli anyon surpris guardian farmer paid postbrexit farm scheme last year httpstcowzarevnnxd via googlenew',\n",
       " 'take back control look farmer paid postbrexit farm scheme last year httpstcosm ohw gwh',\n",
       " 'waltjack sainsburi tesco garethwynjon farmersweekli farmersguardian scottishfarm nfutweet natsheep bbcneandcumbria farminguk thefarmingforum bbcfarmingtoday well done farmer vote brexitenjoy even cheaper produc side globe regardless food standard',\n",
       " 'bigscrab httpstcocd dokytn sympathi farmer vote brexit like fish industri vote wreck entir economi rest us thought would get rich sod deserv noth',\n",
       " 'two year sinc brexitr futur mountain sheepfarm full econom precar lost unfett access nearest export market face reduct subsidi disadvantag eu traded australianz httpstcoufl edq g',\n",
       " 'kilsal bbreathnach incorrect everyon sourc seed potato scotland use grow potato use mostli seed sort store dark hous keep sprout earli also know farmer sourc seed roi beyond brexit problem',\n",
       " 'penhaphi iamundertow orchardgirluk paulbennison mitchbenn femi sorri nicholastyron deborahmeaden delud deal better beforevast major roll over georg useless came clean shite ausnz deal brit farmer good thing claus allow cancel wordsth obr say brexit knock economi',\n",
       " 'claudiawebb julesbrown wonder claudia apologis true dastardli fascist rampag entitl brexit blindfold ideolog wreckingbal proport bankrupt thousand sme farmer fruiter etc hybrid pm occupi headspac like',\n",
       " 'kilsal hear vote actual mean didnt farmer union support brexit actual eu farm grant replac wale ni two got lot eu put alway baffl wale vote real headscratch',\n",
       " 'john brexit market access growth driver john one invest logist social polit mess despit fact provid chicken kfc mongolia best brexit offer httpstcothemglzrnv',\n",
       " 'hanesyddiaeth colinelv mfletchertim alexandracairn could without see leav campaign first leav sold brexit british peopl lost fom new trade deal econom insignific farmer fishermen suffer vote would need nd vote',\n",
       " 'earli daysclearli huge work get elm move big time httpstcop jhzccnkp',\n",
       " 'madeinni jamiebrysoncpni talk cap defend hmg brexit there noth prevent govt give less money farmer inde subsid farm voter decid',\n",
       " 'ive heard farmer say industri less chuck bu httpstcoczfskipgti',\n",
       " 'mattymusgrov burnsid donald haggi uk thank repli there much unwrap one question busi export farmer etc said brexit would caus extra red tape less made believ leav campaign',\n",
       " 'brexit disast farmer lisaocarrol factcheck call ecolog benefit hill graze ecologist compar risk wildfir flood risk downstream enorm mention methan amp biodivers disast httpstco fbr dhzd',\n",
       " 'two year sinc uk quit eu futur mountain sheepfarm full econom precar lost unfett access nearest export market face reduct farm subsidi result loss common agricultur polici cap httpstcoy podbwt',\n",
       " 'brexit benefit farmer see neg there way dress trade deal good thing ive heard farmer say industri less chuck bu brexitr brexithasfail httpstcoh ymv nr',\n",
       " 'brexit govern said give farmer first time year chanc thing differ ian rickman farm wale ive heard farmer say industri less chuck bu httpstcoacvhjldlqn',\n",
       " 'palebd hill farm like uk farm reli subsidi keep go chang post brexit realiti mean fund slash howev chang must take place farmer amp commun part amp parcel chang',\n",
       " 'per farm help bribg back biodivers environment improv farm doesnt sound great help time live today postbrexit farm payment littl late say nfu httpstcorczjulbsdu',\n",
       " 'farmer need new product cope climat chang fish brexit opportun end unsatisfactori haul',\n",
       " 'lost unfett access nearest export market face reduct farm subsidi disadvantag trade deal give access uk market rival farmer australia new zealand httpstcoyioxf ukdv brexit brexitr',\n",
       " 'greg hand great news brexit bonu farmer go troubl export pork korea bring million year cover greg hand expens claim brexit utter stupid level continu entertain someth laugh httpstcoialia',\n",
       " 'none follow includ rich sunak top prioriti energi educ social care homeless childcarenh total collaps farmersfish real biggi crock shit brexit httpstcojp jaavewb',\n",
       " 'top stori postbrexit farm payment littl late say nfu farm guardian httpstcopiqdkrxcyn see httpstcorav oebhb',\n",
       " 'bestforbritain australian new zealand trade deal disast british livestock farmer believ brexit lie vote bullshit bowi illustr low nation sunk',\n",
       " 'brexit support climat chang deni antimask antilockdown lover rape joke julia hartleybrew one opinion tv amp radio hack seem sole purpos life rage farmer want spread divis hatrhttpstcom fhbipbeg',\n",
       " 'ivor park fin mart gbnew your total delud end fishermen farmer export manufactur hospit airlin financi servic pharma hit brexit yet cant see keep chang goalpost mate',\n",
       " 'jimdixonwrit jimfromoldham horton offici uklabour import uklabour arent afraid food amp farmer farm fcked conserv amp brexit nfutweet good advisor landworkersuk uksustain ofgorgan soilassoci tenantfarm amp other essenti voic',\n",
       " 'harvest time uk unleash power gene edit cameron english brexit place england posit breakaway eu archaic vision biotech sustain profit futur english farmer iealondon httpstcoiszsmhvszw httpstcoyyvxvnkkbl',\n",
       " 'elm havent seen full pictur amp dont know sit jigsaw farmerjak reflect lack info nevermind low farmer actual paid new scheme per report today add worri lack progress postbrexit food secur',\n",
       " 'tractorgirli thesnp scotland nation vote brexit farm amp fish industri lie given fals promis uk govt awar mani farmersfishermen work lose livelihood brexit',\n",
       " 'rob kimbel leaver campaign promis singl market access would maintain environment food safeti standard would posit grow superb trade deal new deal disastr farmer standard one vote horrend brexit httpstcoi wd ufva',\n",
       " 'good see elm still flagship polici cpre think need ambiti clear well fund deliv farmer peopl naturepostbrexit farm payment littl late say nfu httpstcoxz mfsdkqk',\n",
       " 'mani racist keyboard warrior would gut tell face face think without immigr countri would fail financi check nh social servic farmer lost mani co brexit httpstcovzg uuzelf',\n",
       " 'nicholastyron brexit disast plan well would want import beef halfway around world australia could deal european neighbour farmer',\n",
       " 'syniadau gwych ond dim gobaith gwerthu orennau fesul cai gwsmeriaid du oherwydd brexit httpstcodtpnwdceun',\n",
       " 'johngil promarinternat keynotespeak beefday bcbc give insight soft fruit industri lesson might livestock farmer amp opportun post brexit amp post covid book amp join us httpstcoot f e fbt beinspir teambeef httpstcoyr jaqqxv',\n",
       " 'pledg postbrexit overhaul regul come execut worri reform eu law go far run money farmer fight surviv ukrain',\n",
       " 'much farmer still get grant eu yet anoth brexit lie voter bought httpstcoasy uskof',\n",
       " 'pledg full rang replac support place would work whether common upland farmer small famili farm common wow britain realli stuck th centuri httpstco jepewbzrd',\n",
       " 'stun fuck upbi peopl get fuck httpstcojg hfeyzl',\n",
       " 'paulbernaluk cjcfaulkner britcit condit affect tori mismanag also loss trade etc due brexit farmer fish industri etc turn thing around way join cu sm would honest fom price',\n",
       " 'samfr inevit well move closer eu success come present patriot gestur new brexit deal help british farmer british fishermen british busi british musician make new opportun',\n",
       " 'lisaocarrol beg pardon appl pear would potato finest lincolnshir field sheep welsh moor absolut idea plank chose one sure prove geniu take sheep farm httpstcokl fn k',\n",
       " 'brexit disast uk farmer eu farm subsidi amp easi access eu export market undercut trade deal give access uk market rival farmer australia nz etc tori lie farmer amp worsen uk depend oversea food httpstco yqw ig',\n",
       " 'jtstar bolddigg brexit hasnt implement full weak leader right bori onward could support farmer exampl move toward self suffici food fisheri abandon border control non exist',\n",
       " 'yvothihai fcdogovuk nh die dwp kill disabl peopl amp mental problem cut benefit homeless die street keep ton migrant hotel everyth free cant f protect border local farmer f caus work forceuk want brexit',\n",
       " 'top stori see neg uk farmer brexit lose common agricultur polici brexit guardian httpstcoi x zievl see httpstcokxh dt whj',\n",
       " 'top stori see neg uk farmer brexit lose common agricultur polici brexit guardian httpstco xf ay see httpstco msbblvaxg',\n",
       " 'horton offici fionaharvey report farmer paid postbrexit sfi cleanenergyproject allevi financi stress farmer face provid secur longterm revenu parallel tradit practic httpstco k ykwfpv',\n",
       " 'top stori see neg uk farmer brexit lose common agricultur polici brexit guardian httpstcofq ufo mha see httpstcoinywxu xh',\n",
       " 'chrisgreybrexit mani farmer support brexit hard understand fail predict lose cap subsidi im alway stun peopl dont understand busi',\n",
       " 'ggriffithsbrown morris httpstcocsvbcrcyt interest read franc suppli half million tonn beet sugar uk prior brexit local beet farmer turn away crop due higher product cost lower yield',\n",
       " 'nornirishbrit jamiebrysoncpni sjamcbrid omg actual agre sw england farmer fishermen busi serious affect brexit struggl despit mp reesmogg propaganda would relish protocol system born pool via yougov organis',\n",
       " 'see neg uk farmer brexit lose common agricultur polici there way dress trade deal good thing ive heard farmer say industri less chuck bu httpstcomjdfpxbrw',\n",
       " 'waltjack sainsburi tesco garethwynjon farmersweekli farmersguardian scottishfarm nfutweet natsheep bbcneandcumbria farminguk thefarmingforum bbcfarmingtoday nz lamb sold uk year noth new realiti import inabl sell uk good other post brexit isnt farmer problem uk busi problem address caus symptom',\n",
       " 'wasnt brexit suppos fix like suppos rais salari make farmer fisher richer boost uk economyi like brexit noth fix stuff brexit got scam big time httpstcoft jnosym',\n",
       " 'show govern let farmer without payment thousand famili farmer go busi conserv minist must halt phaseout bp elm roll full open everyon httpstcohbxktazyn',\n",
       " 'samanthajoost brexit sham poll time farmer weekli show farmer favour leav gener popul given margin error mani case landown erect leav sign doesnt mean farmer agre',\n",
       " 'maryriddel wonder mani farmer group bemoan predict impact brexit vote',\n",
       " 'terraorbust painterwrit jpthrough easier sell insid singl market uk geograph conveni member ni remain conveni gb irish farmer continu sell produc within sm thank increas direct ship suppli gap creat brexit',\n",
       " 'jhammond writesbright brexit certainli main issu mani nh staff left brexit stori farmer cri theyv got one pick fruit amp veg due brexit xenophobia drove eu migrant worker uk',\n",
       " 'searedsha u silli tart peopl like u made brexit happentrump winnearli win againbrazil trumpitali sweden go right wingeastern europ right wingl pen franc touch call peopl bad name ur sooo full manur farmer r run short',\n",
       " 'kedg brexit deregul privatis massiv profit poverti mani anyon feel better brexit empti promis jam tomorrow usual american trade deal australian nz deal screw farmer feel con',\n",
       " 'see neg uk farmer brexit lose common agricultur polici httpstcoyfx xueowz wealthi want minimis tax brexit disast without posit',\n",
       " 'disruptordavi bydonkey talk local farmer one ive spoken littl impact defra still provid grant rather turn everi neg result brexit tri look posit good doom gloom',\n",
       " 'mabonapgwynfor plaid cymru turkey vote christma upset christma came zero sympathi farmer vote brexit clearli told would happen span back project fear sod',\n",
       " 'chevington though frequent said farmer vote brexit actual seem around farmer vote brexit base sever poll june similar proport uk whole nfu campaign remain ref',\n",
       " 'jonsopel yeah your look downsid brexit your like peopl point understaf nh due eu citizen leav uk drone food rot farmer field due eu worker left',\n",
       " 'evid averag brit farmer didnt understand full implic brexit loss market access associ cost play outsid didnt fight httpstcozjtpbjxtjt',\n",
       " 'bsambrook jjinuk spectat pretti simpl im train negoti uk gave get fast deal hurt uk farmer pleas ignor gammon negoti useless real negoti wouldnt touch brexit bargepol loselos',\n",
       " 'farmer paid postbrexit farm scheme last year tori incompet dishonesti high hesit piss tradit rural constitu think peasant httpstcoqebkc dbz',\n",
       " 'brexit dan terryreintk see disast fishermen unabl sell catch farmer sold good friday agreement trash northern ireland area uk prosper still singl market',\n",
       " 'that call realli shaft appear big support brexit vote lost incompet tori govt httpstcolhqm g ewp',\n",
       " 'bendooley waltjack sainsburi tesco garethwynjon farmersweekli farmersguardian scottishfarm nfutweet natsheep bbcneandcumbria farminguk thefarmingforum bbcfarmingtoday oh realli havent situat govern desper trade deal legitimis brexitthat food side world much cheaper food farm next door still doesnt explain mani farmer vote leav mad',\n",
       " 'normsk bbcnew arent illeg plenti job brit wont ask farmer burn crop huge problem recruit cater care home thank brexit shame day age peopl like still ignor view',\n",
       " 'jamescleverli kemibadenoch tradegovuk ignor utterli real worri british farmer eg welsh sheep farmer brexit disastr goal httpstcotu sdtb xr',\n",
       " 'british farmer yet fail conserv govern lot farmer north shropshir struggl keep busi aliv depriv money entitl farmer deserv better httpstcosotgq',\n",
       " 'british farmer need abl compet level play field europ afield ironi brexit isnt level play field eu rest world rather make wors uk farmer httpstco aw p obgd',\n",
       " 'food thought brexit see neg uk farmer brexit lose common agricultur polici httpstcojtpezfxk',\n",
       " 'brugesgroup left eu rd countri henc treat rd countri brexit meant well meant anyon capabl thought neither german car industri french farmer rode rescu mess nobodi els btw fund',\n",
       " 'farmer paid postbrexit farm scheme last year httpstcoiv kxxfsrk',\n",
       " 'farmer paid postbrexit farm scheme last year httpstcot sti btn',\n",
       " 'govt meet minimum servic level farmer paid postbrexit farm scheme last year httpstcoqdwtqh hbp',\n",
       " 'farmer paid postbrexit farm scheme last year httpstcocqw v nt',\n",
       " 'httpstcowkl pirkvk',\n",
       " 'bbcfarmingtoday bbcradio oxford farm confer discuss uk farmer worri found farmer whose worri divers farmer climat chang yield labour brexit fund grant etc divers cours dideveri time',\n",
       " 'brexit broke britain brexitbrokebritain brexitshambl torycostofgreedcrisi brexitrecess brexitwastreasonrejoineu toriesout generalelect nhsonlifesupport httpstco fxuy af',\n",
       " 'cairnsalistair garymcleft arron bank farmer england paid govern flagship postbrexit naturefriendli agricultur scheme last year leak figur show tini fraction farm receiv payment sfi govern plan replac eu farm subsidi',\n",
       " 'farmer paid postbrexit subsidi last year brexithasfail httpstcokgdbnmimoy',\n",
       " 'brexit dividend farmer leav loyalti httpstco sfkwhoegq',\n",
       " 'farmer paid postbrexit farm scheme last year httpstcou fcivpcox',\n",
       " 'farmer paid postbrexit farm scheme last year httpstco uh rg guardian',\n",
       " 'uk farmer lost unfett access nearest export market reduct farm subsidi disadvantag trade deal give access uk market rival farmer au amp nz brexitbrokebritain brexitisntwork httpstcoalbtdhskv',\n",
       " 'farmer paid postbrexit farm scheme last year httpstcokxx r dlxf',\n",
       " 'brexit farm brexit lie british farmer despair truth brexit tmld news conservativeparti conserv httpstcoiufuz r ov via youtub',\n",
       " 'key point gutoaberconwi former tori mp minist theresa may govern view brexit shaft farmer wale imagin hed open impact httpstco yubp lwqj',\n",
       " 'farmer paid postbrexit farm scheme last year httpstconxk k x k',\n",
       " 'brexit benefit sunlit upland anyon farmer paid postbrexit farm scheme last year httpstcocfqnrj bs',\n",
       " 'brexit sham farmer left',\n",
       " 'truli could make httpstcoywx ecqwx',\n",
       " 'farmer paid postbrexit farm scheme last year httpstcoyjarmthcfj httpstco szxega',\n",
       " 'httpstcobhnfqpyssv',\n",
       " 'johnredwood brexit take back control result lost control uk knee economi downward spiral bn year lost revenu migrant worker left leav farmer fight surviv nh brink medic staff doctor left',\n",
       " 'lbc mrjamesob lisanandi brexit benefit thatll discuss httpstcoi p wpk',\n",
       " 'farmer england paid govern flagship postbrexit naturefriendli agricultur scheme last year seem tini fraction farm receiv payment sfi part conserv plan replac eu farm subsidi httpstcocwc jtkzv',\n",
       " 'brexit benefit uk farmer protect enhanc environ receiv increas payment httpstco sp na',\n",
       " 'ms batter warn believ johnson told look farm httpstcopfjuzyjkf',\n",
       " 'acgrayl rt nicholastyron britain leav eu farm subsid ringfenc fact increas payment given longer pay eu budget basic payment farmer slash postbrexit c httpstco imzgrba',\n",
       " 'uk boost payment farmer low uptak postbrexit scheme httpstco umhgfdmjw',\n",
       " 'brexitbrokebritain brexithasfail httpstcoldtkdb c',\n",
       " 'farmer paid postbrexit farm scheme last year farm guardian httpstcobtui ahyqm',\n",
       " 'uk boost payment farmer low uptak postbrexit scheme httpstcomdj zkinkj sourceeditor',\n",
       " 'farmer paid postbrexit farm scheme last year httpstcolnpxm nnt',\n",
       " 'guardian farmer paid postbrexit farm scheme last year httpstcozh xoizj n',\n",
       " 'yet anoth benefit brexit httpstcokh fklzha',\n",
       " 'lisaocarrol none surpris farmer moan warn impact brexit would farm still vote action consequ',\n",
       " 'conspost farmer sinc brexit',\n",
       " 'farmer england paid last year govern flagship post brexit naturefriendli agricultur scheme sustain farm incent sfi part tori plan replac eu farm subsidi httpstco xokbqadcx',\n",
       " 'farmer paid england postbrexit farm scheme last year httpstcohzqjmhfbq',\n",
       " 'farmer receiv addit payment k year protect natur amp environ govern chang postbrexit subsidi agricultur increas payment come environment land manag scheme elm httpstcolt fsb ad',\n",
       " 'farmer paid postbrexit farm scheme last year httpstconyqln gm p',\n",
       " 'brexitbenefit httpstcowdm vi fp',\n",
       " 'fantasi starmer claim labour give commun trust power control realiti major labour member along busi farmer fishermen car manufactur two countri ni amp scotland want revers brexit starmer ignor',\n",
       " 'httpstco u dnx p seem buyer remors sting like bugger',\n",
       " 'farmer paid postbrexit farm scheme last year httpstcoczpqsvaowb',\n",
       " 'brexit farmer elm httpstcovsvvjnrot',\n",
       " 'could possibl predict happen httpstcoklpsedlbf',\n",
       " 'reec dinsdal onesat russian influenc brexit vote amp cambridg analytica lie year ridicul turkey farmer worker across nh amp rail network take wage seek demonis work brit parti tori croni shoreourtax',\n",
       " 'farmer paid postbrexit farm scheme last year httpstcoitzbwxuyf',\n",
       " 'emilykerr orfc see also httpstco zpglpvr',\n",
       " 'philipstephen auto goal mani vote brexit regret didnt understand consequ basic vote keep immigr farmer vote brexit bemoan fact eu subsidi stop shortag migrant labour',\n",
       " 'waltjack destinysharl sainsburi tesco garethwynjon farmersweekli farmersguardian scottishfarm nfutweet natsheep bbcneandcumbria farminguk thefarmingforum bbcfarmingtoday brexit benefit farmer vote liz truss trade deal nevervoteconserv',\n",
       " 'httpstcozrfqwa rr',\n",
       " 'brexitshambl brexithasfail brexitwasbasedonli brexitisnotwork shouldhavestayedineurop supporttheprotocol partitionhasfail farmer paid postbrexit farm scheme last year httpstcoun zxptsw',\n",
       " 'httpstcohzsvagb p',\n",
       " 'bbcnewsnight greenwash brexit wildcapit disastercapit torycriminalsunfittogovern asset strip countri nfutweet savebritishfood farmer gazump privat equiti firm dailymirror httpstcotpuxtoizlh via itvx',\n",
       " 'httpstcoimxegqugv',\n",
       " 'farmer paid postbrexit farm scheme last year httpstcodjtlvmotzm',\n",
       " 'farmer paid postbrexit farm scheme last year farm guardian httpstcoehdrra lk',\n",
       " 'farmer paid postbrexit farm scheme last year farm httpstcoojoxzhfehg',\n",
       " 'farmer paid postbrexit farm scheme last year brexithasfail httpstcollx aupeaa',\n",
       " 'farmer paid postbrexit farm scheme last year httpstcofefyvgf ld',\n",
       " 'anoth brexit benefit httpstcojjafckjj',\n",
       " 'httpstcodpugngtfdi',\n",
       " 'httpstco hn torycorrupt brexitcarnag',\n",
       " 'httpstcoz gto rnyf',\n",
       " 'farmer paid postbrexit farm scheme last year httpstcobnbcckoevr',\n",
       " 'httpstcoe dwzyhhmf',\n",
       " 'project fear meet project realiti httpstco chyvkhjfv',\n",
       " 'farmer paid postbrexit farm scheme last year httpstcomrj yi vbn',\n",
       " 'farmer paid postbrexit farm scheme last year httpstcoxafgemkhxj exclus leak figur show tini fraction england farm receiv payment sustain farm incent httpstcoitjtgujypf',\n",
       " 'shame farmer vote brexit httpstcoipfcdackaq',\n",
       " 'katebattrick piti fishermen thought farag friend believ brexit rhetor nfutweet recommend stay eu eu referendum nation farmer union back stay eu httpstcouimajw xz',\n",
       " 'farmer paid postbrexit farm scheme last year httpstcoafpfl qm h',\n",
       " 'nicholastyron pleas buy british produc farm product possibl farmer fuck us vote brexit give deserv payback',\n",
       " 'sir jame dyson respond articl brexit farm invest famili farm dwarf cap receipt say httpstcoylq tlcldk brexit provid freedom devis subsidi regim replac eu flaw cap payment httpstcotcshsap w',\n",
       " 'morn leav voter penni drop yet brexit fail rejoineu httpstcohyuvobyw p',\n",
       " 'farmer paid postbrexit farm scheme last year httpstcoyyua sozxk',\n",
       " 'farmer paid postbrexit farm scheme last year httpstco v u w ni',\n",
       " 'httpstcovpqibik mc',\n",
       " 'brexit realiti brexitbrokebritain httpstcom mcwzi ng',\n",
       " 'nfutweet comment farmer paid postbrexit farm scheme last year httpstcomhxcmqfv',\n",
       " 'farmer paid postbrexit farm scheme last year exclus leak figur show tini fraction england farm receiv payment sustain farm incent via guardian httpstcockjqk gi',\n",
       " 'farmer paid postbrexit farm scheme last httpstcohx uimufdm',\n",
       " 'farmer paid postbrexit farm scheme last year httpstco zhlrhp',\n",
       " 'brexitnewstv barbaranic nigel farag httpstcoyugqmhkbvf brexitdisast',\n",
       " 'farmer paid postbrexit farm scheme last year httpstcohkdt h qdo',\n",
       " 'farmer paid postbrexit farm scheme last year httpstcou pmaaj hp',\n",
       " 'farmer paid postbrexit farm scheme last year httpstcopbelvfvrqh',\n",
       " 'httpstconexixoyhzg',\n",
       " 'guardian farmer paid postbrexit farm scheme last year httpstcoiupx tffsu via googlenew',\n",
       " 'farmer paid postbrexit farm scheme last year httpstcob kzofqgsu',\n",
       " 'httpstco cjwygt ej',\n",
       " 'farmer paid postbrexit farm scheme last year httpstcon fm db',\n",
       " 'mani hopeless convers farmer feel noth anguish mani vote silli silli peopl httpstcodywmljkdcj',\n",
       " 'farmer face precari futur loss cap httpstcojlhzpthgrl',\n",
       " 'farmer paid postbrexit farm scheme last year leak figur show tini fraction england farm receiv payment sustain farm incent httpstcovtqfdhvtfn',\n",
       " 'farmer paid postbrexit farm scheme last year httpstcoy gsb g ym',\n",
       " 'httpstcojser comlr',\n",
       " 'farmer paid postbrexit farm scheme last year brexit bonanza rejoineu httpstcof rlktllyw',\n",
       " 'farmer paid postbrexit farm scheme last year httpstcotcz li uz',\n",
       " 'ukip farmer nfustweet nfutweet say ukip brexit say brexshit cluster fked farm export eu hypocrit wker',\n",
       " 'brexit seem work thenjust farmer paid postbrexit farm scheme last year httpstco ktr gkuso',\n",
       " 'farmer paid postbrexit farm scheme last year httpstcob zaiweafp',\n",
       " 'farmer paid postbrexit farm scheme last year httpstcomkiblpubqg',\n",
       " 'farmer paid postbrexit farm scheme last year httpstco obk',\n",
       " 'farmer paid postbrexit farm scheme last year httpstcocxpytohyyc',\n",
       " 'gorbalsgoebbel mehercl jeanmcclung gordonross materi constitut chang came quicker anticip tri keep evel brexit scottish farmer deni final cap fund intern market act uncrc incorpor scotland bill unconstitut challeng westminst',\n",
       " 'tri tell httpstcoihehjo uqb',\n",
       " 'downingstreet rishisunak pm uk power king gave power brexit ireland franc emanul run control uk trader even fish boat sea lock uk hungri farmer grain cost st sale uk farmer decid',\n",
       " 'farmer paid postbrexit farm scheme last year httpstconhxhlspek brexitcarnag',\n",
       " 'farmer paid postbrexit farm scheme last year httpstcou fa rlu',\n",
       " 'farmer paid postbrexit farm scheme last year httpstcoq icaftr',\n",
       " 'farmer face precari futur loss cap httpstcovd aqh kzl',\n",
       " 'scottori pleas remind us threw farmer brexit bu',\n",
       " 'defra spokesperson said interest farmer food produc prioriti trade polici trade deal deliv negoti continu support farmer httpstcokm voyojek food farm agricultur brexit globaltrad',\n",
       " 'ukip httpstcolhf urqwhj',\n",
       " 'think eu benefit fishermen farmer your stand queue holidaymak european custom checkpoint thank brexit wait scottishindepend join croatia',\n",
       " 'httpstcoetelgc ie',\n",
       " 'andrewrtdavi id rather discuss eu cap payment think farmer claim give back taxpay brexit done',\n",
       " 'nigel farag year ago mainstream media made histor error give platform benefit brexit man street farmer fishermen nh pleas give answer sir',\n",
       " 'veldhorst w httpstcohir fy ulm',\n",
       " 'brexit led trade deal australia shaft farmer dont support farmer httpstconga cjxzsz',\n",
       " 'tori taxfraud brexshit parasitevermin break httpstcoyhdocy mh',\n",
       " 'chrischapmanart donmaico sophielouisecc httpstco xpej vqb',\n",
       " 'httpstco kiq kvr',\n",
       " 'rupertmy farmer put pro brexit sign field might chang mind',\n",
       " 'sidboggl kimwalm deborahmeaden farmer hospit industri taxi compani courier servic nh construct industri everi industri involv manual labour hold brexit say felt benefit think',\n",
       " 'brexit brexitr scotland scotref indyref httpstcoymhdqxyurv',\n",
       " 'ukip ukip led brexit definit side farmer enemi',\n",
       " 'robert farmer vote brexit vast number',\n",
       " 'httpstconceboenkrx',\n",
       " 'edwdpric macalbatross beerg paul might think articl titl bit mislead farmer vote leav seem similar share rural counterpart englandwithoutlondon vote leav point margin httpstco yrfqtit httpstconarng k ya',\n",
       " 'farmer paid postbrexit farm scheme last year httpstcoyrnhc fdw',\n",
       " 'httpstco wpfiyk u httpstcocunewyzqw',\n",
       " 'farmer england paid govern flagship postbrexit naturefriendli agricultur scheme last year httpstco vmpf fey',\n",
       " 'farmer paid postbrexit farm scheme last year httpstcoluyx ddph',\n",
       " 'rand mb tsuk oh well brexit vote farmer suck way',\n",
       " 'wow gaze upon sunlit upland brexshit farmer paid postbrexit farm scheme last year httpstcogvbhg bfzl',\n",
       " 'donnachadhmc georgemonbiot guardian dpcarrington damiengayl gow derek one hope brexit payment farmer cut use protect environ sheep farm protect environ',\n",
       " 'cynfab markchopharri petergriffinuk nicholastyron exactli jacob william reesmogg ilk didnt advoc favor brexit order subsidi british farmer deregul singapor thame go nirvana small local farmer wealthi land owner unscrupul hedg fund',\n",
       " 'farmer paid postbrexit farm scheme last year httpstcohqiuwtctyf',\n",
       " 'ukip brexit look like side eu aussi farmer',\n",
       " 'httpstcofg znsz',\n",
       " 'farmer paid postbrexit farm scheme last year httpstcothhzt xgj',\n",
       " 'leak figur show tini fraction england farm receiv payment sustain farm incent farmer england paid govern flagship postbrexit naturefriendli agricultur scheme last year httpstconqtsxyuwca',\n",
       " 'farmer paid postbrexit farm scheme last year httpstcoqjokomgrxw',\n",
       " 'farmer paid postbrexit farm scheme last year agricultur httpstconaepmluvfi',\n",
       " 'httpstcojj r ikr',\n",
       " 'man dieser brexit war wohl doch ein genial schachzug httpstcoykmygrwimi',\n",
       " 'kerryannewild bydonkey loss cap local farm impact increas equip replac part impact along shortag delay mayb tri talk farmer local issu brexit caus sector',\n",
       " 'alanrei terrasea robscarlufc philipstephen yeah unless farmer instanc hope bankrupt farmer vote brexit httpstcool l uccsd',\n",
       " 'brexit friend uk farm httpstcoxez ecgsoh',\n",
       " 'r today httpstcob xxg j g',\n",
       " 'project fear spell twitter leadup brexit httpstcojyj e iqj',\n",
       " 'httpstcogeqfoq kc',\n",
       " 'farmer paid postbrexit farm scheme last year httpstco sv giosuz',\n",
       " 'farmer reap brexit benefit must grate vote leav brexitshambl httpstcooc hma hgb',\n",
       " 'laurak ziggi billohara untru farmer constitu miss impact brexit',\n",
       " 'farmer paid postbrexit farm scheme last year httpstcokd djeo z',\n",
       " 'farmer paid postbrexit farm scheme last year farm httpstcoihd jxvaab',\n",
       " 'farmer paid postbrexit farm scheme last year httpstcoqhi zhhub',\n",
       " 'farmer paid postbrexit farm scheme last year farm guardian grow pie said grow grain might help doh pe brexit innit httpstcowweai ewhm',\n",
       " 'farmer paid postbrexit farm scheme last year httpstcoum bj juzq',\n",
       " 'farmer paid postbrexit farm scheme last year httpstcoprmrnuao',\n",
       " 'factsreason somechewlip charli orign cambridg peter mattadkin bellagio bound roblev musicalbounc williamyearnor bogclean fbpe mark david vaporium boomer ish setcondi malchandl wasoncelov bromhom chri cine michael rec petrasp stephen auto rec bot charl sghostbigdog andyfarnel csi munroel shegorthereador thefactroom cuidad adam goosey ruckmalc tomralst thegrimbarian mond wonkypolicywonk boba barcodemark delsbel cathybi adbalfour peter tagliatellla crikeyolson chrisev jennifercoogan paddycakepaddi oppos brexit power self impos trade restrict damag economi farmer amp fish industri plung make import expens loos lucr financi busi eu gener shortag critic worker',\n",
       " 'farmer paid postbrexit farm scheme last year httpstcorzyj n ah',\n",
       " 'farmer paid post brexit farm scheme last year httpstco yzhukvekx',\n",
       " 'bengoldsmith oh yeah report httpstcoeykyycltgd',\n",
       " 'httpstcowlwkaqtt q',\n",
       " 'httpstcoe j noicr',\n",
       " 'nigel farag httpstcovvdasicnhw',\n",
       " 'farmer paid postbrexit subsidi last year httpstcogi vvc j',\n",
       " 'httpstcoav lxzim rejoineu',\n",
       " 'farmer paid postbrexit farm scheme last year brexit opportun eh httpstco nfk wenu',\n",
       " 'httpstcok cfprf fg',\n",
       " 'farmer paid postbrexit farm scheme last year farm guardian httpstcoc nmcqzhqu',\n",
       " 'farmer paid postbrexit farm scheme last year httpstco cio nm',\n",
       " 'leak figur show tini fraction england farm receiv payment postbrexit sustain farm incent brexitcarnag httpstcoo lejr rq',\n",
       " 'farm farmer face precari futur loss cap httpstcotfvn cxgn',\n",
       " 'httpstcod gravtnlm',\n",
       " 'day brexit leak figur show farmer england paid govern postbrexit sustain farm incent sfi last year part govern plan replac eu farm subsidi httpstcokhguja v',\n",
       " 'farmer paid postbrexit farm scheme last year httpstcovaiw khsx',\n",
       " 'httpstcohozpzg uhe httpstcorxh qnzt q',\n",
       " 'farmer paid postbrexit farm scheme last year httpstcoaoif cbfud',\n",
       " 'farmer paid postbrexit farm scheme last year httpstcomlqp gjon davisdownsidedossi yorksbylin',\n",
       " 'farmer paid postbrexit subsidi last year nfupolit nfucountrysid uklabour httpstcofgxsygnngv',\n",
       " 'farmer sold brexit httpstcot l fa aqb',\n",
       " 'agricultur polici tori r today wato bbcpm farmer paid postbrexit farm scheme last year httpstcookdtajttnq',\n",
       " 'farmer paid postbrexit farm scheme last year httpstcosxyoz aon brexitbrokebritain brexitcrimin torybrexitdisast',\n",
       " 'farmer face precari futur loss cap httpstco xfybpkdzu',\n",
       " 'yeah sovereignti httpstcodv nwtzrbw',\n",
       " 'exclus fionaharvey oxford farm confer farmer given post brexit farm payment ofc orfc httpstcolwwn mkguv',\n",
       " 'farmer paid postbrexit farm scheme last year farm guardian httpstcocp gjswxlg',\n",
       " 'conspost threw away bn trade eu weve thrown uk farmer bu sell bottl gin oz unreal brexit benefit',\n",
       " 'waltjack sainsburi tesco garethwynjon farmersweekli farmersguardian scottishfarm nfutweet natsheep bbcneandcumbria farminguk thefarmingforum bbcfarmingtoday farmer vote brexit sunlit upland trade agreement nz etc',\n",
       " 'farmer opt brexit httpstcoipcmvupihc',\n",
       " 'httpstcoixqgyeip',\n",
       " 'brexitr farm trade rishisunak conserv httpstconkntprbrk',\n",
       " 'tori break agricultur consequ offshor anim welfar food safeti standard place like australia nz us instead account uk consum farmer paid postbrexit farm scheme httpstcoivryscnu z',\n",
       " 'helenjerom see well british farmer stori last week httpstcormolr jo w',\n",
       " 'farmer paid postbrexit farm scheme last year httpstcow mdb j',\n",
       " 'httpstcoqcyyhqdlhk',\n",
       " 'brexit disast farmer httpstco kpu id',\n",
       " 'httpstco tmtd wp',\n",
       " 'farmer paid postbrexit farm scheme last year httpstcoeldrykwfyz',\n",
       " 'farmer paid postbrexit farm scheme last year brexit northernireland belfast scotland dup ursulavonderleyen michelbarni davidfrost rishisunak kingcharlesiii eu michaelgov economi ukrain httpstco ucwstf pi',\n",
       " 'farmer paid postbrexit farm scheme last year farm guardian httpstcolerpfwnv h leak figur show tini fraction farm receiv payment sustain farm incent sfi part httpstcoutjlaydieq',\n",
       " 'brexit gift keep take httpstcomok vqhn',\n",
       " 'farmer paid postbrexit farm scheme last year farm guardian httpstcoovltpbl',\n",
       " 'britain leav eu farm subsid ringfenc fact increas payment given longer pay eu budget basic payment farmer slash postbrexit compar eu fund',\n",
       " 'farmer paid postbrexit farm scheme last year exclus leak figur show tini fraction england farm receiv payment sustain farm incent torybrexitdisast httpstcolhijxiknaa',\n",
       " 'farmer paid postbrexit farm scheme last year httpstcojgykztrli',\n",
       " 'farmer paid postbrexit farm scheme last year httpstcoawn aqc ai',\n",
       " 'tim farron liber democrat environ spokesperson said show conserv govern let farmer theyr slash exist payment farmer simpli arent get deserv new system httpstcojjya fkz',\n",
       " 'scottish farm million fund loss cap food expens result see neg uk farmer brexit lose common agricultur polici brexit guardian httpstcoyt xatxof',\n",
       " 'peopl still prepar even hope posit side brexit deceit cognit disson power block ration thought see negativeuk farmer brexit lose common agricultur polici httpstcoqotkrqpqv',\n",
       " 'tori lie amp broken promis tori promis replac eu farm subsidi reneg farmer farmer receiv eu subsidi paid postbrexit farm scheme last yearfar less eu schemehttpstcok qdavw ut',\n",
       " 'terryberit mani farmer blame brexit plight realis enorm mistak theyv made countri suffer utter mad',\n",
       " 'ukip whose busi wreck brexit lose worker lost european custom ah must mean support farmer havent gone bust cling charg higher price one afford brexit',\n",
       " 'see neg uk farmer brexit lose common agricultur polici guardian httpstco f z vah w ecosearch httpstcov wp ft',\n",
       " 'britain deserv better generalelectionn w see neg uk farmer brexit lose common agricultur polici httpstcoioopygdn',\n",
       " 'guardian polit newtop stori see neg uk farmer brexit lose common agricultur polici brexit guardian httpstco u mpsidnm see httpstcofirakwmhwl',\n",
       " 'yet brexit sunlit upland see neg uk farmer brexit lose common agricultur polici httpstco vzjcxktb',\n",
       " 'see neg uk farmer brexit lose common agricultur polici didnt farmer overwhelmingli vote brexit brexitli brexitbrokebritain httpstcoiyo b k',\n",
       " 'euromanc brexit clearli interest initailli bought slogan take back control like farmer fisheremen found vagu confus question got irish unlik us know run referenda',\n",
       " 'cathybi andrewknight limmortal bringiton aintro sbot martin delwatson david wobski gazza brunothebridg conraddkonnrad credacreda david vaporium hwick chri rayjudd bazcart lordgmanilson aclem andrewsibley somechewlip roblev jimbo samanthafoxi stuff funni obohobofromnobo davidmetroland musc esbri chr bot lordoffreedom resiguru iangianni wokewarriorfu leftstanc andrewgarsid suastusa johnrya httpstcoycq lvozqn peopl put headlin one want mock one subtl thing gentli point jayawardena sec state food els would expect highlight obvious financi aspect',\n",
       " 'acgrayl matter marketpublicpriv servic benefit taken either never replac someth far less benefici could never understand farmer back brexit',\n",
       " 'jacob ree mogg utter nonsens brexit simpli deliv claim lie littleengland mental empti promis though bet profit brexit httpstcowv kbrohi',\n",
       " 'nicholastyron uk border forc current strike yet traffic flow dover usual french customsfishermenfarm blockad calai annual basi get gridlock brexit fault would gridlock everi day isnt tell everyth',\n",
       " 'farmer get green brexit dividend minist reveal payment httpstcoaicdo wpij farm minist mark spencer announc extra cash english farmer take naturefriendli step new sustain farm incent sfi',\n",
       " 'tonkerdog spencerdjam darrengrim anyway how list brexit benefit come happen great trade deal usa promis far terribl deal australia put british farmer businessani bonus horizon',\n",
       " 'sid rambl jeffersutd jmpsimor come conclus brexit given free reign diminish right make trade deal disadvantag farmer thing wrong countri result brexit govern choos blame ukrain covid',\n",
       " 'premnsikka piss current situat noth brexit print money oblivion that caus inflat whole financi system chang soon anyway cbdc come cash histori thing wors eu ask dutch farmer',\n",
       " 'see neg uk farmer brexit lose common agricultur polici ive heard farmer say industri less chuck bu httpstcopnelfhvv',\n",
       " 'light articl ive alway wonder european union digit economi polici least par common agricultur polici httpstcodg v mczwx',\n",
       " 'guardian chariti employ struggl due postbrexit fund delay three year johnson elect get brexit done employ farmer chariti still wrestl realiti life outsid eu brexitbrokebritain torybrexitdisast',\n",
       " 'seen recent articl guardian deputi presid ian rickman explain challeng farmer still face due brexit httpstcomnkjpretrl',\n",
       " 'twitchiefsm gbnew seem think thing gone well son everyth hunki dori brexit ask farmer fishermen musician nh worker care worker peopl servic industri brexit go',\n",
       " 'im find hard sympathis farmer although im sure group didnt vote ridicul boondoggl brexit httpstcopdcj fuixw',\n",
       " 'kilsal uk democraci brexit accord lord frost chang uk done fix lord frost believ case plu given limit supran power advantag sell uk farmer trade deal australia nz',\n",
       " 'govt minist answer brexit failur cost uk bn year lost tax revenu uk farmer sell xma pig blanket south korean diner year deal worth wait brexitr couldnt make shit httpstcofbfuggxela',\n",
       " 'basic new fund noth brexit destroy industri countri httpstcoraj xsbr z',\n",
       " 'basic new fund noth brexit destroy industri countri httpstcodyb jdhwn',\n",
       " 'predict time yet english welsh farmer gener seem vote brexit seem surpris outcom see neg uk farmer brexit lose common agricultur polici httpstconhflxlfrxi',\n",
       " 'anoth reason your undecid support independ scottish farmer farm famili decim brexit independ would mean keep high food standard httpstcovzxn weqeg',\n",
       " 'see neg uk farmer brexit lose common agricultur polici mep south west england rural area strong farm constitu tri hard make case sw voter still chose leav eu httpstcoxksumud ar',\n",
       " 'lost unfett access nearest export market face reduct farm subsidi result loss common agricultur polici cap disadvantag trade deal give access uk market rival farmer australia new zealand brexit',\n",
       " 'knew brexit would also disast farmer well everyon thought half second vote brexitbrokebritain gtto httpstcouyuzovp zu',\n",
       " 'sinc brexit uk sign new trade deal two auz amp nz deepli onesid poorli negoti sell british farmer river noth return httpstcobclbrxc ji',\n",
       " 'adrianfarrellat unherd jlewisstempel breixt loon think present futur uk gov go get full blown trade war eu save pig farmer uk farmer theyr delud uk alreadi sold uk farmer australia trade deal pro brexit georg eustic say bad deal',\n",
       " 'richolden even staunch brexit ex tori environ secretari georg eustic farmer think australia deal rubbish bad britain conserv liter work britain shame httpstcoqw rpc pb',\n",
       " 'fact major famer vote favour brexit feel like miss piec crucial context sort articl httpstcotysvj qxfo',\n",
       " 'farmer paid doubl plant hedgerow boost postbrexit green scheme httpstco ytawrt rp',\n",
       " 'robinol tom clark bbcjustinr bbcfoodprog henrydimblebi ffc commiss uksustain nfutweet tomheapmedia jack bobo botanygeek salkinstitut certainli liter bite hand feed us badli mani contempl give httpstcouurlyoanuk',\n",
       " 'jqrsmith snb live south coast remain scare stori dover would choke block lorri tri get happen previou year french farmer blockad calai brexit scare lie remain offer',\n",
       " 'weird one decent advantag brexit eplm scheme british farmer isnt work instead eu payment amount land eu chang anyway farmer would reward look health soil httpstcocskwlsgyez',\n",
       " 'posit neg brexitisacrimescen see neg uk farmer brexit lose common agricultur polici httpstcoxbqifmzhdj',\n",
       " 'surpris see farmer start openli speak damag brexit amp govt trade deal sadli farmer wont surviv combin impact govt brexit cost live econom crise urgent help need httpstcog wolbez',\n",
       " 'big promis usual farm subsidi suppos replac former eu subsidi elig farmer receiv brexit lie short chang usual brexitcarnag httpstcogwz gpkf',\n",
       " 'tumultu year look back farmer hope quiet follow sever year upheav due brexit covid pandem left disappoint abi kay take look back past month httpstcoslzpcqhzot httpstcounrpofijkq',\n",
       " 'norv brexit sham evid vote show farmer like anyon els vote brexit anyway scotland major vote remain',\n",
       " 'ukip liar brexit fuck uk farm want maximum trade barrier eu fuck food export want minimum control food import fuck farm uk exact opposit side brutish farmer',\n",
       " 'rt libdem rt helenmorganmp british farmer yet fail conserv govern lot farmer north shropshir struggl keep busi aliv depriv money entitl fa httpstcow ghxok ey',\n",
       " 'rt libdem rt helenmorganmp british farmer yet fail conserv govern lot farmer north shropshir struggl keep busi aliv depriv money entitl fa httpstcobzm rghoqi',\n",
       " 'case elimin posit accentu neg see neg uk farmer brexit lose common agricultur polici httpstco tkb hjbxr',\n",
       " 'he lost unfett access nearest export market face reduct farm subsidi amp disadvantag trade deal give access uk market rival farmer australia amp nz see neg uk farmer brexit httpstcopxzxvknlrt',\n",
       " 'proscot indi jackiekemp nathanjordan dinna generalisemayb aye averag tori sadli scottish farmer vote brexit read farmer guardian articl back vote brexit reflect scot pop gener unlik fishermen',\n",
       " 'see neg uk farmer brexit lose common agricultur polici third seri look impact brexit trade deal guardian talk farmer difficulti face httpstcoyvwbjum gf',\n",
       " 'see neg uk farmer brexit lose common agricultur polici brexit fail begin httpstcoj vabzkoso',\n",
       " 'cannot see blue sky amp brexit benefit analysi mayb liz lizwebsterld rejoineu rejoin see neg uk farmer brexit lose common agricultur polici httpstcowzn b vd',\n",
       " 'see neg uk farmer brexit lose common agricultur polici farmer fisherman everi day folk britain still wait brexit benefit blue passport imperi measur dont keep heat httpstcoulpzhzxsh',\n",
       " 'pollingreportuk perran crh hope gener public camborn redruth wont con useless eustic rememb hiw screw farmer fishermen brexit lie kick',\n",
       " 'arianna kay bbc one probabl warn govern dissemin neg news let forget happen repres scottish farmer union interview challeng industri answer includ brexit b word later edit',\n",
       " 'threaten presenc farmer pastor keeper land import sheep graze upland keep grass minimis risk climat chang wildfir georgemonbiot seen twaddl httpstcozuwq lstbd',\n",
       " 'peterstefanovi thank god brexit economi save farmer ecstat oh mean million valu year theyr brag',\n",
       " 'postbrexit farm payment littl late say nfu govern fit purpos level noth address coher clear vision befuddl incompet httpstcog r v',\n",
       " 'litani failur farmer paid postbrexit farm scheme last year farmer nfu httpstcofw n hdplv',\n",
       " 'govern doubl payment farmer creat hedgerow increas cash amid slow takeup postbrexit green scheme httpstco f kiugmww',\n",
       " 'iam get sick hear bs brexit take look eu germani fall holland steal land farmer fund war nobodi want shall go remaind wake eu ars stop war peac',\n",
       " 'thank unrel selfserv diet doom gloom serv farm union press opportun miss mental health suffer see neg uk farmer brexit lose common agricultur polici httpstcoaqshytk',\n",
       " 'replac eu disastr common agricultur polici england new system payment environment land manag mean farmer remot landscap paid lead chang inevit end httpstcomz vxz lwx',\n",
       " 'see neg uk farmer brexit lose common agricultur polici httpstcoksmublhpuu',\n",
       " 'see neg uk farmer brexit lose common agricultur polici brexit guardian httpstcogpl tbmun',\n",
       " 'uk farm chuck bu see neg uk farmer brexit lose common agricultur polici httpstcoc lxbfd eh',\n",
       " 'see neg uk farmer brexit lose common agricultur polici httpstcofjhtgghgu',\n",
       " 'see neg uk farmer brexit lose common agricultur polici httpstcovfvvjaku w',\n",
       " 'see neg uk farmer brexit lose common agricultur polici httpstco tn z pt',\n",
       " 'see neg uk farmer brexit lose common agricultur polici httpstcormqnrm szo',\n",
       " 'see neg uk farmer brexit lose common agricultur polici httpstco fz txwdcn',\n",
       " 'see neg uk farmer brexit lose common agricultur polici brexit guardian httpstcocumcp isa',\n",
       " 'see neg uk farmer brexit lose common agricultur polici brexit guardian httpstcov prolsiao',\n",
       " 'see neg uk farmer brexit lose common agricultur polici fbpe rejoineu brexit brexitbrokebritain brexitshambl brexitbritain brexithasfail brexitisntwork brexitdisast httpstcot bjfxmnn',\n",
       " 'see neg uk farmer brexit lose common agricultur polici httpstcokq e nlxtn',\n",
       " 'brexitshambl see neg uk farmer brexit lose common agricultur polici httpstcoy dz mrdn',\n",
       " 'conserv rishisunak jacob ree mogg liamfox see neg uk farmer brexit lose common agricultur polici httpstcorm lun oar',\n",
       " 'see neg uk farmer brexit lose common agricultur polici httpstcoaueioe sji',\n",
       " 'see neg uk farmer brexit lose common agricultur polici httpstcodrbuulbjjg',\n",
       " 'see neg uk farmer brexit lose common agricultur polici httpstcokpo fowqor',\n",
       " 'see neg uk farmer brexit lose common agricultur polici httpstcomcnuxol xu',\n",
       " 'see neg uk farmer brexit lose common agricultur polici berouw komt na de zond landbouw httpstcofofagvaz',\n",
       " 'see neg uk farmer brexit lose common agricultur polici httpstco l va kp',\n",
       " 'see neg uk farmer brexit lose common agricultur polici httpstcoczsbfhrsku',\n",
       " 'see neg uk farmer brexit lose common agricultur polici httpstcofqcpxakipb',\n",
       " 'see neg uk farmer brexit lose common agricultur polici httpstcodymlaaxlsz',\n",
       " 'see neg uk farmer brexit lose common agricultur polici httpstcost xog c l',\n",
       " 'see neg uk farmer brexit lose common agricultur polici httpstcoyrrlwmzzuw',\n",
       " 'see neg uk farmer brexit lose common agricultur polici httpstcoddadudd cf',\n",
       " 'see neg uk farmer brexit lose common agricultur polici httpstcolzrwi n',\n",
       " 'see neg uk farmer brexit lose common agricultur polici httpstcodtswx dsmm',\n",
       " 'haha vote haha see neg uk farmer brexit lose common agricultur polici httpstcoydhej rrpm',\n",
       " 'ironi see neg uk farmer brexit lose common agricultur polici httpstcoqgrixci gm vote oh that righthttpstcogmyy v',\n",
       " 'see neg uk farmer brexit lose common agricultur polici httpstcoskm vmrwe',\n",
       " 'see neg uk farmer brexit lose common agricultur polici brexit httpstcot zm qhg x',\n",
       " 'see neg uk farmer brexit lose common agricultur polici httpstcotjqo bhpu',\n",
       " 'see neg uk farmer brexit lose common agricultur polici brexit guardian httpstcovc mkrz',\n",
       " 'see neg uk farmer brexit lose common agricultur polici httpstcoabqq nv ef',\n",
       " 'see neg uk farmer brexit lose common agricultur polici httpstcoszwyngolrv',\n",
       " 'see neg uk farmer brexit lose common agricultur polici brexit guardian scoopit httpstcomm g ageo brexit agricultur postbrexit costofbrexit traded cap elm subsidi nfutweet',\n",
       " 'see neg uk farmer brexit lose common agricultur polici httpstcoyrzmol',\n",
       " 'see neg uk farmer brexit lose common agricultur polici httpstcod egb wvwq',\n",
       " 'shame guardian ask farmer vote everyon complain ask see neg uk farmer brexit lose common agricultur polici brexit guardian httpstco jw eqlt v',\n",
       " 'see neg uk farmer brexit lose common agricultur polici httpstco flxpi nu',\n",
       " 'see neg uk farmer brexit lose common agricultur polici httpstcouylenr vpi brexitr brexit brexitagricultur',\n",
       " 'see neg uk farmer brexit amp lose common agricultur polici guardian talk farmer difficulti face httpstcoku touakam brexit brexitcarnag brexitr brexitdisast brexitbritain brexitbrokebritain farm',\n",
       " 'see neg uk farmer brexit lose common agricultur polici httpstcoqmuvdjaiji',\n",
       " 'see neg uk farmer brexit lose common agricultur polici httpstcok n zkvtli',\n",
       " 'see neg uk farmer brexit lose common agricultur polici httpstcojtfudd fd',\n",
       " 'see neg uk farmer brexit lose common agricultur polici brexit guardian httpstcoezgkcg ew',\n",
       " 'see neg uk farmer brexit lose common agricultur polici httpstcome zagra',\n",
       " 'see neg uk farmer brexit lose common agricultur polici httpstcoubfykcugsz',\n",
       " 'see neg uk farmer brexit lose common agricultur polici amp thoroughli share percept retweet agreehttpstcowguzoovvmd',\n",
       " 'see neg uk farmer brexit lose common agricultur polici httpstcow ji bhqld',\n",
       " 'see neg uk farmer brexit lose common agricultur polici httpstcosl miuwuqo',\n",
       " 'see neg uk farmer brexit lose common agricultur polici httpstcowu x bd',\n",
       " 'see neg uk farmer brexit lose common agricultur polici httpstco baqv oz',\n",
       " 'see neg uk farmer brexit lose common agricultur polici httpstcolerh pil x',\n",
       " 'see neg uk farmer brexit lose common agricultur polici brexit guardian httpstcoc gzhkixu',\n",
       " 'see neg uk farmer brexit lose common agricultur polici httpstco wmhlam',\n",
       " 'see neg uk farmer brexit lose common agricultur polici httpstcojlblh gfcn',\n",
       " 'see neg uk farmer brexit lose common agricultur polici httpstcosi rti hhm',\n",
       " 'see neg uk farmer brexit lose common agricultur polici httpstcolagzygxfyx',\n",
       " 'see neg uk farmer brexit lose common agricultur polici torybrexitdisast httpstcoaazn cyhgq',\n",
       " 'see neg uk farmer brexit lose common agricultur polici httpstcoymrhidjtd',\n",
       " 'see neg uk farmer brexit lose common agricultur polici httpstcoddexgjbvh still see billboard field',\n",
       " 'see neg uk farmer brexit lose common agricultur polici httpstco cevmwrgf conserv catastroph brexit',\n",
       " 'see neg uk farmer brexit lose common agricultur polici httpstcotrgp ek',\n",
       " 'brexit mean brexit brexidiot see neg uk farmer brexit lose common agricultur polici httpstcopbpb ptx',\n",
       " 'see neg uk farmer brexit lose common agricultur polici httpstcoijymcqnkq',\n",
       " 'see neg uk farmer brexit lose common agricultur polici httpstcohprvlzjn u',\n",
       " 'see neg uk farmer brexit lose common agricultur polici brexit guardian httpstcohvhhct xyb',\n",
       " 'see neg uk farmer brexit lose common agricultur polici ye ask balanc sheet brexit pro con sir bernard jenkin mp begin brexit process thing httpstcozw zspwxvm',\n",
       " 'see neg uk farmer brexit lose common agricultur polici httpstco ljyeahssh',\n",
       " 'see neg uk farmer brexit lose common agricultur polici brexit guardian httpstcoe kcao ik',\n",
       " 'see neg uk farmer brexit lose common agricultur polici httpstco xelgliv g',\n",
       " 'see neg uk farmer brexit lose common agricultur polici httpstcof pivw vvi',\n",
       " 'see neg uk farmer brexit lose common agricultur polici httpstcog uofwiqak',\n",
       " 'see neg uk farmer brexit lose common agricultur polici httpstcoyytjnwvzpf',\n",
       " 'see neg uk farmer brexit lose common agricultur polici brexit guardian httpstcoxrf wmddwm',\n",
       " 'see neg uk farmer brexit lose common agricultur polici httpstcop ahetvxyi',\n",
       " 'see neg uk farmer brexit lose common agricultur polici httpstcoen nchnybj',\n",
       " 'see neg uk farmer brexit lose common agricultur polici httpstcoaukhmdormx',\n",
       " 'see neg uk farmer brexit lose common agricultur polici httpstcobexu aeb',\n",
       " 'see neg uk farmer brexit lose common agricultur polici httpstcosdrqbgsmof',\n",
       " 'see neg uk farmer brexit lose common agricultur polici httpstcofejeuczgsv',\n",
       " 'see neg uk farmer brexit lose common agricultur polici httpstco fy f k',\n",
       " 'jame dyson farm invest dwarf cap payment weve httpstcoaejaxlk mj articl see neg uk farmer brexit lose common ag add highlight httpstco bymk europ polit',\n",
       " 'see neg uk farmer brexit lose common agricultur polici brexit guardian httpstcow edn czm',\n",
       " 'see neg uk farmer brexit lose common agricultur polici httpstco zvpjmrtsw',\n",
       " 'see neg uk farmer brexit lose common agricultur polici httpstcosvdykjziff',\n",
       " 'see neg uk farmer brexit lose common agricultur polici httpstcoctaxufxn',\n",
       " 'see neg uk farmer brexit lose common agricultur polici httpstcofjw ftltc',\n",
       " 'see neg uk farmer brexit lose common agricultur polici httpstcosax dmpg c',\n",
       " 'see neg uk farmer brexit lose common agricultur polici httpstco fq e pidd',\n",
       " 'brexit lie impact brexit farmer plan toryli brexitli see neg uk farmer brexit lose common agricultur polici httpstcolpkjay byy',\n",
       " 'see neg uk farmer brexit lose common agricultur polici httpstcod zxkvcgoa',\n",
       " 'see neg uk farmer brexit lose common agricultur polici brexit guardian httpstcoou z joqzh',\n",
       " 'see neg uk farmer brexit lose common agricultur polici starmer go make brexit work need face realiti torybrexitdisast brexithasfail rejoineu httpstcoerwcfdnhdi',\n",
       " 'see neg uk farmer brexit lose common agricultur polici httpstcopn g qwg',\n",
       " 'see neg uk farmer brexit lose common agricultur polici httpstcorpxdzvnur',\n",
       " 'see neg uk farmer brexit lose common agricultur polici httpstcox jazsyw',\n",
       " 'see neg uk farmer brexit lose common agricultur polici httpstconven jlafa',\n",
       " 'see neg uk farmer brexit lose common agricultur polici httpstcoxmek ymbse uk invest rewild',\n",
       " 'see neg uk farmer brexit lose common agricultur polici httpstcokmtfgnaopj',\n",
       " 'see neg uk farmer brexit lose common agricultur polici httpstcoxqxlfzrtp',\n",
       " 'see neg uk farmer brexit lose common agricultur polici httpstcohzlu ijgm',\n",
       " 'see neg uk farmer brexit lose common agricultur polici httpstcoauoqxkm nn',\n",
       " 'see neg uk farmer brexit lose common agricultur polici httpstcovqdhmsqsd',\n",
       " 'see neg uk farmer brexit lose common agricultur polici httpstco okqhdnllu',\n",
       " 'sow shall reap see neg uk farmer brexit lose common agricultur polici httpstco lzumwwihm',\n",
       " 'markjenkinsonmp conserv deliverno brexit benefitsworld class lie corrupt carousel mp wors one beforepathet trade deal penalis british farmersli environment legislationfailur publicis russia enquiri covid enquiryfailur',\n",
       " 'ukip brexit made thing wors british farmer',\n",
       " 'brexit realli shit httpstcotcbx ke',\n",
       " 'brexit shit httpstco nydbw lf',\n",
       " 'greghand parodi account five year loss eu subsidi push farm profit loss even drop ocean deal nz amp australia made matter wors httpstco eoqemxt',\n",
       " 'shock report show post brexit back sustain farm fantasi like much els tori world farmer suffernatur suffer even time chang httpstcouefbqg c',\n",
       " 'world beat good foodsecur good environ farmer paid postbrexit farm scheme last year httpstcosbbxvaasgu',\n",
       " 'tinpot postbrexit govern face anger farmer reveal farm receiv payment sustain farm incent part conserv govern plan replac eu farm subsidi httpstconc bi z xg',\n",
       " 'scrum atk beckettunit reason arent use farm farm countri way expens farmer sell land solar farm cant make money actual farm mainli caus brexit cut farm subsidi',\n",
       " 'bigkeggi theactofunion mrrcain perhap promot endors brexit take encourag promot brexit ignor busi retail amp farmer across northfail accept anyth hard brexit alien anyon suffer amnesia demand',\n",
       " 'postbrexit farm payment littl late say nfu httpstcor tfdghh x',\n",
       " 'attent bori nigel postbrexit farm payment littl late say nfu httpstcomklq aiwtd',\n",
       " 'postbrexit farm payment littl late say nfu httpstcog svihlhya',\n",
       " 'postbrexit farm payment littl late say nfu farm guardian httpstcoxyp nein',\n",
       " 'postbrexit farm payment littl late say nfu httpstco cw cimkff',\n",
       " 'postbrexit farm payment littl late say nfubori got brexit done includ farmer httpstcoadm v',\n",
       " 'postbrexit farm payment littl late say nfu httpstcojwt zmw g guardian',\n",
       " 'postbrexit farm payment littl late say nfu brexitr brexitbritain httpstcomx nxpz',\n",
       " 'postbrexit gbp farm payment littl late say nfu brexit cash httpstco nvsjpsvsp',\n",
       " 'postbrexit farm payment littl late say nfu httpstcothrirclx h',\n",
       " 'postbrexit farm payment littl late say nfu httpstcou ghbcw pv',\n",
       " 'mimij aw news farmer whilst enorm sympathet lot farmer vote tori support brexit despit nfu advic disast',\n",
       " 'kirkberzerk ssabelu veronicareagan owen whiteley dxw kc genuin sorri brexit work peopl close busi fishermen farmer peopl suffer english exception',\n",
       " 'sure brexit voter hope httpstcomt r v aj',\n",
       " 'brexitshambl ad tori incompet unbeliev scottishindepend httpstcogbjhjacznx',\n",
       " 'farmer advoc brexit id feel like right idiot one bankrupt httpstcomm zxg l',\n",
       " 'postbrexit farm payment littl late say nfu environment cash incent part govern scheme replac eu common agricultur polici httpstco xggbakfx',\n",
       " 'postbrexit farm payment littl late say nation farmer union environment cash incent part uk govern scheme replac eu common agricultur polici httpstcoqt vsqphm',\n",
       " 'postbrexit farm payment littl late say nfu httpstco hmlpoflpb environment cash incent part govern scheme replac eu common agricultur polici farmer receiv addit payment year protect nat',\n",
       " 'catherinerowett nicholastyron that bad side eu bureaucrat overreach guis extend right protect environmentminoritiesfarm that main reason pro brexit',\n",
       " 'stupid never end major parti wholli complicit destruct economi httpstcodxkujov nd',\n",
       " 'johnspringford davidghfrost vigor advoc brexit brexit done disast ask small export ask fish industri ask farmer ask artist ask jewel led nontariff barrier uk largest trade bloc led neg consequ frost',\n",
       " 'see neg uk farmer brexit lose common agricultur polici nfu even warn farmer consequ unfortun didnt stop major farmer vote ditto fisherman httpstco crsrfvi x',\n",
       " 'im farmer know noth industri knew would happen vote brexit didnt hard see farmer vote thought would happen httpstcod io xq co',\n",
       " 'uk farmer blame brexit loss access eu common agricultur polici subsidi httpstcodfeuwaurao',\n",
       " 'erthygl wych lost unfett access nearest export market face reduct farm subsidi result loss common agricultur polici disadvantag trade deal give access uk market rival farmer httpstco eha olb',\n",
       " 'lost unfett access nearest export market face reduct farm subsidi result loss common agricultur polici cap disadvantag trade deal brexit httpstcovd bvx u',\n",
       " 'stop buy garbag man garbag pleas common agricultur polici payment tri support eu farmer keep food afford doesnt support put farm like brexit httpstcogmcwahubvp',\n",
       " 'may lot form fill eu least got money httpstco ybbyaia',\n",
       " 'lost unfett access nearest export market face reduct farm subsidi result loss common agricultur polici amp disadvantag trade deal give access uk market rival farmer oz amp nz brexit httpstcolrrwvvveq',\n",
       " 'see neg uk farmer brexit lose common agricultur polici brexit disast worst abus democraci modern british histori bad tantamount coup undo coup rejoineu httpstcoyyogw ec x',\n",
       " 'nicholastyron highlight anoth benefit brexit countri decid support give farmer support target longer forc fund subsidi non uk farmer',\n",
       " 'lbc aliciakearn ff leav vegan alon problem farmer due brexit corrupt tori vegan',\n",
       " 'tori fail farmer let face govern useless tori tosser farmer paid postbrexit farm scheme last year httpstcoh pommvttm',\n",
       " 'dnrtrae true farmer voter brexit irrelev',\n",
       " 'oof good news sustain httpstcorkdrpxfaji',\n",
       " 'waltjack mikegalsworthi sainsburi tesco garethwynjon farmersweekli farmersguardian scottishfarm nfutweet natsheep bbcneandcumbria farminguk thefarmingforum bbcfarmingtoday yeah farmer campaign brexit fuck em',\n",
       " 'jackiekemp mani scottish farmer went along tori polici brexit strip scotland thebrand beggar belief want scotgov support scotgov need work prevent poor food qualiti shortag lead fewer food choic starvat',\n",
       " 'nicholastyron amen make angri govt would commit trade deal actual make situat wors accord farmer amp know busi pretend brexit plu amp help save worthless skin',\n",
       " 'jackiekemp percentag farmersfinsh vote tori vote brexit feel sorri one didnt',\n",
       " 'find realli difficult get excis mist farmer support brexit nfu httpstcor tnksizj',\n",
       " 'brexit barrier unnecessari erryesffsso fuck vote jesu idiot countri httpstcobxvbsxgjwh',\n",
       " 'money elm mean farmer choic intensifi agricultur method would disastr environ httpstco nluejiagd']"
      ]
     },
     "execution_count": 187,
     "metadata": {},
     "output_type": "execute_result"
    }
   ],
   "source": [
    "# Unnecessary (stop words) removed but meaning still intact. the stemer sometimes abbreviates words too\n",
    "cleaned_data "
   ]
  },
  {
   "cell_type": "code",
   "execution_count": 188,
   "id": "d33c6615",
   "metadata": {},
   "outputs": [
    {
     "data": {
      "text/plain": [
       "(599, 2854)"
      ]
     },
     "execution_count": 188,
     "metadata": {},
     "output_type": "execute_result"
    }
   ],
   "source": [
    "# Tokenization is the act of breaking up a sequence of strings into pieces such \n",
    "# as words, keywords, phrases, symbols and other elements called tokens\n",
    "from sklearn.feature_extraction.text import CountVectorizer\n",
    "\n",
    "# Instantiate an object cv by calling a method named as CountVectorzer()\n",
    "# here we are only taking 3K columns else the dataset will be too big\n",
    "# one con here is the order of the words is lost so the meaning can be lost a little\n",
    "# set stop words to names that dont indicate sentiment\n",
    "cv    = CountVectorizer(max_features = 3000, stop_words = ['BREXIT'])\n",
    "\n",
    "# convert the cleaneddata into the bag of words we want\n",
    "X_fin = cv.fit_transform(cleaned_data).toarray()\n",
    "\n",
    "# Display the rows and colums\n",
    "X_fin.shape"
   ]
  },
  {
   "cell_type": "code",
   "execution_count": 189,
   "id": "f4929a0b",
   "metadata": {},
   "outputs": [
    {
     "data": {
      "text/plain": [
       "array([[0, 0, 0, ..., 0, 0, 0],\n",
       "       [0, 0, 0, ..., 0, 0, 0],\n",
       "       [0, 0, 0, ..., 0, 0, 0],\n",
       "       ...,\n",
       "       [0, 0, 0, ..., 0, 0, 0],\n",
       "       [0, 0, 0, ..., 0, 0, 0],\n",
       "       [0, 0, 0, ..., 0, 0, 0]])"
      ]
     },
     "execution_count": 189,
     "metadata": {},
     "output_type": "execute_result"
    }
   ],
   "source": [
    "# This is the feature vector just created\n",
    "X_fin"
   ]
  },
  {
   "cell_type": "code",
   "execution_count": 190,
   "id": "9ce9cf32",
   "metadata": {},
   "outputs": [],
   "source": [
    "# build the NLP model using the input and the output, use the Multinomial Naive Bayes\n",
    "# model to figure out the relationship between the input and the output.\n",
    "# its a supervised learning algorithm that works really well for text based data\n",
    "from sklearn.naive_bayes import MultinomialNB\n",
    "from sklearn.model_selection import train_test_split\n",
    "\n",
    "# Instantiate an object model by calling a method MultinomialNB()\n",
    "model = MultinomialNB()"
   ]
  },
  {
   "cell_type": "code",
   "execution_count": 191,
   "id": "f21417d8",
   "metadata": {},
   "outputs": [],
   "source": [
    "# Split the dataset into training and testing parts\n",
    "X_train, X_test, y_train, y_test = train_test_split(X_fin, y, test_size = 0.3)"
   ]
  },
  {
   "cell_type": "code",
   "execution_count": 192,
   "id": "5cc8e5b4",
   "metadata": {},
   "outputs": [
    {
     "data": {
      "text/plain": [
       "MultinomialNB()"
      ]
     },
     "execution_count": 192,
     "metadata": {},
     "output_type": "execute_result"
    }
   ],
   "source": [
    "# Train the model by calling a method fit()\n",
    "model.fit(X_train,y_train)"
   ]
  },
  {
   "cell_type": "code",
   "execution_count": 193,
   "id": "1218710e",
   "metadata": {},
   "outputs": [],
   "source": [
    "# Call predict() method\n",
    "# To check how good our model is we first make predictions on the test set\n",
    "y_pred = model.predict(X_test)"
   ]
  },
  {
   "cell_type": "code",
   "execution_count": 194,
   "id": "dca625ee",
   "metadata": {},
   "outputs": [
    {
     "name": "stdout",
     "output_type": "stream",
     "text": [
      "[1 1 1 1 1 1 1 1 2 1 1 1 1 1 1 1 1 1 1 1 1 1 2 1 1 1 1 1 1 1 1 2 1 1 1 1 1\n",
      " 2 1 2 1 1 1 1 1 1 1 1 1 1 1 1 1 1 1 1 1 1 1 1 1 1 1 1 1 1 1 1 2 1 1 1 1 1\n",
      " 1 1 1 1 1 1 1 1 1 1 1 1 1 1 1 1 1 1 1 1 1 1 1 1 1 1 1 1 1 1 1 1 1 1 1 1 1\n",
      " 1 1 1 2 1 1 2 1 1 1 1 1 1 1 2 1 1 1 1 1 1 1 1 1 1 1 1 1 1 2 1 1 2 1 1 1 1\n",
      " 1 1 1 1 1 1 1 1 1 1 1 2 1 1 1 1 1 1 1 1 1 1 2 1 1 1 1 1 1 1 2 1]\n"
     ]
    }
   ],
   "source": [
    "print(y_pred)"
   ]
  },
  {
   "cell_type": "code",
   "execution_count": 195,
   "id": "4415aa26",
   "metadata": {},
   "outputs": [
    {
     "name": "stdout",
     "output_type": "stream",
     "text": [
      "              precision    recall  f1-score   support\n",
      "\n",
      "           0       0.00      0.00      0.00         2\n",
      "           1       0.95      0.92      0.93       170\n",
      "           2       0.07      0.12      0.09         8\n",
      "\n",
      "    accuracy                           0.88       180\n",
      "   macro avg       0.34      0.35      0.34       180\n",
      "weighted avg       0.90      0.88      0.89       180\n",
      "\n"
     ]
    }
   ],
   "source": [
    "from sklearn.metrics import classification_report\n",
    "\n",
    "# Instantiate a mthod named as Cla\n",
    "cf = classification_report(y_test, y_pred)\n",
    "\n",
    "# Display the values of an object cf\n",
    "print(cf)"
   ]
  },
  {
   "cell_type": "markdown",
   "id": "76494e68",
   "metadata": {},
   "source": [
    "## Feture Generation using TI-IDF"
   ]
  },
  {
   "cell_type": "code",
   "execution_count": 196,
   "id": "8c24fbd3",
   "metadata": {},
   "outputs": [],
   "source": [
    "from sklearn.feature_extraction.text import TfidfVectorizer\n",
    "\n",
    "# Create an object 'tf' by calling a method TfidfVectorizer()\n",
    "tfidf = TfidfVectorizer(max_features = 3000)\n",
    "\n",
    "# Train the dataset by calling a method fit_tranform() \n",
    "X_tfidf = tfidf.fit_transform(cleaned_data).toarray()"
   ]
  },
  {
   "cell_type": "code",
   "execution_count": 197,
   "id": "25bf54cb",
   "metadata": {},
   "outputs": [],
   "source": [
    "from sklearn.naive_bayes import MultinomialNB\n",
    "from sklearn.model_selection import train_test_split\n",
    "\n",
    "# Instantiate an object model by calling a method MultinomialNB()\n",
    "model_tdidf = MultinomialNB()"
   ]
  },
  {
   "cell_type": "code",
   "execution_count": 198,
   "id": "6a4d53a7",
   "metadata": {},
   "outputs": [],
   "source": [
    "# Split the dataset into training and testing parts\n",
    "X_train, X_test, y_train, y_test = train_test_split(X_tfidf, y, test_size = 0.3)"
   ]
  },
  {
   "cell_type": "code",
   "execution_count": 199,
   "id": "3dbd2b5c",
   "metadata": {},
   "outputs": [
    {
     "data": {
      "text/plain": [
       "MultinomialNB()"
      ]
     },
     "execution_count": 199,
     "metadata": {},
     "output_type": "execute_result"
    }
   ],
   "source": [
    "# Train the model by calling a method fit()\n",
    "model_tdidf.fit(X_train, y_train)"
   ]
  },
  {
   "cell_type": "code",
   "execution_count": 200,
   "id": "c5bc1b0b",
   "metadata": {},
   "outputs": [],
   "source": [
    "# Call predict() method\n",
    "y_pred = model_tdidf.predict(X_test)"
   ]
  },
  {
   "cell_type": "code",
   "execution_count": 201,
   "id": "b787cd35",
   "metadata": {},
   "outputs": [
    {
     "name": "stdout",
     "output_type": "stream",
     "text": [
      "              precision    recall  f1-score   support\n",
      "\n",
      "           1       0.93      1.00      0.96       167\n",
      "           2       0.00      0.00      0.00        13\n",
      "\n",
      "    accuracy                           0.93       180\n",
      "   macro avg       0.46      0.50      0.48       180\n",
      "weighted avg       0.86      0.93      0.89       180\n",
      "\n"
     ]
    }
   ],
   "source": [
    "from sklearn.metrics import classification_report\n",
    "\n",
    "# Instantiate a mthod named as Cla\n",
    "cf = classification_report(y_test, y_pred)\n",
    "\n",
    "# Display the values of an object cf\n",
    "print(cf)"
   ]
  },
  {
   "cell_type": "markdown",
   "id": "4cf03801",
   "metadata": {},
   "source": [
    "# Analysis of irish milk production v weather"
   ]
  },
  {
   "cell_type": "code",
   "execution_count": 206,
   "id": "fe030ea8",
   "metadata": {},
   "outputs": [],
   "source": [
    "iedf = pd.read_csv(\"cork_weather_and_milk.csv\")"
   ]
  },
  {
   "cell_type": "code",
   "execution_count": 207,
   "id": "c963fb9a",
   "metadata": {},
   "outputs": [
    {
     "data": {
      "text/html": [
       "<div>\n",
       "<style scoped>\n",
       "    .dataframe tbody tr th:only-of-type {\n",
       "        vertical-align: middle;\n",
       "    }\n",
       "\n",
       "    .dataframe tbody tr th {\n",
       "        vertical-align: top;\n",
       "    }\n",
       "\n",
       "    .dataframe thead th {\n",
       "        text-align: right;\n",
       "    }\n",
       "</style>\n",
       "<table border=\"1\" class=\"dataframe\">\n",
       "  <thead>\n",
       "    <tr style=\"text-align: right;\">\n",
       "      <th></th>\n",
       "      <th>date</th>\n",
       "      <th>rain</th>\n",
       "      <th>mintp</th>\n",
       "      <th>maxtp</th>\n",
       "      <th>soil</th>\n",
       "      <th>milk</th>\n",
       "      <th>fat</th>\n",
       "      <th>pro</th>\n",
       "      <th>month</th>\n",
       "    </tr>\n",
       "  </thead>\n",
       "  <tbody>\n",
       "    <tr>\n",
       "      <th>0</th>\n",
       "      <td>2012-01-01</td>\n",
       "      <td>3.035484</td>\n",
       "      <td>4.877419</td>\n",
       "      <td>9.600000</td>\n",
       "      <td>6.917742</td>\n",
       "      <td>133.3</td>\n",
       "      <td>3.98</td>\n",
       "      <td>3.25</td>\n",
       "      <td>January</td>\n",
       "    </tr>\n",
       "    <tr>\n",
       "      <th>1</th>\n",
       "      <td>2012-02-01</td>\n",
       "      <td>1.462069</td>\n",
       "      <td>5.368966</td>\n",
       "      <td>9.468966</td>\n",
       "      <td>7.259483</td>\n",
       "      <td>236.6</td>\n",
       "      <td>4.06</td>\n",
       "      <td>3.24</td>\n",
       "      <td>February</td>\n",
       "    </tr>\n",
       "    <tr>\n",
       "      <th>2</th>\n",
       "      <td>2012-03-01</td>\n",
       "      <td>0.764516</td>\n",
       "      <td>5.277419</td>\n",
       "      <td>11.412903</td>\n",
       "      <td>8.621774</td>\n",
       "      <td>473.0</td>\n",
       "      <td>3.99</td>\n",
       "      <td>3.22</td>\n",
       "      <td>March</td>\n",
       "    </tr>\n",
       "    <tr>\n",
       "      <th>3</th>\n",
       "      <td>2012-04-01</td>\n",
       "      <td>2.753333</td>\n",
       "      <td>3.570000</td>\n",
       "      <td>10.550000</td>\n",
       "      <td>8.260833</td>\n",
       "      <td>637.3</td>\n",
       "      <td>3.81</td>\n",
       "      <td>3.32</td>\n",
       "      <td>April</td>\n",
       "    </tr>\n",
       "    <tr>\n",
       "      <th>4</th>\n",
       "      <td>2012-05-01</td>\n",
       "      <td>2.351613</td>\n",
       "      <td>7.406452</td>\n",
       "      <td>13.538710</td>\n",
       "      <td>11.976613</td>\n",
       "      <td>735.0</td>\n",
       "      <td>3.75</td>\n",
       "      <td>3.34</td>\n",
       "      <td>May</td>\n",
       "    </tr>\n",
       "  </tbody>\n",
       "</table>\n",
       "</div>"
      ],
      "text/plain": [
       "         date      rain     mintp      maxtp       soil   milk   fat   pro  \\\n",
       "0  2012-01-01  3.035484  4.877419   9.600000   6.917742  133.3  3.98  3.25   \n",
       "1  2012-02-01  1.462069  5.368966   9.468966   7.259483  236.6  4.06  3.24   \n",
       "2  2012-03-01  0.764516  5.277419  11.412903   8.621774  473.0  3.99  3.22   \n",
       "3  2012-04-01  2.753333  3.570000  10.550000   8.260833  637.3  3.81  3.32   \n",
       "4  2012-05-01  2.351613  7.406452  13.538710  11.976613  735.0  3.75  3.34   \n",
       "\n",
       "      month  \n",
       "0   January  \n",
       "1  February  \n",
       "2     March  \n",
       "3     April  \n",
       "4       May  "
      ]
     },
     "execution_count": 207,
     "metadata": {},
     "output_type": "execute_result"
    }
   ],
   "source": [
    "iedf.head()"
   ]
  },
  {
   "cell_type": "code",
   "execution_count": 208,
   "id": "c6f9cd54",
   "metadata": {},
   "outputs": [
    {
     "data": {
      "text/html": [
       "<div>\n",
       "<style scoped>\n",
       "    .dataframe tbody tr th:only-of-type {\n",
       "        vertical-align: middle;\n",
       "    }\n",
       "\n",
       "    .dataframe tbody tr th {\n",
       "        vertical-align: top;\n",
       "    }\n",
       "\n",
       "    .dataframe thead th {\n",
       "        text-align: right;\n",
       "    }\n",
       "</style>\n",
       "<table border=\"1\" class=\"dataframe\">\n",
       "  <thead>\n",
       "    <tr style=\"text-align: right;\">\n",
       "      <th></th>\n",
       "      <th>date</th>\n",
       "      <th>rain</th>\n",
       "      <th>mintp</th>\n",
       "      <th>maxtp</th>\n",
       "      <th>soil</th>\n",
       "      <th>milk</th>\n",
       "      <th>fat</th>\n",
       "      <th>pro</th>\n",
       "      <th>month</th>\n",
       "    </tr>\n",
       "  </thead>\n",
       "  <tbody>\n",
       "    <tr>\n",
       "      <th>0</th>\n",
       "      <td>2012-01-01</td>\n",
       "      <td>3.035484</td>\n",
       "      <td>4.877419</td>\n",
       "      <td>9.600000</td>\n",
       "      <td>6.917742</td>\n",
       "      <td>133.3</td>\n",
       "      <td>3.98</td>\n",
       "      <td>3.25</td>\n",
       "      <td>January</td>\n",
       "    </tr>\n",
       "    <tr>\n",
       "      <th>1</th>\n",
       "      <td>2012-02-01</td>\n",
       "      <td>1.462069</td>\n",
       "      <td>5.368966</td>\n",
       "      <td>9.468966</td>\n",
       "      <td>7.259483</td>\n",
       "      <td>236.6</td>\n",
       "      <td>4.06</td>\n",
       "      <td>3.24</td>\n",
       "      <td>February</td>\n",
       "    </tr>\n",
       "    <tr>\n",
       "      <th>2</th>\n",
       "      <td>2012-03-01</td>\n",
       "      <td>0.764516</td>\n",
       "      <td>5.277419</td>\n",
       "      <td>11.412903</td>\n",
       "      <td>8.621774</td>\n",
       "      <td>473.0</td>\n",
       "      <td>3.99</td>\n",
       "      <td>3.22</td>\n",
       "      <td>March</td>\n",
       "    </tr>\n",
       "    <tr>\n",
       "      <th>3</th>\n",
       "      <td>2012-04-01</td>\n",
       "      <td>2.753333</td>\n",
       "      <td>3.570000</td>\n",
       "      <td>10.550000</td>\n",
       "      <td>8.260833</td>\n",
       "      <td>637.3</td>\n",
       "      <td>3.81</td>\n",
       "      <td>3.32</td>\n",
       "      <td>April</td>\n",
       "    </tr>\n",
       "    <tr>\n",
       "      <th>4</th>\n",
       "      <td>2012-05-01</td>\n",
       "      <td>2.351613</td>\n",
       "      <td>7.406452</td>\n",
       "      <td>13.538710</td>\n",
       "      <td>11.976613</td>\n",
       "      <td>735.0</td>\n",
       "      <td>3.75</td>\n",
       "      <td>3.34</td>\n",
       "      <td>May</td>\n",
       "    </tr>\n",
       "  </tbody>\n",
       "</table>\n",
       "</div>"
      ],
      "text/plain": [
       "         date      rain     mintp      maxtp       soil   milk   fat   pro  \\\n",
       "0  2012-01-01  3.035484  4.877419   9.600000   6.917742  133.3  3.98  3.25   \n",
       "1  2012-02-01  1.462069  5.368966   9.468966   7.259483  236.6  4.06  3.24   \n",
       "2  2012-03-01  0.764516  5.277419  11.412903   8.621774  473.0  3.99  3.22   \n",
       "3  2012-04-01  2.753333  3.570000  10.550000   8.260833  637.3  3.81  3.32   \n",
       "4  2012-05-01  2.351613  7.406452  13.538710  11.976613  735.0  3.75  3.34   \n",
       "\n",
       "      month  \n",
       "0   January  \n",
       "1  February  \n",
       "2     March  \n",
       "3     April  \n",
       "4       May  "
      ]
     },
     "execution_count": 208,
     "metadata": {},
     "output_type": "execute_result"
    }
   ],
   "source": [
    "iedfml = iedf.set_index('date')\n",
    "iedfml = iedfml.drop(['month'], axis = 1)\n",
    "iedf.head()"
   ]
  },
  {
   "cell_type": "code",
   "execution_count": 209,
   "id": "501c031f",
   "metadata": {},
   "outputs": [],
   "source": [
    "# Function for scatter plot and model\n",
    "def lin_regplot(X, y, model):\n",
    "    \"\"\" function takes an X,y and plots against a given model\"\"\"\n",
    "    plt.scatter(X, y, c = 'blue')\n",
    "    plt.plot(X, model.predict(X), color = 'red', linewidth = 2)    \n",
    "    return"
   ]
  },
  {
   "cell_type": "code",
   "execution_count": 210,
   "id": "e04cffda",
   "metadata": {},
   "outputs": [],
   "source": [
    "# define standard scaler function\n",
    "def scale_data(df,cols):\n",
    "    std_scaler = StandardScaler()\n",
    "    # save the index\n",
    "    save_indx = df.index\n",
    "    df_1 = std_scaler.fit_transform(df.to_numpy())\n",
    "    # remake the data frame with my saved index. Need this to if want to make dummy variables later\n",
    "    return pd.DataFrame(df_1, columns = cols, index = [save_indx])\n"
   ]
  },
  {
   "cell_type": "code",
   "execution_count": 211,
   "id": "1e0ff333",
   "metadata": {},
   "outputs": [],
   "source": [
    "\n",
    "############## Create a class named as 'LinearRegressionGD'\n",
    "class LinearRegressionGD(object):\n",
    "    \"\"\"A class to iterate over a given linear regression and store the results in an array\"\"\"\n",
    "    # the init method runs every time we icreate a new instance of the class\n",
    "    # class is pre defined to iterate 20 with learning rate eta 0.001\n",
    "    def __init__(self, eta = 0.001, n_iter = 20):\n",
    "        self.eta = eta\n",
    "        self.n_iter = n_iter\n",
    "\n",
    "    def fit(self, X, y):\n",
    "        # makes an array of zeros with the shape and set up empty cost list\n",
    "        self.w_ = np.zeros(1 + X.shape[1])\n",
    "        self.cost_ = []\n",
    "\n",
    "        for i in range(self.n_iter):\n",
    "            output = self.net_input(X)\n",
    "            errors = (y - output)\n",
    "            self.w_[1:] += self.eta * X.T.dot(errors)\n",
    "            self.w_[0] += self.eta * errors.sum()\n",
    "            cost = (errors**2).sum() / 2.0\n",
    "            self.cost_.append(cost)\n",
    "        return self\n",
    "\n",
    "    def net_input(self, X):\n",
    "        return np.dot(X, self.w_[1:]) + self.w_[0]\n",
    "\n",
    "    def predict(self, X):\n",
    "        return self.net_input(X)"
   ]
  },
  {
   "cell_type": "code",
   "execution_count": 212,
   "id": "8b1d55ec",
   "metadata": {},
   "outputs": [
    {
     "data": {
      "text/html": [
       "<div>\n",
       "<style scoped>\n",
       "    .dataframe tbody tr th:only-of-type {\n",
       "        vertical-align: middle;\n",
       "    }\n",
       "\n",
       "    .dataframe tbody tr th {\n",
       "        vertical-align: top;\n",
       "    }\n",
       "\n",
       "    .dataframe thead th {\n",
       "        text-align: right;\n",
       "    }\n",
       "</style>\n",
       "<table border=\"1\" class=\"dataframe\">\n",
       "  <thead>\n",
       "    <tr style=\"text-align: right;\">\n",
       "      <th></th>\n",
       "      <th>rain</th>\n",
       "      <th>mintp</th>\n",
       "      <th>maxtp</th>\n",
       "      <th>soil</th>\n",
       "      <th>milk</th>\n",
       "      <th>fat</th>\n",
       "      <th>pro</th>\n",
       "    </tr>\n",
       "    <tr>\n",
       "      <th>date</th>\n",
       "      <th></th>\n",
       "      <th></th>\n",
       "      <th></th>\n",
       "      <th></th>\n",
       "      <th></th>\n",
       "      <th></th>\n",
       "      <th></th>\n",
       "    </tr>\n",
       "  </thead>\n",
       "  <tbody>\n",
       "    <tr>\n",
       "      <th>2012-01-01</th>\n",
       "      <td>3.035484</td>\n",
       "      <td>4.877419</td>\n",
       "      <td>9.600000</td>\n",
       "      <td>6.917742</td>\n",
       "      <td>133.3</td>\n",
       "      <td>3.98</td>\n",
       "      <td>3.25</td>\n",
       "    </tr>\n",
       "    <tr>\n",
       "      <th>2012-02-01</th>\n",
       "      <td>1.462069</td>\n",
       "      <td>5.368966</td>\n",
       "      <td>9.468966</td>\n",
       "      <td>7.259483</td>\n",
       "      <td>236.6</td>\n",
       "      <td>4.06</td>\n",
       "      <td>3.24</td>\n",
       "    </tr>\n",
       "    <tr>\n",
       "      <th>2012-03-01</th>\n",
       "      <td>0.764516</td>\n",
       "      <td>5.277419</td>\n",
       "      <td>11.412903</td>\n",
       "      <td>8.621774</td>\n",
       "      <td>473.0</td>\n",
       "      <td>3.99</td>\n",
       "      <td>3.22</td>\n",
       "    </tr>\n",
       "    <tr>\n",
       "      <th>2012-04-01</th>\n",
       "      <td>2.753333</td>\n",
       "      <td>3.570000</td>\n",
       "      <td>10.550000</td>\n",
       "      <td>8.260833</td>\n",
       "      <td>637.3</td>\n",
       "      <td>3.81</td>\n",
       "      <td>3.32</td>\n",
       "    </tr>\n",
       "    <tr>\n",
       "      <th>2012-05-01</th>\n",
       "      <td>2.351613</td>\n",
       "      <td>7.406452</td>\n",
       "      <td>13.538710</td>\n",
       "      <td>11.976613</td>\n",
       "      <td>735.0</td>\n",
       "      <td>3.75</td>\n",
       "      <td>3.34</td>\n",
       "    </tr>\n",
       "  </tbody>\n",
       "</table>\n",
       "</div>"
      ],
      "text/plain": [
       "                rain     mintp      maxtp       soil   milk   fat   pro\n",
       "date                                                                   \n",
       "2012-01-01  3.035484  4.877419   9.600000   6.917742  133.3  3.98  3.25\n",
       "2012-02-01  1.462069  5.368966   9.468966   7.259483  236.6  4.06  3.24\n",
       "2012-03-01  0.764516  5.277419  11.412903   8.621774  473.0  3.99  3.22\n",
       "2012-04-01  2.753333  3.570000  10.550000   8.260833  637.3  3.81  3.32\n",
       "2012-05-01  2.351613  7.406452  13.538710  11.976613  735.0  3.75  3.34"
      ]
     },
     "execution_count": 212,
     "metadata": {},
     "output_type": "execute_result"
    }
   ],
   "source": [
    "iedfml.head()"
   ]
  },
  {
   "cell_type": "code",
   "execution_count": 213,
   "id": "d18efad1",
   "metadata": {},
   "outputs": [],
   "source": [
    "scale_this = ['rain','mintp','maxtp','soil','milk','fat','pro']\n",
    "iedfs = scale_data(iedfml,scale_this)"
   ]
  },
  {
   "cell_type": "code",
   "execution_count": 214,
   "id": "03d0eace",
   "metadata": {},
   "outputs": [
    {
     "data": {
      "text/html": [
       "<div>\n",
       "<style scoped>\n",
       "    .dataframe tbody tr th:only-of-type {\n",
       "        vertical-align: middle;\n",
       "    }\n",
       "\n",
       "    .dataframe tbody tr th {\n",
       "        vertical-align: top;\n",
       "    }\n",
       "\n",
       "    .dataframe thead th {\n",
       "        text-align: right;\n",
       "    }\n",
       "</style>\n",
       "<table border=\"1\" class=\"dataframe\">\n",
       "  <thead>\n",
       "    <tr style=\"text-align: right;\">\n",
       "      <th></th>\n",
       "      <th>rain</th>\n",
       "      <th>mintp</th>\n",
       "      <th>maxtp</th>\n",
       "      <th>soil</th>\n",
       "      <th>milk</th>\n",
       "      <th>fat</th>\n",
       "      <th>pro</th>\n",
       "    </tr>\n",
       "    <tr>\n",
       "      <th>date</th>\n",
       "      <th></th>\n",
       "      <th></th>\n",
       "      <th></th>\n",
       "      <th></th>\n",
       "      <th></th>\n",
       "      <th></th>\n",
       "      <th></th>\n",
       "    </tr>\n",
       "  </thead>\n",
       "  <tbody>\n",
       "    <tr>\n",
       "      <th>2012-01-01</th>\n",
       "      <td>-0.251295</td>\n",
       "      <td>-0.606181</td>\n",
       "      <td>-0.887761</td>\n",
       "      <td>-0.887041</td>\n",
       "      <td>-1.558402</td>\n",
       "      <td>-0.593939</td>\n",
       "      <td>-1.105200</td>\n",
       "    </tr>\n",
       "    <tr>\n",
       "      <th>2012-02-01</th>\n",
       "      <td>-1.044092</td>\n",
       "      <td>-0.457018</td>\n",
       "      <td>-0.920971</td>\n",
       "      <td>-0.808125</td>\n",
       "      <td>-1.181129</td>\n",
       "      <td>-0.315349</td>\n",
       "      <td>-1.153291</td>\n",
       "    </tr>\n",
       "    <tr>\n",
       "      <th>2012-03-01</th>\n",
       "      <td>-1.395568</td>\n",
       "      <td>-0.484799</td>\n",
       "      <td>-0.428283</td>\n",
       "      <td>-0.493540</td>\n",
       "      <td>-0.317748</td>\n",
       "      <td>-0.559116</td>\n",
       "      <td>-1.249473</td>\n",
       "    </tr>\n",
       "    <tr>\n",
       "      <th>2012-04-01</th>\n",
       "      <td>-0.393462</td>\n",
       "      <td>-1.002925</td>\n",
       "      <td>-0.646984</td>\n",
       "      <td>-0.576890</td>\n",
       "      <td>0.282308</td>\n",
       "      <td>-1.185944</td>\n",
       "      <td>-0.768564</td>\n",
       "    </tr>\n",
       "    <tr>\n",
       "      <th>2012-05-01</th>\n",
       "      <td>-0.595877</td>\n",
       "      <td>0.161269</td>\n",
       "      <td>0.110500</td>\n",
       "      <td>0.281170</td>\n",
       "      <td>0.639129</td>\n",
       "      <td>-1.394887</td>\n",
       "      <td>-0.672382</td>\n",
       "    </tr>\n",
       "  </tbody>\n",
       "</table>\n",
       "</div>"
      ],
      "text/plain": [
       "                rain     mintp     maxtp      soil      milk       fat  \\\n",
       "date                                                                     \n",
       "2012-01-01 -0.251295 -0.606181 -0.887761 -0.887041 -1.558402 -0.593939   \n",
       "2012-02-01 -1.044092 -0.457018 -0.920971 -0.808125 -1.181129 -0.315349   \n",
       "2012-03-01 -1.395568 -0.484799 -0.428283 -0.493540 -0.317748 -0.559116   \n",
       "2012-04-01 -0.393462 -1.002925 -0.646984 -0.576890  0.282308 -1.185944   \n",
       "2012-05-01 -0.595877  0.161269  0.110500  0.281170  0.639129 -1.394887   \n",
       "\n",
       "                 pro  \n",
       "date                  \n",
       "2012-01-01 -1.105200  \n",
       "2012-02-01 -1.153291  \n",
       "2012-03-01 -1.249473  \n",
       "2012-04-01 -0.768564  \n",
       "2012-05-01 -0.672382  "
      ]
     },
     "execution_count": 214,
     "metadata": {},
     "output_type": "execute_result"
    }
   ],
   "source": [
    "iedfs.head()"
   ]
  },
  {
   "cell_type": "code",
   "execution_count": 215,
   "id": "6f8a2c9b",
   "metadata": {},
   "outputs": [
    {
     "data": {
      "text/plain": [
       "((108, 1), (108, 1))"
      ]
     },
     "execution_count": 215,
     "metadata": {},
     "output_type": "execute_result"
    }
   ],
   "source": [
    "X = iedfs[['soil']].values\n",
    "y = iedfs[['milk']].values\n",
    "X.shape, y.shape"
   ]
  },
  {
   "cell_type": "code",
   "execution_count": 216,
   "id": "0b7a5fb8",
   "metadata": {},
   "outputs": [
    {
     "data": {
      "text/plain": [
       "((108, 1), (108,))"
      ]
     },
     "execution_count": 216,
     "metadata": {},
     "output_type": "execute_result"
    }
   ],
   "source": [
    "# Reshape the (359, 1) to (359,) array for Machine Learning model\n",
    "y = np.reshape(y, 108)\n",
    "\n",
    "# Display the number of rows and columns\n",
    "X.shape, y.shape"
   ]
  },
  {
   "cell_type": "code",
   "execution_count": 217,
   "id": "947d5ef3",
   "metadata": {},
   "outputs": [
    {
     "data": {
      "text/plain": [
       "((86, 1), (86,), (22, 1), (22,))"
      ]
     },
     "execution_count": 217,
     "metadata": {},
     "output_type": "execute_result"
    }
   ],
   "source": [
    "# split the data into test train sets\n",
    "X_train, X_test, y_train, y_test = (train_test_split(X,y, test_size = 0.2,random_state = 42))\n",
    "X_train.shape ,y_train.shape,X_test.shape,y_test.shape"
   ]
  },
  {
   "cell_type": "markdown",
   "id": "6cfb01ec",
   "metadata": {},
   "source": [
    "# LinearRegression"
   ]
  },
  {
   "cell_type": "code",
   "execution_count": 218,
   "id": "a5a1f5c5",
   "metadata": {},
   "outputs": [],
   "source": [
    "# First I will make a table to store my results.\n",
    "# I will be using the tabulate library\n",
    "table =[]"
   ]
  },
  {
   "cell_type": "code",
   "execution_count": 219,
   "id": "171b4853",
   "metadata": {},
   "outputs": [
    {
     "name": "stdout",
     "output_type": "stream",
     "text": [
      "mse_reg = 0.36950086407284977\n",
      "rmse_reg = 0.6078658273606519\n"
     ]
    },
    {
     "data": {
      "image/png": "[encoded data removed]",
      "text/plain": [
       "<Figure size 432x288 with 1 Axes>"
      ]
     },
     "metadata": {
      "needs_background": "light"
     },
     "output_type": "display_data"
    }
   ],
   "source": [
    "# Call the method lin_regplot()\n",
    "A = iedfs[['soil']].values\n",
    "b = iedfs['milk'].values\n",
    "\n",
    "reg = LinearRegression()\n",
    "reg.fit(X_train ,y_train)\n",
    "\n",
    "y_pred = reg.predict(X_test)\n",
    "mse_reg = MSE(y_test,y_pred)\n",
    "rmse_reg = mse_reg**(1/2)\n",
    "\n",
    "print (f\"mse_reg = {mse_reg}\")\n",
    "print (f\"rmse_reg = {rmse_reg}\")\n",
    "\n",
    "lin_regplot(A[sort_idx], b[sort_idx], reg)\n",
    "plt.xlabel('Soil Temp in C')\n",
    "plt.ylabel(f'Milk Vol')\n",
    "plt.tight_layout()\n",
    "plt.savefig(\"soil_milk_lr.png\", dpi=300)\n",
    "# plt.savefig('./figures/gradient_fit.png', dpi=300)\n",
    "plt.show()\n",
    "\n",
    "result = [\"LinearRegression\",mse_reg,rmse_reg]\n",
    "table.append(result)"
   ]
  },
  {
   "cell_type": "markdown",
   "id": "390b1f76",
   "metadata": {},
   "source": [
    "# DecisionTreeRegressor"
   ]
  },
  {
   "cell_type": "code",
   "execution_count": 220,
   "id": "2e621a54",
   "metadata": {},
   "outputs": [
    {
     "name": "stdout",
     "output_type": "stream",
     "text": [
      "mse_dtr = 0.25131770490769956\n",
      "rmse_dtr = 0.5013159731224406\n"
     ]
    },
    {
     "data": {
      "image/png": "[encoded data removed]",
      "text/plain": [
       "<Figure size 432x288 with 1 Axes>"
      ]
     },
     "metadata": {
      "needs_background": "light"
     },
     "output_type": "display_data"
    }
   ],
   "source": [
    "#  DecisionTreeRegressor on rain feature and plot\n",
    "# Store the feature or attribute values in X and y\n",
    "\n",
    "\n",
    "# Instantiate theDecisionTreeRegressor and assign it to tree\n",
    "dtr = DecisionTreeRegressor(max_depth = 2,min_samples_leaf=0.1,random_state=3)\n",
    "dtr.fit(X_train,y_train)\n",
    "y_pred = dtr.predict(X_test)\n",
    "mse_dtr = MSE(y_test,y_pred)\n",
    "rmse_dtr = mse_dtr**(1/2)\n",
    "\n",
    "print (f\"mse_dtr = {mse_dtr}\")\n",
    "print (f\"rmse_dtr = {rmse_dtr}\")\n",
    "sort_idx = A.flatten().argsort()\n",
    "\n",
    "lin_regplot(A[sort_idx], b[sort_idx], dtr)\n",
    "plt.xlabel('Soil Temp in C')\n",
    "plt.ylabel(f'Milk Vol in L (k) ')\n",
    "plt.savefig('DTR_soil_milk.png', dpi = 300)\n",
    "plt.show()\n",
    "\n",
    "result = [\"DecisionTreeRegressor\",mse_dtr,rmse_dtr]\n",
    "table.append(result)"
   ]
  },
  {
   "cell_type": "markdown",
   "id": "739c322c",
   "metadata": {},
   "source": [
    "# RandomForestRegressor"
   ]
  },
  {
   "cell_type": "code",
   "execution_count": 221,
   "id": "951761f9",
   "metadata": {},
   "outputs": [
    {
     "name": "stdout",
     "output_type": "stream",
     "text": [
      "mse_rfr = 0.24943853987190778\n",
      "rmse_rfr = 0.49943822427994816\n"
     ]
    },
    {
     "data": {
      "image/png": "[encoded data removed]",
      "text/plain": [
       "<Figure size 432x288 with 1 Axes>"
      ]
     },
     "metadata": {
      "needs_background": "light"
     },
     "output_type": "display_data"
    }
   ],
   "source": [
    "\n",
    "rf = RandomForestRegressor(max_depth=2,random_state=42)\n",
    "rf.fit(X_train,y_train)\n",
    "y_pred = rf.predict(X_test)\n",
    "mse_rfr = MSE(y_test,y_pred)\n",
    "rmse_rfr = mse_rfr**(1/2)\n",
    "print (f\"mse_rfr = {mse_rfr}\")\n",
    "print (f\"rmse_rfr = {rmse_rfr}\")\n",
    "\n",
    "lin_regplot(A[sort_idx], b[sort_idx], rf)\n",
    "plt.xlabel('soil temp in C')\n",
    "plt.ylabel(f'Milk volumn')\n",
    "plt.savefig('DT_milk_soil.png', dpi = 300)\n",
    "plt.show()\n",
    "\n",
    "result = [\"RandomForestRegressor\",mse_rfr,rmse_rfr]\n",
    "table.append(result)"
   ]
  },
  {
   "cell_type": "code",
   "execution_count": null,
   "id": "9dd1315c",
   "metadata": {},
   "outputs": [],
   "source": [
    "# pip install tabulate"
   ]
  },
  {
   "cell_type": "code",
   "execution_count": 223,
   "id": "d7dcf77a",
   "metadata": {},
   "outputs": [
    {
     "name": "stdout",
     "output_type": "stream",
     "text": [
      "ML Model                    mse      rmse\n",
      "---------------------  --------  --------\n",
      "LinearRegression       0.369501  0.607866\n",
      "DecisionTreeRegressor  0.251318  0.501316\n",
      "RandomForestRegressor  0.249439  0.499438\n"
     ]
    }
   ],
   "source": [
    "# Print table with results\n",
    "\n",
    "from tabulate import tabulate\n",
    "print(tabulate(table, headers=[\"ML Model\",\"mse\", \"rmse\"]))"
   ]
  },
  {
   "cell_type": "markdown",
   "id": "1a6e5b59",
   "metadata": {},
   "source": [
    "# GridSearchCV"
   ]
  },
  {
   "cell_type": "code",
   "execution_count": 153,
   "id": "05f589ea",
   "metadata": {},
   "outputs": [
    {
     "name": "stdout",
     "output_type": "stream",
     "text": [
      " The best Parameters are : {'max_depth': 2, 'n_estimators': 100}\n",
      " The best score was 0.4392300274502972\n"
     ]
    }
   ],
   "source": [
    "# will use GridSearch_CV to find the best params and score for the RandonForestRegressor model\n",
    "# set up the params I will use\n",
    "\n",
    "parameters = {\n",
    "    'n_estimators': [100, 150, 200, 250, 300],\n",
    "    'max_depth': [1,2,3,4],\n",
    "}\n",
    "regr = RandomForestRegressor(random_state=0)\n",
    "\n",
    "rfr_cv = GridSearchCV(regr, parameters)\n",
    "rfr_cv.fit(X_train, y_train)\n",
    "rmse_rfr_cv = rfr_cv.best_score_\n",
    "print(f' The best Parameters are : {rfr_cv.best_params_}')\n",
    "print (f' The best score was {rfr_cv.best_score_}')\n",
    "\n"
   ]
  },
  {
   "cell_type": "code",
   "execution_count": 202,
   "id": "b4f5fdd3",
   "metadata": {},
   "outputs": [
    {
     "name": "stdout",
     "output_type": "stream",
     "text": [
      "Requirement already satisfied: tabulate in /Users/ambrosedesmond/opt/anaconda3/lib/python3.9/site-packages (0.8.9)\r\n"
     ]
    }
   ],
   "source": []
  },
  {
   "cell_type": "code",
   "execution_count": null,
   "id": "bb418a47",
   "metadata": {},
   "outputs": [],
   "source": []
  },
  {
   "cell_type": "markdown",
   "id": "430b8de0",
   "metadata": {},
   "source": [
    "## Time series on milk production."
   ]
  },
  {
   "cell_type": "code",
   "execution_count": null,
   "id": "55fd10d4",
   "metadata": {},
   "outputs": [],
   "source": [
    "# Tensorflow / Keras\n",
    "from tensorflow import keras # for building Neural Networks\n",
    "print('Tensorflow/Keras: %s' % keras.__version__) # print version\n",
    "from keras.models import Sequential # for creating a linear stack of layers for our Neural Network\n",
    "from keras import Input # for instantiating a keras tensor\n",
    "from keras.layers import Dense, SimpleRNN # for creating regular densely-connected NN layers and RNN layers\n",
    "\n",
    "# Data manipulation\n",
    "import pandas as pd # for data manipulation\n",
    "print('pandas: %s' % pd.__version__) # print version\n",
    "import numpy as np # for data manipulation\n",
    "print('numpy: %s' % np.__version__) # print version\n",
    "import math # to help with data reshaping of the data\n",
    "\n",
    "# Sklearn\n",
    "import sklearn # for model evaluation\n",
    "print('sklearn: %s' % sklearn.__version__) # print version\n",
    "from sklearn.model_selection import train_test_split # for splitting the data into train and test samples\n",
    "from sklearn.metrics import mean_squared_error # for model evaluation metrics\n",
    "from sklearn.preprocessing import MinMaxScaler # for feature scaling\n",
    "\n",
    "# Visualization\n",
    "import plotly \n",
    "import plotly.express as px\n",
    "import plotly.graph_objects as go\n",
    "print('plotly: %s' % plotly.__version__) # print version"
   ]
  },
  {
   "cell_type": "code",
   "execution_count": null,
   "id": "8227ce36",
   "metadata": {},
   "outputs": [],
   "source": []
  }
 ],
 "metadata": {
  "kernelspec": {
   "display_name": "Python 3 (ipykernel)",
   "language": "python",
   "name": "python3"
  },
  "language_info": {
   "codemirror_mode": {
    "name": "ipython",
    "version": 3
   },
   "file_extension": ".py",
   "mimetype": "text/x-python",
   "name": "python",
   "nbconvert_exporter": "python",
   "pygments_lexer": "ipython3",
   "version": "3.9.12"
  }
 },
 "nbformat": 4,
 "nbformat_minor": 5
}
