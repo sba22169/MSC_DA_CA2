{
 "cells": [
  {
   "cell_type": "code",
   "execution_count": 44,
   "id": "d619e891",
   "metadata": {},
   "outputs": [],
   "source": [
    "from dotenv import dotenv_values\n",
    "import pandas as pd\n",
    "import requests\n",
    "import json\n",
    "# my twitter keys are stores in a file outside the git repository for security reasons\n",
    "config = dotenv_values(\"/Users/ambrosedesmond/CCT_Projects/Ambrose_MSC_DS_CA2/.env\")\n",
    "bearer_token = config[\"BEARER_TOKEN\"]\n",
    "# this is the location of the twitter api access , looking for the most recent tweets\n",
    "search_url = \"https://api.twitter.com/2/tweets/search/recent\""
   ]
  },
  {
   "cell_type": "code",
   "execution_count": 55,
   "id": "3edf73c7",
   "metadata": {},
   "outputs": [],
   "source": [
    "# set up a dataframe to save tweets, only saving author and the tweet\n",
    "# from https://www.geeksforgeeks.org/python-pandas-dataframe-append/?ref=gcse\n",
    "\n",
    "tweet_df = pd.DataFrame({\"author_id\":[],\n",
    "                   \"text\":[]})\n",
    "\n",
    "\n",
    "\n",
    "# Set up the query we want to pass to api , is a json object\n",
    "    #  -is = is not a retweet. i dont want retweets showing up in my data \n",
    "    # also pulling in the author id and name\n",
    "query_params1 = {\n",
    "    'query':'BREXIT farming -is:retweet',\n",
    "    'max_results': '100',\n",
    "    'tweet.fields':'author_id',\n",
    "    'user.fields':'name',\n",
    "\n",
    "}\n",
    "query_params2 = {\n",
    "    'query':'BREXIT farming -is:retweet',\n",
    "    'max_results': '100',\n",
    "    'tweet.fields':'author_id',\n",
    "    'user.fields':'name',\n",
    "    'next_token' : f'{next}',\n",
    "}\n",
    "def bearer_oauth(r):\n",
    "    r.headers['Authorization'] = f\"Bearer {bearer_token}\"\n",
    "    r.headers['User-Agent'] = \"v2RecentSerchPython\"\n",
    "    return r\n",
    "\n",
    "def connect_to_endpoint(url,params):\n",
    "    \"\"\" Function to connect to twitter API\"\"\"\n",
    "    response = requests.get(url,auth=bearer_oauth, params=params)\n",
    "    #responce.status_code 200 is good anything else is an error\n",
    "    #404 page not found\n",
    "    return response.json()\n",
    "\n",
    "def append_df():\n",
    "    tweet_df.loc[len(tweet_df.index)] = [(json_response['data'][0]['author_id']),(json_response['data'][0]['text'])]\n",
    "    #tweet_df.append(json_response['data'][0]['author_id'],json_response['data'][0]['text'])\n",
    "    \n",
    "    \n",
    "def twit_call(iter_count):\n",
    "    json_response = connect_to_endpoint(search_url, query_params1)\n",
    "    parsedRes = json.dumps(json_response, indent=4, ensure_ascii=False)\n",
    "    if json_response['meta']['next_token'] != None :\n",
    "        for count in range(iter_count-1):\n",
    "            json_response = connect_to_endpoint(search_url, query_params2)\n",
    "            if json_response['meta']['next_token'] == None:\n",
    "    # setting indent to 4 to make more readable , ensure_ascii will return all charecters when false\n",
    "    # so we can get to see emojis in our twitter text\n",
    "    \n",
    "    \n",
    "    #print(parsedRes)\n",
    "# pagenation is taking the next_token ang getting the next batch of tweets\n",
    "twit_call(5)"
   ]
  },
  {
   "cell_type": "code",
   "execution_count": 53,
   "id": "ae1b9023",
   "metadata": {},
   "outputs": [
    {
     "data": {
      "text/plain": [
       "'b26v89c19zqg8o3fqk123p8bg6p7b889l6j5sxow7yikd'"
      ]
     },
     "execution_count": 53,
     "metadata": {},
     "output_type": "execute_result"
    }
   ],
   "source": [
    "json_response['data'][0]['author_id']\n",
    "json_response['data'][0]['text']\n",
    "json_response['meta']['next_token']"
   ]
  },
  {
   "cell_type": "code",
   "execution_count": 10,
   "id": "154d7016",
   "metadata": {},
   "outputs": [
    {
     "ename": "FileNotFoundError",
     "evalue": "[Errno 2] No such file or directory: '~/.twitter-keys.yaml'",
     "output_type": "error",
     "traceback": [
      "\u001b[0;31m---------------------------------------------------------------------------\u001b[0m",
      "\u001b[0;31mFileNotFoundError\u001b[0m                         Traceback (most recent call last)",
      "Input \u001b[0;32mIn [10]\u001b[0m, in \u001b[0;36m<cell line: 6>\u001b[0;34m()\u001b[0m\n\u001b[1;32m      1\u001b[0m twitter_keys\u001b[38;5;241m=\u001b[39m\u001b[38;5;124mf\u001b[39m\u001b[38;5;124m'''\u001b[39m\u001b[38;5;124mkeys:\u001b[39m\n\u001b[1;32m      2\u001b[0m \u001b[38;5;124m    access_token: \u001b[39m\u001b[38;5;132;01m{\u001b[39;00mconfig[\u001b[38;5;124m\"\u001b[39m\u001b[38;5;124mAPI_KEY\u001b[39m\u001b[38;5;124m\"\u001b[39m]\u001b[38;5;132;01m}\u001b[39;00m\n\u001b[1;32m      3\u001b[0m \u001b[38;5;124m    access_token_secret: \u001b[39m\u001b[38;5;132;01m{\u001b[39;00mconfig[\u001b[38;5;124m\"\u001b[39m\u001b[38;5;124mAPI_KEY_SECRET\u001b[39m\u001b[38;5;124m\"\u001b[39m]\u001b[38;5;132;01m}\u001b[39;00m\n\u001b[1;32m      4\u001b[0m \u001b[38;5;124m    bearer_token: \u001b[39m\u001b[38;5;132;01m{\u001b[39;00mconfig[\u001b[38;5;124m\"\u001b[39m\u001b[38;5;124mBEARER_TOKEN\u001b[39m\u001b[38;5;124m\"\u001b[39m]\u001b[38;5;132;01m}\u001b[39;00m\n\u001b[1;32m      5\u001b[0m \u001b[38;5;124m'''\u001b[39m\n\u001b[0;32m----> 6\u001b[0m \u001b[38;5;28;01mwith\u001b[39;00m \u001b[38;5;28;43mopen\u001b[39;49m\u001b[43m(\u001b[49m\u001b[38;5;124;43m\"\u001b[39;49m\u001b[38;5;124;43m~/.twitter-keys.yaml\u001b[39;49m\u001b[38;5;124;43m\"\u001b[39;49m\u001b[43m,\u001b[49m\u001b[38;5;124;43m\"\u001b[39;49m\u001b[38;5;124;43mw\u001b[39;49m\u001b[38;5;124;43m\"\u001b[39;49m\u001b[43m)\u001b[49m \u001b[38;5;28;01mas\u001b[39;00m file:\n\u001b[1;32m      7\u001b[0m     file\u001b[38;5;241m.\u001b[39mwrite(twitter\u001b[38;5;241m-\u001b[39mkeys)\n\u001b[1;32m      8\u001b[0m \u001b[38;5;28;01mwith\u001b[39;00m \u001b[38;5;28mopen\u001b[39m(\u001b[38;5;124m\"\u001b[39m\u001b[38;5;124m~/.twitter-keys.yaml\u001b[39m\u001b[38;5;124m\"\u001b[39m, \u001b[38;5;124m\"\u001b[39m\u001b[38;5;124mw\u001b[39m\u001b[38;5;124m\"\u001b[39m) \u001b[38;5;28;01mas\u001b[39;00m file:\n",
      "\u001b[0;31mFileNotFoundError\u001b[0m: [Errno 2] No such file or directory: '~/.twitter-keys.yaml'"
     ]
    }
   ],
   "source": [
    "twitter_keys=f'''keys:\n",
    "    access_token: {config[\"API_KEY\"]}\n",
    "    access_token_secret: {config[\"API_KEY_SECRET\"]}\n",
    "    bearer_token: {config[\"BEARER_TOKEN\"]}\n",
    "'''\n",
    "with open(\"~/.twitter-keys.yaml\",\"w\") as file:\n",
    "    file.write(twitter-keys)\n",
    "with open(\"~/.twitter-keys.yaml\", \"w\") as file:\n",
    "    file.write(twitter_keys)\n"
   ]
  },
  {
   "cell_type": "code",
   "execution_count": 24,
   "id": "66ef5a05",
   "metadata": {},
   "outputs": [
    {
     "ename": "FileNotFoundError",
     "evalue": "[Errno 2] No such file or directory: '/Users/ambrosedesmond/.twitter-keys.yaml'",
     "output_type": "error",
     "traceback": [
      "\u001b[0;31m---------------------------------------------------------------------------\u001b[0m",
      "\u001b[0;31mFileNotFoundError\u001b[0m                         Traceback (most recent call last)",
      "Input \u001b[0;32mIn [24]\u001b[0m, in \u001b[0;36m<cell line: 14>\u001b[0;34m()\u001b[0m\n\u001b[1;32m      6\u001b[0m stream \u001b[38;5;241m=\u001b[39m FilteredStream()\n\u001b[1;32m      7\u001b[0m rule \u001b[38;5;241m=\u001b[39m {\n\u001b[1;32m      8\u001b[0m     \u001b[38;5;124m\"\u001b[39m\u001b[38;5;124madd\u001b[39m\u001b[38;5;124m\"\u001b[39m: [\n\u001b[1;32m      9\u001b[0m         {\u001b[38;5;124m\"\u001b[39m\u001b[38;5;124mvalue\u001b[39m\u001b[38;5;124m\"\u001b[39m: \u001b[38;5;124m'\u001b[39m\u001b[38;5;124m\"\u001b[39m\u001b[38;5;124mWorld Cup\u001b[39m\u001b[38;5;124m\"\u001b[39m\u001b[38;5;124m -is:retweet\u001b[39m\u001b[38;5;124m'\u001b[39m,\n\u001b[0;32m   (...)\u001b[0m\n\u001b[1;32m     12\u001b[0m     ]\n\u001b[1;32m     13\u001b[0m }\n\u001b[0;32m---> 14\u001b[0m \u001b[43mstream\u001b[49m\u001b[38;5;241;43m.\u001b[39;49m\u001b[43madd_rule\u001b[49m\u001b[43m(\u001b[49m\u001b[43mdata\u001b[49m\u001b[38;5;241;43m=\u001b[39;49m\u001b[43mrule\u001b[49m\u001b[43m)\u001b[49m\n\u001b[1;32m     15\u001b[0m tweetlist \u001b[38;5;241m=\u001b[39m []\n\u001b[1;32m     16\u001b[0m \u001b[38;5;28;01mfor\u001b[39;00m tweet \u001b[38;5;129;01min\u001b[39;00m stream\u001b[38;5;241m.\u001b[39mconnect():\n",
      "File \u001b[0;32m/opt/anaconda3/lib/python3.9/site-packages/twitter_stream.py:151\u001b[0m, in \u001b[0;36mFilteredStream.add_rule\u001b[0;34m(self, data)\u001b[0m\n\u001b[1;32m    131\u001b[0m \u001b[38;5;28;01mdef\u001b[39;00m \u001b[38;5;21madd_rule\u001b[39m(\u001b[38;5;28mself\u001b[39m, data: \u001b[38;5;28mdict\u001b[39m) \u001b[38;5;241m-\u001b[39m\u001b[38;5;241m>\u001b[39m json:\n\u001b[1;32m    132\u001b[0m     \u001b[38;5;124;03m\"\"\"Add or Remove upto 25 rules.\u001b[39;00m\n\u001b[1;32m    133\u001b[0m \u001b[38;5;124;03m    /2/tweets/search/stream/rules\u001b[39;00m\n\u001b[1;32m    134\u001b[0m \n\u001b[0;32m   (...)\u001b[0m\n\u001b[1;32m    149\u001b[0m \u001b[38;5;124;03m    stream.add_rule(data=rules)\u001b[39;00m\n\u001b[1;32m    150\u001b[0m \u001b[38;5;124;03m    \"\"\"\u001b[39;00m\n\u001b[0;32m--> 151\u001b[0m     \u001b[38;5;28;01mreturn\u001b[39;00m \u001b[38;5;28;43mself\u001b[39;49m\u001b[38;5;241;43m.\u001b[39;49m\u001b[43mapi\u001b[49m\u001b[43m(\u001b[49m\u001b[43mmethod\u001b[49m\u001b[38;5;241;43m=\u001b[39;49m\u001b[38;5;124;43m\"\u001b[39;49m\u001b[38;5;124;43mPOST\u001b[39;49m\u001b[38;5;124;43m\"\u001b[39;49m\u001b[43m,\u001b[49m\u001b[43m \u001b[49m\u001b[43mendpoint\u001b[49m\u001b[38;5;241;43m=\u001b[39;49m\u001b[38;5;124;43m\"\u001b[39;49m\u001b[38;5;124;43msearch/stream/rules\u001b[39;49m\u001b[38;5;124;43m\"\u001b[39;49m\u001b[43m,\u001b[49m\u001b[43m \u001b[49m\u001b[43mdata\u001b[49m\u001b[38;5;241;43m=\u001b[39;49m\u001b[43mdata\u001b[49m\u001b[43m)\u001b[49m\u001b[38;5;241m.\u001b[39mjson()\n",
      "File \u001b[0;32m/opt/anaconda3/lib/python3.9/site-packages/twitter_stream.py:19\u001b[0m, in \u001b[0;36mauth.<locals>.inner_function.<locals>.wrapper\u001b[0;34m(args, **kwargs)\u001b[0m\n\u001b[1;32m     17\u001b[0m         credentials \u001b[38;5;241m=\u001b[39m yaml\u001b[38;5;241m.\u001b[39msafe_load(credentials)[\u001b[38;5;124m\"\u001b[39m\u001b[38;5;124mkeys\u001b[39m\u001b[38;5;124m\"\u001b[39m]\n\u001b[1;32m     18\u001b[0m \u001b[38;5;28;01mexcept\u001b[39;00m (\u001b[38;5;167;01mFileNotFoundError\u001b[39;00m, \u001b[38;5;167;01mKeyError\u001b[39;00m) \u001b[38;5;28;01mas\u001b[39;00m exception:\n\u001b[0;32m---> 19\u001b[0m     \u001b[38;5;28;01mraise\u001b[39;00m exception\n\u001b[1;32m     20\u001b[0m \u001b[38;5;28;01melse\u001b[39;00m:\n\u001b[1;32m     21\u001b[0m     kwargs[\u001b[38;5;124m\"\u001b[39m\u001b[38;5;124mauth\u001b[39m\u001b[38;5;124m\"\u001b[39m] \u001b[38;5;241m=\u001b[39m credentials\n",
      "File \u001b[0;32m/opt/anaconda3/lib/python3.9/site-packages/twitter_stream.py:16\u001b[0m, in \u001b[0;36mauth.<locals>.inner_function.<locals>.wrapper\u001b[0;34m(args, **kwargs)\u001b[0m\n\u001b[1;32m     13\u001b[0m \u001b[38;5;129m@wraps\u001b[39m(func)\n\u001b[1;32m     14\u001b[0m \u001b[38;5;28;01mdef\u001b[39;00m \u001b[38;5;21mwrapper\u001b[39m(args, \u001b[38;5;241m*\u001b[39m\u001b[38;5;241m*\u001b[39mkwargs):\n\u001b[1;32m     15\u001b[0m     \u001b[38;5;28;01mtry\u001b[39;00m:\n\u001b[0;32m---> 16\u001b[0m         \u001b[38;5;28;01mwith\u001b[39;00m \u001b[38;5;28;43mopen\u001b[39;49m\u001b[43m(\u001b[49m\u001b[43mos\u001b[49m\u001b[38;5;241;43m.\u001b[39;49m\u001b[43mpath\u001b[49m\u001b[38;5;241;43m.\u001b[39;49m\u001b[43mexpanduser\u001b[49m\u001b[43m(\u001b[49m\u001b[43mfilename\u001b[49m\u001b[43m)\u001b[49m\u001b[43m)\u001b[49m \u001b[38;5;28;01mas\u001b[39;00m credentials:\n\u001b[1;32m     17\u001b[0m             credentials \u001b[38;5;241m=\u001b[39m yaml\u001b[38;5;241m.\u001b[39msafe_load(credentials)[\u001b[38;5;124m\"\u001b[39m\u001b[38;5;124mkeys\u001b[39m\u001b[38;5;124m\"\u001b[39m]\n\u001b[1;32m     18\u001b[0m     \u001b[38;5;28;01mexcept\u001b[39;00m (\u001b[38;5;167;01mFileNotFoundError\u001b[39;00m, \u001b[38;5;167;01mKeyError\u001b[39;00m) \u001b[38;5;28;01mas\u001b[39;00m exception:\n",
      "\u001b[0;31mFileNotFoundError\u001b[0m: [Errno 2] No such file or directory: '/Users/ambrosedesmond/.twitter-keys.yaml'"
     ]
    }
   ],
   "source": [
    "from twitter_stream import FilteredStream\n",
    "\n",
    "from time import time\n",
    "\n",
    "start = time()\n",
    "stream = FilteredStream()\n",
    "rule = {\n",
    "    \"add\": [\n",
    "        {\"value\": '\"World Cup\" -is:retweet',\n",
    "        \"tag\" : \"soccer\"\n",
    "        }\n",
    "    ]\n",
    "}\n",
    "stream.add_rule(data=rule)\n",
    "tweetlist = []\n",
    "for tweet in stream.connect():\n",
    "    parsedTweet = json.dumps(tweet, indent=4, ensure_ascii=False)\n",
    "    print(parsedTweet)\n",
    "    print(f\"There are {len(tweetlist)} tweets about {len(tweetlist)/(time()-start)} tweets per\")"
   ]
  },
  {
   "cell_type": "code",
   "execution_count": null,
   "id": "2181e320",
   "metadata": {},
   "outputs": [],
   "source": []
  }
 ],
 "metadata": {
  "kernelspec": {
   "display_name": "Python 3 (ipykernel)",
   "language": "python",
   "name": "python3"
  },
  "language_info": {
   "codemirror_mode": {
    "name": "ipython",
    "version": 3
   },
   "file_extension": ".py",
   "mimetype": "text/x-python",
   "name": "python",
   "nbconvert_exporter": "python",
   "pygments_lexer": "ipython3",
   "version": "3.9.12"
  }
 },
 "nbformat": 4,
 "nbformat_minor": 5
}
