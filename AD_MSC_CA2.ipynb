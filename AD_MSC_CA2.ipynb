{
 "cells": [
  {
   "cell_type": "markdown",
   "id": "cf24c9ae",
   "metadata": {},
   "source": [
    "#Ambrose Desmond MSC_DA_CA2"
   ]
  },
  {
   "cell_type": "markdown",
   "id": "1984f4e4",
   "metadata": {},
   "source": [
    "## Irelands Dairy sector analysis compared to the top EU producer and global producers."
   ]
  },
  {
   "cell_type": "code",
   "execution_count": 36,
   "id": "b3747778",
   "metadata": {},
   "outputs": [],
   "source": [
    "import pandas as pd\n",
    "import numpy as np\n",
    "import seaborn as sns\n",
    "import sklearn\n",
    "import matplotlib.pyplot as plt\n",
    "from pandas.plotting import scatter_matrix\n",
    "import statistics as stats\n",
    "from scipy.stats import poisson\n",
    "from sklearn.model_selection import cross_val_score\n",
    "from sklearn.model_selection import KFold\n",
    "from sklearn.model_selection import GridSearchCV\n",
    "from sklearn.pipeline import make_pipeline\n",
    "from sklearn.preprocessing import PolynomialFeatures\n",
    "from sklearn.metrics import r2_score\n",
    "import warnings\n",
    "from sklearn.feature_selection import RFE\n",
    "import json\n",
    "import requests\n",
    "import time\n",
    "# from faker import Factory,Faker\n",
    "warnings.filterwarnings('ignore') # supress warnings"
   ]
  },
  {
   "cell_type": "code",
   "execution_count": 51,
   "id": "d9ff167b",
   "metadata": {},
   "outputs": [],
   "source": [
    "# Import the dairy csv as ddf\n",
    "ddf = pd.read_csv(\"Intake of Cows Milk by Creameries and Pasteurisers.csv\")"
   ]
  },
  {
   "cell_type": "code",
   "execution_count": 52,
   "id": "f9e3f53f",
   "metadata": {},
   "outputs": [
    {
     "data": {
      "text/plain": [
       "(575, 4)"
      ]
     },
     "execution_count": 52,
     "metadata": {},
     "output_type": "execute_result"
    }
   ],
   "source": [
    "ddf.shape"
   ]
  },
  {
   "cell_type": "code",
   "execution_count": 53,
   "id": "b1276c9e",
   "metadata": {},
   "outputs": [
    {
     "name": "stdout",
     "output_type": "stream",
     "text": [
      "<class 'pandas.core.frame.DataFrame'>\n",
      "RangeIndex: 575 entries, 0 to 574\n",
      "Data columns (total 4 columns):\n",
      " #   Column                                              Non-Null Count  Dtype  \n",
      "---  ------                                              --------------  -----  \n",
      " 0   Unnamed: 0                                          575 non-null    object \n",
      " 1   Intake of Cows Milk by Creameries and Pasteurisers  574 non-null    object \n",
      " 2   Fat Content                                         514 non-null    float64\n",
      " 3   Protein Content                                     514 non-null    float64\n",
      "dtypes: float64(2), object(2)\n",
      "memory usage: 18.1+ KB\n"
     ]
    }
   ],
   "source": [
    "ddf.info()"
   ]
  },
  {
   "cell_type": "code",
   "execution_count": 54,
   "id": "ec0dc5e5",
   "metadata": {},
   "outputs": [
    {
     "data": {
      "text/html": [
       "<div>\n",
       "<style scoped>\n",
       "    .dataframe tbody tr th:only-of-type {\n",
       "        vertical-align: middle;\n",
       "    }\n",
       "\n",
       "    .dataframe tbody tr th {\n",
       "        vertical-align: top;\n",
       "    }\n",
       "\n",
       "    .dataframe thead th {\n",
       "        text-align: right;\n",
       "    }\n",
       "</style>\n",
       "<table border=\"1\" class=\"dataframe\">\n",
       "  <thead>\n",
       "    <tr style=\"text-align: right;\">\n",
       "      <th></th>\n",
       "      <th>Unnamed: 0</th>\n",
       "      <th>Intake of Cows Milk by Creameries and Pasteurisers</th>\n",
       "      <th>Fat Content</th>\n",
       "      <th>Protein Content</th>\n",
       "    </tr>\n",
       "  </thead>\n",
       "  <tbody>\n",
       "    <tr>\n",
       "      <th>0</th>\n",
       "      <td>Source: Central Statistics Office, Ireland.</td>\n",
       "      <td>NaN</td>\n",
       "      <td>NaN</td>\n",
       "      <td>NaN</td>\n",
       "    </tr>\n",
       "    <tr>\n",
       "      <th>1</th>\n",
       "      <td>1975 January</td>\n",
       "      <td>55.8</td>\n",
       "      <td>NaN</td>\n",
       "      <td>NaN</td>\n",
       "    </tr>\n",
       "    <tr>\n",
       "      <th>2</th>\n",
       "      <td>1975 February</td>\n",
       "      <td>84.4</td>\n",
       "      <td>NaN</td>\n",
       "      <td>NaN</td>\n",
       "    </tr>\n",
       "    <tr>\n",
       "      <th>3</th>\n",
       "      <td>1975 March</td>\n",
       "      <td>193.3</td>\n",
       "      <td>NaN</td>\n",
       "      <td>NaN</td>\n",
       "    </tr>\n",
       "    <tr>\n",
       "      <th>4</th>\n",
       "      <td>1975 April</td>\n",
       "      <td>327.5</td>\n",
       "      <td>NaN</td>\n",
       "      <td>NaN</td>\n",
       "    </tr>\n",
       "  </tbody>\n",
       "</table>\n",
       "</div>"
      ],
      "text/plain": [
       "                                    Unnamed: 0  \\\n",
       "0  Source: Central Statistics Office, Ireland.   \n",
       "1                                 1975 January   \n",
       "2                                1975 February   \n",
       "3                                   1975 March   \n",
       "4                                   1975 April   \n",
       "\n",
       "  Intake of Cows Milk by Creameries and Pasteurisers  Fat Content  \\\n",
       "0                                                NaN          NaN   \n",
       "1                                               55.8          NaN   \n",
       "2                                               84.4          NaN   \n",
       "3                                              193.3          NaN   \n",
       "4                                              327.5          NaN   \n",
       "\n",
       "   Protein Content  \n",
       "0              NaN  \n",
       "1              NaN  \n",
       "2              NaN  \n",
       "3              NaN  \n",
       "4              NaN  "
      ]
     },
     "execution_count": 54,
     "metadata": {},
     "output_type": "execute_result"
    }
   ],
   "source": [
    "ddf.head()"
   ]
  },
  {
   "cell_type": "code",
   "execution_count": 56,
   "id": "acb81cf4",
   "metadata": {},
   "outputs": [],
   "source": [
    "# need to drop the first row as its not part of the actual data.\n",
    "ddf.drop(index=ddf.index[0], axis=0, inplace=True)\n",
    "# alternativaly i could have used ddf.iloc[1:] to select everything except the first row and \n",
    "# and store it in a new dataframe. here I chose to use the drop() function with index 0 ( ie first line) the axis 0 indicates row\n",
    "# and inplace = true performs the operation to the existing  dataframe. I chose this because It saves space to \n",
    "# edit the existing dataframe instead of creating new ones which the other methods do."
   ]
  },
  {
   "cell_type": "code",
   "execution_count": 57,
   "id": "5f08d45b",
   "metadata": {},
   "outputs": [
    {
     "data": {
      "text/html": [
       "<div>\n",
       "<style scoped>\n",
       "    .dataframe tbody tr th:only-of-type {\n",
       "        vertical-align: middle;\n",
       "    }\n",
       "\n",
       "    .dataframe tbody tr th {\n",
       "        vertical-align: top;\n",
       "    }\n",
       "\n",
       "    .dataframe thead th {\n",
       "        text-align: right;\n",
       "    }\n",
       "</style>\n",
       "<table border=\"1\" class=\"dataframe\">\n",
       "  <thead>\n",
       "    <tr style=\"text-align: right;\">\n",
       "      <th></th>\n",
       "      <th>date</th>\n",
       "      <th>milk</th>\n",
       "      <th>fat</th>\n",
       "      <th>pro</th>\n",
       "    </tr>\n",
       "  </thead>\n",
       "  <tbody>\n",
       "    <tr>\n",
       "      <th>1</th>\n",
       "      <td>1975 January</td>\n",
       "      <td>55.8</td>\n",
       "      <td>NaN</td>\n",
       "      <td>NaN</td>\n",
       "    </tr>\n",
       "    <tr>\n",
       "      <th>2</th>\n",
       "      <td>1975 February</td>\n",
       "      <td>84.4</td>\n",
       "      <td>NaN</td>\n",
       "      <td>NaN</td>\n",
       "    </tr>\n",
       "    <tr>\n",
       "      <th>3</th>\n",
       "      <td>1975 March</td>\n",
       "      <td>193.3</td>\n",
       "      <td>NaN</td>\n",
       "      <td>NaN</td>\n",
       "    </tr>\n",
       "    <tr>\n",
       "      <th>4</th>\n",
       "      <td>1975 April</td>\n",
       "      <td>327.5</td>\n",
       "      <td>NaN</td>\n",
       "      <td>NaN</td>\n",
       "    </tr>\n",
       "    <tr>\n",
       "      <th>5</th>\n",
       "      <td>1975 May</td>\n",
       "      <td>493.5</td>\n",
       "      <td>NaN</td>\n",
       "      <td>NaN</td>\n",
       "    </tr>\n",
       "  </tbody>\n",
       "</table>\n",
       "</div>"
      ],
      "text/plain": [
       "            date   milk  fat  pro\n",
       "1   1975 January   55.8  NaN  NaN\n",
       "2  1975 February   84.4  NaN  NaN\n",
       "3     1975 March  193.3  NaN  NaN\n",
       "4     1975 April  327.5  NaN  NaN\n",
       "5       1975 May  493.5  NaN  NaN"
      ]
     },
     "execution_count": 57,
     "metadata": {},
     "output_type": "execute_result"
    }
   ],
   "source": [
    "# formatt the data to give concise and meaningfull headings to the dataframe,\n",
    "# I did this because it will make reading the dataframe easier for myself and other people looking at it\n",
    "\n",
    "ddf.columns = ['date','milk','fat','pro']\n",
    "ddf.head()"
   ]
  },
  {
   "cell_type": "code",
   "execution_count": 63,
   "id": "eaec50ed",
   "metadata": {},
   "outputs": [],
   "source": [
    "#I want to convert date string  colum to datetime object because datetime objects are easier to manipulate\n",
    "# espicallyif the date is in the index. there is dedicated functionality with date time objects.\n",
    "ddf[[\"date\"]] = ddf[[\"date\"]].apply(pd.to_datetime)\n",
    "# my .info() on the dataframe revealed the milk colum is type object. I want to converted this to float type \n",
    "# because this data type is best interpertiped numerically for manipulation in charts and models.\n",
    "#  My inital attempt of ddf['milk'] = ddf['milk'].astype(float)\n",
    "# got an error trying to convert str to float ValueError: could not convert string to float: '1,072.2'\n",
    "# the problem here is the comma seperasting thousands , need to strip these out and try again.\n",
    "# Im using a lambda function on the milk column to strip the comma .\n",
    "# I chose to use lambda because its a singl euse function that saves time and space v writing a dedicated function.\n",
    "ddf['milk'] = ddf['milk'].apply(lambda x : x.replace(',',''))\n",
    "ddf['milk'] = ddf['milk'].astype(float)"
   ]
  },
  {
   "cell_type": "code",
   "execution_count": 59,
   "id": "5db5f17c",
   "metadata": {},
   "outputs": [
    {
     "data": {
      "text/html": [
       "<div>\n",
       "<style scoped>\n",
       "    .dataframe tbody tr th:only-of-type {\n",
       "        vertical-align: middle;\n",
       "    }\n",
       "\n",
       "    .dataframe tbody tr th {\n",
       "        vertical-align: top;\n",
       "    }\n",
       "\n",
       "    .dataframe thead th {\n",
       "        text-align: right;\n",
       "    }\n",
       "</style>\n",
       "<table border=\"1\" class=\"dataframe\">\n",
       "  <thead>\n",
       "    <tr style=\"text-align: right;\">\n",
       "      <th></th>\n",
       "      <th>date</th>\n",
       "      <th>milk</th>\n",
       "      <th>fat</th>\n",
       "      <th>pro</th>\n",
       "    </tr>\n",
       "  </thead>\n",
       "  <tbody>\n",
       "    <tr>\n",
       "      <th>1</th>\n",
       "      <td>1975-01-01</td>\n",
       "      <td>55.8</td>\n",
       "      <td>NaN</td>\n",
       "      <td>NaN</td>\n",
       "    </tr>\n",
       "    <tr>\n",
       "      <th>2</th>\n",
       "      <td>1975-02-01</td>\n",
       "      <td>84.4</td>\n",
       "      <td>NaN</td>\n",
       "      <td>NaN</td>\n",
       "    </tr>\n",
       "    <tr>\n",
       "      <th>3</th>\n",
       "      <td>1975-03-01</td>\n",
       "      <td>193.3</td>\n",
       "      <td>NaN</td>\n",
       "      <td>NaN</td>\n",
       "    </tr>\n",
       "    <tr>\n",
       "      <th>4</th>\n",
       "      <td>1975-04-01</td>\n",
       "      <td>327.5</td>\n",
       "      <td>NaN</td>\n",
       "      <td>NaN</td>\n",
       "    </tr>\n",
       "    <tr>\n",
       "      <th>5</th>\n",
       "      <td>1975-05-01</td>\n",
       "      <td>493.5</td>\n",
       "      <td>NaN</td>\n",
       "      <td>NaN</td>\n",
       "    </tr>\n",
       "  </tbody>\n",
       "</table>\n",
       "</div>"
      ],
      "text/plain": [
       "        date   milk  fat  pro\n",
       "1 1975-01-01   55.8  NaN  NaN\n",
       "2 1975-02-01   84.4  NaN  NaN\n",
       "3 1975-03-01  193.3  NaN  NaN\n",
       "4 1975-04-01  327.5  NaN  NaN\n",
       "5 1975-05-01  493.5  NaN  NaN"
      ]
     },
     "execution_count": 59,
     "metadata": {},
     "output_type": "execute_result"
    }
   ],
   "source": []
  },
  {
   "cell_type": "code",
   "execution_count": 64,
   "id": "8484a252",
   "metadata": {},
   "outputs": [
    {
     "data": {
      "text/html": [
       "<div>\n",
       "<style scoped>\n",
       "    .dataframe tbody tr th:only-of-type {\n",
       "        vertical-align: middle;\n",
       "    }\n",
       "\n",
       "    .dataframe tbody tr th {\n",
       "        vertical-align: top;\n",
       "    }\n",
       "\n",
       "    .dataframe thead th {\n",
       "        text-align: right;\n",
       "    }\n",
       "</style>\n",
       "<table border=\"1\" class=\"dataframe\">\n",
       "  <thead>\n",
       "    <tr style=\"text-align: right;\">\n",
       "      <th></th>\n",
       "      <th>date</th>\n",
       "      <th>milk</th>\n",
       "      <th>fat</th>\n",
       "      <th>pro</th>\n",
       "    </tr>\n",
       "  </thead>\n",
       "  <tbody>\n",
       "    <tr>\n",
       "      <th>570</th>\n",
       "      <td>2022-06-01</td>\n",
       "      <td>1057.60</td>\n",
       "      <td>4.00</td>\n",
       "      <td>3.47</td>\n",
       "    </tr>\n",
       "    <tr>\n",
       "      <th>571</th>\n",
       "      <td>2022-07-01</td>\n",
       "      <td>1022.80</td>\n",
       "      <td>4.03</td>\n",
       "      <td>3.47</td>\n",
       "    </tr>\n",
       "    <tr>\n",
       "      <th>572</th>\n",
       "      <td>2022-08-01</td>\n",
       "      <td>919.01</td>\n",
       "      <td>4.21</td>\n",
       "      <td>3.53</td>\n",
       "    </tr>\n",
       "    <tr>\n",
       "      <th>573</th>\n",
       "      <td>2022-09-01</td>\n",
       "      <td>785.62</td>\n",
       "      <td>4.56</td>\n",
       "      <td>3.75</td>\n",
       "    </tr>\n",
       "    <tr>\n",
       "      <th>574</th>\n",
       "      <td>2022-10-01</td>\n",
       "      <td>698.49</td>\n",
       "      <td>4.81</td>\n",
       "      <td>3.97</td>\n",
       "    </tr>\n",
       "  </tbody>\n",
       "</table>\n",
       "</div>"
      ],
      "text/plain": [
       "          date     milk   fat   pro\n",
       "570 2022-06-01  1057.60  4.00  3.47\n",
       "571 2022-07-01  1022.80  4.03  3.47\n",
       "572 2022-08-01   919.01  4.21  3.53\n",
       "573 2022-09-01   785.62  4.56  3.75\n",
       "574 2022-10-01   698.49  4.81  3.97"
      ]
     },
     "execution_count": 64,
     "metadata": {},
     "output_type": "execute_result"
    }
   ],
   "source": [
    "# Selecting the last 10 years of data.This will conviently remove the dates where fat and pro data\n",
    "# was not being collected.\n",
    "\n",
    "ddfd = ddf[(ddf['date'] >= '2012-01-01')]\n",
    "ddfd.tail()"
   ]
  },
  {
   "cell_type": "code",
   "execution_count": 66,
   "id": "efcb1ecb",
   "metadata": {
    "scrolled": true
   },
   "outputs": [
    {
     "data": {
      "text/plain": [
       "date    0\n",
       "milk    0\n",
       "fat     0\n",
       "pro     0\n",
       "dtype: int64"
      ]
     },
     "execution_count": 66,
     "metadata": {},
     "output_type": "execute_result"
    }
   ],
   "source": [
    "# Checking data for any nan values , shows none. I did this because nan values have detrimental effecrts on \n",
    "# models \n",
    "ddfd.isna().sum() "
   ]
  },
  {
   "cell_type": "code",
   "execution_count": 76,
   "id": "6e4d92ed",
   "metadata": {},
   "outputs": [
    {
     "data": {
      "image/png": "[encoded data removed]",
      "text/plain": [
       "<Figure size 432x288 with 1 Axes>"
      ]
     },
     "metadata": {
      "needs_background": "light"
     },
     "output_type": "display_data"
    }
   ],
   "source": [
    "sns.scatterplot(data=ddfd, x= 'fat', y='pro').set(title = 'Irish Milk Protine v Fat content')\n",
    "plt.show()\n",
    "# plt.savefig(\"ff_IN_OUT_scatter1.png\", dpi=300)\n",
    "# There are no outliers jumping out here "
   ]
  },
  {
   "cell_type": "code",
   "execution_count": 83,
   "id": "0de25ebc",
   "metadata": {},
   "outputs": [
    {
     "data": {
      "text/plain": [
       "[Text(0.5, 1.0, 'Irish Milk Vol over time')]"
      ]
     },
     "execution_count": 83,
     "metadata": {},
     "output_type": "execute_result"
    },
    {
     "data": {
      "image/png": "[encoded data removed]",
      "text/plain": [
       "<Figure size 432x288 with 1 Axes>"
      ]
     },
     "metadata": {
      "needs_background": "light"
     },
     "output_type": "display_data"
    }
   ],
   "source": [
    "sns.lineplot(data=ddfd, x= 'date', y='milk').set(title = 'Irish Milk Vol over time')"
   ]
  },
  {
   "cell_type": "code",
   "execution_count": 84,
   "id": "e4d494ab",
   "metadata": {},
   "outputs": [
    {
     "data": {
      "image/png": "[encoded data removed]",
      "text/plain": [
       "<Figure size 432x288 with 1 Axes>"
      ]
     },
     "metadata": {
      "needs_background": "light"
     },
     "output_type": "display_data"
    }
   ],
   "source": [
    "sns.lineplot(data=ddfd, x= 'date', y='fat').set(title = 'Irish Milk Fat & Protine content over time')\n",
    "sns.lineplot(data=ddfd, x= 'date', y='pro')\n",
    "plt.show()"
   ]
  },
  {
   "cell_type": "code",
   "execution_count": 87,
   "id": "fd98fe01",
   "metadata": {},
   "outputs": [],
   "source": [
    "# import Irish dairy price  as dpdf\n",
    "dpdf = pd.read_csv(\"AJM07.20221211151826.csv\")"
   ]
  },
  {
   "cell_type": "code",
   "execution_count": 90,
   "id": "27a5eb47",
   "metadata": {},
   "outputs": [
    {
     "data": {
      "text/html": [
       "<div>\n",
       "<style scoped>\n",
       "    .dataframe tbody tr th:only-of-type {\n",
       "        vertical-align: middle;\n",
       "    }\n",
       "\n",
       "    .dataframe tbody tr th {\n",
       "        vertical-align: top;\n",
       "    }\n",
       "\n",
       "    .dataframe thead th {\n",
       "        text-align: right;\n",
       "    }\n",
       "</style>\n",
       "<table border=\"1\" class=\"dataframe\">\n",
       "  <thead>\n",
       "    <tr style=\"text-align: right;\">\n",
       "      <th></th>\n",
       "      <th>STATISTIC</th>\n",
       "      <th>STATISTIC Label</th>\n",
       "      <th>TLIST(M1)</th>\n",
       "      <th>Month</th>\n",
       "      <th>C02136V02577</th>\n",
       "      <th>Product</th>\n",
       "      <th>UNIT</th>\n",
       "      <th>VALUE</th>\n",
       "    </tr>\n",
       "  </thead>\n",
       "  <tbody>\n",
       "    <tr>\n",
       "      <th>421</th>\n",
       "      <td>AJM07</td>\n",
       "      <td>Manufacturing Milk Prices (including VAT)</td>\n",
       "      <td>202207</td>\n",
       "      <td>2022 July</td>\n",
       "      <td>2</td>\n",
       "      <td>Milk (per litre), 3.7% fat and 3.3% protein</td>\n",
       "      <td>Euro</td>\n",
       "      <td>0.549</td>\n",
       "    </tr>\n",
       "    <tr>\n",
       "      <th>422</th>\n",
       "      <td>AJM07</td>\n",
       "      <td>Manufacturing Milk Prices (including VAT)</td>\n",
       "      <td>202208</td>\n",
       "      <td>2022 August</td>\n",
       "      <td>1</td>\n",
       "      <td>Milk (per litre), actual fat and protein</td>\n",
       "      <td>Euro</td>\n",
       "      <td>0.616</td>\n",
       "    </tr>\n",
       "    <tr>\n",
       "      <th>423</th>\n",
       "      <td>AJM07</td>\n",
       "      <td>Manufacturing Milk Prices (including VAT)</td>\n",
       "      <td>202208</td>\n",
       "      <td>2022 August</td>\n",
       "      <td>2</td>\n",
       "      <td>Milk (per litre), 3.7% fat and 3.3% protein</td>\n",
       "      <td>Euro</td>\n",
       "      <td>0.557</td>\n",
       "    </tr>\n",
       "    <tr>\n",
       "      <th>424</th>\n",
       "      <td>AJM07</td>\n",
       "      <td>Manufacturing Milk Prices (including VAT)</td>\n",
       "      <td>202209</td>\n",
       "      <td>2022 September</td>\n",
       "      <td>1</td>\n",
       "      <td>Milk (per litre), actual fat and protein</td>\n",
       "      <td>Euro</td>\n",
       "      <td>0.662</td>\n",
       "    </tr>\n",
       "    <tr>\n",
       "      <th>425</th>\n",
       "      <td>AJM07</td>\n",
       "      <td>Manufacturing Milk Prices (including VAT)</td>\n",
       "      <td>202209</td>\n",
       "      <td>2022 September</td>\n",
       "      <td>2</td>\n",
       "      <td>Milk (per litre), 3.7% fat and 3.3% protein</td>\n",
       "      <td>Euro</td>\n",
       "      <td>0.559</td>\n",
       "    </tr>\n",
       "  </tbody>\n",
       "</table>\n",
       "</div>"
      ],
      "text/plain": [
       "    STATISTIC                            STATISTIC Label  TLIST(M1)  \\\n",
       "421     AJM07  Manufacturing Milk Prices (including VAT)     202207   \n",
       "422     AJM07  Manufacturing Milk Prices (including VAT)     202208   \n",
       "423     AJM07  Manufacturing Milk Prices (including VAT)     202208   \n",
       "424     AJM07  Manufacturing Milk Prices (including VAT)     202209   \n",
       "425     AJM07  Manufacturing Milk Prices (including VAT)     202209   \n",
       "\n",
       "              Month  C02136V02577  \\\n",
       "421       2022 July             2   \n",
       "422     2022 August             1   \n",
       "423     2022 August             2   \n",
       "424  2022 September             1   \n",
       "425  2022 September             2   \n",
       "\n",
       "                                         Product  UNIT  VALUE  \n",
       "421  Milk (per litre), 3.7% fat and 3.3% protein  Euro  0.549  \n",
       "422     Milk (per litre), actual fat and protein  Euro  0.616  \n",
       "423  Milk (per litre), 3.7% fat and 3.3% protein  Euro  0.557  \n",
       "424     Milk (per litre), actual fat and protein  Euro  0.662  \n",
       "425  Milk (per litre), 3.7% fat and 3.3% protein  Euro  0.559  "
      ]
     },
     "execution_count": 90,
     "metadata": {},
     "output_type": "execute_result"
    }
   ],
   "source": [
    "dpdf.tail()"
   ]
  },
  {
   "cell_type": "code",
   "execution_count": 89,
   "id": "c8bcc1de",
   "metadata": {
    "scrolled": true
   },
   "outputs": [
    {
     "name": "stdout",
     "output_type": "stream",
     "text": [
      "<class 'pandas.core.frame.DataFrame'>\n",
      "RangeIndex: 426 entries, 0 to 425\n",
      "Data columns (total 8 columns):\n",
      " #   Column           Non-Null Count  Dtype  \n",
      "---  ------           --------------  -----  \n",
      " 0   STATISTIC        426 non-null    object \n",
      " 1   STATISTIC Label  426 non-null    object \n",
      " 2   TLIST(M1)        426 non-null    int64  \n",
      " 3   Month            426 non-null    object \n",
      " 4   C02136V02577     426 non-null    int64  \n",
      " 5   Product          426 non-null    object \n",
      " 6   UNIT             426 non-null    object \n",
      " 7   VALUE            426 non-null    float64\n",
      "dtypes: float64(1), int64(2), object(5)\n",
      "memory usage: 26.8+ KB\n"
     ]
    }
   ],
   "source": [
    "dpdf.info()"
   ]
  },
  {
   "cell_type": "code",
   "execution_count": 92,
   "id": "48d5ae5c",
   "metadata": {},
   "outputs": [],
   "source": [
    "dpdf[[\"Month\"]] = dpdf[[\"Month\"]].apply(pd.to_datetime)"
   ]
  },
  {
   "cell_type": "code",
   "execution_count": 93,
   "id": "64198262",
   "metadata": {},
   "outputs": [
    {
     "data": {
      "text/html": [
       "<div>\n",
       "<style scoped>\n",
       "    .dataframe tbody tr th:only-of-type {\n",
       "        vertical-align: middle;\n",
       "    }\n",
       "\n",
       "    .dataframe tbody tr th {\n",
       "        vertical-align: top;\n",
       "    }\n",
       "\n",
       "    .dataframe thead th {\n",
       "        text-align: right;\n",
       "    }\n",
       "</style>\n",
       "<table border=\"1\" class=\"dataframe\">\n",
       "  <thead>\n",
       "    <tr style=\"text-align: right;\">\n",
       "      <th></th>\n",
       "      <th>STATISTIC</th>\n",
       "      <th>STATISTIC Label</th>\n",
       "      <th>TLIST(M1)</th>\n",
       "      <th>Month</th>\n",
       "      <th>C02136V02577</th>\n",
       "      <th>Product</th>\n",
       "      <th>UNIT</th>\n",
       "      <th>VALUE</th>\n",
       "    </tr>\n",
       "  </thead>\n",
       "  <tbody>\n",
       "    <tr>\n",
       "      <th>0</th>\n",
       "      <td>AJM07</td>\n",
       "      <td>Manufacturing Milk Prices (including VAT)</td>\n",
       "      <td>200501</td>\n",
       "      <td>2005-01-01</td>\n",
       "      <td>1</td>\n",
       "      <td>Milk (per litre), actual fat and protein</td>\n",
       "      <td>Euro</td>\n",
       "      <td>0.308</td>\n",
       "    </tr>\n",
       "    <tr>\n",
       "      <th>1</th>\n",
       "      <td>AJM07</td>\n",
       "      <td>Manufacturing Milk Prices (including VAT)</td>\n",
       "      <td>200501</td>\n",
       "      <td>2005-01-01</td>\n",
       "      <td>2</td>\n",
       "      <td>Milk (per litre), 3.7% fat and 3.3% protein</td>\n",
       "      <td>Euro</td>\n",
       "      <td>0.301</td>\n",
       "    </tr>\n",
       "    <tr>\n",
       "      <th>2</th>\n",
       "      <td>AJM07</td>\n",
       "      <td>Manufacturing Milk Prices (including VAT)</td>\n",
       "      <td>200502</td>\n",
       "      <td>2005-02-01</td>\n",
       "      <td>1</td>\n",
       "      <td>Milk (per litre), actual fat and protein</td>\n",
       "      <td>Euro</td>\n",
       "      <td>0.288</td>\n",
       "    </tr>\n",
       "    <tr>\n",
       "      <th>3</th>\n",
       "      <td>AJM07</td>\n",
       "      <td>Manufacturing Milk Prices (including VAT)</td>\n",
       "      <td>200502</td>\n",
       "      <td>2005-02-01</td>\n",
       "      <td>2</td>\n",
       "      <td>Milk (per litre), 3.7% fat and 3.3% protein</td>\n",
       "      <td>Euro</td>\n",
       "      <td>0.281</td>\n",
       "    </tr>\n",
       "    <tr>\n",
       "      <th>4</th>\n",
       "      <td>AJM07</td>\n",
       "      <td>Manufacturing Milk Prices (including VAT)</td>\n",
       "      <td>200503</td>\n",
       "      <td>2005-03-01</td>\n",
       "      <td>1</td>\n",
       "      <td>Milk (per litre), actual fat and protein</td>\n",
       "      <td>Euro</td>\n",
       "      <td>0.272</td>\n",
       "    </tr>\n",
       "  </tbody>\n",
       "</table>\n",
       "</div>"
      ],
      "text/plain": [
       "  STATISTIC                            STATISTIC Label  TLIST(M1)      Month  \\\n",
       "0     AJM07  Manufacturing Milk Prices (including VAT)     200501 2005-01-01   \n",
       "1     AJM07  Manufacturing Milk Prices (including VAT)     200501 2005-01-01   \n",
       "2     AJM07  Manufacturing Milk Prices (including VAT)     200502 2005-02-01   \n",
       "3     AJM07  Manufacturing Milk Prices (including VAT)     200502 2005-02-01   \n",
       "4     AJM07  Manufacturing Milk Prices (including VAT)     200503 2005-03-01   \n",
       "\n",
       "   C02136V02577                                      Product  UNIT  VALUE  \n",
       "0             1     Milk (per litre), actual fat and protein  Euro  0.308  \n",
       "1             2  Milk (per litre), 3.7% fat and 3.3% protein  Euro  0.301  \n",
       "2             1     Milk (per litre), actual fat and protein  Euro  0.288  \n",
       "3             2  Milk (per litre), 3.7% fat and 3.3% protein  Euro  0.281  \n",
       "4             1     Milk (per litre), actual fat and protein  Euro  0.272  "
      ]
     },
     "execution_count": 93,
     "metadata": {},
     "output_type": "execute_result"
    }
   ],
   "source": [
    "dpdf.head()"
   ]
  },
  {
   "cell_type": "code",
   "execution_count": 97,
   "id": "7c9adf74",
   "metadata": {},
   "outputs": [
    {
     "data": {
      "text/html": [
       "<div>\n",
       "<style scoped>\n",
       "    .dataframe tbody tr th:only-of-type {\n",
       "        vertical-align: middle;\n",
       "    }\n",
       "\n",
       "    .dataframe tbody tr th {\n",
       "        vertical-align: top;\n",
       "    }\n",
       "\n",
       "    .dataframe thead th {\n",
       "        text-align: right;\n",
       "    }\n",
       "</style>\n",
       "<table border=\"1\" class=\"dataframe\">\n",
       "  <thead>\n",
       "    <tr style=\"text-align: right;\">\n",
       "      <th></th>\n",
       "      <th>STATISTIC</th>\n",
       "      <th>STATISTIC Label</th>\n",
       "      <th>TLIST(M1)</th>\n",
       "      <th>Month</th>\n",
       "      <th>C02136V02577</th>\n",
       "      <th>Product</th>\n",
       "      <th>UNIT</th>\n",
       "      <th>VALUE</th>\n",
       "    </tr>\n",
       "  </thead>\n",
       "  <tbody>\n",
       "    <tr>\n",
       "      <th>421</th>\n",
       "      <td>AJM07</td>\n",
       "      <td>Manufacturing Milk Prices (including VAT)</td>\n",
       "      <td>202207</td>\n",
       "      <td>2022-07-01</td>\n",
       "      <td>2</td>\n",
       "      <td>Milk (per litre), 3.7% fat and 3.3% protein</td>\n",
       "      <td>Euro</td>\n",
       "      <td>0.549</td>\n",
       "    </tr>\n",
       "    <tr>\n",
       "      <th>422</th>\n",
       "      <td>AJM07</td>\n",
       "      <td>Manufacturing Milk Prices (including VAT)</td>\n",
       "      <td>202208</td>\n",
       "      <td>2022-08-01</td>\n",
       "      <td>1</td>\n",
       "      <td>Milk (per litre), actual fat and protein</td>\n",
       "      <td>Euro</td>\n",
       "      <td>0.616</td>\n",
       "    </tr>\n",
       "    <tr>\n",
       "      <th>423</th>\n",
       "      <td>AJM07</td>\n",
       "      <td>Manufacturing Milk Prices (including VAT)</td>\n",
       "      <td>202208</td>\n",
       "      <td>2022-08-01</td>\n",
       "      <td>2</td>\n",
       "      <td>Milk (per litre), 3.7% fat and 3.3% protein</td>\n",
       "      <td>Euro</td>\n",
       "      <td>0.557</td>\n",
       "    </tr>\n",
       "    <tr>\n",
       "      <th>424</th>\n",
       "      <td>AJM07</td>\n",
       "      <td>Manufacturing Milk Prices (including VAT)</td>\n",
       "      <td>202209</td>\n",
       "      <td>2022-09-01</td>\n",
       "      <td>1</td>\n",
       "      <td>Milk (per litre), actual fat and protein</td>\n",
       "      <td>Euro</td>\n",
       "      <td>0.662</td>\n",
       "    </tr>\n",
       "    <tr>\n",
       "      <th>425</th>\n",
       "      <td>AJM07</td>\n",
       "      <td>Manufacturing Milk Prices (including VAT)</td>\n",
       "      <td>202209</td>\n",
       "      <td>2022-09-01</td>\n",
       "      <td>2</td>\n",
       "      <td>Milk (per litre), 3.7% fat and 3.3% protein</td>\n",
       "      <td>Euro</td>\n",
       "      <td>0.559</td>\n",
       "    </tr>\n",
       "  </tbody>\n",
       "</table>\n",
       "</div>"
      ],
      "text/plain": [
       "    STATISTIC                            STATISTIC Label  TLIST(M1)  \\\n",
       "421     AJM07  Manufacturing Milk Prices (including VAT)     202207   \n",
       "422     AJM07  Manufacturing Milk Prices (including VAT)     202208   \n",
       "423     AJM07  Manufacturing Milk Prices (including VAT)     202208   \n",
       "424     AJM07  Manufacturing Milk Prices (including VAT)     202209   \n",
       "425     AJM07  Manufacturing Milk Prices (including VAT)     202209   \n",
       "\n",
       "         Month  C02136V02577                                      Product  \\\n",
       "421 2022-07-01             2  Milk (per litre), 3.7% fat and 3.3% protein   \n",
       "422 2022-08-01             1     Milk (per litre), actual fat and protein   \n",
       "423 2022-08-01             2  Milk (per litre), 3.7% fat and 3.3% protein   \n",
       "424 2022-09-01             1     Milk (per litre), actual fat and protein   \n",
       "425 2022-09-01             2  Milk (per litre), 3.7% fat and 3.3% protein   \n",
       "\n",
       "     UNIT  VALUE  \n",
       "421  Euro  0.549  \n",
       "422  Euro  0.616  \n",
       "423  Euro  0.557  \n",
       "424  Euro  0.662  \n",
       "425  Euro  0.559  "
      ]
     },
     "execution_count": 97,
     "metadata": {},
     "output_type": "execute_result"
    }
   ],
   "source": [
    "dpdf = dpdf[(dpdf['Month'] >= '2012-01-01')]\n",
    "dpdf.tail()"
   ]
  },
  {
   "cell_type": "code",
   "execution_count": 98,
   "id": "115c07a8",
   "metadata": {},
   "outputs": [
    {
     "data": {
      "image/png": "[encoded data removed]",
      "text/plain": [
       "<Figure size 432x288 with 1 Axes>"
      ]
     },
     "metadata": {
      "needs_background": "light"
     },
     "output_type": "display_data"
    }
   ],
   "source": [
    "sns.lineplot(data=dpdf, x= 'Month', y='VALUE',hue='Product').set(title = 'Irish Manufacturing Milk Prices')\n",
    "plt.show()"
   ]
  },
  {
   "cell_type": "code",
   "execution_count": 99,
   "id": "1d383e83",
   "metadata": {},
   "outputs": [
    {
     "name": "stdout",
     "output_type": "stream",
     "text": [
      "Collecting odfpy\n",
      "  Downloading odfpy-1.4.1.tar.gz (717 kB)\n",
      "\u001b[K     |████████████████████████████████| 717 kB 511 kB/s eta 0:00:01     |███████████▍                    | 256 kB 511 kB/s eta 0:00:01\n",
      "\u001b[?25hRequirement already satisfied: defusedxml in /opt/anaconda3/lib/python3.9/site-packages (from odfpy) (0.7.1)\n",
      "Building wheels for collected packages: odfpy\n",
      "  Building wheel for odfpy (setup.py) ... \u001b[?25ldone\n",
      "\u001b[?25h  Created wheel for odfpy: filename=odfpy-1.4.1-py2.py3-none-any.whl size=137339 sha256=6b7cdf975cf03b592231a711a0be3abcfb216b7199a35ca499c00315c291d9c0\n",
      "  Stored in directory: /Users/ambrosedesmond/Library/Caches/pip/wheels/20/ff/69/1b3f423ffe400b87afa368c70b43d2b5cd3bfb9ac8a613ba5b\n",
      "Successfully built odfpy\n",
      "Installing collected packages: odfpy\n",
      "Successfully installed odfpy-1.4.1\n"
     ]
    }
   ],
   "source": [
    "#!pip install odfpy"
   ]
  },
  {
   "cell_type": "code",
   "execution_count": 123,
   "id": "7d452bd6",
   "metadata": {},
   "outputs": [],
   "source": [
    "eudf = pd.read_csv(\"apro_mk_cola_page_linear.csv\")"
   ]
  },
  {
   "cell_type": "code",
   "execution_count": 124,
   "id": "ee87ac45",
   "metadata": {},
   "outputs": [
    {
     "data": {
      "text/html": [
       "<div>\n",
       "<style scoped>\n",
       "    .dataframe tbody tr th:only-of-type {\n",
       "        vertical-align: middle;\n",
       "    }\n",
       "\n",
       "    .dataframe tbody tr th {\n",
       "        vertical-align: top;\n",
       "    }\n",
       "\n",
       "    .dataframe thead th {\n",
       "        text-align: right;\n",
       "    }\n",
       "</style>\n",
       "<table border=\"1\" class=\"dataframe\">\n",
       "  <thead>\n",
       "    <tr style=\"text-align: right;\">\n",
       "      <th></th>\n",
       "      <th>DATAFLOW</th>\n",
       "      <th>LAST UPDATE</th>\n",
       "      <th>freq</th>\n",
       "      <th>dairyprod</th>\n",
       "      <th>unit</th>\n",
       "      <th>geo</th>\n",
       "      <th>TIME_PERIOD</th>\n",
       "      <th>OBS_VALUE</th>\n",
       "      <th>OBS_FLAG</th>\n",
       "    </tr>\n",
       "  </thead>\n",
       "  <tbody>\n",
       "    <tr>\n",
       "      <th>0</th>\n",
       "      <td>ESTAT:APRO_MK_COLA$DEFAULTVIEW(1.0)</td>\n",
       "      <td>30/11/22 23:00:00</td>\n",
       "      <td>A</td>\n",
       "      <td>D1110D</td>\n",
       "      <td>THS_T</td>\n",
       "      <td>AL</td>\n",
       "      <td>2017</td>\n",
       "      <td>57.36</td>\n",
       "      <td>p</td>\n",
       "    </tr>\n",
       "    <tr>\n",
       "      <th>1</th>\n",
       "      <td>ESTAT:APRO_MK_COLA$DEFAULTVIEW(1.0)</td>\n",
       "      <td>30/11/22 23:00:00</td>\n",
       "      <td>A</td>\n",
       "      <td>D1110D</td>\n",
       "      <td>THS_T</td>\n",
       "      <td>AL</td>\n",
       "      <td>2018</td>\n",
       "      <td>64.39</td>\n",
       "      <td>NaN</td>\n",
       "    </tr>\n",
       "    <tr>\n",
       "      <th>2</th>\n",
       "      <td>ESTAT:APRO_MK_COLA$DEFAULTVIEW(1.0)</td>\n",
       "      <td>30/11/22 23:00:00</td>\n",
       "      <td>A</td>\n",
       "      <td>D1110D</td>\n",
       "      <td>THS_T</td>\n",
       "      <td>AL</td>\n",
       "      <td>2019</td>\n",
       "      <td>56.82</td>\n",
       "      <td>NaN</td>\n",
       "    </tr>\n",
       "    <tr>\n",
       "      <th>3</th>\n",
       "      <td>ESTAT:APRO_MK_COLA$DEFAULTVIEW(1.0)</td>\n",
       "      <td>30/11/22 23:00:00</td>\n",
       "      <td>A</td>\n",
       "      <td>D1110D</td>\n",
       "      <td>THS_T</td>\n",
       "      <td>AL</td>\n",
       "      <td>2020</td>\n",
       "      <td>56.27</td>\n",
       "      <td>NaN</td>\n",
       "    </tr>\n",
       "    <tr>\n",
       "      <th>4</th>\n",
       "      <td>ESTAT:APRO_MK_COLA$DEFAULTVIEW(1.0)</td>\n",
       "      <td>30/11/22 23:00:00</td>\n",
       "      <td>A</td>\n",
       "      <td>D1110D</td>\n",
       "      <td>THS_T</td>\n",
       "      <td>AL</td>\n",
       "      <td>2021</td>\n",
       "      <td>58.94</td>\n",
       "      <td>NaN</td>\n",
       "    </tr>\n",
       "  </tbody>\n",
       "</table>\n",
       "</div>"
      ],
      "text/plain": [
       "                              DATAFLOW        LAST UPDATE freq dairyprod  \\\n",
       "0  ESTAT:APRO_MK_COLA$DEFAULTVIEW(1.0)  30/11/22 23:00:00    A    D1110D   \n",
       "1  ESTAT:APRO_MK_COLA$DEFAULTVIEW(1.0)  30/11/22 23:00:00    A    D1110D   \n",
       "2  ESTAT:APRO_MK_COLA$DEFAULTVIEW(1.0)  30/11/22 23:00:00    A    D1110D   \n",
       "3  ESTAT:APRO_MK_COLA$DEFAULTVIEW(1.0)  30/11/22 23:00:00    A    D1110D   \n",
       "4  ESTAT:APRO_MK_COLA$DEFAULTVIEW(1.0)  30/11/22 23:00:00    A    D1110D   \n",
       "\n",
       "    unit geo  TIME_PERIOD  OBS_VALUE OBS_FLAG  \n",
       "0  THS_T  AL         2017      57.36        p  \n",
       "1  THS_T  AL         2018      64.39      NaN  \n",
       "2  THS_T  AL         2019      56.82      NaN  \n",
       "3  THS_T  AL         2020      56.27      NaN  \n",
       "4  THS_T  AL         2021      58.94      NaN  "
      ]
     },
     "execution_count": 124,
     "metadata": {},
     "output_type": "execute_result"
    }
   ],
   "source": [
    "eudf.head()"
   ]
  },
  {
   "cell_type": "code",
   "execution_count": 125,
   "id": "86be725e",
   "metadata": {},
   "outputs": [
    {
     "name": "stdout",
     "output_type": "stream",
     "text": [
      "<class 'pandas.core.frame.DataFrame'>\n",
      "RangeIndex: 396 entries, 0 to 395\n",
      "Data columns (total 9 columns):\n",
      " #   Column       Non-Null Count  Dtype  \n",
      "---  ------       --------------  -----  \n",
      " 0   DATAFLOW     396 non-null    object \n",
      " 1   LAST UPDATE  396 non-null    object \n",
      " 2   freq         396 non-null    object \n",
      " 3   dairyprod    396 non-null    object \n",
      " 4   unit         396 non-null    object \n",
      " 5   geo          396 non-null    object \n",
      " 6   TIME_PERIOD  396 non-null    int64  \n",
      " 7   OBS_VALUE    373 non-null    float64\n",
      " 8   OBS_FLAG     59 non-null     object \n",
      "dtypes: float64(1), int64(1), object(7)\n",
      "memory usage: 28.0+ KB\n"
     ]
    }
   ],
   "source": [
    "eudf.info()"
   ]
  },
  {
   "cell_type": "code",
   "execution_count": 126,
   "id": "6204ece6",
   "metadata": {},
   "outputs": [
    {
     "data": {
      "text/plain": [
       "['AL',\n",
       " 'AT',\n",
       " 'BA',\n",
       " 'BE',\n",
       " 'BG',\n",
       " 'CH',\n",
       " 'CY',\n",
       " 'CZ',\n",
       " 'DE',\n",
       " 'DK',\n",
       " 'EE',\n",
       " 'EFTA',\n",
       " 'EL',\n",
       " 'ES',\n",
       " 'EU15',\n",
       " 'EU25',\n",
       " 'EU27_2007',\n",
       " 'EU27_2020',\n",
       " 'EU28',\n",
       " 'FI',\n",
       " 'FR',\n",
       " 'HR',\n",
       " 'HU',\n",
       " 'IE',\n",
       " 'IS',\n",
       " 'IT',\n",
       " 'LT',\n",
       " 'LU',\n",
       " 'LV',\n",
       " 'ME',\n",
       " 'MK',\n",
       " 'MT',\n",
       " 'NL',\n",
       " 'NO',\n",
       " 'PL',\n",
       " 'PT',\n",
       " 'RO',\n",
       " 'RS',\n",
       " 'SE',\n",
       " 'SI',\n",
       " 'SK',\n",
       " 'TR',\n",
       " 'UK']"
      ]
     },
     "execution_count": 126,
     "metadata": {},
     "output_type": "execute_result"
    }
   ],
   "source": [
    "uniqueValsList = list(np.unique(np.array(eudf['geo'])))\n",
    "uniqueValsList"
   ]
  },
  {
   "cell_type": "code",
   "execution_count": 127,
   "id": "56407b46",
   "metadata": {},
   "outputs": [],
   "source": [
    "eudf['geo'] = eudf['geo'].apply(lambda x : len(x)<= 2)"
   ]
  },
  {
   "cell_type": "code",
   "execution_count": 128,
   "id": "6a69eeda",
   "metadata": {},
   "outputs": [
    {
     "data": {
      "text/plain": [
       "[False, True]"
      ]
     },
     "execution_count": 128,
     "metadata": {},
     "output_type": "execute_result"
    }
   ],
   "source": [
    "uniqueValsList = list(np.unique(np.array(eudf['geo'])))\n",
    "uniqueValsList"
   ]
  },
  {
   "cell_type": "code",
   "execution_count": 117,
   "id": "a482a1ba",
   "metadata": {},
   "outputs": [
    {
     "ename": "ValueError",
     "evalue": "Value of 'animation_frame' is not the name of a column in 'data_frame'. Expected one of ['geo'] but received: TIME_PERIOD",
     "output_type": "error",
     "traceback": [
      "\u001b[0;31m---------------------------------------------------------------------------\u001b[0m",
      "\u001b[0;31mValueError\u001b[0m                                Traceback (most recent call last)",
      "Input \u001b[0;32mIn [117]\u001b[0m, in \u001b[0;36m<cell line: 2>\u001b[0;34m()\u001b[0m\n\u001b[1;32m      1\u001b[0m \u001b[38;5;28;01mimport\u001b[39;00m \u001b[38;5;21;01mplotly\u001b[39;00m\u001b[38;5;21;01m.\u001b[39;00m\u001b[38;5;21;01mexpress\u001b[39;00m \u001b[38;5;28;01mas\u001b[39;00m \u001b[38;5;21;01mpx\u001b[39;00m\n\u001b[0;32m----> 2\u001b[0m fig \u001b[38;5;241m=\u001b[39m \u001b[43mpx\u001b[49m\u001b[38;5;241;43m.\u001b[39;49m\u001b[43mchoropleth\u001b[49m\u001b[43m(\u001b[49m\u001b[43meudff\u001b[49m\u001b[43m,\u001b[49m\u001b[43m \u001b[49m\u001b[43mlocations\u001b[49m\u001b[38;5;241;43m=\u001b[39;49m\u001b[38;5;124;43m\"\u001b[39;49m\u001b[38;5;124;43mgeo\u001b[39;49m\u001b[38;5;124;43m\"\u001b[39;49m\u001b[43m,\u001b[49m\n\u001b[1;32m      3\u001b[0m \u001b[43m                    \u001b[49m\u001b[43mcolor\u001b[49m\u001b[38;5;241;43m=\u001b[39;49m\u001b[38;5;124;43m\"\u001b[39;49m\u001b[38;5;124;43mOBS_VALUE\u001b[39;49m\u001b[38;5;124;43m\"\u001b[39;49m\u001b[43m,\u001b[49m\u001b[43m \u001b[49m\n\u001b[1;32m      4\u001b[0m \u001b[43m                    \u001b[49m\u001b[43mhover_name\u001b[49m\u001b[38;5;241;43m=\u001b[39;49m\u001b[38;5;124;43m\"\u001b[39;49m\u001b[38;5;124;43mgeo\u001b[39;49m\u001b[38;5;124;43m\"\u001b[39;49m\u001b[43m,\u001b[49m\u001b[43m \u001b[49m\n\u001b[1;32m      5\u001b[0m \u001b[43m                    \u001b[49m\u001b[38;5;66;43;03m# column to add to hover information\u001b[39;49;00m\n\u001b[1;32m      6\u001b[0m \u001b[43m                    \u001b[49m\u001b[43manimation_frame\u001b[49m\u001b[38;5;241;43m=\u001b[39;49m\u001b[38;5;124;43m\"\u001b[39;49m\u001b[38;5;124;43mTIME_PERIOD\u001b[39;49m\u001b[38;5;124;43m\"\u001b[39;49m\u001b[43m,\u001b[49m\u001b[43m \u001b[49m\n\u001b[1;32m      7\u001b[0m \u001b[43m                    \u001b[49m\u001b[38;5;66;43;03m# column on which to animate\u001b[39;49;00m\n\u001b[1;32m      8\u001b[0m \u001b[43m                    \u001b[49m\u001b[43mcolor_continuous_scale\u001b[49m\u001b[38;5;241;43m=\u001b[39;49m\u001b[43mpx\u001b[49m\u001b[38;5;241;43m.\u001b[39;49m\u001b[43mcolors\u001b[49m\u001b[38;5;241;43m.\u001b[39;49m\u001b[43msequential\u001b[49m\u001b[38;5;241;43m.\u001b[39;49m\u001b[43mPlasma\u001b[49m\u001b[43m)\u001b[49m\n\u001b[1;32m     10\u001b[0m fig\u001b[38;5;241m.\u001b[39mupdate_layout(\n\u001b[1;32m     11\u001b[0m     \u001b[38;5;66;03m# add a title text for the plot\u001b[39;00m\n\u001b[1;32m     12\u001b[0m     title_text \u001b[38;5;241m=\u001b[39m \u001b[38;5;124m'\u001b[39m\u001b[38;5;124mMilk Production\u001b[39m\u001b[38;5;124m'\u001b[39m,\n\u001b[1;32m     13\u001b[0m     \u001b[38;5;66;03m# set projection style for the plot\u001b[39;00m\n\u001b[1;32m     14\u001b[0m     geo \u001b[38;5;241m=\u001b[39m \u001b[38;5;28mdict\u001b[39m(projection\u001b[38;5;241m=\u001b[39m{\u001b[38;5;124m'\u001b[39m\u001b[38;5;124mtype\u001b[39m\u001b[38;5;124m'\u001b[39m:\u001b[38;5;124m'\u001b[39m\u001b[38;5;124mnatural earth\u001b[39m\u001b[38;5;124m'\u001b[39m}) \u001b[38;5;66;03m# by default, projection type is set to 'equirectangular'\u001b[39;00m\n\u001b[1;32m     15\u001b[0m )\n\u001b[1;32m     16\u001b[0m fig\u001b[38;5;241m.\u001b[39mshow()\n",
      "File \u001b[0;32m/opt/anaconda3/lib/python3.9/site-packages/plotly/express/_chart_types.py:1077\u001b[0m, in \u001b[0;36mchoropleth\u001b[0;34m(data_frame, lat, lon, locations, locationmode, geojson, featureidkey, color, facet_row, facet_col, facet_col_wrap, facet_row_spacing, facet_col_spacing, hover_name, hover_data, custom_data, animation_frame, animation_group, category_orders, labels, color_discrete_sequence, color_discrete_map, color_continuous_scale, range_color, color_continuous_midpoint, projection, scope, center, fitbounds, basemap_visible, title, template, width, height)\u001b[0m\n\u001b[1;32m   1037\u001b[0m \u001b[38;5;28;01mdef\u001b[39;00m \u001b[38;5;21mchoropleth\u001b[39m(\n\u001b[1;32m   1038\u001b[0m     data_frame\u001b[38;5;241m=\u001b[39m\u001b[38;5;28;01mNone\u001b[39;00m,\n\u001b[1;32m   1039\u001b[0m     lat\u001b[38;5;241m=\u001b[39m\u001b[38;5;28;01mNone\u001b[39;00m,\n\u001b[0;32m   (...)\u001b[0m\n\u001b[1;32m   1071\u001b[0m     height\u001b[38;5;241m=\u001b[39m\u001b[38;5;28;01mNone\u001b[39;00m,\n\u001b[1;32m   1072\u001b[0m ):\n\u001b[1;32m   1073\u001b[0m     \u001b[38;5;124;03m\"\"\"\u001b[39;00m\n\u001b[1;32m   1074\u001b[0m \u001b[38;5;124;03m    In a choropleth map, each row of `data_frame` is represented by a\u001b[39;00m\n\u001b[1;32m   1075\u001b[0m \u001b[38;5;124;03m    colored region mark on a map.\u001b[39;00m\n\u001b[1;32m   1076\u001b[0m \u001b[38;5;124;03m    \"\"\"\u001b[39;00m\n\u001b[0;32m-> 1077\u001b[0m     \u001b[38;5;28;01mreturn\u001b[39;00m \u001b[43mmake_figure\u001b[49m\u001b[43m(\u001b[49m\n\u001b[1;32m   1078\u001b[0m \u001b[43m        \u001b[49m\u001b[43margs\u001b[49m\u001b[38;5;241;43m=\u001b[39;49m\u001b[38;5;28;43mlocals\u001b[39;49m\u001b[43m(\u001b[49m\u001b[43m)\u001b[49m\u001b[43m,\u001b[49m\n\u001b[1;32m   1079\u001b[0m \u001b[43m        \u001b[49m\u001b[43mconstructor\u001b[49m\u001b[38;5;241;43m=\u001b[39;49m\u001b[43mgo\u001b[49m\u001b[38;5;241;43m.\u001b[39;49m\u001b[43mChoropleth\u001b[49m\u001b[43m,\u001b[49m\n\u001b[1;32m   1080\u001b[0m \u001b[43m        \u001b[49m\u001b[43mtrace_patch\u001b[49m\u001b[38;5;241;43m=\u001b[39;49m\u001b[38;5;28;43mdict\u001b[39;49m\u001b[43m(\u001b[49m\u001b[43mlocationmode\u001b[49m\u001b[38;5;241;43m=\u001b[39;49m\u001b[43mlocationmode\u001b[49m\u001b[43m)\u001b[49m\u001b[43m,\u001b[49m\n\u001b[1;32m   1081\u001b[0m \u001b[43m    \u001b[49m\u001b[43m)\u001b[49m\n",
      "File \u001b[0;32m/opt/anaconda3/lib/python3.9/site-packages/plotly/express/_core.py:1945\u001b[0m, in \u001b[0;36mmake_figure\u001b[0;34m(args, constructor, trace_patch, layout_patch)\u001b[0m\n\u001b[1;32m   1942\u001b[0m layout_patch \u001b[38;5;241m=\u001b[39m layout_patch \u001b[38;5;129;01mor\u001b[39;00m {}\n\u001b[1;32m   1943\u001b[0m apply_default_cascade(args)\n\u001b[0;32m-> 1945\u001b[0m args \u001b[38;5;241m=\u001b[39m \u001b[43mbuild_dataframe\u001b[49m\u001b[43m(\u001b[49m\u001b[43margs\u001b[49m\u001b[43m,\u001b[49m\u001b[43m \u001b[49m\u001b[43mconstructor\u001b[49m\u001b[43m)\u001b[49m\n\u001b[1;32m   1946\u001b[0m \u001b[38;5;28;01mif\u001b[39;00m constructor \u001b[38;5;129;01min\u001b[39;00m [go\u001b[38;5;241m.\u001b[39mTreemap, go\u001b[38;5;241m.\u001b[39mSunburst, go\u001b[38;5;241m.\u001b[39mIcicle] \u001b[38;5;129;01mand\u001b[39;00m args[\u001b[38;5;124m\"\u001b[39m\u001b[38;5;124mpath\u001b[39m\u001b[38;5;124m\"\u001b[39m] \u001b[38;5;129;01mis\u001b[39;00m \u001b[38;5;129;01mnot\u001b[39;00m \u001b[38;5;28;01mNone\u001b[39;00m:\n\u001b[1;32m   1947\u001b[0m     args \u001b[38;5;241m=\u001b[39m process_dataframe_hierarchy(args)\n",
      "File \u001b[0;32m/opt/anaconda3/lib/python3.9/site-packages/plotly/express/_core.py:1405\u001b[0m, in \u001b[0;36mbuild_dataframe\u001b[0;34m(args, constructor)\u001b[0m\n\u001b[1;32m   1402\u001b[0m     args[\u001b[38;5;124m\"\u001b[39m\u001b[38;5;124mcolor\u001b[39m\u001b[38;5;124m\"\u001b[39m] \u001b[38;5;241m=\u001b[39m \u001b[38;5;28;01mNone\u001b[39;00m\n\u001b[1;32m   1403\u001b[0m \u001b[38;5;66;03m# now that things have been prepped, we do the systematic rewriting of `args`\u001b[39;00m\n\u001b[0;32m-> 1405\u001b[0m df_output, wide_id_vars \u001b[38;5;241m=\u001b[39m \u001b[43mprocess_args_into_dataframe\u001b[49m\u001b[43m(\u001b[49m\n\u001b[1;32m   1406\u001b[0m \u001b[43m    \u001b[49m\u001b[43margs\u001b[49m\u001b[43m,\u001b[49m\u001b[43m \u001b[49m\u001b[43mwide_mode\u001b[49m\u001b[43m,\u001b[49m\u001b[43m \u001b[49m\u001b[43mvar_name\u001b[49m\u001b[43m,\u001b[49m\u001b[43m \u001b[49m\u001b[43mvalue_name\u001b[49m\n\u001b[1;32m   1407\u001b[0m \u001b[43m\u001b[49m\u001b[43m)\u001b[49m\n\u001b[1;32m   1409\u001b[0m \u001b[38;5;66;03m# now that `df_output` exists and `args` contains only references, we complete\u001b[39;00m\n\u001b[1;32m   1410\u001b[0m \u001b[38;5;66;03m# the special-case and wide-mode handling by further rewriting args and/or mutating\u001b[39;00m\n\u001b[1;32m   1411\u001b[0m \u001b[38;5;66;03m# df_output\u001b[39;00m\n\u001b[1;32m   1413\u001b[0m count_name \u001b[38;5;241m=\u001b[39m _escape_col_name(df_output, \u001b[38;5;124m\"\u001b[39m\u001b[38;5;124mcount\u001b[39m\u001b[38;5;124m\"\u001b[39m, [var_name, value_name])\n",
      "File \u001b[0;32m/opt/anaconda3/lib/python3.9/site-packages/plotly/express/_core.py:1207\u001b[0m, in \u001b[0;36mprocess_args_into_dataframe\u001b[0;34m(args, wide_mode, var_name, value_name)\u001b[0m\n\u001b[1;32m   1205\u001b[0m         \u001b[38;5;28;01mif\u001b[39;00m argument \u001b[38;5;241m==\u001b[39m \u001b[38;5;124m\"\u001b[39m\u001b[38;5;124mindex\u001b[39m\u001b[38;5;124m\"\u001b[39m:\n\u001b[1;32m   1206\u001b[0m             err_msg \u001b[38;5;241m+\u001b[39m\u001b[38;5;241m=\u001b[39m \u001b[38;5;124m\"\u001b[39m\u001b[38;5;130;01m\\n\u001b[39;00m\u001b[38;5;124m To use the index, pass it in directly as `df.index`.\u001b[39m\u001b[38;5;124m\"\u001b[39m\n\u001b[0;32m-> 1207\u001b[0m         \u001b[38;5;28;01mraise\u001b[39;00m \u001b[38;5;167;01mValueError\u001b[39;00m(err_msg)\n\u001b[1;32m   1208\u001b[0m \u001b[38;5;28;01melif\u001b[39;00m length \u001b[38;5;129;01mand\u001b[39;00m \u001b[38;5;28mlen\u001b[39m(df_input[argument]) \u001b[38;5;241m!=\u001b[39m length:\n\u001b[1;32m   1209\u001b[0m     \u001b[38;5;28;01mraise\u001b[39;00m \u001b[38;5;167;01mValueError\u001b[39;00m(\n\u001b[1;32m   1210\u001b[0m         \u001b[38;5;124m\"\u001b[39m\u001b[38;5;124mAll arguments should have the same length. \u001b[39m\u001b[38;5;124m\"\u001b[39m\n\u001b[1;32m   1211\u001b[0m         \u001b[38;5;124m\"\u001b[39m\u001b[38;5;124mThe length of column argument `df[\u001b[39m\u001b[38;5;132;01m%s\u001b[39;00m\u001b[38;5;124m]` is \u001b[39m\u001b[38;5;132;01m%d\u001b[39;00m\u001b[38;5;124m, whereas the \u001b[39m\u001b[38;5;124m\"\u001b[39m\n\u001b[0;32m   (...)\u001b[0m\n\u001b[1;32m   1218\u001b[0m         )\n\u001b[1;32m   1219\u001b[0m     )\n",
      "\u001b[0;31mValueError\u001b[0m: Value of 'animation_frame' is not the name of a column in 'data_frame'. Expected one of ['geo'] but received: TIME_PERIOD"
     ]
    }
   ],
   "source": [
    "import plotly.express as px\n",
    "fig = px.choropleth(eudff, locations=\"geo\",\n",
    "                    color=\"OBS_VALUE\", \n",
    "                    hover_name=\"geo\", \n",
    "                    # column to add to hover information\n",
    "                    animation_frame=\"TIME_PERIOD\", \n",
    "                    # column on which to animate\n",
    "                    color_continuous_scale=px.colors.sequential.Plasma)\n",
    "                    \n",
    "fig.update_layout(\n",
    "    # add a title text for the plot\n",
    "    title_text = 'Milk Production',\n",
    "    # set projection style for the plot\n",
    "    geo = dict(projection={'type':'natural earth'}) # by default, projection type is set to 'equirectangular'\n",
    ")\n",
    "fig.show()"
   ]
  },
  {
   "cell_type": "code",
   "execution_count": null,
   "id": "44f332d5",
   "metadata": {},
   "outputs": [],
   "source": []
  }
 ],
 "metadata": {
  "kernelspec": {
   "display_name": "Python 3 (ipykernel)",
   "language": "python",
   "name": "python3"
  },
  "language_info": {
   "codemirror_mode": {
    "name": "ipython",
    "version": 3
   },
   "file_extension": ".py",
   "mimetype": "text/x-python",
   "name": "python",
   "nbconvert_exporter": "python",
   "pygments_lexer": "ipython3",
   "version": "3.9.12"
  }
 },
 "nbformat": 4,
 "nbformat_minor": 5
}
