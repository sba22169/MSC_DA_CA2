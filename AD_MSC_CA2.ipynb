{
 "cells": [
  {
   "cell_type": "markdown",
   "id": "cf24c9ae",
   "metadata": {},
   "source": [
    "#Ambrose Desmond MSC_DA_CA2"
   ]
  },
  {
   "cell_type": "markdown",
   "id": "1984f4e4",
   "metadata": {},
   "source": [
    "## Irelands Dairy sector analysis compared to the top EU producer and global producers."
   ]
  },
  {
   "cell_type": "code",
   "execution_count": 36,
   "id": "3eec2de9",
   "metadata": {},
   "outputs": [],
   "source": [
    "import pandas as pd\n",
    "import numpy as np\n",
    "import seaborn as sns\n",
    "import sklearn\n",
    "import matplotlib.pyplot as plt\n",
    "from pandas.plotting import scatter_matrix\n",
    "import statistics as stats\n",
    "from scipy.stats import poisson\n",
    "from sklearn.model_selection import cross_val_score\n",
    "from sklearn.model_selection import KFold\n",
    "from sklearn.model_selection import GridSearchCV\n",
    "from sklearn.pipeline import make_pipeline\n",
    "from sklearn.preprocessing import PolynomialFeatures\n",
    "from sklearn.metrics import r2_score\n",
    "import warnings\n",
    "from sklearn.feature_selection import RFE\n",
    "import json\n",
    "import requests\n",
    "import time\n",
    "# from faker import Factory,Faker\n",
    "warnings.filterwarnings('ignore') # supress warnings"
   ]
  },
  {
   "cell_type": "code",
   "execution_count": 51,
   "id": "ba5871ae",
   "metadata": {},
   "outputs": [],
   "source": [
    "# Import the dairy csv as ddf\n",
    "ddf = pd.read_csv(\"Intake of Cows Milk by Creameries and Pasteurisers.csv\")"
   ]
  },
  {
   "cell_type": "code",
   "execution_count": 52,
   "id": "65024331",
   "metadata": {},
   "outputs": [
    {
     "data": {
      "text/plain": [
       "(575, 4)"
      ]
     },
     "execution_count": 52,
     "metadata": {},
     "output_type": "execute_result"
    }
   ],
   "source": [
    "ddf.shape"
   ]
  },
  {
   "cell_type": "code",
   "execution_count": 53,
   "id": "960a52d5",
   "metadata": {},
   "outputs": [
    {
     "name": "stdout",
     "output_type": "stream",
     "text": [
      "<class 'pandas.core.frame.DataFrame'>\n",
      "RangeIndex: 575 entries, 0 to 574\n",
      "Data columns (total 4 columns):\n",
      " #   Column                                              Non-Null Count  Dtype  \n",
      "---  ------                                              --------------  -----  \n",
      " 0   Unnamed: 0                                          575 non-null    object \n",
      " 1   Intake of Cows Milk by Creameries and Pasteurisers  574 non-null    object \n",
      " 2   Fat Content                                         514 non-null    float64\n",
      " 3   Protein Content                                     514 non-null    float64\n",
      "dtypes: float64(2), object(2)\n",
      "memory usage: 18.1+ KB\n"
     ]
    }
   ],
   "source": [
    "ddf.info()"
   ]
  },
  {
   "cell_type": "code",
   "execution_count": 54,
   "id": "77c07001",
   "metadata": {},
   "outputs": [
    {
     "data": {
      "text/html": [
       "<div>\n",
       "<style scoped>\n",
       "    .dataframe tbody tr th:only-of-type {\n",
       "        vertical-align: middle;\n",
       "    }\n",
       "\n",
       "    .dataframe tbody tr th {\n",
       "        vertical-align: top;\n",
       "    }\n",
       "\n",
       "    .dataframe thead th {\n",
       "        text-align: right;\n",
       "    }\n",
       "</style>\n",
       "<table border=\"1\" class=\"dataframe\">\n",
       "  <thead>\n",
       "    <tr style=\"text-align: right;\">\n",
       "      <th></th>\n",
       "      <th>Unnamed: 0</th>\n",
       "      <th>Intake of Cows Milk by Creameries and Pasteurisers</th>\n",
       "      <th>Fat Content</th>\n",
       "      <th>Protein Content</th>\n",
       "    </tr>\n",
       "  </thead>\n",
       "  <tbody>\n",
       "    <tr>\n",
       "      <th>0</th>\n",
       "      <td>Source: Central Statistics Office, Ireland.</td>\n",
       "      <td>NaN</td>\n",
       "      <td>NaN</td>\n",
       "      <td>NaN</td>\n",
       "    </tr>\n",
       "    <tr>\n",
       "      <th>1</th>\n",
       "      <td>1975 January</td>\n",
       "      <td>55.8</td>\n",
       "      <td>NaN</td>\n",
       "      <td>NaN</td>\n",
       "    </tr>\n",
       "    <tr>\n",
       "      <th>2</th>\n",
       "      <td>1975 February</td>\n",
       "      <td>84.4</td>\n",
       "      <td>NaN</td>\n",
       "      <td>NaN</td>\n",
       "    </tr>\n",
       "    <tr>\n",
       "      <th>3</th>\n",
       "      <td>1975 March</td>\n",
       "      <td>193.3</td>\n",
       "      <td>NaN</td>\n",
       "      <td>NaN</td>\n",
       "    </tr>\n",
       "    <tr>\n",
       "      <th>4</th>\n",
       "      <td>1975 April</td>\n",
       "      <td>327.5</td>\n",
       "      <td>NaN</td>\n",
       "      <td>NaN</td>\n",
       "    </tr>\n",
       "  </tbody>\n",
       "</table>\n",
       "</div>"
      ],
      "text/plain": [
       "                                    Unnamed: 0  \\\n",
       "0  Source: Central Statistics Office, Ireland.   \n",
       "1                                 1975 January   \n",
       "2                                1975 February   \n",
       "3                                   1975 March   \n",
       "4                                   1975 April   \n",
       "\n",
       "  Intake of Cows Milk by Creameries and Pasteurisers  Fat Content  \\\n",
       "0                                                NaN          NaN   \n",
       "1                                               55.8          NaN   \n",
       "2                                               84.4          NaN   \n",
       "3                                              193.3          NaN   \n",
       "4                                              327.5          NaN   \n",
       "\n",
       "   Protein Content  \n",
       "0              NaN  \n",
       "1              NaN  \n",
       "2              NaN  \n",
       "3              NaN  \n",
       "4              NaN  "
      ]
     },
     "execution_count": 54,
     "metadata": {},
     "output_type": "execute_result"
    }
   ],
   "source": [
    "ddf.head()"
   ]
  },
  {
   "cell_type": "code",
   "execution_count": 56,
   "id": "e74c0edc",
   "metadata": {},
   "outputs": [],
   "source": [
    "# need to drop the first row as its not part of the actual data.\n",
    "ddf.drop(index=ddf.index[0], axis=0, inplace=True)\n",
    "# alternativaly i could have used ddf.iloc[1:] to select everything except the first row and \n",
    "# and store it in a new dataframe. here I chose to use the index 0 ( ie first line) the axis 0 indicates row\n",
    "# and inplace = true performs the operation to the existing  dataframe. I chose this because It saves space to \n",
    "# edit the existing dataframe instead of creating new ones."
   ]
  },
  {
   "cell_type": "code",
   "execution_count": 57,
   "id": "f6c43d57",
   "metadata": {},
   "outputs": [
    {
     "data": {
      "text/html": [
       "<div>\n",
       "<style scoped>\n",
       "    .dataframe tbody tr th:only-of-type {\n",
       "        vertical-align: middle;\n",
       "    }\n",
       "\n",
       "    .dataframe tbody tr th {\n",
       "        vertical-align: top;\n",
       "    }\n",
       "\n",
       "    .dataframe thead th {\n",
       "        text-align: right;\n",
       "    }\n",
       "</style>\n",
       "<table border=\"1\" class=\"dataframe\">\n",
       "  <thead>\n",
       "    <tr style=\"text-align: right;\">\n",
       "      <th></th>\n",
       "      <th>date</th>\n",
       "      <th>milk</th>\n",
       "      <th>fat</th>\n",
       "      <th>pro</th>\n",
       "    </tr>\n",
       "  </thead>\n",
       "  <tbody>\n",
       "    <tr>\n",
       "      <th>1</th>\n",
       "      <td>1975 January</td>\n",
       "      <td>55.8</td>\n",
       "      <td>NaN</td>\n",
       "      <td>NaN</td>\n",
       "    </tr>\n",
       "    <tr>\n",
       "      <th>2</th>\n",
       "      <td>1975 February</td>\n",
       "      <td>84.4</td>\n",
       "      <td>NaN</td>\n",
       "      <td>NaN</td>\n",
       "    </tr>\n",
       "    <tr>\n",
       "      <th>3</th>\n",
       "      <td>1975 March</td>\n",
       "      <td>193.3</td>\n",
       "      <td>NaN</td>\n",
       "      <td>NaN</td>\n",
       "    </tr>\n",
       "    <tr>\n",
       "      <th>4</th>\n",
       "      <td>1975 April</td>\n",
       "      <td>327.5</td>\n",
       "      <td>NaN</td>\n",
       "      <td>NaN</td>\n",
       "    </tr>\n",
       "    <tr>\n",
       "      <th>5</th>\n",
       "      <td>1975 May</td>\n",
       "      <td>493.5</td>\n",
       "      <td>NaN</td>\n",
       "      <td>NaN</td>\n",
       "    </tr>\n",
       "  </tbody>\n",
       "</table>\n",
       "</div>"
      ],
      "text/plain": [
       "            date   milk  fat  pro\n",
       "1   1975 January   55.8  NaN  NaN\n",
       "2  1975 February   84.4  NaN  NaN\n",
       "3     1975 March  193.3  NaN  NaN\n",
       "4     1975 April  327.5  NaN  NaN\n",
       "5       1975 May  493.5  NaN  NaN"
      ]
     },
     "execution_count": 57,
     "metadata": {},
     "output_type": "execute_result"
    }
   ],
   "source": [
    "# formatt the data to give concise and meaningfull headings to the dataframe\n",
    "\n",
    "ddf.columns = ['date','milk','fat','pro']\n",
    "ddf.head()"
   ]
  },
  {
   "cell_type": "code",
   "execution_count": null,
   "id": "647bcc2f",
   "metadata": {},
   "outputs": [],
   "source": []
  }
 ],
 "metadata": {
  "kernelspec": {
   "display_name": "Python 3 (ipykernel)",
   "language": "python",
   "name": "python3"
  },
  "language_info": {
   "codemirror_mode": {
    "name": "ipython",
    "version": 3
   },
   "file_extension": ".py",
   "mimetype": "text/x-python",
   "name": "python",
   "nbconvert_exporter": "python",
   "pygments_lexer": "ipython3",
   "version": "3.9.12"
  }
 },
 "nbformat": 4,
 "nbformat_minor": 5
}
