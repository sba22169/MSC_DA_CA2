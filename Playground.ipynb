{
 "cells": [
  {
   "cell_type": "code",
   "execution_count": null,
   "id": "5847bbaf",
   "metadata": {},
   "outputs": [],
   "source": []
  },
  {
   "cell_type": "code",
   "execution_count": null,
   "id": "279f1ec6",
   "metadata": {},
   "outputs": [],
   "source": [
    "# link to pull in json version of milk data and failed attempt to parce\n",
    "req = requests.get(\"https://ws.cso.ie/public/api.restful/PxStat.Data.Cube_API.ReadDataset/AKM01/JSON-stat/1.0/en\")"
   ]
  },
  {
   "cell_type": "code",
   "execution_count": null,
   "id": "a175b1d0",
   "metadata": {},
   "outputs": [],
   "source": [
    "df = req.json().head()"
   ]
  },
  {
   "cell_type": "code",
   "execution_count": null,
   "id": "80d08400",
   "metadata": {},
   "outputs": [],
   "source": [
    "bn = pd.DataFrame(df.features.values.tolist())['Intake of Cows Milk by Creameries and Pasteurisers']\n",
    "df.features.values.tolist()"
   ]
  },
  {
   "cell_type": "code",
   "execution_count": null,
   "id": "0de03078",
   "metadata": {},
   "outputs": [],
   "source": [
    "for i in range(0, len(res)):\n",
    "    currentItem = res[i]\n",
    "    df.loc[i] = [res[i][]]\n",
    "    "
   ]
  }
 ],
 "metadata": {
  "kernelspec": {
   "display_name": "Python 3 (ipykernel)",
   "language": "python",
   "name": "python3"
  },
  "language_info": {
   "codemirror_mode": {
    "name": "ipython",
    "version": 3
   },
   "file_extension": ".py",
   "mimetype": "text/x-python",
   "name": "python",
   "nbconvert_exporter": "python",
   "pygments_lexer": "ipython3",
   "version": "3.9.12"
  }
 },
 "nbformat": 4,
 "nbformat_minor": 5
}
